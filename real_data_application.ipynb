{
 "cells": [
  {
   "cell_type": "code",
   "execution_count": 104,
   "metadata": {},
   "outputs": [],
   "source": [
    "import numpy as np\n",
    "import pandas as pd\n",
    "\n",
    "base_path = \"~/Dropbox/GVC2023/output/data\"\n"
   ]
  },
  {
   "cell_type": "markdown",
   "metadata": {},
   "source": [
    "### $\\alpha$: shape $(N, J)$"
   ]
  },
  {
   "cell_type": "code",
   "execution_count": 105,
   "metadata": {},
   "outputs": [],
   "source": [
    "df = pd.read_csv(f\"{base_path}/alpha.csv\")\n",
    "\n",
    "# Choose ttype = sa\n",
    "df_sa = df[df['ttype'] == 'sa']\n",
    "\n",
    "# keep country, industry and alpha \n",
    "df_selected = df_sa.iloc[:, [0, 2, 6]]\n",
    "\n",
    "# reorder country and industry\n",
    "df_sorted = df_selected.sort_values(by=[df_selected.columns[0], df_selected.columns[1]])\n",
    "\n",
    "# change to numpy \n",
    "df_pivot = df_sorted.pivot(index=df_sorted.columns[0], columns=df_sorted.columns[1], values=df_sorted.columns[2])\n",
    "alpha = df_pivot.to_numpy()\n"
   ]
  },
  {
   "cell_type": "code",
   "execution_count": 106,
   "metadata": {},
   "outputs": [],
   "source": [
    "N,J = alpha.shape"
   ]
  },
  {
   "cell_type": "markdown",
   "metadata": {},
   "source": [
    "### $\\beta$: shape $(N, J)$\n",
    "\n",
    "\n",
    "The $(n, j)$ element denotes the value-add share of goods from sector $j$ for country $n$"
   ]
  },
  {
   "cell_type": "code",
   "execution_count": 107,
   "metadata": {},
   "outputs": [],
   "source": [
    "df = pd.read_csv(f\"{base_path}/beta_s.csv\")\n",
    "\n",
    "# Choose ttype = sa\n",
    "df_sa = df[df['ttype'] == 'sa']\n",
    "\n",
    "# keep country, industry and beta \n",
    "df_selected = df_sa.iloc[:, [0, 1, 3]]\n",
    "\n",
    "df_sorted = df_selected.sort_values(by=[df_selected.columns[0], df_selected.columns[1]])\n",
    "\n",
    "df_pivot = df_sorted.pivot(index=df_sorted.columns[0], columns=df_sorted.columns[1], values=df_sorted.columns[2])\n",
    "beta = df_pivot.to_numpy()"
   ]
  },
  {
   "cell_type": "markdown",
   "metadata": {},
   "source": [
    "### $\\gamma$: shape $(N, J, J)$\n",
    "\n",
    "The $(n, j, k)$ : country n, using sector j, producing sector k"
   ]
  },
  {
   "cell_type": "code",
   "execution_count": 108,
   "metadata": {},
   "outputs": [],
   "source": [
    "df = pd.read_csv(f\"{base_path}/beta_sr.csv\")\n",
    "\n",
    "# Choose ttype = sa\n",
    "df_sa = df[df['ttype'] == 'sa']\n",
    "\n",
    "df_selected =  df_sa.iloc[:, [0, 3, 2, 4]]\n",
    "\n",
    "df_sorted = df_selected.sort_values(by=[df_selected.columns[0], df_selected.columns[1],  df_selected.columns[2]])\n",
    "\n",
    "\n",
    "values = df_sorted['beta_sr'].to_numpy()\n",
    "\n",
    "gamma = values.reshape((N, J, J))\n",
    "\n"
   ]
  },
  {
   "cell_type": "markdown",
   "metadata": {},
   "source": [
    "### $\\theta$: shape $(J, )$\n",
    "\n",
    "Trade elasticity"
   ]
  },
  {
   "cell_type": "code",
   "execution_count": 109,
   "metadata": {},
   "outputs": [],
   "source": [
    "theta = np.array([6.26, 8.05, 7.31, 6.31, 9.12, 11.37, 6.10, 6.31, 6.22, 4.78, 7.78, 7.43, 9.69, 7.13, 8.01, \n",
    "                  7.31, 7.31, 7.31, 7.31, 7.31, 7.31, 7.31, 7.31, 7.31, 7.31, 7.31, 7.31, 7.31, 7.31, 7.31, 7.31])  \n",
    "\n"
   ]
  },
  {
   "cell_type": "markdown",
   "metadata": {},
   "source": [
    "### $\\pi^f$: shape $(N, N, J)$\n",
    "\n",
    "The expenditure shape vector, the $(n, i, j)$ element denotes the country $n$'s share of expenditure of goods from sector $j$ from country $i$"
   ]
  },
  {
   "cell_type": "code",
   "execution_count": 110,
   "metadata": {},
   "outputs": [],
   "source": [
    "df = pd.read_csv(f\"{base_path}/pi_sf_nit.csv\")\n",
    "\n",
    "# Here we choose base year 2009\n",
    "# Choose base year 2009 for 'sa' records\n",
    "df_sa = df[(df['ttype'] == 'sa') & (df['Year'] == 2009)]\n",
    "\n",
    "df_selected = df_sa.iloc[:, [0, 1, 3, 6]]\n",
    "\n",
    "df_sorted = df_selected.sort_values(by=[df_selected.columns[0], df_selected.columns[1],  df_selected.columns[2]])\n",
    "\n",
    "\n",
    "values = df_sorted['pi_sf_nit'].to_numpy()\n",
    "\n",
    "pi_f = values.reshape((N,N,J))\n"
   ]
  },
  {
   "cell_type": "markdown",
   "metadata": {},
   "source": [
    "### $\\pi^m$: shape $(N, N, J)$\n",
    "\n",
    "The expenditure shape vector, the $(n, i, j)$ element denotes the country $n$'s share of expenditure of goods from sector $j$ from country $i$"
   ]
  },
  {
   "cell_type": "code",
   "execution_count": 111,
   "metadata": {},
   "outputs": [],
   "source": [
    "df = pd.read_csv(f\"{base_path}/pi_sm_nit.csv\")\n",
    "\n",
    "# Here we choose base year 2009\n",
    "# Choose base year 2009 for 'sa' records\n",
    "df_sa = df[(df['ttype'] == 'sa') & (df['Year'] == 2009)]\n",
    "\n",
    "df_selected = df_sa.iloc[:, [0, 1, 3, 6]]\n",
    "\n",
    "df_sorted = df_selected.sort_values(by=[df_selected.columns[0], df_selected.columns[1],  df_selected.columns[2]])\n",
    "\n",
    "\n",
    "values = df_sorted['pi_sm_nit'].to_numpy()\n",
    "\n",
    "pi_m = values.reshape((N,N,J))"
   ]
  },
  {
   "cell_type": "markdown",
   "metadata": {},
   "source": [
    "### Trade Deficit $D_n$"
   ]
  },
  {
   "cell_type": "code",
   "execution_count": 112,
   "metadata": {},
   "outputs": [],
   "source": [
    "df = pd.read_csv(f\"{base_path}/Dn.csv\")\n",
    "\n",
    "# Choose ttype = sa\n",
    "\n",
    "df_sa = df[(df['ttype'] == 'sa') & (df['Year'] == 2009)]\n",
    "\n",
    "# keep country, industry and alpha \n",
    "df_selected = df_sa.iloc[:, [0,3]]\n",
    "\n",
    "df_sorted = df_selected.sort_values(by=[df_selected.columns[0]])\n",
    "\n",
    "D = df_sorted['Dn'].to_numpy()\n"
   ]
  },
  {
   "cell_type": "markdown",
   "metadata": {},
   "source": [
    "### VA: shape (N, )\n",
    "\n",
    "note: here I assume that the total value added is 2 times the value added in tradable sectors"
   ]
  },
  {
   "cell_type": "code",
   "execution_count": 113,
   "metadata": {},
   "outputs": [],
   "source": [
    "df = pd.read_csv(f\"{base_path}/value_added_tradables.csv\")\n",
    "\n",
    "# Choose ttype = sa\n",
    "df_sa = df[ (df['Year'] == 2009)]\n",
    "\n",
    "# keep country, industry and alpha \n",
    "df_selected = df_sa.iloc[:, [0,3]]\n",
    "\n",
    "df_sorted = df_selected.sort_values(by=[df_selected.columns[0]])\n",
    "\n",
    "df_grouped = df_sorted.groupby(df_sorted.columns[0])[df_sorted.columns[1]].sum().reset_index()\n",
    "\n",
    "VA = df_grouped['value_added'].to_numpy() * 2\n"
   ]
  },
  {
   "cell_type": "markdown",
   "metadata": {},
   "source": [
    "### $\\tilde{\\tau}$: shape $(N, N, J)$\n",
    "The tariff rate vector, the $(n, i, j)$ denote the $(1+\\tau)$ tariff rate of country $n$ on country $i$ for goods of sector $j$\n",
    "\n",
    "Note: I don't find the tariff data. Here I construct one."
   ]
  },
  {
   "cell_type": "code",
   "execution_count": 114,
   "metadata": {},
   "outputs": [],
   "source": [
    "tilde_tau = np.ones((N, N, J)) * 1.1 "
   ]
  },
  {
   "cell_type": "code",
   "execution_count": 115,
   "metadata": {},
   "outputs": [],
   "source": [
    "np.savez('real_data.npz', alpha = alpha, beta = beta, gamma = gamma, theta = theta, pi_f = pi_f, pi_m = pi_m, D = D, VA = VA, tilde_tau = tilde_tau)"
   ]
  }
 ],
 "metadata": {
  "kernelspec": {
   "display_name": "base",
   "language": "python",
   "name": "python3"
  },
  "language_info": {
   "codemirror_mode": {
    "name": "ipython",
    "version": 3
   },
   "file_extension": ".py",
   "mimetype": "text/x-python",
   "name": "python",
   "nbconvert_exporter": "python",
   "pygments_lexer": "ipython3",
   "version": "3.12.4"
  }
 },
 "nbformat": 4,
 "nbformat_minor": 2
}

{
 "cells": [
  {
   "cell_type": "code",
   "execution_count": null,
   "metadata": {},
   "outputs": [],
   "source": [
    "import numpy as np\n",
    "import pandas as pd\n",
    "\n",
    "base_path = \"~/Dropbox/GVC2023/output/data\"\n"
   ]
  },
  {
   "cell_type": "markdown",
   "metadata": {},
   "source": [
    "### $\\alpha$: shape $(N, J)$"
   ]
  },
  {
   "cell_type": "code",
   "execution_count": null,
   "metadata": {},
   "outputs": [],
   "source": [
    "df = pd.read_csv(f\"{base_path}/alpha.csv\")\n",
    "\n",
    "# Choose ttype = sa\n",
    "df_sa = df[df['ttype'] == 'sa']\n",
    "\n",
    "# keep country, industry and alpha \n",
    "df_selected = df_sa.iloc[:, [0, 2, 6]]\n",
    "\n",
    "# reorder country and industry\n",
    "df_sorted = df_selected.sort_values(by=[df_selected.columns[0], df_selected.columns[1]])\n",
    "\n",
    "# change to numpy \n",
    "df_pivot = df_sorted.pivot(index=df_sorted.columns[0], columns=df_sorted.columns[1], values=df_sorted.columns[2])\n",
    "alpha = df_pivot.to_numpy()\n"
   ]
  },
  {
   "cell_type": "code",
   "execution_count": null,
   "metadata": {},
   "outputs": [],
   "source": [
    "N,J = alpha.shape"
   ]
  },
  {
   "cell_type": "markdown",
   "metadata": {},
   "source": [
    "### $\\beta$: shape $(N, J)$\n",
    "\n",
    "\n",
    "The $(n, j)$ element denotes the value-add share of goods from sector $j$ for country $n$"
   ]
  },
  {
   "cell_type": "code",
   "execution_count": null,
   "metadata": {},
   "outputs": [],
   "source": [
    "df = pd.read_csv(f\"{base_path}/beta_s.csv\")\n",
    "\n",
    "# Choose ttype = sa\n",
    "df_sa = df[df['ttype'] == 'sa']\n",
    "\n",
    "# keep country, industry and beta \n",
    "df_selected = df_sa.iloc[:, [0, 1, 3]]\n",
    "\n",
    "df_sorted = df_selected.sort_values(by=[df_selected.columns[0], df_selected.columns[1]])\n",
    "\n",
    "df_pivot = df_sorted.pivot(index=df_sorted.columns[0], columns=df_sorted.columns[1], values=df_sorted.columns[2])\n",
    "beta = df_pivot.to_numpy()"
   ]
  },
  {
   "cell_type": "markdown",
   "metadata": {},
   "source": [
    "### $\\gamma$: shape $(N, J, J)$\n",
    "\n",
    "The $(n, j, k)$ : country n, using sector j, producing sector k"
   ]
  },
  {
   "cell_type": "code",
   "execution_count": null,
   "metadata": {},
   "outputs": [],
   "source": [
    "df = pd.read_csv(f\"{base_path}/beta_sr.csv\")\n",
    "\n",
    "# Choose ttype = sa\n",
    "df_sa = df[df['ttype'] == 'sa']\n",
    "\n",
    "df_selected =  df_sa.iloc[:, [0, 3, 2, 4]]\n",
    "\n",
    "df_sorted = df_selected.sort_values(by=[df_selected.columns[0], df_selected.columns[1],  df_selected.columns[2]])\n",
    "\n",
    "\n",
    "values = df_sorted['beta_sr'].to_numpy()\n",
    "\n",
    "gamma = values.reshape((N, J, J))\n",
    "\n"
   ]
  },
  {
   "cell_type": "markdown",
   "metadata": {},
   "source": [
    "### $\\theta$: shape $(J, )$\n",
    "\n",
    "Trade elasticity"
   ]
  },
  {
   "cell_type": "code",
   "execution_count": null,
   "metadata": {},
   "outputs": [],
   "source": [
    "theta = np.array([6.26, 8.05, 7.31, 6.31, 9.12, 11.37, 6.10, 6.31, 6.22, 4.78, 7.78, 7.43, 9.69, 7.13, 8.01, \n",
    "                  7.31, 7.31, 7.31, 7.31, 7.31, 7.31, 7.31, 7.31, 7.31, 7.31, 7.31, 7.31, 7.31, 7.31, 7.31, 7.31])  \n",
    "\n"
   ]
  },
  {
   "cell_type": "markdown",
   "metadata": {},
   "source": [
    "### $\\pi^f$: shape $(N, N, J)$\n",
    "\n",
    "The expenditure shape vector, the $(n, i, j)$ element denotes the country $n$'s share of expenditure of goods from sector $j$ from country $i$"
   ]
  },
  {
   "cell_type": "code",
   "execution_count": null,
   "metadata": {},
   "outputs": [],
   "source": [
    "df = pd.read_csv(f\"{base_path}/pi_sf_nit.csv\")\n",
    "\n",
    "# Here we choose base year 2009\n",
    "# Choose base year 2009 for 'sa' records\n",
    "df_sa = df[(df['ttype'] == 'sa') & (df['Year'] == 2009)]\n",
    "\n",
    "df_selected = df_sa.iloc[:, [0, 1, 3, 6]]\n",
    "\n",
    "df_sorted = df_selected.sort_values(by=[df_selected.columns[0], df_selected.columns[1],  df_selected.columns[2]])\n",
    "\n",
    "\n",
    "values = df_sorted['pi_sf_nit'].to_numpy()\n",
    "\n",
    "pi_f = values.reshape((N,N,J))\n"
   ]
  },
  {
   "cell_type": "markdown",
   "metadata": {},
   "source": [
    "### $\\pi^m$: shape $(N, N, J)$\n",
    "\n",
    "The expenditure shape vector, the $(n, i, j)$ element denotes the country $n$'s share of expenditure of goods from sector $j$ from country $i$"
   ]
  },
  {
   "cell_type": "code",
   "execution_count": null,
   "metadata": {},
   "outputs": [],
   "source": [
    "df = pd.read_csv(f\"{base_path}/pi_sm_nit.csv\")\n",
    "\n",
    "# Here we choose base year 2009\n",
    "# Choose base year 2009 for 'sa' records\n",
    "df_sa = df[(df['ttype'] == 'sa') & (df['Year'] == 2009)]\n",
    "\n",
    "df_selected = df_sa.iloc[:, [0, 1, 3, 6]]\n",
    "\n",
    "df_sorted = df_selected.sort_values(by=[df_selected.columns[0], df_selected.columns[1],  df_selected.columns[2]])\n",
    "\n",
    "\n",
    "values = df_sorted['pi_sm_nit'].to_numpy()\n",
    "\n",
    "pi_m = values.reshape((N,N,J))"
   ]
  },
  {
   "cell_type": "markdown",
   "metadata": {},
   "source": [
    "### Trade Deficit $D_n$"
   ]
  },
  {
   "cell_type": "code",
   "execution_count": null,
   "metadata": {},
   "outputs": [],
   "source": [
    "df = pd.read_csv(f\"{base_path}/Dn.csv\")\n",
    "\n",
    "# Choose ttype = sa\n",
    "\n",
    "df_sa = df[(df['ttype'] == 'sa') & (df['Year'] == 2009)]\n",
    "\n",
    "# keep country, industry and alpha \n",
    "df_selected = df_sa.iloc[:, [0,3]]\n",
    "\n",
    "df_sorted = df_selected.sort_values(by=[df_selected.columns[0]])\n",
    "\n",
    "D = df_sorted['Dn'].to_numpy()\n"
   ]
  },
  {
   "cell_type": "markdown",
   "metadata": {},
   "source": [
    "### VA: shape (N, )\n",
    "\n",
    "note: here I assume that the total value added is 2 times the value added in tradable sectors"
   ]
  },
  {
   "cell_type": "code",
   "execution_count": null,
   "metadata": {},
   "outputs": [],
   "source": [
    "df = pd.read_csv(f\"{base_path}/value_added_tradables.csv\")\n",
    "\n",
    "# Choose ttype = sa\n",
    "df_sa = df[ (df['Year'] == 2009)]\n",
    "\n",
    "# keep country, industry and alpha \n",
    "df_selected = df_sa.iloc[:, [0,3]]\n",
    "\n",
    "df_sorted = df_selected.sort_values(by=[df_selected.columns[0]])\n",
    "\n",
    "df_grouped = df_sorted.groupby(df_sorted.columns[0])[df_sorted.columns[1]].sum().reset_index()\n",
    "\n",
    "VA = df_grouped['value_added'].to_numpy() * 2\n"
   ]
  },
  {
   "cell_type": "markdown",
   "metadata": {},
   "source": [
    "### $\\tilde{\\tau}$: shape $(N, N, J)$\n",
    "The tariff rate vector, the $(n, i, j)$ denote the $(1+\\tau)$ tariff rate of country $n$ on country $i$ for goods of sector $j$\n",
    "\n",
    "Note: I don't find the tariff data. Here I construct one."
   ]
  },
  {
   "cell_type": "code",
   "execution_count": null,
   "metadata": {},
   "outputs": [],
   "source": [
    "tilde_tau = np.ones((N, N, J)) * 1.1 "
   ]
  },
  {
   "cell_type": "code",
   "execution_count": null,
   "metadata": {},
   "outputs": [],
   "source": [
    "np.savez('real_data.npz', N = N, J = J, alpha = alpha, beta = beta, gamma = gamma, theta = theta, pi_f = pi_f, pi_m = pi_m, D = D, VA = VA, tilde_tau = tilde_tau)"
   ]
  },
  {
   "cell_type": "markdown",
   "metadata": {},
   "source": [
    "# Turn to 2017 data"
   ]
  },
  {
   "cell_type": "code",
   "execution_count": 51,
   "metadata": {},
   "outputs": [],
   "source": [
    "import numpy as np\n",
    "import pandas as pd\n",
    "base_path = \"~/Desktop/Carbon_Emission_Analysis_2017\""
   ]
  },
  {
   "cell_type": "code",
   "execution_count": 52,
   "metadata": {},
   "outputs": [
    {
     "name": "stdout",
     "output_type": "stream",
     "text": [
      "We have 36 countries and 23 sectors.\n"
     ]
    }
   ],
   "source": [
    "# Number of countries and sectors\n",
    "country_list_df = pd.read_csv(f\"{base_path}/3_Result/results_Eora/country_list.csv\")\n",
    "country_list = country_list_df.iloc[:, 0].tolist()  \n",
    "\n",
    "N = len(country_list)\n",
    "\n",
    "sector_list_df =  pd.read_csv(f\"{base_path}/3_Result/results_Eora/sector_list.csv\")\n",
    "sector_list = sector_list_df.iloc[:, 0].tolist()  \n",
    "\n",
    "J = len(sector_list)\n",
    "\n",
    "tradable_sector_list = sector_list[0:10]\n",
    "\n",
    "print(f\"We have {N} countries and {J} sectors.\")"
   ]
  },
  {
   "cell_type": "markdown",
   "metadata": {},
   "source": [
    "### $\\alpha$: shape $(N, J)$\n",
    "\n",
    "The $(n, j)$ element denotes the consumption share of goods from sector $j$ for country $n$"
   ]
  },
  {
   "cell_type": "code",
   "execution_count": 53,
   "metadata": {},
   "outputs": [
    {
     "name": "stdout",
     "output_type": "stream",
     "text": [
      "For each country, the sum over secotrs equals 1 ✅\n",
      "Every value in alpha is between 0 and 1 ✅\n"
     ]
    }
   ],
   "source": [
    "# Consumption shares\n",
    "# alpha[n,j]: country n's comsumption share in sector j\n",
    "alpha_df = pd.read_csv(f\"{base_path}/3_Result/results_parameters/Alpha_nj_2017.csv\")\n",
    "alpha_df = alpha_df.iloc[:, 1:] \n",
    "alpha = alpha_df.to_numpy()\n",
    "\n",
    "# Check\n",
    "# Check 1: For each n, the sum over j equals 1\n",
    "sum_by_n = np.sum(alpha, axis=1)\n",
    "check_sum = np.allclose(sum_by_n, 1, atol=1e-6)  # Allowing a small numerical tolerance\n",
    "if check_sum:\n",
    "    print(\"For each country, the sum over secotrs equals 1 ✅\")\n",
    "else:\n",
    "    print(\"There are some country where the sum over sectors is not 1 ❌\")\n",
    "    print(\"The issue occurs at the following n indices:\", np.where(np.abs(sum_by_n - 1) > 1e-6)[0])\n",
    "    print(\"The corresponding sums are:\", sum_by_n[np.where(np.abs(sum_by_n - 1) > 1e-6)[0]])\n",
    "# Check 2: Every value in alpha is between 0 and 1\n",
    "check_range = np.all((alpha >= 0) & (alpha <= 1))\n",
    "if check_range:\n",
    "    print(\"Every value in alpha is between 0 and 1 ✅\")\n",
    "else:\n",
    "    print(\"There are values in alpha that are not between 0 and 1 ❌\")\n",
    "    print(\"These values are at positions:\", np.where((alpha < 0) | (alpha > 1)))\n",
    "    print(\"The values are:\", alpha[(alpha < 0) | (alpha > 1)])"
   ]
  },
  {
   "cell_type": "markdown",
   "metadata": {},
   "source": [
    "### $\\beta$: shape $(N, J)$\n",
    "\n",
    "The $(n, j)$ element denotes the value-add share of goods from sector $j$ for country $n$"
   ]
  },
  {
   "cell_type": "code",
   "execution_count": 54,
   "metadata": {},
   "outputs": [
    {
     "name": "stdout",
     "output_type": "stream",
     "text": [
      "Every value in beta is between 0 and 1 ✅\n"
     ]
    }
   ],
   "source": [
    "# beta[n,j]: country n's value-added share in sector j\n",
    "beta_df = pd.read_csv(f\"{base_path}/3_Result/results_parameters/Gamma_nj_2017.csv\")\n",
    "beta_df  = beta_df.iloc[:, 1:]\n",
    "beta = beta_df.to_numpy() \n",
    "\n",
    "# Check: Every value in beta is between 0 and 1\n",
    "check_range = np.all((beta >= 0) & (beta <= 1))\n",
    "if check_range:\n",
    "    print(\"Every value in beta is between 0 and 1 ✅\")\n",
    "else:\n",
    "    print(\"There are values in beta that are not between 0 and 1 ❌\")\n",
    "    print(\"These values are at positions:\", np.where((beta < 0) | (beta > 1)))\n",
    "    print(\"The values are:\", beta[(beta < 0) | (beta > 1)])"
   ]
  },
  {
   "cell_type": "markdown",
   "metadata": {},
   "source": [
    "### $\\gamma$: shape $(N, J, J)$\n",
    "\n",
    "The $(n, j, k)$ element denotes the sector $k$'s share in producing goods in sector $j$, country $n$ "
   ]
  },
  {
   "cell_type": "code",
   "execution_count": 55,
   "metadata": {},
   "outputs": [
    {
     "name": "stdout",
     "output_type": "stream",
     "text": [
      "Every value in gamma is between 0 and 1 ✅\n",
      "Condition satisfied: sum(k) gamma[n, k, j] + beta[n, j] = 1 ✅\n"
     ]
    }
   ],
   "source": [
    "# Sectoral linkages parameter\n",
    "# gamma[n,k,j]: sector k's share in producing goods in sector j, country n \n",
    "gamma_df = pd.read_csv(f\"{base_path}/3_Result/results_parameters/Gamma_njk_2017.csv\")\n",
    "gamma_df  = gamma_df.iloc[:, 1:]\n",
    "gamma_np = gamma_df.to_numpy()\n",
    "gamma_temp = gamma_np.reshape((N, J, J))\n",
    "gamma = gamma_temp\n",
    "#gamma = np.transpose(gamma_temp, (0, 2, 1))\n",
    "\n",
    "\n",
    "# Check \n",
    "# Check 1: Every value in gamma is between 0 and 1\n",
    "invalid_values = (gamma < 0) | (gamma > 1)\n",
    "\n",
    "if np.any(invalid_values):\n",
    "    print(\"There are values in gamma that are not between 0 and 1 ❌\")\n",
    "    print(\"These values are at positions:\", np.where(invalid_values))\n",
    "    print(\"The values are:\", gamma[invalid_values])\n",
    "else:\n",
    "    print(\"Every value in gamma is between 0 and 1 ✅\")\n",
    "\n",
    "# Check 2: sum(k) gamma[n,k,j] + beta[n,j] = 1\n",
    "temp = np.sum(gamma, axis = 2) + beta\n",
    "is_valid = np.allclose(temp, 1, atol = 1e-5)\n",
    "\n",
    "if is_valid:\n",
    "    print(\"Condition satisfied: sum(k) gamma[n, k, j] + beta[n, j] = 1 ✅\")\n",
    "else:\n",
    "    print(\"Condition not satisfied: sum(k) gamma[n, k, j] + beta[n, j] ≠ 1 ❌\")\n",
    "    print(\"Positions where the condition fails:\", np.where(~np.isclose(temp, 1, atol=1e-5)))\n",
    "    print(\"Values that do not satisfy the condition:\", temp[~np.isclose(temp, 1, atol=1e-5)])\n"
   ]
  },
  {
   "cell_type": "markdown",
   "metadata": {},
   "source": [
    "### $\\theta$: shape $(J, )$"
   ]
  },
  {
   "cell_type": "code",
   "execution_count": 56,
   "metadata": {},
   "outputs": [],
   "source": [
    "\n",
    "theta = np.array([6.26, 8.05, 7.31, 6.31, 10.25, 5.85, 7.78, 8.56, 7.13, 8.01, \n",
    "                  7.31, 7.31, 7.31, 7.31, 7.31, 7.31, 7.31, 7.31, 7.31, 7.31, 7.31, 7.31, 7.31])  \n",
    "\n",
    "assert len(theta) == J"
   ]
  },
  {
   "cell_type": "markdown",
   "metadata": {},
   "source": [
    "### $\\pi^f$: shape $(N, N, J)$\n",
    "\n",
    "The expenditure shape vector, the $(n, i, j)$ element denotes the country $n$'s share of expenditure of goods from sector $j$ from country $i$"
   ]
  },
  {
   "cell_type": "code",
   "execution_count": 57,
   "metadata": {},
   "outputs": [
    {
     "name": "stdout",
     "output_type": "stream",
     "text": [
      "Condition satisfied: sum(i) pi[n, i, j] = 1 ✅\n"
     ]
    }
   ],
   "source": [
    "# Initial trade shares\n",
    "#pi[n,i,j]: country n's import share from country i, in sector j\n",
    "pi_df_temp = pd.read_csv(f\"{base_path}/3_Result/results_parameters/trade_share_final_2017.csv\")\n",
    "pi_df = pi_df_temp .iloc[:,1:]\n",
    "pi_df['Exporter_Sector'] = pi_df['Exporter'] + '_' + pi_df['Sector']\n",
    "\n",
    "pi_df['Importer'] = pd.Categorical(pi_df['Importer'], categories=pi_df['Importer'].unique(), ordered=True)\n",
    "pi_df['Exporter_Sector'] = pd.Categorical(pi_df['Exporter_Sector'], categories=pi_df['Exporter_Sector'].unique(), ordered=True)\n",
    "\n",
    "pi_matrix = pi_df.pivot_table(index='Importer', columns='Exporter_Sector', values='Share', aggfunc='first', observed=False)\n",
    "\n",
    "pi_np = pi_matrix .to_numpy()\n",
    "pi_f = pi_np.reshape((N, N, J))\n",
    "\n",
    "# Check\n",
    "temp = np.sum(pi_f, axis=1)  \n",
    "is_valid = np.allclose(temp, 1, atol=1e-5)  \n",
    "\n",
    "if is_valid:\n",
    "    print(\"Condition satisfied: sum(i) pi[n, i, j] = 1 ✅\")\n",
    "else:\n",
    "    print(\"Condition not satisfied: sum(i) pi[n, i, j] ≠ 1 ❌\")\n",
    "    print(\"Positions where the condition fails:\", np.where(~np.isclose(temp, 1, atol=1e-5)))\n",
    "    print(\"Values that do not satisfy the condition:\", temp[~np.isclose(temp, 1, atol=1e-5)])\n"
   ]
  },
  {
   "cell_type": "markdown",
   "metadata": {},
   "source": [
    "### $\\pi^m$: shape $(N, N, J)$\n",
    "\n",
    "The expenditure shape vector, the $(n, i, j)$ element denotes the country $n$'s share of expenditure of goods from sector $j$ from country $i$"
   ]
  },
  {
   "cell_type": "code",
   "execution_count": 58,
   "metadata": {},
   "outputs": [
    {
     "name": "stdout",
     "output_type": "stream",
     "text": [
      "Condition satisfied: sum(i) pi[n, i, j] = 1 ✅\n"
     ]
    }
   ],
   "source": [
    "# Initial trade shares\n",
    "#pi[n,i,j]: country n's import share from country i, in sector j\n",
    "pi_df_temp = pd.read_csv(f\"{base_path}/3_Result/results_parameters/trade_share_inter_2017.csv\")\n",
    "pi_df = pi_df_temp .iloc[:,1:]\n",
    "pi_df['Exporter_Sector'] = pi_df['Exporter'] + '_' + pi_df['Sector']\n",
    "\n",
    "pi_df['Importer'] = pd.Categorical(pi_df['Importer'], categories=pi_df['Importer'].unique(), ordered=True)\n",
    "pi_df['Exporter_Sector'] = pd.Categorical(pi_df['Exporter_Sector'], categories=pi_df['Exporter_Sector'].unique(), ordered=True)\n",
    "\n",
    "pi_matrix = pi_df.pivot_table(index='Importer', columns='Exporter_Sector', values='Share', aggfunc='first', observed=False)\n",
    "\n",
    "pi_np = pi_matrix .to_numpy()\n",
    "pi_m = pi_np.reshape((N, N, J))\n",
    "\n",
    "# Check\n",
    "temp = np.sum(pi_m, axis=1)  \n",
    "is_valid = np.allclose(temp, 1, atol=1e-5)  \n",
    "\n",
    "if is_valid:\n",
    "    print(\"Condition satisfied: sum(i) pi[n, i, j] = 1 ✅\")\n",
    "else:\n",
    "    print(\"Condition not satisfied: sum(i) pi[n, i, j] ≠ 1 ❌\")\n",
    "    print(\"Positions where the condition fails:\", np.where(~np.isclose(temp, 1, atol=1e-5)))\n",
    "    print(\"Values that do not satisfy the condition:\", temp[~np.isclose(temp, 1, atol=1e-5)])\n"
   ]
  },
  {
   "cell_type": "markdown",
   "metadata": {},
   "source": [
    "### $\\tilde{\\tau}$: shape $(N, N, J)$\n",
    "The tariff rate vector, the $(n, i, j)$ denote the $(1+\\tau)$ tariff rate of country $n$ on country $i$ for goods of sector $j$"
   ]
  },
  {
   "cell_type": "code",
   "execution_count": 59,
   "metadata": {},
   "outputs": [],
   "source": [
    "# Load Tariff data\n",
    "\n",
    "tariff_raw = pd.read_csv(f\"{base_path}/3_Result/results_parameters/tariff_2017.csv\")\n",
    "tariff_df  = tariff_raw .iloc[:, 1:]\n",
    "tariff_df['Exporter_Sector'] = tariff_df['Exporter'] + '_' + tariff_df['Sector']\n",
    "\n",
    "tariff_df['Importer'] = pd.Categorical(tariff_df['Importer'], categories=tariff_df['Importer'].unique(), ordered=True)\n",
    "tariff_df['Exporter_Sector'] = pd.Categorical(tariff_df['Exporter_Sector'], categories=tariff_df['Exporter_Sector'].unique(), ordered=True)\n",
    "\n",
    "tariff_matrix = tariff_df.pivot_table(index='Importer', columns='Exporter_Sector', values='Tariff', aggfunc='first', observed=False)\n",
    "\n",
    "tariff_np = tariff_matrix.to_numpy()\n",
    "tariff_base = tariff_np.reshape((N, N, J))\n",
    "\n",
    "# Construct tilde_tau\n",
    "# tilde_tau[n,i,j]: country n's tariff on goods j from contry i (n:importer, i:exporte)\n",
    "tilde_tau = tariff_base + 1"
   ]
  },
  {
   "cell_type": "code",
   "execution_count": 60,
   "metadata": {},
   "outputs": [],
   "source": [
    "# Load X_nj[n,j]: country n's initial expenditure on sector j\n",
    "X_df = pd.read_csv(f\"{base_path}/3_Result/results_parameters/X_nj_2017.csv\")\n",
    "X_df = X_df.iloc[:, 1:] \n",
    "X = X_df.to_numpy()"
   ]
  },
  {
   "cell_type": "markdown",
   "metadata": {},
   "source": [
    "### VA: shape (N, )"
   ]
  },
  {
   "cell_type": "code",
   "execution_count": 61,
   "metadata": {},
   "outputs": [
    {
     "name": "stdout",
     "output_type": "stream",
     "text": [
      "Condition satisfied: sum(i) pi[n, i, j] = 1 ✅\n"
     ]
    }
   ],
   "source": [
    "# Initial trade shares\n",
    "#pi[n,i,j]: country n's import share from country i, in sector j\n",
    "pi_df_temp = pd.read_csv(f\"{base_path}/3_Result/results_parameters/trade_share_2017.csv\")\n",
    "pi_df = pi_df_temp .iloc[:,1:]\n",
    "pi_df['Exporter_Sector'] = pi_df['Exporter'] + '_' + pi_df['Sector']\n",
    "\n",
    "pi_df['Importer'] = pd.Categorical(pi_df['Importer'], categories=pi_df['Importer'].unique(), ordered=True)\n",
    "pi_df['Exporter_Sector'] = pd.Categorical(pi_df['Exporter_Sector'], categories=pi_df['Exporter_Sector'].unique(), ordered=True)\n",
    "\n",
    "pi_matrix = pi_df.pivot_table(index='Importer', columns='Exporter_Sector', values='Share', aggfunc='first', observed=False)\n",
    "\n",
    "pi_np = pi_matrix .to_numpy()\n",
    "pi = pi_np.reshape((N, N, J))\n",
    "\n",
    "# Check\n",
    "temp = np.sum(pi, axis=1)  \n",
    "is_valid = np.allclose(temp, 1, atol=1e-5)  \n",
    "\n",
    "if is_valid:\n",
    "    print(\"Condition satisfied: sum(i) pi[n, i, j] = 1 ✅\")\n",
    "else:\n",
    "    print(\"Condition not satisfied: sum(i) pi[n, i, j] ≠ 1 ❌\")\n",
    "    print(\"Positions where the condition fails:\", np.where(~np.isclose(temp, 1, atol=1e-5)))\n",
    "    print(\"Values that do not satisfy the condition:\", temp[~np.isclose(temp, 1, atol=1e-5)])"
   ]
  },
  {
   "cell_type": "code",
   "execution_count": 62,
   "metadata": {},
   "outputs": [
    {
     "name": "stdout",
     "output_type": "stream",
     "text": [
      "Every country's value added is greater than 0 ✅\n"
     ]
    }
   ],
   "source": [
    "# From X_nj Calculate VA\n",
    "# Reshape beta to (N, 1, J) to allow broadcasting with pi_prime and tilde_tau_prime\n",
    "VA = np.zeros(N)\n",
    "\n",
    "for n in range(N):  \n",
    "    for j in range(J):  \n",
    "        inner_sum = 0\n",
    "        for i in range(N):  \n",
    "            inner_sum += X[i,j] * (pi[i,n,j] / tilde_tau[i,n,j])\n",
    "        VA[n] += beta[n,j] * inner_sum\n",
    "\n",
    "# Check if every value in VA is greater than 0\n",
    "check_positive = np.all(VA > 0)\n",
    "if check_positive:\n",
    "    print(\"Every country's value added is greater than 0 ✅\")\n",
    "else:\n",
    "    print(\"There are values in VA that are less than or equal to 0 ❌\")\n",
    "    print(\"These values are at positions:\", np.where(VA <= 0))\n",
    "    print(\"The values are:\", VA[VA <= 0])"
   ]
  },
  {
   "cell_type": "markdown",
   "metadata": {},
   "source": [
    "## D: trade deficit"
   ]
  },
  {
   "cell_type": "code",
   "execution_count": 63,
   "metadata": {},
   "outputs": [],
   "source": [
    "# From X_nj Caclulate Trade Deficit\n",
    "D = np.zeros(N)\n",
    "\n",
    "for n in range(N):\n",
    "    for j in range(J):\n",
    "        for i in range (N):\n",
    "            IM = X[n,j] * pi[n,i,j] / tilde_tau[n,i,j]\n",
    "            EX = X[i,j] * pi[i,n,j] / tilde_tau[i,n,j]\n",
    "\n",
    "            D[n] += EX - IM\n",
    "\n",
    "\n",
    "# EX = np.einsum('inj,inj,ij->n', pi, 1 / tilde_tau, X)  # shape: (N,)\n",
    "# IM = np.einsum('nij,nij,nj->n', pi, 1 / tilde_tau, X)  # shape: (N,)\n"
   ]
  },
  {
   "cell_type": "code",
   "execution_count": 64,
   "metadata": {},
   "outputs": [],
   "source": [
    "np.savez('real_data_2017.npz', country_list = country_list, sector_list = sector_list, N = N, J = J, alpha = alpha, beta = beta, gamma = gamma, theta = theta, pi_f = pi_f, pi_m = pi_m, D = D, VA = VA, tilde_tau = tilde_tau)"
   ]
  }
 ],
 "metadata": {
  "kernelspec": {
   "display_name": "base",
   "language": "python",
   "name": "python3"
  },
  "language_info": {
   "codemirror_mode": {
    "name": "ipython",
    "version": 3
   },
   "file_extension": ".py",
   "mimetype": "text/x-python",
   "name": "python",
   "nbconvert_exporter": "python",
   "pygments_lexer": "ipython3",
   "version": "3.12.2"
  }
 },
 "nbformat": 4,
 "nbformat_minor": 2
}

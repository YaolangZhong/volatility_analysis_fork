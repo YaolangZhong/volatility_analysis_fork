{
 "cells": [
  {
   "cell_type": "code",
   "execution_count": 1,
   "metadata": {},
   "outputs": [],
   "source": [
    "%load_ext autoreload\n",
    "%autoreload 2\n",
    "import os\n",
    "import numpy as np\n",
    "import timeit\n",
    "from models import *\n",
    "from equations import *\n",
    "from solvers import *"
   ]
  },
  {
   "cell_type": "markdown",
   "metadata": {},
   "source": [
    "# 1. Benchmark Model\n",
    "\n",
    "## 1.1 baseline"
   ]
  },
  {
   "cell_type": "code",
   "execution_count": 15,
   "metadata": {},
   "outputs": [],
   "source": [
    "data_file_name = \"data/data_2017.npz\"\n",
    "params = ModelParams.load_from_npz(data_file_name)\n",
    "params.gamma = np.swapaxes(params.gamma, 1, 2)\n",
    "model0 = Model(params)\n",
    "shocks = model.shocks"
   ]
  },
  {
   "cell_type": "code",
   "execution_count": 16,
   "metadata": {},
   "outputs": [
    {
     "name": "stdout",
     "output_type": "stream",
     "text": [
      "Iter 1: w_min=9.848e-01, w_max=1.007e+00, X_min=1.438e+04, X_max=9.825e+09, Δw=1.524e-02, ΔP=2.220e-16\n",
      "Iter 2: w_min=9.725e-01, w_max=1.013e+00, X_min=1.435e+04, X_max=9.872e+09, Δw=1.228e-02, ΔP=1.217e-02\n",
      "Iter 3: w_min=9.641e-01, w_max=1.019e+00, X_min=1.433e+04, X_max=9.906e+09, Δw=8.414e-03, ΔP=1.005e-02\n",
      "Iter 4: w_min=9.591e-01, w_max=1.023e+00, X_min=1.432e+04, X_max=9.930e+09, Δw=5.057e-03, ΔP=8.079e-03\n",
      "Iter 5: w_min=9.568e-01, w_max=1.026e+00, X_min=1.430e+04, X_max=9.949e+09, Δw=3.252e-03, ΔP=6.150e-03\n",
      "Iter 6: w_min=9.560e-01, w_max=1.029e+00, X_min=1.429e+04, X_max=9.963e+09, Δw=2.525e-03, ΔP=4.335e-03\n",
      "Iter 7: w_min=9.560e-01, w_max=1.031e+00, X_min=1.429e+04, X_max=9.975e+09, Δw=1.956e-03, ΔP=2.975e-03\n",
      "Iter 8: w_min=9.562e-01, w_max=1.032e+00, X_min=1.428e+04, X_max=9.983e+09, Δw=1.519e-03, ΔP=2.063e-03\n",
      "Iter 9: w_min=9.564e-01, w_max=1.033e+00, X_min=1.428e+04, X_max=9.990e+09, Δw=1.186e-03, ΔP=1.641e-03\n",
      "Iter 10: w_min=9.565e-01, w_max=1.034e+00, X_min=1.429e+04, X_max=9.996e+09, Δw=9.307e-04, ΔP=1.290e-03\n",
      "Iter 11: w_min=9.564e-01, w_max=1.035e+00, X_min=1.429e+04, X_max=1.000e+10, Δw=7.339e-04, ΔP=1.013e-03\n",
      "Iter 12: w_min=9.563e-01, w_max=1.035e+00, X_min=1.429e+04, X_max=1.000e+10, Δw=5.808e-04, ΔP=7.589e-04\n",
      "Iter 13: w_min=9.562e-01, w_max=1.036e+00, X_min=1.429e+04, X_max=1.001e+10, Δw=4.608e-04, ΔP=5.992e-04\n",
      "Iter 14: w_min=9.561e-01, w_max=1.036e+00, X_min=1.429e+04, X_max=1.001e+10, Δw=3.662e-04, ΔP=4.746e-04\n",
      "Iter 15: w_min=9.561e-01, w_max=1.037e+00, X_min=1.429e+04, X_max=1.001e+10, Δw=2.914e-04, ΔP=3.768e-04\n",
      "Iter 16: w_min=9.560e-01, w_max=1.037e+00, X_min=1.429e+04, X_max=1.001e+10, Δw=2.322e-04, ΔP=2.997e-04\n",
      "Iter 17: w_min=9.560e-01, w_max=1.037e+00, X_min=1.429e+04, X_max=1.001e+10, Δw=1.852e-04, ΔP=2.386e-04\n",
      "Iter 18: w_min=9.560e-01, w_max=1.037e+00, X_min=1.429e+04, X_max=1.001e+10, Δw=1.479e-04, ΔP=1.902e-04\n",
      "Iter 19: w_min=9.560e-01, w_max=1.037e+00, X_min=1.429e+04, X_max=1.002e+10, Δw=1.183e-04, ΔP=1.519e-04\n",
      "Iter 20: w_min=9.560e-01, w_max=1.037e+00, X_min=1.429e+04, X_max=1.002e+10, Δw=9.586e-05, ΔP=1.214e-04\n",
      "Iter 21: w_min=9.559e-01, w_max=1.037e+00, X_min=1.429e+04, X_max=1.002e+10, Δw=7.923e-05, ΔP=9.726e-05\n",
      "Iter 22: w_min=9.559e-01, w_max=1.038e+00, X_min=1.429e+04, X_max=1.002e+10, Δw=6.541e-05, ΔP=8.261e-05\n",
      "Iter 23: w_min=9.559e-01, w_max=1.038e+00, X_min=1.429e+04, X_max=1.002e+10, Δw=5.394e-05, ΔP=8.207e-05\n",
      "Iter 24: w_min=9.559e-01, w_max=1.038e+00, X_min=1.429e+04, X_max=1.002e+10, Δw=4.444e-05, ΔP=8.150e-05\n",
      "Iter 25: w_min=9.559e-01, w_max=1.038e+00, X_min=1.429e+04, X_max=1.002e+10, Δw=3.659e-05, ΔP=8.092e-05\n",
      "Iter 26: w_min=9.559e-01, w_max=1.038e+00, X_min=1.429e+04, X_max=1.002e+10, Δw=3.011e-05, ΔP=8.032e-05\n",
      "Iter 27: w_min=9.559e-01, w_max=1.038e+00, X_min=1.429e+04, X_max=1.002e+10, Δw=2.476e-05, ΔP=7.972e-05\n",
      "Iter 28: w_min=9.559e-01, w_max=1.038e+00, X_min=1.429e+04, X_max=1.002e+10, Δw=2.035e-05, ΔP=7.911e-05\n",
      "Iter 29: w_min=9.559e-01, w_max=1.038e+00, X_min=1.429e+04, X_max=1.002e+10, Δw=1.672e-05, ΔP=7.850e-05\n",
      "Iter 30: w_min=9.559e-01, w_max=1.038e+00, X_min=1.429e+04, X_max=1.002e+10, Δw=1.373e-05, ΔP=7.788e-05\n",
      "Iter 31: w_min=9.559e-01, w_max=1.038e+00, X_min=1.429e+04, X_max=1.002e+10, Δw=1.127e-05, ΔP=7.727e-05\n",
      "Iter 32: w_min=9.559e-01, w_max=1.038e+00, X_min=1.429e+04, X_max=1.002e+10, Δw=9.252e-06, ΔP=7.665e-05\n",
      "Iter 33: w_min=9.559e-01, w_max=1.038e+00, X_min=1.429e+04, X_max=1.002e+10, Δw=7.592e-06, ΔP=7.604e-05\n",
      "Iter 34: w_min=9.559e-01, w_max=1.038e+00, X_min=1.429e+04, X_max=1.002e+10, Δw=6.228e-06, ΔP=7.543e-05\n",
      "Iter 35: w_min=9.559e-01, w_max=1.038e+00, X_min=1.429e+04, X_max=1.002e+10, Δw=5.108e-06, ΔP=7.482e-05\n",
      "Iter 36: w_min=9.559e-01, w_max=1.038e+00, X_min=1.429e+04, X_max=1.002e+10, Δw=4.188e-06, ΔP=7.422e-05\n",
      "Iter 37: w_min=9.559e-01, w_max=1.038e+00, X_min=1.429e+04, X_max=1.002e+10, Δw=3.434e-06, ΔP=7.362e-05\n",
      "Iter 38: w_min=9.559e-01, w_max=1.038e+00, X_min=1.429e+04, X_max=1.002e+10, Δw=2.815e-06, ΔP=7.302e-05\n",
      "Iter 39: w_min=9.559e-01, w_max=1.038e+00, X_min=1.429e+04, X_max=1.002e+10, Δw=2.307e-06, ΔP=7.243e-05\n",
      "Iter 40: w_min=9.559e-01, w_max=1.038e+00, X_min=1.429e+04, X_max=1.002e+10, Δw=1.891e-06, ΔP=7.184e-05\n",
      "Iter 41: w_min=9.559e-01, w_max=1.038e+00, X_min=1.429e+04, X_max=1.002e+10, Δw=1.550e-06, ΔP=7.126e-05\n",
      "Iter 42: w_min=9.559e-01, w_max=1.038e+00, X_min=1.429e+04, X_max=1.002e+10, Δw=1.270e-06, ΔP=7.068e-05\n",
      "Iter 43: w_min=9.559e-01, w_max=1.038e+00, X_min=1.429e+04, X_max=1.002e+10, Δw=1.040e-06, ΔP=7.011e-05\n",
      "Iter 44: w_min=9.559e-01, w_max=1.038e+00, X_min=1.429e+04, X_max=1.002e+10, Δw=8.525e-07, ΔP=6.954e-05\n"
     ]
    }
   ],
   "source": [
    "solver = ModelSolver(model0)\n",
    "solver.solve()"
   ]
  },
  {
   "cell_type": "markdown",
   "metadata": {},
   "source": [
    "## 1.2 counterfactual: US imposes 20% tariff rate to ALL countries ALL sectors"
   ]
  },
  {
   "cell_type": "code",
   "execution_count": 17,
   "metadata": {},
   "outputs": [],
   "source": [
    "target_importers = ['USA']  # one or multiple\n",
    "country_list = params.country_list.tolist()\n",
    "sector_list = params.sector_list.tolist()\n",
    "tilde_tau = params.tilde_tau.copy()\n",
    "target_importers_index = [country_list.index(importer) for importer in target_importers]  \n",
    "\n",
    "tilde_tau_1 = tilde_tau.copy()\n",
    "\n",
    "for importer_index in target_importers_index:\n",
    "    for exporter_index in range(len(country_list)):\n",
    "        for sector_index in range(len(sector_list)):\n",
    "            if importer_index != exporter_index:\n",
    "                tilde_tau_1[importer_index, exporter_index, sector_index] += 0.2\n",
    "\n",
    "data_file_name = \"data/data_2017.npz\"\n",
    "params = ModelParams.load_from_npz(data_file_name)\n",
    "params.gamma = np.swapaxes(params.gamma, 1, 2)\n",
    "params.tilde_tau = tilde_tau_1\n",
    "model1 = Model(params)"
   ]
  },
  {
   "cell_type": "code",
   "execution_count": 18,
   "metadata": {},
   "outputs": [
    {
     "name": "stdout",
     "output_type": "stream",
     "text": [
      "Iter 1: w_min=9.835e-01, w_max=1.009e+00, X_min=1.435e+04, X_max=9.938e+09, Δw=1.654e-02, ΔP=2.220e-16\n",
      "Iter 2: w_min=9.713e-01, w_max=1.018e+00, X_min=1.432e+04, X_max=9.999e+09, Δw=1.268e-02, ΔP=1.317e-02\n",
      "Iter 3: w_min=9.629e-01, w_max=1.024e+00, X_min=1.429e+04, X_max=1.004e+10, Δw=8.885e-03, ΔP=1.074e-02\n",
      "Iter 4: w_min=9.575e-01, w_max=1.030e+00, X_min=1.427e+04, X_max=1.008e+10, Δw=5.433e-03, ΔP=8.418e-03\n",
      "Iter 5: w_min=9.547e-01, w_max=1.034e+00, X_min=1.425e+04, X_max=1.010e+10, Δw=4.224e-03, ΔP=6.541e-03\n",
      "Iter 6: w_min=9.535e-01, w_max=1.037e+00, X_min=1.424e+04, X_max=1.012e+10, Δw=3.325e-03, ΔP=4.700e-03\n",
      "Iter 7: w_min=9.532e-01, w_max=1.040e+00, X_min=1.424e+04, X_max=1.014e+10, Δw=2.624e-03, ΔP=3.453e-03\n",
      "Iter 8: w_min=9.532e-01, w_max=1.042e+00, X_min=1.424e+04, X_max=1.015e+10, Δw=2.081e-03, ΔP=2.718e-03\n",
      "Iter 9: w_min=9.533e-01, w_max=1.044e+00, X_min=1.424e+04, X_max=1.016e+10, Δw=1.660e-03, ΔP=2.146e-03\n",
      "Iter 10: w_min=9.532e-01, w_max=1.045e+00, X_min=1.424e+04, X_max=1.017e+10, Δw=1.332e-03, ΔP=1.704e-03\n",
      "Iter 11: w_min=9.531e-01, w_max=1.046e+00, X_min=1.424e+04, X_max=1.018e+10, Δw=1.074e-03, ΔP=1.362e-03\n",
      "Iter 12: w_min=9.529e-01, w_max=1.047e+00, X_min=1.424e+04, X_max=1.018e+10, Δw=8.690e-04, ΔP=1.094e-03\n",
      "Iter 13: w_min=9.528e-01, w_max=1.047e+00, X_min=1.424e+04, X_max=1.019e+10, Δw=7.049e-04, ΔP=8.835e-04\n",
      "Iter 14: w_min=9.526e-01, w_max=1.048e+00, X_min=1.424e+04, X_max=1.019e+10, Δw=5.728e-04, ΔP=7.155e-04\n",
      "Iter 15: w_min=9.525e-01, w_max=1.049e+00, X_min=1.424e+04, X_max=1.020e+10, Δw=4.660e-04, ΔP=5.807e-04\n",
      "Iter 16: w_min=9.524e-01, w_max=1.049e+00, X_min=1.424e+04, X_max=1.020e+10, Δw=3.794e-04, ΔP=4.721e-04\n",
      "Iter 17: w_min=9.524e-01, w_max=1.049e+00, X_min=1.424e+04, X_max=1.020e+10, Δw=3.091e-04, ΔP=3.841e-04\n",
      "Iter 18: w_min=9.523e-01, w_max=1.049e+00, X_min=1.424e+04, X_max=1.020e+10, Δw=2.521e-04, ΔP=3.129e-04\n",
      "Iter 19: w_min=9.523e-01, w_max=1.050e+00, X_min=1.424e+04, X_max=1.020e+10, Δw=2.058e-04, ΔP=2.550e-04\n",
      "Iter 20: w_min=9.523e-01, w_max=1.050e+00, X_min=1.424e+04, X_max=1.021e+10, Δw=1.681e-04, ΔP=2.081e-04\n",
      "Iter 21: w_min=9.523e-01, w_max=1.050e+00, X_min=1.424e+04, X_max=1.021e+10, Δw=1.375e-04, ΔP=1.700e-04\n",
      "Iter 22: w_min=9.522e-01, w_max=1.050e+00, X_min=1.424e+04, X_max=1.021e+10, Δw=1.126e-04, ΔP=1.390e-04\n",
      "Iter 23: w_min=9.522e-01, w_max=1.050e+00, X_min=1.424e+04, X_max=1.021e+10, Δw=9.224e-05, ΔP=1.137e-04\n",
      "Iter 24: w_min=9.522e-01, w_max=1.050e+00, X_min=1.424e+04, X_max=1.021e+10, Δw=7.566e-05, ΔP=1.069e-04\n",
      "Iter 25: w_min=9.522e-01, w_max=1.050e+00, X_min=1.424e+04, X_max=1.021e+10, Δw=6.211e-05, ΔP=1.062e-04\n",
      "Iter 26: w_min=9.522e-01, w_max=1.050e+00, X_min=1.424e+04, X_max=1.021e+10, Δw=5.103e-05, ΔP=1.055e-04\n",
      "Iter 27: w_min=9.522e-01, w_max=1.050e+00, X_min=1.424e+04, X_max=1.021e+10, Δw=4.195e-05, ΔP=1.047e-04\n",
      "Iter 28: w_min=9.522e-01, w_max=1.050e+00, X_min=1.424e+04, X_max=1.021e+10, Δw=3.450e-05, ΔP=1.040e-04\n",
      "Iter 29: w_min=9.522e-01, w_max=1.050e+00, X_min=1.424e+04, X_max=1.021e+10, Δw=2.840e-05, ΔP=1.032e-04\n",
      "Iter 30: w_min=9.522e-01, w_max=1.051e+00, X_min=1.424e+04, X_max=1.021e+10, Δw=2.338e-05, ΔP=1.024e-04\n",
      "Iter 31: w_min=9.522e-01, w_max=1.051e+00, X_min=1.424e+04, X_max=1.021e+10, Δw=1.925e-05, ΔP=1.016e-04\n",
      "Iter 32: w_min=9.522e-01, w_max=1.051e+00, X_min=1.424e+04, X_max=1.021e+10, Δw=1.595e-05, ΔP=1.008e-04\n",
      "Iter 33: w_min=9.522e-01, w_max=1.051e+00, X_min=1.424e+04, X_max=1.021e+10, Δw=1.323e-05, ΔP=1.000e-04\n",
      "Iter 34: w_min=9.522e-01, w_max=1.051e+00, X_min=1.424e+04, X_max=1.021e+10, Δw=1.098e-05, ΔP=9.920e-05\n",
      "Iter 35: w_min=9.522e-01, w_max=1.051e+00, X_min=1.424e+04, X_max=1.021e+10, Δw=9.103e-06, ΔP=9.841e-05\n",
      "Iter 36: w_min=9.522e-01, w_max=1.051e+00, X_min=1.424e+04, X_max=1.021e+10, Δw=7.548e-06, ΔP=9.761e-05\n",
      "Iter 37: w_min=9.522e-01, w_max=1.051e+00, X_min=1.424e+04, X_max=1.021e+10, Δw=6.257e-06, ΔP=9.682e-05\n",
      "Iter 38: w_min=9.522e-01, w_max=1.051e+00, X_min=1.424e+04, X_max=1.021e+10, Δw=5.186e-06, ΔP=9.603e-05\n",
      "Iter 39: w_min=9.522e-01, w_max=1.051e+00, X_min=1.424e+04, X_max=1.021e+10, Δw=4.298e-06, ΔP=9.525e-05\n",
      "Iter 40: w_min=9.522e-01, w_max=1.051e+00, X_min=1.424e+04, X_max=1.021e+10, Δw=3.561e-06, ΔP=9.447e-05\n",
      "Iter 41: w_min=9.522e-01, w_max=1.051e+00, X_min=1.424e+04, X_max=1.021e+10, Δw=2.950e-06, ΔP=9.370e-05\n",
      "Iter 42: w_min=9.522e-01, w_max=1.051e+00, X_min=1.424e+04, X_max=1.021e+10, Δw=2.444e-06, ΔP=9.294e-05\n",
      "Iter 43: w_min=9.522e-01, w_max=1.051e+00, X_min=1.424e+04, X_max=1.021e+10, Δw=2.024e-06, ΔP=9.217e-05\n",
      "Iter 44: w_min=9.522e-01, w_max=1.051e+00, X_min=1.424e+04, X_max=1.021e+10, Δw=1.677e-06, ΔP=9.142e-05\n",
      "Iter 45: w_min=9.522e-01, w_max=1.051e+00, X_min=1.424e+04, X_max=1.021e+10, Δw=1.389e-06, ΔP=9.067e-05\n",
      "Iter 46: w_min=9.522e-01, w_max=1.051e+00, X_min=1.424e+04, X_max=1.021e+10, Δw=1.150e-06, ΔP=8.992e-05\n",
      "Iter 47: w_min=9.522e-01, w_max=1.051e+00, X_min=1.424e+04, X_max=1.021e+10, Δw=9.522e-07, ΔP=8.919e-05\n"
     ]
    }
   ],
   "source": [
    "solver = ModelSolver(model1)\n",
    "solver.solve()"
   ]
  },
  {
   "cell_type": "markdown",
   "metadata": {},
   "source": [
    "## 1.3 counterfactual: US imposes 20% tariff rate to ALL countries steel sector"
   ]
  },
  {
   "cell_type": "code",
   "execution_count": 20,
   "metadata": {},
   "outputs": [],
   "source": [
    "target_importers = ['USA']  # one or multiple\n",
    "target_sectors = [\"Metal Products\"]\n",
    "country_list = params.country_list.tolist()\n",
    "sector_list = params.sector_list.tolist()\n",
    "tilde_tau = params.tilde_tau.copy()\n",
    "target_importers_index = [country_list.index(importer) for importer in target_importers]  \n",
    "\n",
    "tilde_tau_1 = tilde_tau.copy()\n",
    "\n",
    "for importer_index in target_importers_index:\n",
    "    for exporter_index in range(len(country_list)):\n",
    "        for sector_index in range(len(target_sectors)):\n",
    "            if importer_index != exporter_index:\n",
    "                tilde_tau_1[importer_index, exporter_index, sector_index] += 0.2\n",
    "\n",
    "data_file_name = \"data/data_2017.npz\"\n",
    "params = ModelParams.load_from_npz(data_file_name)\n",
    "params.gamma = np.swapaxes(params.gamma, 1, 2)\n",
    "params.tilde_tau = tilde_tau_1\n",
    "model2 = Model(params)"
   ]
  },
  {
   "cell_type": "code",
   "execution_count": 21,
   "metadata": {},
   "outputs": [
    {
     "name": "stdout",
     "output_type": "stream",
     "text": [
      "Iter 1: w_min=9.834e-01, w_max=1.009e+00, X_min=1.435e+04, X_max=9.940e+09, Δw=1.661e-02, ΔP=2.220e-16\n",
      "Iter 2: w_min=9.712e-01, w_max=1.018e+00, X_min=1.432e+04, X_max=1.000e+10, Δw=1.269e-02, ΔP=1.323e-02\n",
      "Iter 3: w_min=9.628e-01, w_max=1.024e+00, X_min=1.429e+04, X_max=1.004e+10, Δw=8.897e-03, ΔP=1.079e-02\n",
      "Iter 4: w_min=9.574e-01, w_max=1.030e+00, X_min=1.427e+04, X_max=1.008e+10, Δw=5.438e-03, ΔP=8.426e-03\n",
      "Iter 5: w_min=9.546e-01, w_max=1.034e+00, X_min=1.425e+04, X_max=1.010e+10, Δw=4.236e-03, ΔP=6.550e-03\n",
      "Iter 6: w_min=9.535e-01, w_max=1.037e+00, X_min=1.424e+04, X_max=1.012e+10, Δw=3.335e-03, ΔP=4.708e-03\n",
      "Iter 7: w_min=9.532e-01, w_max=1.040e+00, X_min=1.424e+04, X_max=1.014e+10, Δw=2.632e-03, ΔP=3.463e-03\n",
      "Iter 8: w_min=9.532e-01, w_max=1.042e+00, X_min=1.424e+04, X_max=1.015e+10, Δw=2.087e-03, ΔP=2.726e-03\n",
      "Iter 9: w_min=9.532e-01, w_max=1.044e+00, X_min=1.424e+04, X_max=1.016e+10, Δw=1.665e-03, ΔP=2.153e-03\n",
      "Iter 10: w_min=9.532e-01, w_max=1.045e+00, X_min=1.424e+04, X_max=1.017e+10, Δw=1.337e-03, ΔP=1.710e-03\n",
      "Iter 11: w_min=9.530e-01, w_max=1.046e+00, X_min=1.424e+04, X_max=1.018e+10, Δw=1.078e-03, ΔP=1.366e-03\n",
      "Iter 12: w_min=9.529e-01, w_max=1.047e+00, X_min=1.424e+04, X_max=1.019e+10, Δw=8.723e-04, ΔP=1.098e-03\n",
      "Iter 13: w_min=9.527e-01, w_max=1.048e+00, X_min=1.424e+04, X_max=1.019e+10, Δw=7.077e-04, ΔP=8.867e-04\n",
      "Iter 14: w_min=9.525e-01, w_max=1.048e+00, X_min=1.424e+04, X_max=1.020e+10, Δw=5.751e-04, ΔP=7.182e-04\n",
      "Iter 15: w_min=9.524e-01, w_max=1.049e+00, X_min=1.424e+04, X_max=1.020e+10, Δw=4.679e-04, ΔP=5.830e-04\n",
      "Iter 16: w_min=9.523e-01, w_max=1.049e+00, X_min=1.424e+04, X_max=1.020e+10, Δw=3.810e-04, ΔP=4.740e-04\n",
      "Iter 17: w_min=9.523e-01, w_max=1.049e+00, X_min=1.424e+04, X_max=1.020e+10, Δw=3.105e-04, ΔP=3.857e-04\n",
      "Iter 18: w_min=9.522e-01, w_max=1.050e+00, X_min=1.424e+04, X_max=1.021e+10, Δw=2.532e-04, ΔP=3.142e-04\n",
      "Iter 19: w_min=9.522e-01, w_max=1.050e+00, X_min=1.424e+04, X_max=1.021e+10, Δw=2.067e-04, ΔP=2.562e-04\n",
      "Iter 20: w_min=9.522e-01, w_max=1.050e+00, X_min=1.424e+04, X_max=1.021e+10, Δw=1.689e-04, ΔP=2.090e-04\n",
      "Iter 21: w_min=9.522e-01, w_max=1.050e+00, X_min=1.424e+04, X_max=1.021e+10, Δw=1.382e-04, ΔP=1.708e-04\n",
      "Iter 22: w_min=9.522e-01, w_max=1.050e+00, X_min=1.424e+04, X_max=1.021e+10, Δw=1.131e-04, ΔP=1.396e-04\n",
      "Iter 23: w_min=9.522e-01, w_max=1.050e+00, X_min=1.424e+04, X_max=1.021e+10, Δw=9.271e-05, ΔP=1.143e-04\n",
      "Iter 24: w_min=9.521e-01, w_max=1.050e+00, X_min=1.424e+04, X_max=1.021e+10, Δw=7.605e-05, ΔP=1.073e-04\n",
      "Iter 25: w_min=9.521e-01, w_max=1.050e+00, X_min=1.424e+04, X_max=1.021e+10, Δw=6.244e-05, ΔP=1.066e-04\n",
      "Iter 26: w_min=9.521e-01, w_max=1.051e+00, X_min=1.424e+04, X_max=1.021e+10, Δw=5.130e-05, ΔP=1.059e-04\n",
      "Iter 27: w_min=9.521e-01, w_max=1.051e+00, X_min=1.424e+04, X_max=1.021e+10, Δw=4.218e-05, ΔP=1.051e-04\n",
      "Iter 28: w_min=9.521e-01, w_max=1.051e+00, X_min=1.424e+04, X_max=1.021e+10, Δw=3.470e-05, ΔP=1.043e-04\n",
      "Iter 29: w_min=9.521e-01, w_max=1.051e+00, X_min=1.424e+04, X_max=1.021e+10, Δw=2.856e-05, ΔP=1.036e-04\n",
      "Iter 30: w_min=9.521e-01, w_max=1.051e+00, X_min=1.424e+04, X_max=1.021e+10, Δw=2.351e-05, ΔP=1.028e-04\n",
      "Iter 31: w_min=9.521e-01, w_max=1.051e+00, X_min=1.424e+04, X_max=1.021e+10, Δw=1.937e-05, ΔP=1.020e-04\n",
      "Iter 32: w_min=9.521e-01, w_max=1.051e+00, X_min=1.424e+04, X_max=1.021e+10, Δw=1.601e-05, ΔP=1.012e-04\n",
      "Iter 33: w_min=9.521e-01, w_max=1.051e+00, X_min=1.424e+04, X_max=1.021e+10, Δw=1.329e-05, ΔP=1.004e-04\n",
      "Iter 34: w_min=9.521e-01, w_max=1.051e+00, X_min=1.424e+04, X_max=1.021e+10, Δw=1.102e-05, ΔP=9.956e-05\n",
      "Iter 35: w_min=9.521e-01, w_max=1.051e+00, X_min=1.424e+04, X_max=1.021e+10, Δw=9.142e-06, ΔP=9.876e-05\n",
      "Iter 36: w_min=9.521e-01, w_max=1.051e+00, X_min=1.424e+04, X_max=1.021e+10, Δw=7.581e-06, ΔP=9.797e-05\n",
      "Iter 37: w_min=9.521e-01, w_max=1.051e+00, X_min=1.424e+04, X_max=1.021e+10, Δw=6.285e-06, ΔP=9.717e-05\n",
      "Iter 38: w_min=9.521e-01, w_max=1.051e+00, X_min=1.424e+04, X_max=1.021e+10, Δw=5.209e-06, ΔP=9.638e-05\n",
      "Iter 39: w_min=9.521e-01, w_max=1.051e+00, X_min=1.424e+04, X_max=1.021e+10, Δw=4.317e-06, ΔP=9.560e-05\n",
      "Iter 40: w_min=9.521e-01, w_max=1.051e+00, X_min=1.424e+04, X_max=1.021e+10, Δw=3.578e-06, ΔP=9.482e-05\n",
      "Iter 41: w_min=9.521e-01, w_max=1.051e+00, X_min=1.424e+04, X_max=1.021e+10, Δw=2.964e-06, ΔP=9.404e-05\n",
      "Iter 42: w_min=9.521e-01, w_max=1.051e+00, X_min=1.424e+04, X_max=1.021e+10, Δw=2.456e-06, ΔP=9.327e-05\n",
      "Iter 43: w_min=9.521e-01, w_max=1.051e+00, X_min=1.424e+04, X_max=1.021e+10, Δw=2.034e-06, ΔP=9.251e-05\n",
      "Iter 44: w_min=9.521e-01, w_max=1.051e+00, X_min=1.424e+04, X_max=1.021e+10, Δw=1.685e-06, ΔP=9.175e-05\n",
      "Iter 45: w_min=9.521e-01, w_max=1.051e+00, X_min=1.424e+04, X_max=1.021e+10, Δw=1.396e-06, ΔP=9.099e-05\n",
      "Iter 46: w_min=9.521e-01, w_max=1.051e+00, X_min=1.424e+04, X_max=1.021e+10, Δw=1.156e-06, ΔP=9.025e-05\n",
      "Iter 47: w_min=9.521e-01, w_max=1.051e+00, X_min=1.424e+04, X_max=1.021e+10, Δw=9.572e-07, ΔP=8.951e-05\n"
     ]
    }
   ],
   "source": [
    "solver = ModelSolver(model2)\n",
    "solver.solve()"
   ]
  },
  {
   "cell_type": "markdown",
   "metadata": {},
   "source": [
    "# 2. Model with half trade elasticity\n",
    "\n",
    "## 2.1 baseline"
   ]
  },
  {
   "cell_type": "code",
   "execution_count": 22,
   "metadata": {},
   "outputs": [],
   "source": [
    "data_file_name = \"data/data_2017.npz\"\n",
    "params = ModelParams.load_from_npz(data_file_name)\n",
    "params.gamma = np.swapaxes(params.gamma, 1, 2)\n",
    "params.theta /= 2\n",
    "model3 = Model(params)\n",
    "shocks = model2.shocks"
   ]
  },
  {
   "cell_type": "code",
   "execution_count": 23,
   "metadata": {},
   "outputs": [
    {
     "name": "stdout",
     "output_type": "stream",
     "text": [
      "Iter 1: w_min=9.848e-01, w_max=1.007e+00, X_min=1.438e+04, X_max=9.825e+09, Δw=1.524e-02, ΔP=3.331e-16\n",
      "Iter 2: w_min=9.714e-01, w_max=1.014e+00, X_min=1.435e+04, X_max=9.880e+09, Δw=1.337e-02, ΔP=1.217e-02\n",
      "Iter 3: w_min=9.604e-01, w_max=1.020e+00, X_min=1.433e+04, X_max=9.928e+09, Δw=1.101e-02, ΔP=1.092e-02\n",
      "Iter 4: w_min=9.517e-01, w_max=1.025e+00, X_min=1.431e+04, X_max=9.970e+09, Δw=8.697e-03, ΔP=9.352e-03\n",
      "Iter 5: w_min=9.450e-01, w_max=1.030e+00, X_min=1.429e+04, X_max=1.001e+10, Δw=6.674e-03, ΔP=8.370e-03\n",
      "Iter 6: w_min=9.400e-01, w_max=1.034e+00, X_min=1.427e+04, X_max=1.004e+10, Δw=5.262e-03, ΔP=7.041e-03\n",
      "Iter 7: w_min=9.362e-01, w_max=1.038e+00, X_min=1.426e+04, X_max=1.007e+10, Δw=4.275e-03, ΔP=5.695e-03\n",
      "Iter 8: w_min=9.335e-01, w_max=1.041e+00, X_min=1.424e+04, X_max=1.009e+10, Δw=3.471e-03, ΔP=4.613e-03\n",
      "Iter 9: w_min=9.314e-01, w_max=1.044e+00, X_min=1.423e+04, X_max=1.012e+10, Δw=2.931e-03, ΔP=3.831e-03\n",
      "Iter 10: w_min=9.298e-01, w_max=1.047e+00, X_min=1.422e+04, X_max=1.014e+10, Δw=2.597e-03, ΔP=3.165e-03\n",
      "Iter 11: w_min=9.285e-01, w_max=1.049e+00, X_min=1.421e+04, X_max=1.015e+10, Δw=2.303e-03, ΔP=2.611e-03\n",
      "Iter 12: w_min=9.275e-01, w_max=1.051e+00, X_min=1.421e+04, X_max=1.017e+10, Δw=2.044e-03, ΔP=2.262e-03\n",
      "Iter 13: w_min=9.267e-01, w_max=1.053e+00, X_min=1.420e+04, X_max=1.018e+10, Δw=1.816e-03, ΔP=2.007e-03\n",
      "Iter 14: w_min=9.260e-01, w_max=1.055e+00, X_min=1.420e+04, X_max=1.020e+10, Δw=1.615e-03, ΔP=1.782e-03\n",
      "Iter 15: w_min=9.254e-01, w_max=1.056e+00, X_min=1.419e+04, X_max=1.021e+10, Δw=1.438e-03, ΔP=1.585e-03\n",
      "Iter 16: w_min=9.249e-01, w_max=1.057e+00, X_min=1.419e+04, X_max=1.022e+10, Δw=1.281e-03, ΔP=1.410e-03\n",
      "Iter 17: w_min=9.244e-01, w_max=1.058e+00, X_min=1.418e+04, X_max=1.023e+10, Δw=1.142e-03, ΔP=1.256e-03\n",
      "Iter 18: w_min=9.240e-01, w_max=1.059e+00, X_min=1.418e+04, X_max=1.024e+10, Δw=1.018e-03, ΔP=1.120e-03\n",
      "Iter 19: w_min=9.237e-01, w_max=1.060e+00, X_min=1.418e+04, X_max=1.024e+10, Δw=9.090e-04, ΔP=9.986e-04\n",
      "Iter 20: w_min=9.234e-01, w_max=1.061e+00, X_min=1.418e+04, X_max=1.025e+10, Δw=8.118e-04, ΔP=8.913e-04\n",
      "Iter 21: w_min=9.231e-01, w_max=1.062e+00, X_min=1.418e+04, X_max=1.025e+10, Δw=7.254e-04, ΔP=7.959e-04\n",
      "Iter 22: w_min=9.229e-01, w_max=1.063e+00, X_min=1.417e+04, X_max=1.026e+10, Δw=6.484e-04, ΔP=7.111e-04\n",
      "Iter 23: w_min=9.226e-01, w_max=1.063e+00, X_min=1.417e+04, X_max=1.026e+10, Δw=5.799e-04, ΔP=6.356e-04\n",
      "Iter 24: w_min=9.225e-01, w_max=1.064e+00, X_min=1.417e+04, X_max=1.027e+10, Δw=5.188e-04, ΔP=5.684e-04\n",
      "Iter 25: w_min=9.223e-01, w_max=1.064e+00, X_min=1.417e+04, X_max=1.027e+10, Δw=4.643e-04, ΔP=5.085e-04\n",
      "Iter 26: w_min=9.222e-01, w_max=1.065e+00, X_min=1.417e+04, X_max=1.028e+10, Δw=4.156e-04, ΔP=4.551e-04\n",
      "Iter 27: w_min=9.220e-01, w_max=1.065e+00, X_min=1.417e+04, X_max=1.028e+10, Δw=3.722e-04, ΔP=4.074e-04\n",
      "Iter 28: w_min=9.219e-01, w_max=1.065e+00, X_min=1.417e+04, X_max=1.028e+10, Δw=3.334e-04, ΔP=3.649e-04\n",
      "Iter 29: w_min=9.218e-01, w_max=1.066e+00, X_min=1.417e+04, X_max=1.028e+10, Δw=2.988e-04, ΔP=3.269e-04\n",
      "Iter 30: w_min=9.218e-01, w_max=1.066e+00, X_min=1.417e+04, X_max=1.029e+10, Δw=2.678e-04, ΔP=2.929e-04\n",
      "Iter 31: w_min=9.217e-01, w_max=1.066e+00, X_min=1.417e+04, X_max=1.029e+10, Δw=2.401e-04, ΔP=2.625e-04\n",
      "Iter 32: w_min=9.216e-01, w_max=1.066e+00, X_min=1.417e+04, X_max=1.029e+10, Δw=2.153e-04, ΔP=2.354e-04\n",
      "Iter 33: w_min=9.216e-01, w_max=1.066e+00, X_min=1.417e+04, X_max=1.029e+10, Δw=1.931e-04, ΔP=2.111e-04\n",
      "Iter 34: w_min=9.215e-01, w_max=1.067e+00, X_min=1.417e+04, X_max=1.029e+10, Δw=1.733e-04, ΔP=1.893e-04\n",
      "Iter 35: w_min=9.215e-01, w_max=1.067e+00, X_min=1.417e+04, X_max=1.029e+10, Δw=1.555e-04, ΔP=1.699e-04\n",
      "Iter 36: w_min=9.214e-01, w_max=1.067e+00, X_min=1.417e+04, X_max=1.029e+10, Δw=1.396e-04, ΔP=1.524e-04\n",
      "Iter 37: w_min=9.214e-01, w_max=1.067e+00, X_min=1.417e+04, X_max=1.030e+10, Δw=1.253e-04, ΔP=1.421e-04\n",
      "Iter 38: w_min=9.214e-01, w_max=1.067e+00, X_min=1.416e+04, X_max=1.030e+10, Δw=1.125e-04, ΔP=1.413e-04\n",
      "Iter 39: w_min=9.213e-01, w_max=1.067e+00, X_min=1.416e+04, X_max=1.030e+10, Δw=1.011e-04, ΔP=1.404e-04\n",
      "Iter 40: w_min=9.213e-01, w_max=1.067e+00, X_min=1.416e+04, X_max=1.030e+10, Δw=9.078e-05, ΔP=1.395e-04\n",
      "Iter 41: w_min=9.213e-01, w_max=1.067e+00, X_min=1.416e+04, X_max=1.030e+10, Δw=8.156e-05, ΔP=1.386e-04\n",
      "Iter 42: w_min=9.213e-01, w_max=1.067e+00, X_min=1.416e+04, X_max=1.030e+10, Δw=7.329e-05, ΔP=1.376e-04\n",
      "Iter 43: w_min=9.213e-01, w_max=1.068e+00, X_min=1.416e+04, X_max=1.030e+10, Δw=6.587e-05, ΔP=1.367e-04\n",
      "Iter 44: w_min=9.213e-01, w_max=1.068e+00, X_min=1.416e+04, X_max=1.030e+10, Δw=5.921e-05, ΔP=1.357e-04\n",
      "Iter 45: w_min=9.212e-01, w_max=1.068e+00, X_min=1.416e+04, X_max=1.030e+10, Δw=5.323e-05, ΔP=1.348e-04\n",
      "Iter 46: w_min=9.212e-01, w_max=1.068e+00, X_min=1.416e+04, X_max=1.030e+10, Δw=4.787e-05, ΔP=1.338e-04\n",
      "Iter 47: w_min=9.212e-01, w_max=1.068e+00, X_min=1.416e+04, X_max=1.030e+10, Δw=4.305e-05, ΔP=1.328e-04\n",
      "Iter 48: w_min=9.212e-01, w_max=1.068e+00, X_min=1.416e+04, X_max=1.030e+10, Δw=3.873e-05, ΔP=1.318e-04\n",
      "Iter 49: w_min=9.212e-01, w_max=1.068e+00, X_min=1.416e+04, X_max=1.030e+10, Δw=3.493e-05, ΔP=1.308e-04\n",
      "Iter 50: w_min=9.212e-01, w_max=1.068e+00, X_min=1.416e+04, X_max=1.030e+10, Δw=3.151e-05, ΔP=1.298e-04\n",
      "Iter 51: w_min=9.212e-01, w_max=1.068e+00, X_min=1.416e+04, X_max=1.030e+10, Δw=2.843e-05, ΔP=1.288e-04\n",
      "Iter 52: w_min=9.212e-01, w_max=1.068e+00, X_min=1.416e+04, X_max=1.030e+10, Δw=2.564e-05, ΔP=1.278e-04\n",
      "Iter 53: w_min=9.212e-01, w_max=1.068e+00, X_min=1.416e+04, X_max=1.030e+10, Δw=2.313e-05, ΔP=1.268e-04\n",
      "Iter 54: w_min=9.212e-01, w_max=1.068e+00, X_min=1.416e+04, X_max=1.030e+10, Δw=2.087e-05, ΔP=1.258e-04\n",
      "Iter 55: w_min=9.212e-01, w_max=1.068e+00, X_min=1.416e+04, X_max=1.030e+10, Δw=1.883e-05, ΔP=1.249e-04\n",
      "Iter 56: w_min=9.212e-01, w_max=1.068e+00, X_min=1.416e+04, X_max=1.030e+10, Δw=1.699e-05, ΔP=1.239e-04\n",
      "Iter 57: w_min=9.212e-01, w_max=1.068e+00, X_min=1.416e+04, X_max=1.030e+10, Δw=1.533e-05, ΔP=1.229e-04\n",
      "Iter 58: w_min=9.212e-01, w_max=1.068e+00, X_min=1.416e+04, X_max=1.030e+10, Δw=1.384e-05, ΔP=1.219e-04\n",
      "Iter 59: w_min=9.212e-01, w_max=1.068e+00, X_min=1.416e+04, X_max=1.030e+10, Δw=1.249e-05, ΔP=1.209e-04\n",
      "Iter 60: w_min=9.212e-01, w_max=1.068e+00, X_min=1.416e+04, X_max=1.030e+10, Δw=1.127e-05, ΔP=1.200e-04\n",
      "Iter 61: w_min=9.212e-01, w_max=1.068e+00, X_min=1.416e+04, X_max=1.030e+10, Δw=1.017e-05, ΔP=1.190e-04\n",
      "Iter 62: w_min=9.212e-01, w_max=1.068e+00, X_min=1.416e+04, X_max=1.030e+10, Δw=9.181e-06, ΔP=1.181e-04\n",
      "Iter 63: w_min=9.212e-01, w_max=1.068e+00, X_min=1.416e+04, X_max=1.030e+10, Δw=8.286e-06, ΔP=1.171e-04\n",
      "Iter 64: w_min=9.212e-01, w_max=1.068e+00, X_min=1.416e+04, X_max=1.030e+10, Δw=7.480e-06, ΔP=1.162e-04\n",
      "Iter 65: w_min=9.212e-01, w_max=1.068e+00, X_min=1.416e+04, X_max=1.030e+10, Δw=6.751e-06, ΔP=1.152e-04\n",
      "Iter 66: w_min=9.212e-01, w_max=1.068e+00, X_min=1.416e+04, X_max=1.030e+10, Δw=6.094e-06, ΔP=1.143e-04\n",
      "Iter 67: w_min=9.212e-01, w_max=1.068e+00, X_min=1.416e+04, X_max=1.030e+10, Δw=5.513e-06, ΔP=1.134e-04\n",
      "Iter 68: w_min=9.212e-01, w_max=1.068e+00, X_min=1.416e+04, X_max=1.030e+10, Δw=4.999e-06, ΔP=1.125e-04\n",
      "Iter 69: w_min=9.212e-01, w_max=1.068e+00, X_min=1.416e+04, X_max=1.030e+10, Δw=4.533e-06, ΔP=1.116e-04\n",
      "Iter 70: w_min=9.212e-01, w_max=1.068e+00, X_min=1.416e+04, X_max=1.030e+10, Δw=4.109e-06, ΔP=1.107e-04\n",
      "Iter 71: w_min=9.212e-01, w_max=1.068e+00, X_min=1.416e+04, X_max=1.030e+10, Δw=3.725e-06, ΔP=1.098e-04\n",
      "Iter 72: w_min=9.212e-01, w_max=1.068e+00, X_min=1.416e+04, X_max=1.030e+10, Δw=3.377e-06, ΔP=1.089e-04\n",
      "Iter 73: w_min=9.212e-01, w_max=1.068e+00, X_min=1.416e+04, X_max=1.030e+10, Δw=3.061e-06, ΔP=1.080e-04\n",
      "Iter 74: w_min=9.212e-01, w_max=1.068e+00, X_min=1.416e+04, X_max=1.030e+10, Δw=2.774e-06, ΔP=1.071e-04\n",
      "Iter 75: w_min=9.212e-01, w_max=1.068e+00, X_min=1.416e+04, X_max=1.030e+10, Δw=2.515e-06, ΔP=1.063e-04\n",
      "Iter 76: w_min=9.212e-01, w_max=1.068e+00, X_min=1.416e+04, X_max=1.030e+10, Δw=2.279e-06, ΔP=1.054e-04\n",
      "Iter 77: w_min=9.212e-01, w_max=1.068e+00, X_min=1.416e+04, X_max=1.030e+10, Δw=2.065e-06, ΔP=1.045e-04\n",
      "Iter 78: w_min=9.212e-01, w_max=1.068e+00, X_min=1.416e+04, X_max=1.030e+10, Δw=1.871e-06, ΔP=1.037e-04\n",
      "Iter 79: w_min=9.212e-01, w_max=1.068e+00, X_min=1.416e+04, X_max=1.030e+10, Δw=1.696e-06, ΔP=1.028e-04\n",
      "Iter 80: w_min=9.212e-01, w_max=1.068e+00, X_min=1.416e+04, X_max=1.030e+10, Δw=1.536e-06, ΔP=1.020e-04\n",
      "Iter 81: w_min=9.212e-01, w_max=1.068e+00, X_min=1.416e+04, X_max=1.030e+10, Δw=1.392e-06, ΔP=1.012e-04\n",
      "Iter 82: w_min=9.212e-01, w_max=1.068e+00, X_min=1.416e+04, X_max=1.030e+10, Δw=1.261e-06, ΔP=1.004e-04\n",
      "Iter 83: w_min=9.212e-01, w_max=1.068e+00, X_min=1.416e+04, X_max=1.030e+10, Δw=1.142e-06, ΔP=9.955e-05\n",
      "Iter 84: w_min=9.212e-01, w_max=1.068e+00, X_min=1.416e+04, X_max=1.030e+10, Δw=1.035e-06, ΔP=9.874e-05\n",
      "Iter 85: w_min=9.212e-01, w_max=1.068e+00, X_min=1.416e+04, X_max=1.030e+10, Δw=9.376e-07, ΔP=9.794e-05\n"
     ]
    }
   ],
   "source": [
    "solver = ModelSolver(model3)\n",
    "solver.solve()"
   ]
  },
  {
   "cell_type": "markdown",
   "metadata": {},
   "source": [
    "## 2.2 counterfactual: US imposes 20% tariff rate to ALL countries ALL sectors"
   ]
  },
  {
   "cell_type": "code",
   "execution_count": 24,
   "metadata": {},
   "outputs": [],
   "source": [
    "target_importers = ['USA']  # one or multiple\n",
    "country_list = params.country_list.tolist()\n",
    "sector_list = params.sector_list.tolist()\n",
    "tilde_tau = params.tilde_tau.copy()\n",
    "target_importers_index = [country_list.index(importer) for importer in target_importers]  \n",
    "\n",
    "tilde_tau_1 = tilde_tau.copy()\n",
    "\n",
    "for importer_index in target_importers_index:\n",
    "    for exporter_index in range(len(country_list)):\n",
    "        for sector_index in range(len(sector_list)):\n",
    "            if importer_index != exporter_index:\n",
    "                tilde_tau_1[importer_index, exporter_index, sector_index] += 0.2\n",
    "\n",
    "data_file_name = \"data/data_2017.npz\"\n",
    "params = ModelParams.load_from_npz(data_file_name)\n",
    "params.gamma = np.swapaxes(params.gamma, 1, 2)\n",
    "params.theta /= 2\n",
    "params.tilde_tau = tilde_tau_1\n",
    "model4 = Model(params)"
   ]
  },
  {
   "cell_type": "code",
   "execution_count": 25,
   "metadata": {},
   "outputs": [
    {
     "name": "stdout",
     "output_type": "stream",
     "text": [
      "Iter 1: w_min=9.835e-01, w_max=1.009e+00, X_min=1.435e+04, X_max=9.938e+09, Δw=1.654e-02, ΔP=3.331e-16\n",
      "Iter 2: w_min=9.696e-01, w_max=1.018e+00, X_min=1.432e+04, X_max=1.001e+10, Δw=1.388e-02, ΔP=1.304e-02\n",
      "Iter 3: w_min=9.587e-01, w_max=1.026e+00, X_min=1.428e+04, X_max=1.007e+10, Δw=1.142e-02, ΔP=1.204e-02\n",
      "Iter 4: w_min=9.502e-01, w_max=1.033e+00, X_min=1.426e+04, X_max=1.013e+10, Δw=9.131e-03, ΔP=1.009e-02\n",
      "Iter 5: w_min=9.430e-01, w_max=1.039e+00, X_min=1.423e+04, X_max=1.018e+10, Δw=7.113e-03, ΔP=8.723e-03\n",
      "Iter 6: w_min=9.376e-01, w_max=1.045e+00, X_min=1.421e+04, X_max=1.022e+10, Δw=5.609e-03, ΔP=7.424e-03\n",
      "Iter 7: w_min=9.334e-01, w_max=1.049e+00, X_min=1.419e+04, X_max=1.026e+10, Δw=4.870e-03, ΔP=6.088e-03\n",
      "Iter 8: w_min=9.303e-01, w_max=1.054e+00, X_min=1.418e+04, X_max=1.029e+10, Δw=4.327e-03, ΔP=4.939e-03\n",
      "Iter 9: w_min=9.279e-01, w_max=1.058e+00, X_min=1.416e+04, X_max=1.032e+10, Δw=3.850e-03, ΔP=4.251e-03\n",
      "Iter 10: w_min=9.260e-01, w_max=1.061e+00, X_min=1.415e+04, X_max=1.035e+10, Δw=3.431e-03, ΔP=3.779e-03\n",
      "Iter 11: w_min=9.244e-01, w_max=1.064e+00, X_min=1.414e+04, X_max=1.037e+10, Δw=3.062e-03, ΔP=3.365e-03\n",
      "Iter 12: w_min=9.232e-01, w_max=1.067e+00, X_min=1.413e+04, X_max=1.040e+10, Δw=2.736e-03, ΔP=3.002e-03\n",
      "Iter 13: w_min=9.221e-01, w_max=1.069e+00, X_min=1.412e+04, X_max=1.042e+10, Δw=2.449e-03, ΔP=2.681e-03\n",
      "Iter 14: w_min=9.212e-01, w_max=1.071e+00, X_min=1.412e+04, X_max=1.043e+10, Δw=2.194e-03, ΔP=2.398e-03\n",
      "Iter 15: w_min=9.204e-01, w_max=1.073e+00, X_min=1.411e+04, X_max=1.045e+10, Δw=1.968e-03, ΔP=2.148e-03\n",
      "Iter 16: w_min=9.197e-01, w_max=1.075e+00, X_min=1.411e+04, X_max=1.046e+10, Δw=1.767e-03, ΔP=1.926e-03\n",
      "Iter 17: w_min=9.191e-01, w_max=1.077e+00, X_min=1.410e+04, X_max=1.048e+10, Δw=1.587e-03, ΔP=1.728e-03\n",
      "Iter 18: w_min=9.186e-01, w_max=1.078e+00, X_min=1.410e+04, X_max=1.049e+10, Δw=1.427e-03, ΔP=1.553e-03\n",
      "Iter 19: w_min=9.181e-01, w_max=1.079e+00, X_min=1.409e+04, X_max=1.050e+10, Δw=1.284e-03, ΔP=1.396e-03\n",
      "Iter 20: w_min=9.177e-01, w_max=1.081e+00, X_min=1.409e+04, X_max=1.051e+10, Δw=1.156e-03, ΔP=1.256e-03\n",
      "Iter 21: w_min=9.173e-01, w_max=1.082e+00, X_min=1.409e+04, X_max=1.052e+10, Δw=1.042e-03, ΔP=1.131e-03\n",
      "Iter 22: w_min=9.170e-01, w_max=1.083e+00, X_min=1.409e+04, X_max=1.052e+10, Δw=9.389e-04, ΔP=1.019e-03\n",
      "Iter 23: w_min=9.167e-01, w_max=1.083e+00, X_min=1.408e+04, X_max=1.053e+10, Δw=8.466e-04, ΔP=9.179e-04\n",
      "Iter 24: w_min=9.164e-01, w_max=1.084e+00, X_min=1.408e+04, X_max=1.054e+10, Δw=7.637e-04, ΔP=8.276e-04\n",
      "Iter 25: w_min=9.162e-01, w_max=1.085e+00, X_min=1.408e+04, X_max=1.054e+10, Δw=6.892e-04, ΔP=7.465e-04\n",
      "Iter 26: w_min=9.160e-01, w_max=1.086e+00, X_min=1.408e+04, X_max=1.055e+10, Δw=6.221e-04, ΔP=6.736e-04\n",
      "Iter 27: w_min=9.158e-01, w_max=1.086e+00, X_min=1.408e+04, X_max=1.055e+10, Δw=5.617e-04, ΔP=6.080e-04\n",
      "Iter 28: w_min=9.156e-01, w_max=1.087e+00, X_min=1.408e+04, X_max=1.056e+10, Δw=5.074e-04, ΔP=5.490e-04\n",
      "Iter 29: w_min=9.155e-01, w_max=1.087e+00, X_min=1.408e+04, X_max=1.056e+10, Δw=4.584e-04, ΔP=4.958e-04\n",
      "Iter 30: w_min=9.154e-01, w_max=1.087e+00, X_min=1.407e+04, X_max=1.056e+10, Δw=4.142e-04, ΔP=4.480e-04\n",
      "Iter 31: w_min=9.153e-01, w_max=1.088e+00, X_min=1.407e+04, X_max=1.057e+10, Δw=3.744e-04, ΔP=4.048e-04\n",
      "Iter 32: w_min=9.152e-01, w_max=1.088e+00, X_min=1.407e+04, X_max=1.057e+10, Δw=3.385e-04, ΔP=3.659e-04\n",
      "Iter 33: w_min=9.151e-01, w_max=1.088e+00, X_min=1.407e+04, X_max=1.057e+10, Δw=3.061e-04, ΔP=3.308e-04\n",
      "Iter 34: w_min=9.150e-01, w_max=1.089e+00, X_min=1.407e+04, X_max=1.057e+10, Δw=2.768e-04, ΔP=2.991e-04\n",
      "Iter 35: w_min=9.149e-01, w_max=1.089e+00, X_min=1.407e+04, X_max=1.058e+10, Δw=2.504e-04, ΔP=2.705e-04\n",
      "Iter 36: w_min=9.148e-01, w_max=1.089e+00, X_min=1.407e+04, X_max=1.058e+10, Δw=2.266e-04, ΔP=2.447e-04\n",
      "Iter 37: w_min=9.148e-01, w_max=1.089e+00, X_min=1.407e+04, X_max=1.058e+10, Δw=2.050e-04, ΔP=2.214e-04\n",
      "Iter 38: w_min=9.147e-01, w_max=1.090e+00, X_min=1.407e+04, X_max=1.058e+10, Δw=1.855e-04, ΔP=2.003e-04\n",
      "Iter 39: w_min=9.147e-01, w_max=1.090e+00, X_min=1.407e+04, X_max=1.058e+10, Δw=1.680e-04, ΔP=1.830e-04\n",
      "Iter 40: w_min=9.147e-01, w_max=1.090e+00, X_min=1.407e+04, X_max=1.058e+10, Δw=1.520e-04, ΔP=1.819e-04\n",
      "Iter 41: w_min=9.146e-01, w_max=1.090e+00, X_min=1.407e+04, X_max=1.059e+10, Δw=1.377e-04, ΔP=1.808e-04\n",
      "Iter 42: w_min=9.146e-01, w_max=1.090e+00, X_min=1.407e+04, X_max=1.059e+10, Δw=1.247e-04, ΔP=1.796e-04\n",
      "Iter 43: w_min=9.146e-01, w_max=1.090e+00, X_min=1.407e+04, X_max=1.059e+10, Δw=1.129e-04, ΔP=1.785e-04\n",
      "Iter 44: w_min=9.145e-01, w_max=1.090e+00, X_min=1.407e+04, X_max=1.059e+10, Δw=1.022e-04, ΔP=1.773e-04\n",
      "Iter 45: w_min=9.145e-01, w_max=1.091e+00, X_min=1.407e+04, X_max=1.059e+10, Δw=9.262e-05, ΔP=1.761e-04\n",
      "Iter 46: w_min=9.145e-01, w_max=1.091e+00, X_min=1.407e+04, X_max=1.059e+10, Δw=8.390e-05, ΔP=1.748e-04\n",
      "Iter 47: w_min=9.145e-01, w_max=1.091e+00, X_min=1.407e+04, X_max=1.059e+10, Δw=7.602e-05, ΔP=1.736e-04\n",
      "Iter 48: w_min=9.145e-01, w_max=1.091e+00, X_min=1.407e+04, X_max=1.059e+10, Δw=6.888e-05, ΔP=1.723e-04\n",
      "Iter 49: w_min=9.144e-01, w_max=1.091e+00, X_min=1.407e+04, X_max=1.059e+10, Δw=6.242e-05, ΔP=1.710e-04\n",
      "Iter 50: w_min=9.144e-01, w_max=1.091e+00, X_min=1.407e+04, X_max=1.059e+10, Δw=5.657e-05, ΔP=1.698e-04\n",
      "Iter 51: w_min=9.144e-01, w_max=1.091e+00, X_min=1.407e+04, X_max=1.059e+10, Δw=5.127e-05, ΔP=1.685e-04\n",
      "Iter 52: w_min=9.144e-01, w_max=1.091e+00, X_min=1.407e+04, X_max=1.059e+10, Δw=4.647e-05, ΔP=1.672e-04\n",
      "Iter 53: w_min=9.144e-01, w_max=1.091e+00, X_min=1.407e+04, X_max=1.059e+10, Δw=4.213e-05, ΔP=1.659e-04\n",
      "Iter 54: w_min=9.144e-01, w_max=1.091e+00, X_min=1.407e+04, X_max=1.059e+10, Δw=3.819e-05, ΔP=1.647e-04\n",
      "Iter 55: w_min=9.144e-01, w_max=1.091e+00, X_min=1.407e+04, X_max=1.059e+10, Δw=3.463e-05, ΔP=1.634e-04\n",
      "Iter 56: w_min=9.144e-01, w_max=1.091e+00, X_min=1.407e+04, X_max=1.059e+10, Δw=3.140e-05, ΔP=1.621e-04\n",
      "Iter 57: w_min=9.144e-01, w_max=1.091e+00, X_min=1.407e+04, X_max=1.059e+10, Δw=2.847e-05, ΔP=1.608e-04\n",
      "Iter 58: w_min=9.144e-01, w_max=1.091e+00, X_min=1.407e+04, X_max=1.059e+10, Δw=2.582e-05, ΔP=1.596e-04\n",
      "Iter 59: w_min=9.144e-01, w_max=1.091e+00, X_min=1.407e+04, X_max=1.059e+10, Δw=2.341e-05, ΔP=1.583e-04\n",
      "Iter 60: w_min=9.144e-01, w_max=1.091e+00, X_min=1.407e+04, X_max=1.059e+10, Δw=2.123e-05, ΔP=1.571e-04\n",
      "Iter 61: w_min=9.143e-01, w_max=1.091e+00, X_min=1.407e+04, X_max=1.060e+10, Δw=1.926e-05, ΔP=1.558e-04\n",
      "Iter 62: w_min=9.143e-01, w_max=1.091e+00, X_min=1.407e+04, X_max=1.060e+10, Δw=1.747e-05, ΔP=1.546e-04\n",
      "Iter 63: w_min=9.143e-01, w_max=1.091e+00, X_min=1.407e+04, X_max=1.060e+10, Δw=1.585e-05, ΔP=1.533e-04\n",
      "Iter 64: w_min=9.143e-01, w_max=1.091e+00, X_min=1.407e+04, X_max=1.060e+10, Δw=1.437e-05, ΔP=1.521e-04\n",
      "Iter 65: w_min=9.143e-01, w_max=1.091e+00, X_min=1.407e+04, X_max=1.060e+10, Δw=1.304e-05, ΔP=1.509e-04\n",
      "Iter 66: w_min=9.143e-01, w_max=1.091e+00, X_min=1.407e+04, X_max=1.060e+10, Δw=1.183e-05, ΔP=1.496e-04\n",
      "Iter 67: w_min=9.143e-01, w_max=1.091e+00, X_min=1.407e+04, X_max=1.060e+10, Δw=1.073e-05, ΔP=1.484e-04\n",
      "Iter 68: w_min=9.143e-01, w_max=1.091e+00, X_min=1.407e+04, X_max=1.060e+10, Δw=9.739e-06, ΔP=1.472e-04\n",
      "Iter 69: w_min=9.143e-01, w_max=1.091e+00, X_min=1.407e+04, X_max=1.060e+10, Δw=8.837e-06, ΔP=1.460e-04\n",
      "Iter 70: w_min=9.143e-01, w_max=1.091e+00, X_min=1.407e+04, X_max=1.060e+10, Δw=8.018e-06, ΔP=1.448e-04\n",
      "Iter 71: w_min=9.143e-01, w_max=1.091e+00, X_min=1.407e+04, X_max=1.060e+10, Δw=7.276e-06, ΔP=1.437e-04\n",
      "Iter 72: w_min=9.143e-01, w_max=1.091e+00, X_min=1.407e+04, X_max=1.060e+10, Δw=6.603e-06, ΔP=1.425e-04\n",
      "Iter 73: w_min=9.143e-01, w_max=1.091e+00, X_min=1.407e+04, X_max=1.060e+10, Δw=5.992e-06, ΔP=1.413e-04\n",
      "Iter 74: w_min=9.143e-01, w_max=1.091e+00, X_min=1.407e+04, X_max=1.060e+10, Δw=5.438e-06, ΔP=1.402e-04\n",
      "Iter 75: w_min=9.143e-01, w_max=1.091e+00, X_min=1.407e+04, X_max=1.060e+10, Δw=4.936e-06, ΔP=1.390e-04\n",
      "Iter 76: w_min=9.143e-01, w_max=1.091e+00, X_min=1.407e+04, X_max=1.060e+10, Δw=4.479e-06, ΔP=1.379e-04\n",
      "Iter 77: w_min=9.143e-01, w_max=1.091e+00, X_min=1.407e+04, X_max=1.060e+10, Δw=4.066e-06, ΔP=1.368e-04\n",
      "Iter 78: w_min=9.143e-01, w_max=1.091e+00, X_min=1.407e+04, X_max=1.060e+10, Δw=3.690e-06, ΔP=1.357e-04\n",
      "Iter 79: w_min=9.143e-01, w_max=1.091e+00, X_min=1.407e+04, X_max=1.060e+10, Δw=3.350e-06, ΔP=1.345e-04\n",
      "Iter 80: w_min=9.143e-01, w_max=1.091e+00, X_min=1.407e+04, X_max=1.060e+10, Δw=3.040e-06, ΔP=1.334e-04\n",
      "Iter 81: w_min=9.143e-01, w_max=1.091e+00, X_min=1.407e+04, X_max=1.060e+10, Δw=2.760e-06, ΔP=1.324e-04\n",
      "Iter 82: w_min=9.143e-01, w_max=1.091e+00, X_min=1.407e+04, X_max=1.060e+10, Δw=2.505e-06, ΔP=1.313e-04\n",
      "Iter 83: w_min=9.143e-01, w_max=1.091e+00, X_min=1.407e+04, X_max=1.060e+10, Δw=2.274e-06, ΔP=1.302e-04\n",
      "Iter 84: w_min=9.143e-01, w_max=1.091e+00, X_min=1.407e+04, X_max=1.060e+10, Δw=2.064e-06, ΔP=1.291e-04\n",
      "Iter 85: w_min=9.143e-01, w_max=1.091e+00, X_min=1.407e+04, X_max=1.060e+10, Δw=1.874e-06, ΔP=1.281e-04\n",
      "Iter 86: w_min=9.143e-01, w_max=1.091e+00, X_min=1.407e+04, X_max=1.060e+10, Δw=1.701e-06, ΔP=1.270e-04\n",
      "Iter 87: w_min=9.143e-01, w_max=1.091e+00, X_min=1.407e+04, X_max=1.060e+10, Δw=1.545e-06, ΔP=1.260e-04\n",
      "Iter 88: w_min=9.143e-01, w_max=1.091e+00, X_min=1.407e+04, X_max=1.060e+10, Δw=1.402e-06, ΔP=1.250e-04\n",
      "Iter 89: w_min=9.143e-01, w_max=1.091e+00, X_min=1.407e+04, X_max=1.060e+10, Δw=1.273e-06, ΔP=1.239e-04\n",
      "Iter 90: w_min=9.143e-01, w_max=1.091e+00, X_min=1.407e+04, X_max=1.060e+10, Δw=1.156e-06, ΔP=1.229e-04\n",
      "Iter 91: w_min=9.143e-01, w_max=1.091e+00, X_min=1.407e+04, X_max=1.060e+10, Δw=1.049e-06, ΔP=1.219e-04\n",
      "Iter 92: w_min=9.143e-01, w_max=1.091e+00, X_min=1.407e+04, X_max=1.060e+10, Δw=9.526e-07, ΔP=1.209e-04\n"
     ]
    }
   ],
   "source": [
    "solver = ModelSolver(model4)\n",
    "solver.solve()"
   ]
  },
  {
   "cell_type": "markdown",
   "metadata": {},
   "source": [
    "## 2.3 counterfactual: US imposes 20% tariff rate to ALL countries steel sector"
   ]
  },
  {
   "cell_type": "code",
   "execution_count": 26,
   "metadata": {},
   "outputs": [],
   "source": [
    "target_importers = ['USA']  # one or multiple\n",
    "target_sectors = [\"Metal Products\"]\n",
    "country_list = params.country_list.tolist()\n",
    "sector_list = params.sector_list.tolist()\n",
    "tilde_tau = params.tilde_tau.copy()\n",
    "target_importers_index = [country_list.index(importer) for importer in target_importers]  \n",
    "\n",
    "tilde_tau_1 = tilde_tau.copy()\n",
    "\n",
    "for importer_index in target_importers_index:\n",
    "    for exporter_index in range(len(country_list)):\n",
    "        for sector_index in range(len(target_sectors)):\n",
    "            if importer_index != exporter_index:\n",
    "                tilde_tau_1[importer_index, exporter_index, sector_index] += 0.2\n",
    "\n",
    "data_file_name = \"data/data_2017.npz\"\n",
    "params = ModelParams.load_from_npz(data_file_name)\n",
    "params.gamma = np.swapaxes(params.gamma, 1, 2)\n",
    "params.theta /= 2\n",
    "params.tilde_tau = tilde_tau_1\n",
    "model5 = Model(params)"
   ]
  },
  {
   "cell_type": "code",
   "execution_count": 27,
   "metadata": {},
   "outputs": [
    {
     "name": "stdout",
     "output_type": "stream",
     "text": [
      "Iter 1: w_min=9.834e-01, w_max=1.009e+00, X_min=1.435e+04, X_max=9.940e+09, Δw=1.661e-02, ΔP=3.331e-16\n",
      "Iter 2: w_min=9.694e-01, w_max=1.018e+00, X_min=1.432e+04, X_max=1.001e+10, Δw=1.394e-02, ΔP=1.310e-02\n",
      "Iter 3: w_min=9.585e-01, w_max=1.026e+00, X_min=1.428e+04, X_max=1.007e+10, Δw=1.143e-02, ΔP=1.210e-02\n",
      "Iter 4: w_min=9.501e-01, w_max=1.033e+00, X_min=1.426e+04, X_max=1.013e+10, Δw=9.142e-03, ΔP=1.014e-02\n",
      "Iter 5: w_min=9.430e-01, w_max=1.039e+00, X_min=1.423e+04, X_max=1.018e+10, Δw=7.123e-03, ΔP=8.732e-03\n",
      "Iter 6: w_min=9.375e-01, w_max=1.045e+00, X_min=1.421e+04, X_max=1.022e+10, Δw=5.613e-03, ΔP=7.433e-03\n",
      "Iter 7: w_min=9.334e-01, w_max=1.050e+00, X_min=1.419e+04, X_max=1.026e+10, Δw=4.885e-03, ΔP=6.096e-03\n",
      "Iter 8: w_min=9.302e-01, w_max=1.054e+00, X_min=1.418e+04, X_max=1.029e+10, Δw=4.340e-03, ΔP=4.943e-03\n",
      "Iter 9: w_min=9.278e-01, w_max=1.058e+00, X_min=1.416e+04, X_max=1.032e+10, Δw=3.862e-03, ΔP=4.264e-03\n",
      "Iter 10: w_min=9.259e-01, w_max=1.061e+00, X_min=1.415e+04, X_max=1.035e+10, Δw=3.442e-03, ΔP=3.791e-03\n",
      "Iter 11: w_min=9.243e-01, w_max=1.064e+00, X_min=1.414e+04, X_max=1.038e+10, Δw=3.072e-03, ΔP=3.376e-03\n",
      "Iter 12: w_min=9.231e-01, w_max=1.067e+00, X_min=1.413e+04, X_max=1.040e+10, Δw=2.745e-03, ΔP=3.011e-03\n",
      "Iter 13: w_min=9.220e-01, w_max=1.069e+00, X_min=1.412e+04, X_max=1.042e+10, Δw=2.457e-03, ΔP=2.690e-03\n",
      "Iter 14: w_min=9.211e-01, w_max=1.072e+00, X_min=1.412e+04, X_max=1.044e+10, Δw=2.201e-03, ΔP=2.406e-03\n",
      "Iter 15: w_min=9.203e-01, w_max=1.074e+00, X_min=1.411e+04, X_max=1.045e+10, Δw=1.974e-03, ΔP=2.155e-03\n",
      "Iter 16: w_min=9.196e-01, w_max=1.075e+00, X_min=1.410e+04, X_max=1.047e+10, Δw=1.773e-03, ΔP=1.932e-03\n",
      "Iter 17: w_min=9.190e-01, w_max=1.077e+00, X_min=1.410e+04, X_max=1.048e+10, Δw=1.593e-03, ΔP=1.734e-03\n",
      "Iter 18: w_min=9.185e-01, w_max=1.078e+00, X_min=1.410e+04, X_max=1.049e+10, Δw=1.432e-03, ΔP=1.558e-03\n",
      "Iter 19: w_min=9.180e-01, w_max=1.080e+00, X_min=1.409e+04, X_max=1.050e+10, Δw=1.289e-03, ΔP=1.401e-03\n",
      "Iter 20: w_min=9.176e-01, w_max=1.081e+00, X_min=1.409e+04, X_max=1.051e+10, Δw=1.161e-03, ΔP=1.260e-03\n",
      "Iter 21: w_min=9.172e-01, w_max=1.082e+00, X_min=1.409e+04, X_max=1.052e+10, Δw=1.046e-03, ΔP=1.135e-03\n",
      "Iter 22: w_min=9.169e-01, w_max=1.083e+00, X_min=1.408e+04, X_max=1.053e+10, Δw=9.424e-04, ΔP=1.022e-03\n",
      "Iter 23: w_min=9.166e-01, w_max=1.084e+00, X_min=1.408e+04, X_max=1.053e+10, Δw=8.498e-04, ΔP=9.213e-04\n",
      "Iter 24: w_min=9.163e-01, w_max=1.084e+00, X_min=1.408e+04, X_max=1.054e+10, Δw=7.666e-04, ΔP=8.307e-04\n",
      "Iter 25: w_min=9.161e-01, w_max=1.085e+00, X_min=1.408e+04, X_max=1.055e+10, Δw=6.918e-04, ΔP=7.493e-04\n",
      "Iter 26: w_min=9.159e-01, w_max=1.086e+00, X_min=1.408e+04, X_max=1.055e+10, Δw=6.246e-04, ΔP=6.762e-04\n",
      "Iter 27: w_min=9.157e-01, w_max=1.086e+00, X_min=1.408e+04, X_max=1.056e+10, Δw=5.640e-04, ΔP=6.104e-04\n",
      "Iter 28: w_min=9.155e-01, w_max=1.087e+00, X_min=1.407e+04, X_max=1.056e+10, Δw=5.094e-04, ΔP=5.512e-04\n",
      "Iter 29: w_min=9.154e-01, w_max=1.087e+00, X_min=1.407e+04, X_max=1.056e+10, Δw=4.603e-04, ΔP=4.978e-04\n",
      "Iter 30: w_min=9.152e-01, w_max=1.088e+00, X_min=1.407e+04, X_max=1.057e+10, Δw=4.160e-04, ΔP=4.498e-04\n",
      "Iter 31: w_min=9.151e-01, w_max=1.088e+00, X_min=1.407e+04, X_max=1.057e+10, Δw=3.760e-04, ΔP=4.065e-04\n",
      "Iter 32: w_min=9.150e-01, w_max=1.088e+00, X_min=1.407e+04, X_max=1.057e+10, Δw=3.399e-04, ΔP=3.674e-04\n",
      "Iter 33: w_min=9.149e-01, w_max=1.089e+00, X_min=1.407e+04, X_max=1.058e+10, Δw=3.074e-04, ΔP=3.322e-04\n",
      "Iter 34: w_min=9.149e-01, w_max=1.089e+00, X_min=1.407e+04, X_max=1.058e+10, Δw=2.780e-04, ΔP=3.004e-04\n",
      "Iter 35: w_min=9.148e-01, w_max=1.089e+00, X_min=1.407e+04, X_max=1.058e+10, Δw=2.515e-04, ΔP=2.717e-04\n",
      "Iter 36: w_min=9.147e-01, w_max=1.090e+00, X_min=1.407e+04, X_max=1.058e+10, Δw=2.276e-04, ΔP=2.458e-04\n",
      "Iter 37: w_min=9.147e-01, w_max=1.090e+00, X_min=1.407e+04, X_max=1.058e+10, Δw=2.060e-04, ΔP=2.224e-04\n",
      "Iter 38: w_min=9.146e-01, w_max=1.090e+00, X_min=1.407e+04, X_max=1.059e+10, Δw=1.864e-04, ΔP=2.012e-04\n",
      "Iter 39: w_min=9.146e-01, w_max=1.090e+00, X_min=1.407e+04, X_max=1.059e+10, Δw=1.687e-04, ΔP=1.836e-04\n",
      "Iter 40: w_min=9.145e-01, w_max=1.090e+00, X_min=1.407e+04, X_max=1.059e+10, Δw=1.528e-04, ΔP=1.826e-04\n",
      "Iter 41: w_min=9.145e-01, w_max=1.090e+00, X_min=1.407e+04, X_max=1.059e+10, Δw=1.383e-04, ΔP=1.814e-04\n",
      "Iter 42: w_min=9.145e-01, w_max=1.091e+00, X_min=1.407e+04, X_max=1.059e+10, Δw=1.253e-04, ΔP=1.803e-04\n",
      "Iter 43: w_min=9.144e-01, w_max=1.091e+00, X_min=1.407e+04, X_max=1.059e+10, Δw=1.134e-04, ΔP=1.791e-04\n",
      "Iter 44: w_min=9.144e-01, w_max=1.091e+00, X_min=1.407e+04, X_max=1.059e+10, Δw=1.027e-04, ΔP=1.779e-04\n",
      "Iter 45: w_min=9.144e-01, w_max=1.091e+00, X_min=1.407e+04, X_max=1.059e+10, Δw=9.308e-05, ΔP=1.767e-04\n",
      "Iter 46: w_min=9.144e-01, w_max=1.091e+00, X_min=1.407e+04, X_max=1.059e+10, Δw=8.432e-05, ΔP=1.754e-04\n",
      "Iter 47: w_min=9.143e-01, w_max=1.091e+00, X_min=1.407e+04, X_max=1.059e+10, Δw=7.640e-05, ΔP=1.742e-04\n",
      "Iter 48: w_min=9.143e-01, w_max=1.091e+00, X_min=1.407e+04, X_max=1.059e+10, Δw=6.923e-05, ΔP=1.729e-04\n",
      "Iter 49: w_min=9.143e-01, w_max=1.091e+00, X_min=1.407e+04, X_max=1.060e+10, Δw=6.274e-05, ΔP=1.717e-04\n",
      "Iter 50: w_min=9.143e-01, w_max=1.091e+00, X_min=1.407e+04, X_max=1.060e+10, Δw=5.686e-05, ΔP=1.704e-04\n",
      "Iter 51: w_min=9.143e-01, w_max=1.091e+00, X_min=1.407e+04, X_max=1.060e+10, Δw=5.154e-05, ΔP=1.691e-04\n",
      "Iter 52: w_min=9.143e-01, w_max=1.091e+00, X_min=1.407e+04, X_max=1.060e+10, Δw=4.672e-05, ΔP=1.678e-04\n",
      "Iter 53: w_min=9.143e-01, w_max=1.091e+00, X_min=1.407e+04, X_max=1.060e+10, Δw=4.235e-05, ΔP=1.665e-04\n",
      "Iter 54: w_min=9.143e-01, w_max=1.091e+00, X_min=1.407e+04, X_max=1.060e+10, Δw=3.840e-05, ΔP=1.653e-04\n",
      "Iter 55: w_min=9.142e-01, w_max=1.091e+00, X_min=1.407e+04, X_max=1.060e+10, Δw=3.482e-05, ΔP=1.640e-04\n",
      "Iter 56: w_min=9.142e-01, w_max=1.091e+00, X_min=1.407e+04, X_max=1.060e+10, Δw=3.157e-05, ΔP=1.627e-04\n",
      "Iter 57: w_min=9.142e-01, w_max=1.091e+00, X_min=1.407e+04, X_max=1.060e+10, Δw=2.863e-05, ΔP=1.614e-04\n",
      "Iter 58: w_min=9.142e-01, w_max=1.091e+00, X_min=1.407e+04, X_max=1.060e+10, Δw=2.596e-05, ΔP=1.601e-04\n",
      "Iter 59: w_min=9.142e-01, w_max=1.092e+00, X_min=1.407e+04, X_max=1.060e+10, Δw=2.354e-05, ΔP=1.589e-04\n",
      "Iter 60: w_min=9.142e-01, w_max=1.092e+00, X_min=1.407e+04, X_max=1.060e+10, Δw=2.135e-05, ΔP=1.576e-04\n",
      "Iter 61: w_min=9.142e-01, w_max=1.092e+00, X_min=1.407e+04, X_max=1.060e+10, Δw=1.937e-05, ΔP=1.564e-04\n",
      "Iter 62: w_min=9.142e-01, w_max=1.092e+00, X_min=1.407e+04, X_max=1.060e+10, Δw=1.757e-05, ΔP=1.551e-04\n",
      "Iter 63: w_min=9.142e-01, w_max=1.092e+00, X_min=1.407e+04, X_max=1.060e+10, Δw=1.594e-05, ΔP=1.539e-04\n",
      "Iter 64: w_min=9.142e-01, w_max=1.092e+00, X_min=1.407e+04, X_max=1.060e+10, Δw=1.446e-05, ΔP=1.526e-04\n",
      "Iter 65: w_min=9.142e-01, w_max=1.092e+00, X_min=1.407e+04, X_max=1.060e+10, Δw=1.312e-05, ΔP=1.514e-04\n",
      "Iter 66: w_min=9.142e-01, w_max=1.092e+00, X_min=1.407e+04, X_max=1.060e+10, Δw=1.190e-05, ΔP=1.502e-04\n",
      "Iter 67: w_min=9.142e-01, w_max=1.092e+00, X_min=1.407e+04, X_max=1.060e+10, Δw=1.080e-05, ΔP=1.490e-04\n",
      "Iter 68: w_min=9.142e-01, w_max=1.092e+00, X_min=1.407e+04, X_max=1.060e+10, Δw=9.798e-06, ΔP=1.477e-04\n",
      "Iter 69: w_min=9.142e-01, w_max=1.092e+00, X_min=1.407e+04, X_max=1.060e+10, Δw=8.891e-06, ΔP=1.465e-04\n",
      "Iter 70: w_min=9.142e-01, w_max=1.092e+00, X_min=1.407e+04, X_max=1.060e+10, Δw=8.068e-06, ΔP=1.454e-04\n",
      "Iter 71: w_min=9.142e-01, w_max=1.092e+00, X_min=1.407e+04, X_max=1.060e+10, Δw=7.321e-06, ΔP=1.442e-04\n",
      "Iter 72: w_min=9.142e-01, w_max=1.092e+00, X_min=1.407e+04, X_max=1.060e+10, Δw=6.644e-06, ΔP=1.430e-04\n",
      "Iter 73: w_min=9.142e-01, w_max=1.092e+00, X_min=1.407e+04, X_max=1.060e+10, Δw=6.030e-06, ΔP=1.418e-04\n",
      "Iter 74: w_min=9.142e-01, w_max=1.092e+00, X_min=1.407e+04, X_max=1.060e+10, Δw=5.473e-06, ΔP=1.407e-04\n",
      "Iter 75: w_min=9.142e-01, w_max=1.092e+00, X_min=1.407e+04, X_max=1.060e+10, Δw=4.967e-06, ΔP=1.395e-04\n",
      "Iter 76: w_min=9.142e-01, w_max=1.092e+00, X_min=1.407e+04, X_max=1.060e+10, Δw=4.508e-06, ΔP=1.384e-04\n",
      "Iter 77: w_min=9.142e-01, w_max=1.092e+00, X_min=1.407e+04, X_max=1.060e+10, Δw=4.092e-06, ΔP=1.373e-04\n",
      "Iter 78: w_min=9.142e-01, w_max=1.092e+00, X_min=1.407e+04, X_max=1.060e+10, Δw=3.714e-06, ΔP=1.361e-04\n",
      "Iter 79: w_min=9.142e-01, w_max=1.092e+00, X_min=1.407e+04, X_max=1.060e+10, Δw=3.371e-06, ΔP=1.350e-04\n",
      "Iter 80: w_min=9.142e-01, w_max=1.092e+00, X_min=1.407e+04, X_max=1.060e+10, Δw=3.060e-06, ΔP=1.339e-04\n",
      "Iter 81: w_min=9.142e-01, w_max=1.092e+00, X_min=1.407e+04, X_max=1.060e+10, Δw=2.778e-06, ΔP=1.328e-04\n",
      "Iter 82: w_min=9.142e-01, w_max=1.092e+00, X_min=1.407e+04, X_max=1.060e+10, Δw=2.522e-06, ΔP=1.317e-04\n",
      "Iter 83: w_min=9.142e-01, w_max=1.092e+00, X_min=1.407e+04, X_max=1.060e+10, Δw=2.289e-06, ΔP=1.307e-04\n",
      "Iter 84: w_min=9.142e-01, w_max=1.092e+00, X_min=1.407e+04, X_max=1.060e+10, Δw=2.078e-06, ΔP=1.296e-04\n",
      "Iter 85: w_min=9.142e-01, w_max=1.092e+00, X_min=1.407e+04, X_max=1.060e+10, Δw=1.887e-06, ΔP=1.285e-04\n",
      "Iter 86: w_min=9.142e-01, w_max=1.092e+00, X_min=1.407e+04, X_max=1.060e+10, Δw=1.713e-06, ΔP=1.275e-04\n",
      "Iter 87: w_min=9.142e-01, w_max=1.092e+00, X_min=1.407e+04, X_max=1.060e+10, Δw=1.555e-06, ΔP=1.264e-04\n",
      "Iter 88: w_min=9.142e-01, w_max=1.092e+00, X_min=1.407e+04, X_max=1.060e+10, Δw=1.412e-06, ΔP=1.254e-04\n",
      "Iter 89: w_min=9.142e-01, w_max=1.092e+00, X_min=1.407e+04, X_max=1.060e+10, Δw=1.282e-06, ΔP=1.244e-04\n",
      "Iter 90: w_min=9.142e-01, w_max=1.092e+00, X_min=1.407e+04, X_max=1.060e+10, Δw=1.164e-06, ΔP=1.234e-04\n",
      "Iter 91: w_min=9.142e-01, w_max=1.092e+00, X_min=1.407e+04, X_max=1.060e+10, Δw=1.057e-06, ΔP=1.224e-04\n",
      "Iter 92: w_min=9.142e-01, w_max=1.092e+00, X_min=1.407e+04, X_max=1.060e+10, Δw=9.593e-07, ΔP=1.214e-04\n"
     ]
    }
   ],
   "source": [
    "solver = ModelSolver(model5)\n",
    "solver.solve()"
   ]
  },
  {
   "cell_type": "code",
   "execution_count": 32,
   "metadata": {},
   "outputs": [],
   "source": [
    "target_importers = ['USA', 'CHN', \"JPN\"]  # one or multiple\n",
    "country_list = params.country_list.tolist()\n",
    "target_importers_index = [country_list.index(importer) for importer in target_importers]  "
   ]
  },
  {
   "cell_type": "code",
   "execution_count": 33,
   "metadata": {},
   "outputs": [
    {
     "data": {
      "text/plain": [
       "[34, 6, 18]"
      ]
     },
     "execution_count": 33,
     "metadata": {},
     "output_type": "execute_result"
    }
   ],
   "source": [
    "target_importers_index"
   ]
  },
  {
   "cell_type": "code",
   "execution_count": 34,
   "metadata": {},
   "outputs": [
    {
     "data": {
      "text/plain": [
       "array([1.01251735, 0.99705262, 0.99599141])"
      ]
     },
     "execution_count": 34,
     "metadata": {},
     "output_type": "execute_result"
    }
   ],
   "source": [
    "model1.sol.real_w[target_importers_index]"
   ]
  },
  {
   "cell_type": "code",
   "execution_count": 35,
   "metadata": {},
   "outputs": [
    {
     "data": {
      "text/plain": [
       "array([1.02231848, 0.99513196, 0.99259115])"
      ]
     },
     "execution_count": 35,
     "metadata": {},
     "output_type": "execute_result"
    }
   ],
   "source": [
    "model4.sol.real_w[target_importers_index]"
   ]
  },
  {
   "cell_type": "code",
   "execution_count": null,
   "metadata": {},
   "outputs": [],
   "source": []
  }
 ],
 "metadata": {
  "kernelspec": {
   "display_name": "base",
   "language": "python",
   "name": "python3"
  },
  "language_info": {
   "codemirror_mode": {
    "name": "ipython",
    "version": 3
   },
   "file_extension": ".py",
   "mimetype": "text/x-python",
   "name": "python",
   "nbconvert_exporter": "python",
   "pygments_lexer": "ipython3",
   "version": "3.12.2"
  }
 },
 "nbformat": 4,
 "nbformat_minor": 2
}

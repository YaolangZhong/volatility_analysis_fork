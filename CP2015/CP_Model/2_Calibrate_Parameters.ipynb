{
 "cells": [
  {
   "cell_type": "markdown",
   "id": "48631718",
   "metadata": {},
   "source": [
    "Run this file after running \"1_Clean_Eora.ipynb\"\n",
    "\n",
    "This file is used to generate paratmers used for estimating trade cost and running models"
   ]
  },
  {
   "cell_type": "markdown",
   "id": "317933fb",
   "metadata": {},
   "source": [
    "# Set up"
   ]
  },
  {
   "cell_type": "code",
   "execution_count": 31,
   "id": "e03bf538",
   "metadata": {},
   "outputs": [],
   "source": [
    "import os\n",
    "import pandas as pd \n",
    "import numpy as np\n",
    "from equilibrium import equilibrium\n"
   ]
  },
  {
   "cell_type": "code",
   "execution_count": 32,
   "id": "05de93fe",
   "metadata": {},
   "outputs": [
    {
     "name": "stdout",
     "output_type": "stream",
     "text": [
      "Current working directory: /Users/yaolangzhong/Dropbox/Tariff_Project\n",
      "Cleaned Eora data folder: /Users/yaolangzhong/Dropbox/Tariff_Project/3_Result/eora_clean\n"
     ]
    }
   ],
   "source": [
    "# Set working directory\n",
    "wd = os.path.expanduser(\"~/Dropbox/Tariff_Project\")\n",
    "os.chdir(wd)\n",
    "print(f\"Current working directory: {os.getcwd()}\")\n",
    "\n",
    "# 3. Define data paths and parameters\n",
    "# Path to raw Eora BP data\n",
    "data_path = os.path.join(wd, \"3_Result/eora_clean\")\n",
    "\n",
    "\n",
    "save_path = os.path.join(wd, \"3_Result/parameters\")\n",
    "\n",
    "\n",
    "# Verify paths\n",
    "print(f\"Cleaned Eora data folder: {data_path}\")"
   ]
  },
  {
   "cell_type": "markdown",
   "id": "a427432c",
   "metadata": {},
   "source": [
    "# Part I ： Run this part after running \"1_Clean_Eora.ipynb\""
   ]
  },
  {
   "cell_type": "code",
   "execution_count": 33,
   "id": "ccdd1148",
   "metadata": {},
   "outputs": [
    {
     "name": "stdout",
     "output_type": "stream",
     "text": [
      "N = 37, J = 23\n"
     ]
    }
   ],
   "source": [
    "# ----------------------------\n",
    "#  Read country / sector lists\n",
    "# ----------------------------\n",
    "country_list = (\n",
    "    pd.read_csv(os.path.join(data_path, \"country_list.csv\"), header=0)[\"0\"]\n",
    "    .astype(str)\n",
    "    .tolist()\n",
    ")\n",
    "\n",
    "sector_list = (\n",
    "    pd.read_csv(os.path.join(data_path, \"sector_list.csv\"), header=0)[\"0\"]\n",
    "    .astype(str)\n",
    "    .tolist()\n",
    ")\n",
    "\n",
    "label_list = pd.read_csv(os.path.join(data_path, \"labels.csv\"), header=0)\n",
    "\n",
    "# ----------------------------\n",
    "#  Basic dimension information\n",
    "# ----------------------------\n",
    "N = len(country_list)  # number of countries\n",
    "J = len(sector_list)   # number of sectors\n",
    "\n",
    "print(f\"{N = }, {J = }\")\n"
   ]
  },
  {
   "cell_type": "code",
   "execution_count": 34,
   "id": "b7950d5d",
   "metadata": {},
   "outputs": [
    {
     "name": "stdout",
     "output_type": "stream",
     "text": [
      "io shape: (851, 851), fd shape: (851, 222), va shape: (6, 851)\n"
     ]
    }
   ],
   "source": [
    "# -------------------------------------------------\n",
    "#  Read input‑output tables, final demand, value added\n",
    "# -------------------------------------------------\n",
    "\n",
    "io = (\n",
    "    pd.read_csv(os.path.join(data_path, \"T_final_2017.csv\"), header=0)\n",
    "    .fillna(0)           \n",
    "    .to_numpy(float)      \n",
    ")\n",
    "\n",
    "fd = (\n",
    "    pd.read_csv(os.path.join(data_path, \"FD_final_2017.csv\"), header=0)\n",
    "    .fillna(0)\n",
    "    .to_numpy(float)\n",
    ")\n",
    "\n",
    "\n",
    "\n",
    "va = (\n",
    "    pd.read_csv(os.path.join(data_path, \"VA_final_2017.csv\"), header=0)\n",
    "    .fillna(0)\n",
    "    .to_numpy(float)\n",
    ")\n",
    "\n",
    "print(f\"io shape: {io.shape}, fd shape: {fd.shape}, va shape: {va.shape}\")"
   ]
  },
  {
   "cell_type": "markdown",
   "id": "a5732455",
   "metadata": {},
   "source": [
    "## alpha(N,J): Calibrate $\\alpha_n^{j}$ (preference paramter) in household utility function \n"
   ]
  },
  {
   "cell_type": "code",
   "execution_count": 35,
   "id": "d2b7954b",
   "metadata": {},
   "outputs": [],
   "source": [
    "# Final demand accounts include: \n",
    "# 1.Household final consumption \n",
    "# 2.Non-profit institutions serving households\n",
    "# 3.Government final consumption \n",
    "# 4.Gross fixed capital formation\n",
    "# 5.Changes in inventories \n",
    "# 6.Acquisitions less disposals of valuables\n",
    "\n",
    "# Here I exclude 5 and 6 to better represent household preference\n",
    "fd_n = 6 \n",
    "fd_n_2 = 4\n",
    "keep_fd_n = [0, 1, 2, 3]  \n",
    "\n",
    "# Step 1: select the four accounts (exclude the last two)\n",
    "cols_to_select = []\n",
    "for c_idx in range(N):\n",
    "    base = c_idx * fd_n\n",
    "    cols_to_select.extend([base + a for a in keep_fd_n])\n",
    "\n",
    "fd_select = fd[:, cols_to_select]      # (N*J, 4*N)\n",
    "\n",
    "# Step 2：sum up over accounts for final demand \n",
    "fd_sum = fd_select.reshape(fd_select.shape[0], N, fd_n_2).sum(axis=2) # reshape to (NJ, N, 4 and sum up over the last dim)\n",
    "\n",
    "# Step 3: sum up over countries for the same sector\n",
    "fd_sum_reshaped = fd_sum.reshape(N, J, N)\n",
    "fd_final = fd_sum_reshaped.sum(axis=0)         # (J, N)：（j,n）is country n's total comsumption in sector j, no matter where it comes from \n",
    "\n",
    "# ----------- correct above - checked by hand --------------\n",
    "\n",
    "# Step 4: calculate shares\n",
    "total_fd = fd_final.sum(axis=0, keepdims=True) # (1, N) # sum up over all sectors for each country, that is, each country's total final demand (total final consumption)\n",
    "Alpha_jn = fd_final / total_fd                 # (J, N) \n",
    "Alpha_nj = Alpha_jn.T                          # (N, J)\n",
    "\n",
    "# Step 5: adjust\n",
    "Alpha_nj = np.clip(Alpha_nj, 0.00001, 0.99999)\n",
    "Alpha_nj = Alpha_nj / Alpha_nj.sum(axis=1, keepdims=True)\n"
   ]
  },
  {
   "cell_type": "code",
   "execution_count": 36,
   "id": "a1ab978f",
   "metadata": {},
   "outputs": [
    {
     "name": "stdout",
     "output_type": "stream",
     "text": [
      "For each country, the sum over secotrs equals 1 ✅\n",
      "Every value in alpha is between 0 and 1 ✅\n"
     ]
    }
   ],
   "source": [
    "# Check if it satisfies the model\n",
    "\n",
    "alpha = Alpha_nj.copy()  # alpha is the final variable name we use in model simulation\n",
    "\n",
    "# Check\n",
    "# Check 1: For each n, the sum over j equals 1\n",
    "sum_by_n = np.sum(alpha, axis=1)\n",
    "check_sum = np.allclose(sum_by_n, 1, atol=1e-6)  # Allowing a small numerical tolerance\n",
    "if check_sum:\n",
    "    print(\"For each country, the sum over secotrs equals 1 ✅\")\n",
    "else:\n",
    "    print(\"There are some country where the sum over sectors is not 1 ❌\")\n",
    "    print(\"The issue occurs at the following n indices:\", np.where(np.abs(sum_by_n - 1) > 1e-6)[0])\n",
    "    print(\"The corresponding sums are:\", sum_by_n[np.where(np.abs(sum_by_n - 1) > 1e-6)[0]])\n",
    "# Check 2: Every value in alpha is between 0 and 1\n",
    "check_range = np.all((alpha >= 0) & (alpha <= 1))\n",
    "if check_range:\n",
    "    print(\"Every value in alpha is between 0 and 1 ✅\")\n",
    "else:\n",
    "    print(\"There are values in alpha that are not between 0 and 1 ❌\")\n",
    "    print(\"These values are at positions:\", np.where((alpha < 0) | (alpha > 1)))\n",
    "    print(\"The values are:\", alpha[(alpha < 0) | (alpha > 1)])\n",
    "\n"
   ]
  },
  {
   "cell_type": "code",
   "execution_count": 37,
   "id": "f56a1b96",
   "metadata": {},
   "outputs": [
    {
     "name": "stdout",
     "output_type": "stream",
     "text": [
      "Alpha_nj_2017.csv saved successfully.\n"
     ]
    }
   ],
   "source": [
    "# Save to csv, for check\n",
    "alpha_df = pd.DataFrame(Alpha_nj,\n",
    "                        index=country_list,\n",
    "                        columns=sector_list)\n",
    "\n",
    "\n",
    "#os.makedirs(save_path, exist_ok=True) \n",
    "alpha_df.to_csv(os.path.join(save_path, \"Alpha_nj_2017.csv\"))\n",
    "\n",
    "print(\"Alpha_nj_2017.csv saved successfully.\")"
   ]
  },
  {
   "cell_type": "markdown",
   "id": "d062cc1e",
   "metadata": {},
   "source": [
    "## GO(N,J): Calculate Gross Output of Intermediate Goods, Final Goods, and All Goods\n"
   ]
  },
  {
   "cell_type": "code",
   "execution_count": 38,
   "id": "1d229f43",
   "metadata": {},
   "outputs": [],
   "source": [
    "# Total output: sum rows\n",
    "io_GO = io.sum(axis=1)         # (NJ,1) # intermediate output: sum up for each row\n",
    "# fd_GO = fd_select.sum(axis=1)  # (NJ,1) # final output:sum up for each row. Previously, I incorrectely wrote fd_GO = fd.sum(axis=1)  \n",
    "fd_GO = fd.sum(axis=1)  # (NJ,1) # final output:sum up for each row. Previously, I incorrectely wrote fd_GO = fd.sum(axis=1)\n",
    "GO_temp    = io_GO + fd_GO         # (NJ,)\n",
    "\n",
    "GO = GO_temp.reshape(N, J, order=\"C\")  # (N,J) # row - country, col - sector\n",
    "\n",
    "go_file = os.path.join(save_path, \"GO_2017.csv\")\n",
    "pd.DataFrame(GO, index=country_list, columns=sector_list).to_csv(go_file)"
   ]
  },
  {
   "cell_type": "markdown",
   "id": "a69028dd",
   "metadata": {},
   "source": [
    "## $\\beta(N,J)$: Calibrate $\\gamma_n^j$ (value-added share) in production function "
   ]
  },
  {
   "cell_type": "code",
   "execution_count": 39,
   "id": "c4c67252",
   "metadata": {},
   "outputs": [
    {
     "name": "stdout",
     "output_type": "stream",
     "text": [
      "There are 23 values greater than 1. They have been replaced with 0.99.\n",
      "No values are less than 0.\n"
     ]
    }
   ],
   "source": [
    "# Value added accounts include: 1.Compensation of employees; 2.Taxes on production; 4.Net operating surplus; 5. Net mixed income; 6. Consumption of fixed capital\n",
    "# Value added accounts exclude: 3. Subsidies on production\n",
    "# Reason: for some countries, Subsidies on production is large negative number, resulting in the sum of VA negative\n",
    "\n",
    "va_total = np.delete(va, 2, axis=0).sum(axis=0)   # (N·J,)\n",
    "\n",
    "Gamma_vec = va_total / GO_temp                        # (N·J,)\n",
    "Gamma_nj  = Gamma_vec.reshape(N, J, order=\"C\")   # # row - country, col - sector\n",
    "\n",
    "\n",
    "gt_one = Gamma_nj > 1\n",
    "if gt_one.any():\n",
    "    print(f\"There are {gt_one.sum()} values greater than 1. They have been replaced with 0.99.\")\n",
    "    Gamma_nj[gt_one] = 0.99\n",
    "else:\n",
    "    print(\"No values are greater than 1.\")\n",
    "\n",
    "lt_zero = Gamma_nj < 0\n",
    "if lt_zero.any():\n",
    "    print(f\"There are {lt_zero.sum()} values less than 0. They have been replaced with 0.01.\")\n",
    "    Gamma_nj[lt_zero] = 0.01\n",
    "else:\n",
    "    print(\"No values are less than 0.\")\n",
    "\n",
    "# Since further adjustment may be needed, DO NOT save it now; save after calculating gamma_njk"
   ]
  },
  {
   "cell_type": "markdown",
   "id": "e5e97206",
   "metadata": {},
   "source": [
    "## $\\gamma(N,J,J)$: Calibarte $\\gamma_n^{j,k}$\n",
    "\n",
    "Note: gamma(n,j,k) refers to the share of input from sector k in the production of nj \n",
    "NOTE: the last dimension (k) is from sector in this code, j dimension is destination sector in this code"
   ]
  },
  {
   "cell_type": "code",
   "execution_count": 40,
   "id": "60162727",
   "metadata": {},
   "outputs": [
    {
     "name": "stdout",
     "output_type": "stream",
     "text": [
      "NA values have been handled.\n",
      "No values less than 0 or greater than 1 found in Gamma_nj_k.\n"
     ]
    }
   ],
   "source": [
    "# Step 1: sum up over sectors\n",
    "# Sum up each sectors. eg. sector 1 = sum of sector 1 of each countries (row1, row1+J, row1+2J...)\n",
    "# The aim is to sum up all goods from the same sector across countries (no matter where they from)\n",
    "\n",
    "io_sector_sum = io.reshape(N, J, -1).sum(axis=0)      # (J, N*J) # first reshape to (N,J,NJ),then, sum up over N, that is ,sum up across sectors no matter where they comes from \n",
    "\n",
    "# Step 2: Calculate Total Input (column sums)\n",
    "total_input = io.sum(axis=0)                          # (N*J,)\n",
    "\n",
    "# Step 3: Gamma_k_nj: row are the input sectors; colums are user \"country-sector\"\n",
    "with np.errstate(divide=\"ignore\", invalid=\"ignore\"):\n",
    "    Gamma_k_nj = io_sector_sum / total_input          # (J, N*J) \n",
    "Gamma_nj_k = Gamma_k_nj.T                             # (N*J, J) row - used by; col - from sector\n",
    "\n",
    "# Step 4: Check if Gamma_nj_k contains any NA values\n",
    "nan_mask = np.isnan(Gamma_nj_k)\n",
    "if nan_mask.any():\n",
    "    rows_with_nan = np.where(nan_mask.any(axis=1))[0]   \n",
    "    n_idx = rows_with_nan // J\n",
    "    j_idx = rows_with_nan %  J\n",
    "    Gamma_nj[n_idx, j_idx] = 0.9999\n",
    "    Gamma_nj_k[nan_mask] = 0.0001\n",
    "    print(\"NA values have been handled.\")\n",
    "else:\n",
    "    print(\"No NA values found in Gamma_nj_k.\")\n",
    "\n",
    "# NA appears because input of \"KOR - Recycling\", \"ESP - Others\" are all zeros across all coutries and sectors\n",
    "\n",
    "# Step 5: Check and handle values less than 0 or greater than 1 in Gamma_nj_k\n",
    "lt_zero = Gamma_nj_k < 0\n",
    "if lt_zero.any():\n",
    "    rows = np.where(lt_zero.any(axis=1))[0]\n",
    "    n_idx = rows // J\n",
    "    j_idx = rows %  J\n",
    "    Gamma_nj_k[lt_zero] = 0.0001\n",
    "    Gamma_nj[n_idx, j_idx] = 0.9999\n",
    "    handled = True\n",
    "else:\n",
    "    handled = False\n",
    "\n",
    "gt_one = Gamma_nj_k > 1\n",
    "if gt_one.any():\n",
    "    rows = np.where(gt_one.any(axis=1))[0]\n",
    "    n_idx = rows // J\n",
    "    j_idx = rows %  J\n",
    "    Gamma_nj_k[gt_one] = 0.9999\n",
    "    Gamma_nj[n_idx, j_idx] = 0.0001\n",
    "    handled = True\n",
    "\n",
    "print(\"Values less than 0 or greater than 1 have been handled.\" if handled\n",
    "    else \"No values less than 0 or greater than 1 found in Gamma_nj_k.\")\n",
    "\n",
    "# Step 6: Adjust to meet the model\n",
    "row_sum = Gamma_nj_k.sum(axis=1)             # (N*J,)\n",
    "row_rest = 1.0 - Gamma_nj.ravel(order=\"C\")   # (N*J,)\n",
    "\n",
    "\n",
    "scale = row_rest / row_sum  \n",
    "Gamma_nj_k *= scale[:, None] # (NJ,J)\n",
    "\n"
   ]
  },
  {
   "cell_type": "code",
   "execution_count": 41,
   "id": "07170497",
   "metadata": {},
   "outputs": [
    {
     "name": "stdout",
     "output_type": "stream",
     "text": [
      "Every value in beta is between 0 and 1 ✅\n"
     ]
    }
   ],
   "source": [
    "# Check \n",
    "\n",
    "beta = Gamma_nj.copy()  # beta is the variable name used in model simulation\n",
    "\n",
    "# Check: Every value in beta is between 0 and 1\n",
    "check_range = np.all((beta >= 0) & (beta <= 1))\n",
    "if check_range:\n",
    "    print(\"Every value in beta is between 0 and 1 ✅\")\n",
    "else:\n",
    "    print(\"There are values in beta that are not between 0 and 1 ❌\")\n",
    "    print(\"These values are at positions:\", np.where((beta < 0) | (beta > 1)))\n",
    "    print(\"The values are:\", beta[(beta < 0) | (beta > 1)])\n",
    "\n"
   ]
  },
  {
   "cell_type": "code",
   "execution_count": 42,
   "id": "ccb1d833",
   "metadata": {},
   "outputs": [
    {
     "name": "stdout",
     "output_type": "stream",
     "text": [
      "Every value in gamma is between 0 and 1 ✅\n",
      "Condition satisfied: sum(k) gamma[n, j, k] + beta[n, j] = 1 ✅\n"
     ]
    }
   ],
   "source": [
    "# Check \n",
    "# Check 1: Every value in gamma is between 0 and 1\n",
    "\n",
    "gamma = Gamma_nj_k.reshape((N, J, J)) # gamma is the variable name used in model simulation:  $gamma(n, j, k)$ : country n, using sector j, producing sector k\n",
    "\n",
    "invalid_values = (gamma < 0) | (gamma > 1)\n",
    "\n",
    "if np.any(invalid_values):\n",
    "    print(\"There are values in gamma that are not between 0 and 1 ❌\")\n",
    "    print(\"These values are at positions:\", np.where(invalid_values))\n",
    "    print(\"The values are:\", gamma[invalid_values])\n",
    "else:\n",
    "    print(\"Every value in gamma is between 0 and 1 ✅\")\n",
    "\n",
    "# Check 2: sum(k) gamma[n,j,k] + beta[n,j] = 1\n",
    "temp = np.sum(gamma, axis = 2) + beta\n",
    "is_valid = np.allclose(temp, 1, atol = 1e-5)\n",
    "\n",
    "if is_valid:\n",
    "    print(\"Condition satisfied: sum(k) gamma[n, j, k] + beta[n, j] = 1 ✅\")\n",
    "else:\n",
    "    print(\"Condition not satisfied: sum(k) gamma[n, k, j] + beta[n, j] ≠ 1 ❌\")\n",
    "    print(\"Positions where the condition fails:\", np.where(~np.isclose(temp, 1, atol=1e-5)))\n",
    "    print(\"Values that do not satisfy the condition:\", temp[~np.isclose(temp, 1, atol=1e-5)])"
   ]
  },
  {
   "cell_type": "code",
   "execution_count": 43,
   "id": "a051cab1",
   "metadata": {},
   "outputs": [
    {
     "name": "stdout",
     "output_type": "stream",
     "text": [
      "Gamma_njk_2017.csv and Gamma_nj_2017.csv saved successfully.\n"
     ]
    }
   ],
   "source": [
    "# Save to csv\n",
    "gamma_njk_df = pd.DataFrame(Gamma_nj_k,\n",
    "                            index=[f\"{country}_{sector}\"\n",
    "                                for country in country_list\n",
    "                                for sector  in sector_list],\n",
    "                            columns=sector_list)\n",
    "\n",
    "gamma_nj_df  = pd.DataFrame(Gamma_nj,\n",
    "                            index=country_list,\n",
    "                            columns=sector_list)\n",
    "\n",
    "gamma_njk_df.to_csv(os.path.join(save_path, \"Gamma_njk_2017.csv\"))\n",
    "gamma_nj_df.to_csv (os.path.join(save_path, \"Gamma_nj_2017.csv\"))\n",
    "\n",
    "print(\"Gamma_njk_2017.csv and Gamma_nj_2017.csv saved successfully.\")"
   ]
  },
  {
   "cell_type": "markdown",
   "id": "a8ecfddf",
   "metadata": {},
   "source": [
    "## VA: shape (N, )"
   ]
  },
  {
   "cell_type": "code",
   "execution_count": 44,
   "id": "f114bcdf",
   "metadata": {},
   "outputs": [
    {
     "name": "stdout",
     "output_type": "stream",
     "text": [
      "Every country's value added is greater than 0 ✅\n"
     ]
    }
   ],
   "source": [
    "va_matrix = va_total.reshape(N, J)   \n",
    "\n",
    "VA = va_matrix.sum(axis=1)\n",
    "\n",
    "df_va = pd.DataFrame({\n",
    "    \"Country\": country_list,\n",
    "    \"ValueAdded\": VA\n",
    "})\n",
    "\n",
    "df_va.to_csv(\"3_Result/parameters/VA.csv\", index=False, encoding=\"utf-8\")\n",
    "\n",
    "\n",
    "# Check if every value in VA is greater than 0\n",
    "check_positive = np.all(VA > 0)\n",
    "if check_positive:\n",
    "    print(\"Every country's value added is greater than 0 ✅\")\n",
    "else:\n",
    "    print(\"There are values in VA that are less than or equal to 0 ❌\")\n",
    "    print(\"These values are at positions:\", np.where(VA <= 0))\n",
    "    print(\"The values are:\", VA[VA <= 0])"
   ]
  },
  {
   "cell_type": "markdown",
   "id": "1a65bfc9",
   "metadata": {},
   "source": [
    "# Part II: Run this part after running \"3_Estimate_TradeCost.ipynb\"\n"
   ]
  },
  {
   "cell_type": "markdown",
   "id": "3d17be9d",
   "metadata": {},
   "source": [
    "## $\\theta_n$\n",
    "\n",
    "As that decided in \"3_Estimate_TradeCost.ipynb\""
   ]
  },
  {
   "cell_type": "code",
   "execution_count": 45,
   "id": "f22eacfb",
   "metadata": {},
   "outputs": [],
   "source": [
    "# Trade elasticity: take from \"Bolhuis, M. A., Chen, M. J., & Kett, B. R. (2023). Fragmentation in global trade: Accounting for commodities. International Monetary Fund.\"\n",
    "\n",
    "##############  Sector megering case ######################\n",
    "\n",
    "# 1 Agriculture, Fishing: 2.91                               \n",
    "# 2 Mining and Quarrying: 3.41                               \n",
    "# 3 Food & Beverages: 4.17                                     \n",
    "# 4 Textiles and Wearing Apparel: 4.71\n",
    "# 5 Wood and Paper: (8.8 + 8.21) /2 = 8.505                                                                    \n",
    "# 6 Petroleum, Chemical and Non-Metallic Mineral Products:  (3.67 + 10.56 + 6.75 + 4.79)/4 = 6.4425\n",
    "# 7 Metal Products: （7.39 + 4.22）/2 = 5.805\n",
    "# 8 Electrical and Machinery:  (5.01 + 5.14 + 4.11) /3 = 4.753                                                      \n",
    "# 9 Transport Equipment: (8.92 + 8.99)/2 = 8.955                               \n",
    "# 10 Other Manufacturing, Recycling :  4.06                \n",
    "# ---------------------------------------------------------------------\n",
    "# Services sectors: 8.35\n",
    "\n",
    "theta = np.array([2.91, 3.14, 4.17, 4.71, 8.505, 6.4425, 5.805, 4.753, 8.955, 4.06,\n",
    "                8.35, 8.35, 8.35, 8.35, 8.35, 8.35, 8.35, 8.35, 8.35, 8.35, 8.35, 8.35, 8.35])\n",
    "\n"
   ]
  },
  {
   "cell_type": "markdown",
   "id": "9af21eed",
   "metadata": {},
   "source": [
    "## $\\tilde{\\tau}$: shape $(N, N, J)$\n",
    "The tariff rate vector, the $(n, i, j)$ denote the $(1+\\tau)$ tariff rate of country $n$ on country $i$ for goods of sector $j$"
   ]
  },
  {
   "cell_type": "code",
   "execution_count": 46,
   "id": "a692fc9f",
   "metadata": {},
   "outputs": [],
   "source": [
    "# Import tariff data constructed in \"3_Estimate_TradeCost.ipynb\"\n",
    "# Here I choose \"tariff\" column to apply to my model\n",
    "\n",
    "tariff_all  = pd.read_csv(os.path.join(save_path, \"All_Tariff_2017.csv\"))\n",
    "tariff_df  = tariff_all .iloc[:, 1:]\n",
    "tariff_df = tariff_df[['Importer', 'Exporter', 'Sector', \"tariff\"]]\n",
    "\n",
    "tariff_df['Exporter_Sector'] = tariff_df['Exporter'] + '_' + tariff_df['Sector']\n",
    "tariff_df['Importer'] = pd.Categorical(\n",
    "    tariff_df['Importer'],\n",
    "    categories=tariff_df['Importer'].unique(),\n",
    "    ordered=True\n",
    ")\n",
    "tariff_df['Exporter_Sector'] = pd.Categorical(\n",
    "    tariff_df['Exporter_Sector'],\n",
    "    categories=tariff_df['Exporter_Sector'].unique(),\n",
    "    ordered=True\n",
    ")\n",
    "\n",
    "# pivot and reshape\n",
    "tariff_matrix = tariff_df.pivot_table(\n",
    "    index='Importer',\n",
    "    columns='Exporter_Sector',\n",
    "    values='tariff',\n",
    "    aggfunc='first',\n",
    "    observed=False\n",
    ")\n",
    "tariff_np   = tariff_matrix.to_numpy()\n",
    "tariff_base = tariff_np.reshape((N, N, J))\n",
    "\n",
    "# Construct tilde_tau\n",
    "# tilde_tau[n,i,j]: country n's tariff on goods j from contry i (n:importer, i:exporte)\n",
    "tilde_tau = tariff_base + 1\n"
   ]
  },
  {
   "cell_type": "markdown",
   "id": "51af6859",
   "metadata": {},
   "source": [
    "## Xf(N,J) and Xm(N,J): Calculate Expenditure for final goods and intermediate goods\n",
    "\n",
    "This is not necessary for model simulation; just for check"
   ]
  },
  {
   "cell_type": "code",
   "execution_count": 47,
   "id": "e20424fa",
   "metadata": {},
   "outputs": [],
   "source": [
    "# The observed data is basic price\n",
    "\n",
    "# To obatin X in purchase price, we multiply by tau (1 + tariff)\n",
    "\n",
    "Mm_temp = io.reshape(N, J, N, J).sum(axis = 3) # (exporter, sector, importer)\n",
    "Mm = Mm_temp.transpose(2, 0, 1)  # (importer, exporter, sector) \n",
    "# adjust by \\tau\n",
    "tau_esI = np.transpose(tilde_tau, (1, 2, 0))   \n",
    "\n",
    "Xm_bilateral = Mm_temp * tau_esI # (exporter, sector, importer)\n",
    "Xm  =  Xm_bilateral.sum(axis = 0 ).T   # (N,J)\n",
    "\n",
    "\n",
    "Mf_temp = fd.reshape(N,J,N,fd_n).sum(axis = 3) # (exporter, sector, importer)\n",
    "Mf = Mf_temp.transpose(2, 0, 1)  # (importer, exporter, sector)\n",
    "Xf_bilateral = Mf_temp  * tau_esI # (exporter, sector, importer)\n",
    "Xf  =  Xf_bilateral.sum(axis = 0 ).T # (N,J)  \n",
    "\n",
    "M = Mm + Mf   # (importer, exporter, sector) \n",
    "\n",
    "X = Xf + Xm  # (N,J)\n",
    "\n",
    "\n",
    "# save\n",
    "df_X = pd.DataFrame(X,\n",
    "                index=country_list,\n",
    "                columns=sector_list)\n",
    "df_X.to_csv(\"3_Result/parameters/X.csv\", index=False, encoding=\"utf-8\")\n",
    "\n",
    "df_Xm = pd.DataFrame(Xm,\n",
    "                index=country_list,\n",
    "                columns=sector_list)\n",
    "df_Xm.to_csv(\"3_Result/parameters/Xm.csv\", index=False, encoding=\"utf-8\")\n",
    "\n",
    "\n",
    "df_Xf = pd.DataFrame(Xf,\n",
    "                index=country_list,\n",
    "                columns=sector_list)\n",
    "df_Xf.to_csv(\"3_Result/parameters/Xf.csv\", index=False, encoding=\"utf-8\")\n",
    "\n"
   ]
  },
  {
   "cell_type": "markdown",
   "id": "cd5d9609",
   "metadata": {},
   "source": [
    "##  $D_n$: Trade Deficit (Import - Export)"
   ]
  },
  {
   "cell_type": "code",
   "execution_count": 48,
   "id": "13e3eef0",
   "metadata": {},
   "outputs": [],
   "source": [
    "# M: shape (N, N, J)\n",
    "imports = M.sum(axis=1)   # shape (N, J) ─ Σ_i M_{n i}^j\n",
    "exports = M.sum(axis=0)   # shape (N, J) ─ Σ_i M_{i n}^j\n",
    "\n",
    "D_nj = imports - exports     # shape (N, J) ─ D_n^j\n",
    "\n",
    "D = D_nj.sum(axis=1) # D.shape (N,)\n",
    "\n",
    "df = pd.DataFrame({\n",
    "    'Country': country_list,\n",
    "    'IM  - EX': D\n",
    "})\n",
    "\n",
    "df.to_csv(\"3_Result/parameters/D.csv\", index=False, encoding=\"utf-8\")\n"
   ]
  },
  {
   "cell_type": "markdown",
   "id": "2a61f378",
   "metadata": {},
   "source": [
    "## pif,pim,pit(N,N,J): Calibrate intermediate goods trade share $\\pi_{ni}^{j,I}$, final goods trade share $\\pi_{ni}^{j,F}$, and total trade share $\\pi_{ni}^{j}$\n",
    "\n",
    "pi(n,i,j) n is  importer, i is exporter, j is sector"
   ]
  },
  {
   "cell_type": "code",
   "execution_count": 49,
   "id": "985bc263",
   "metadata": {},
   "outputs": [
    {
     "name": "stdout",
     "output_type": "stream",
     "text": [
      "       final ✅ Consition satisfied: ∑₍i₎ π[final][n,i,j] = 1\n",
      "intermediate ✅ Consition satisfied: ∑₍i₎ π[intermediate][n,i,j] = 1\n",
      "         all ✅ Consition satisfied: ∑₍i₎ π[all][n,i,j] = 1\n"
     ]
    }
   ],
   "source": [
    "Xf_nij= Xf_bilateral.transpose(2, 0, 1)  # (importer, exporter, sector)\n",
    "Xm_nij = Xm_bilateral.transpose(2, 0, 1)  # (importer, exporter, sector)\n",
    "X_nij = Xf_nij + Xm_nij  # (importer, exporter, sector)\n",
    "\n",
    "\n",
    "# Total trade share\n",
    "denom = X_nij.sum(axis=1, keepdims=True)        # shape (N, 1, J)\n",
    "with np.errstate(divide=\"ignore\", invalid=\"ignore\"):\n",
    "    pi = np.divide(X_nij, denom, where=denom != 0)   \n",
    "    pi = np.nan_to_num(pi)\n",
    "\n",
    "# Intermediate goods trade share\n",
    "denom = Xm_nij.sum(axis=1, keepdims=True)        # shape (N, 1, J)\n",
    "with np.errstate(divide=\"ignore\", invalid=\"ignore\"):\n",
    "    pim = np.divide(Xm_nij, denom, where=denom != 0)   \n",
    "    pim = np.nan_to_num(pim)\n",
    "\n",
    "\n",
    "# Final goods trade share\n",
    "denom = Xf_nij.sum(axis=1, keepdims=True)        # shape (N, 1, J)\n",
    "with np.errstate(divide=\"ignore\", invalid=\"ignore\"):\n",
    "    pif = np.divide(Xf_nij, denom, where=denom != 0)   \n",
    "    pif = np.nan_to_num(pif)\n",
    "\n",
    "pi_sets = {\n",
    "    \"final\": pif,\n",
    "    \"intermediate\": pim,\n",
    "    \"all\": pi\n",
    "}\n",
    "\n",
    "tol = 1e-5\n",
    "for name, pi in pi_sets.items():\n",
    "    temp = np.sum(pi, axis=1)\n",
    "    is_valid = np.allclose(temp, 1, atol=tol)\n",
    "\n",
    "    if is_valid:\n",
    "        print(f\"{name:>12} ✅ Consition satisfied: ∑₍i₎ π[{name}][n,i,j] = 1\")\n",
    "    else:\n",
    "        bad = ~np.isclose(temp, 1, atol=tol)\n",
    "        print(f\"{name:>12} ❌ Consition not satisfied：there are {bad.sum()} positions not equal to 1\")\n",
    "        print(\"  Position (n,j)：\", np.argwhere(bad))\n",
    "        print(\"  Actual sum：\", temp[bad])\n"
   ]
  },
  {
   "cell_type": "markdown",
   "id": "e0fd55cf",
   "metadata": {},
   "source": [
    "# Check"
   ]
  },
  {
   "cell_type": "code",
   "execution_count": 50,
   "id": "3c3ec4ff",
   "metadata": {},
   "outputs": [],
   "source": [
    "from equilibrium import equilibrium\n",
    "from cp_functions import *\n",
    "\n",
    "kappa_base = np.ones((N,N,J))\n",
    "\n",
    "w_hat_initial = np.ones(N)\n",
    "P_hat_initial = np.ones((N, J)) \n",
    "\n",
    "D_2 = -D\n",
    "\n",
    "g_tem = gamma.copy()  # gamma is the variable name used in model simulation\n",
    "gamma_TRY = g_tem.transpose(0, 2, 1)  "
   ]
  },
  {
   "cell_type": "code",
   "execution_count": 51,
   "id": "005c9f4e",
   "metadata": {},
   "outputs": [
    {
     "name": "stdout",
     "output_type": "stream",
     "text": [
      "Round 1: w_hat_min = 0.9847631708725898, w_hat_max = 1.007157075187992, min_X_prime = 14376.477628654764, max_X_prime = 9824589673.931076, wfmax = 0.0152368291274102, Pfmax = 2.220446049250313e-16 \n",
      "Round 2: w_hat_min = 0.9724873247434175, w_hat_max = 1.0134391559220177, min_X_prime = 14353.687740003581, max_X_prime = 9871657459.359821, wfmax = 0.012275846129172319, Pfmax = 0.01217136238906924 \n",
      "Round 3: w_hat_min = 0.9640731215134909, w_hat_max = 1.0186328347280125, min_X_prime = 14333.40180954995, max_X_prime = 9905582482.76643, wfmax = 0.008414203229926587, Pfmax = 0.010048545465693226 \n",
      "Round 4: w_hat_min = 0.9591435304528648, w_hat_max = 1.0227826960832436, min_X_prime = 14315.303584797188, max_X_prime = 9930487919.592762, wfmax = 0.005056638535977487, Pfmax = 0.008079063772684525 \n",
      "Round 5: w_hat_min = 0.9567804701159743, w_hat_max = 1.0260348727344408, min_X_prime = 14300.662305652924, max_X_prime = 9949131859.288157, wfmax = 0.0032521766511972583, Pfmax = 0.006150424871183557 \n",
      "Round 6: w_hat_min = 0.9559897901884022, w_hat_max = 1.0285598824609947, min_X_prime = 14290.685537700083, max_X_prime = 9963397172.461882, wfmax = 0.002525009726553895, Pfmax = 0.004335072730647371 \n",
      "Round 7: w_hat_min = 0.9559671006796695, w_hat_max = 1.0305161168103611, min_X_prime = 14285.446005259291, max_X_prime = 9974537729.199673, wfmax = 0.001956234349366426, Pfmax = 0.0029749916452763703 \n",
      "Round 8: w_hat_min = 0.9561883555624114, w_hat_max = 1.0320355333519047, min_X_prime = 14283.976184344641, max_X_prime = 9983369752.99649, wfmax = 0.001519416541543528, Pfmax = 0.0020629850864095634 \n",
      "Round 9: w_hat_min = 0.9563845385870984, w_hat_max = 1.033221468264019, min_X_prime = 14284.849730165362, max_X_prime = 9990429889.875599, wfmax = 0.0011859349121143836, Pfmax = 0.0016411432113546676 \n",
      "Round 10: w_hat_min = 0.9564650104485738, w_hat_max = 1.0341521542843173, min_X_prime = 14286.732406775545, max_X_prime = 9996088326.85405, wfmax = 0.0009306860202982215, Pfmax = 0.001290116573293476 \n",
      "Round 11: w_hat_min = 0.956436887306429, w_hat_max = 1.0348860347285405, min_X_prime = 14288.683924122564, max_X_prime = 10000618853.214035, wfmax = 0.0007338804442231783, Pfmax = 0.0010128134133845501 \n",
      "Round 12: w_hat_min = 0.9563441142415348, w_hat_max = 1.0354668432869971, min_X_prime = 14290.212527924788, max_X_prime = 10004237156.407715, wfmax = 0.000580808558456658, Pfmax = 0.0007588743356210514 \n",
      "Round 13: w_hat_min = 0.956231585024089, w_hat_max = 1.0359276689879602, min_X_prime = 14291.179156503205, max_X_prime = 10007119699.96055, wfmax = 0.0004608257009630634, Pfmax = 0.0005991693902089867 \n",
      "Round 14: w_hat_min = 0.9561298760182319, w_hat_max = 1.0362939149101096, min_X_prime = 14291.653269312188, max_X_prime = 10009412571.194069, wfmax = 0.00036624592214939966, Pfmax = 0.000474637492956953 \n",
      "Round 15: w_hat_min = 0.9560530770222644, w_hat_max = 1.0365853488169539, min_X_prime = 14291.78676052022, max_X_prime = 10011236063.564571, wfmax = 0.00029143390684427395, Pfmax = 0.0003768448962384596 \n",
      "Round 16: w_hat_min = 0.9560028778494861, w_hat_max = 1.036817505344096, min_X_prime = 14291.732260809933, max_X_prime = 10012687920.154686, wfmax = 0.00023215652714214663, Pfmax = 0.00029967945505071647 \n",
      "Round 17: w_hat_min = 0.9559741961492533, w_hat_max = 1.0370026606912874, min_X_prime = 14291.604855329562, max_X_prime = 10013846388.180286, wfmax = 0.00018515534719143467, Pfmax = 0.00023861961351845373 \n",
      "Round 18: w_hat_min = 0.9559598397036606, w_hat_max = 1.0371505359545192, min_X_prime = 14291.47417163257, max_X_prime = 10014773317.529808, wfmax = 0.00014787526323178923, Pfmax = 0.00019023607455270763 \n",
      "Round 19: w_hat_min = 0.9559533622962745, w_hat_max = 1.0372688274818103, min_X_prime = 14291.372353951865, max_X_prime = 10015517175.923985, wfmax = 0.00011829152729103676, Pfmax = 0.0001518704412410976 \n",
      "Round 20: w_hat_min = 0.9559502517824663, w_hat_max = 1.0373636216797095, min_X_prime = 14291.30705777026, max_X_prime = 10016115791.574005, wfmax = 9.585617734075846e-05, Pfmax = 0.00012143117341900656 \n",
      "Round 21: w_hat_min = 0.9559479924868852, w_hat_max = 1.0374397265841044, min_X_prime = 14291.273292811351, max_X_prime = 10016598696.047855, wfmax = 7.923251902230977e-05, Pfmax = 9.726077309135661e-05 \n",
      "Round 22: w_hat_min = 0.9559455744284348, w_hat_max = 1.0375009388550656, min_X_prime = 14291.261717696578, max_X_prime = 10016989026.21141, wfmax = 6.540896528828277e-05, Pfmax = 8.261007586041202e-05 \n",
      "Round 23: w_hat_min = 0.9559428734815189, w_hat_max = 1.0375502582046172, min_X_prime = 14291.263285918225, max_X_prime = 10017305010.667797, wfmax = 5.393987109225673e-05, Pfmax = 8.206736261007208e-05 \n",
      "Round 24: w_hat_min = 0.9559401379535473, w_hat_max = 1.0375900582779976, min_X_prime = 14291.271157874651, max_X_prime = 10017561102.397923, wfmax = 4.444231821676414e-05, Pfmax = 8.15016051862738e-05 \n",
      "Round 25: w_hat_min = 0.9559376629992603, w_hat_max = 1.0376222216053697, min_X_prime = 14291.280979494346, max_X_prime = 10017768830.33858, wfmax = 3.6589743154458176e-05, Pfmax = 8.091897185247277e-05 \n",
      "Round 26: w_hat_min = 0.9559356395243879, w_hat_max = 1.0376482453403333, min_X_prime = 14291.29041123539, max_X_prime = 10017937437.978455, wfmax = 3.0105560060667003e-05, Pfmax = 8.032408465830088e-05 \n",
      "Round 27: w_hat_min = 0.9559341235549886, w_hat_max = 1.037669323661625, min_X_prime = 14291.298465268206, max_X_prime = 10018074365.219505, wfmax = 2.4756923993507485e-05, Pfmax = 7.972051388160928e-05 \n",
      "Round 28: w_hat_min = 0.9559330679395112, w_hat_max = 1.037686411831732, min_X_prime = 14291.304926675995, max_X_prime = 10018185616.422798, wfmax = 2.0348797401648078e-05, Pfmax = 7.911107899849501e-05 \n",
      "Round 29: w_hat_min = 0.9559323723733162, w_hat_max = 1.0377002760162006, min_X_prime = 14291.309947571262, max_X_prime = 10018276045.712433, wfmax = 1.671846354089901e-05, Pfmax = 7.849803441273284e-05 \n",
      "Round 30: w_hat_min = 0.9559319264759804, w_hat_max = 1.0377115321352057, min_X_prime = 14291.313805355072, max_X_prime = 10018349581.337154, wfmax = 1.3730585313953547e-05, Pfmax = 7.788318978840802e-05 \n",
      "Round 31: w_hat_min = 0.9559316363682151, w_hat_max = 1.0377206762930222, min_X_prime = 14291.316780628491, max_X_prime = 10018409404.20023, wfmax = 1.1272855034105689e-05, Pfmax = 7.726799452301147e-05 \n",
      "Round 32: w_hat_min = 0.9559314351486204, w_hat_max = 1.0377281087326342, min_X_prime = 14291.319108335096, max_X_prime = 10018458091.106304, wfmax = 9.252233896028805e-06, Pfmax = 7.665360249753395e-05 \n",
      "Round 33: w_hat_min = 0.9559312821718943, w_hat_max = 1.037734152790532, min_X_prime = 14291.320967139978, max_X_prime = 10018497730.268936, wfmax = 7.591746059465443e-06, Pfmax = 7.604092512980554e-05 \n",
      "Round 34: w_hat_min = 0.9559311567336727, w_hat_max = 1.0377390699658924, min_X_prime = 14291.322485295283, max_X_prime = 10018530014.664146, wfmax = 6.22777252456963e-06, Pfmax = 7.5430676302779e-05 \n",
      "Round 35: w_hat_min = 0.9559310504994456, w_hat_max = 1.0377430719483418, min_X_prime = 14291.323751504136, max_X_prime = 10018556317.520378, wfmax = 5.107781853364024e-06, Pfmax = 7.482341062103881e-05 \n",
      "Round 36: w_hat_min = 0.9559309611790016, w_hat_max = 1.037746330248633, min_X_prime = 14291.324825693511, max_X_prime = 10018577753.341068, wfmax = 4.188434870044944e-06, Pfmax = 7.421955562703086e-05 \n",
      "Round 37: w_hat_min = 0.9559308883598729, w_hat_max = 1.0377489839288196, min_X_prime = 14291.325747950661, max_X_prime = 10018595227.202473, wfmax = 3.4340053537418314e-06, Pfmax = 7.361943844474972e-05 \n",
      "Round 38: w_hat_min = 0.9559308313880875, w_hat_max = 1.0377511458185469, min_X_prime = 14291.326545337011, max_X_prime = 10018609474.561607, wfmax = 2.8150658003545104e-06, Pfmax = 7.302330738956364e-05 \n",
      "Round 39: w_hat_min = 0.9559307887143164, w_hat_max = 1.0377529075212268, min_X_prime = 14291.327236798603, max_X_prime = 10018621093.399239, wfmax = 2.3073947299501185e-06, Pfmax = 7.24313491856643e-05 \n",
      "Round 40: w_hat_min = 0.9559307580498558, w_hat_max = 1.0377543434505208, min_X_prime = 14291.327836511076, max_X_prime = 10018630570.183294, wfmax = 1.8910690512408124e-06, Pfmax = 7.184370249224692e-05 \n",
      "Round 41: w_hat_min = 0.9559307368150175, w_hat_max = 1.0377555140884005, min_X_prime = 14291.328355997957, max_X_prime = 10018638300.856287, wfmax = 1.5497109192574854e-06, Pfmax = 7.126046842886868e-05 \n",
      "Round 42: w_hat_min = 0.955930722565284, w_hat_max = 1.0377564686175007, min_X_prime = 14291.32880533646, max_X_prime = 10018644607.817043, wfmax = 1.2698636512320505e-06, Pfmax = 7.06817187234865e-05 \n",
      "Round 43: w_hat_min = 0.9559307132601791, w_hat_max = 1.037757247049925, min_X_prime = 14291.329193733844, max_X_prime = 10018649753.676605, wfmax = 1.0404752889270341e-06, Pfmax = 7.010750201519311e-05 \n",
      "Round 44: w_hat_min = 0.9559307073600781, w_hat_max = 1.037757881950389, min_X_prime = 14291.329529715567, max_X_prime = 10018653952.413002, wfmax = 8.524719457003727e-07, Pfmax = 6.953784874563773e-05 \n"
     ]
    }
   ],
   "source": [
    "w_base, P_base, X_base, pi_base = equilibrium(gamma_TRY, beta, theta, tilde_tau, kappa_base, pi, alpha, VA, D_2, N, J, X, w_hat_initial, P_hat_initial)\n"
   ]
  },
  {
   "cell_type": "code",
   "execution_count": 52,
   "id": "da1a07eb",
   "metadata": {},
   "outputs": [
    {
     "data": {
      "text/plain": [
       "array([0.97033871, 0.96911607, 0.97387002, 0.99820079, 0.95593071,\n",
       "       0.97606713, 0.98658432, 0.97576458, 0.96835557, 0.99024819,\n",
       "       0.98648731, 0.97833887, 0.96259532, 0.96782096, 0.98152818,\n",
       "       1.01006971, 0.9860503 , 0.95696931, 0.97516203, 0.97440822,\n",
       "       1.03528361, 0.98272038, 0.97339196, 0.97339416, 0.97102776,\n",
       "       0.99308295, 0.96569517, 0.98838707, 0.9764247 , 0.97497409,\n",
       "       0.97841698, 0.99760393, 0.97766159, 0.98855539, 1.03775788,\n",
       "       0.97631686, 1.00836504])"
      ]
     },
     "execution_count": 52,
     "metadata": {},
     "output_type": "execute_result"
    }
   ],
   "source": [
    "w_base"
   ]
  },
  {
   "cell_type": "code",
   "execution_count": 23,
   "id": "74f360d9",
   "metadata": {},
   "outputs": [
    {
     "name": "stdout",
     "output_type": "stream",
     "text": [
      "N: shape=(), dtype=int64\n",
      "J: shape=(), dtype=int64\n",
      "country_list: shape=(37,), dtype=<U3\n",
      "sector_list: shape=(23,), dtype=<U36\n",
      "alpha: shape=(37, 23), dtype=float64\n",
      "beta: shape=(37, 23), dtype=float64\n",
      "gamma: shape=(37, 23, 23), dtype=float64\n",
      "theta: shape=(23,), dtype=float64\n",
      "pif: shape=(37, 37, 23), dtype=float64\n",
      "pim: shape=(37, 37, 23), dtype=float64\n",
      "pit: shape=(37, 37, 23), dtype=float64\n",
      "Xf: shape=(37, 23), dtype=float64\n",
      "Xm: shape=(37, 23), dtype=float64\n",
      "X: shape=(37, 23), dtype=float64\n",
      "tilde_tau: shape=(37, 37, 23), dtype=float64\n",
      "D: shape=(37,), dtype=float64\n",
      "VA: shape=(37,), dtype=float64\n"
     ]
    }
   ],
   "source": [
    "real_data = np.load('model_data_2017.npz')\n",
    "\n",
    "for name in real_data.files:\n",
    "    arr = real_data[name]\n",
    "    print(f\"{name}: shape={arr.shape}, dtype={arr.dtype}\")\n",
    "\n"
   ]
  },
  {
   "cell_type": "code",
   "execution_count": 25,
   "id": "8682043e",
   "metadata": {},
   "outputs": [],
   "source": [
    "N_R = int(real_data['N'])\n",
    "J_R = int(real_data['J'])\n",
    "country_list_R = [c.decode(\"utf-8\") if isinstance(c, bytes) else c\n",
    "                for c in real_data[\"country_list\"].tolist()]\n",
    "sector_list_R = [s.decode(\"utf-8\") if isinstance(s, bytes) else s\n",
    "                for s in real_data[\"sector_list\"].tolist()]\n",
    "theta_R = real_data['theta']\n",
    "X_R = real_data['X']  # X[n,j]: country n's total output in sector j\n",
    "alpha_R = real_data['alpha']\n",
    "beta_R = real_data['beta']\n",
    "gamma_R = real_data['gamma']\n",
    "pi_R = real_data['pit']\n"
   ]
  },
  {
   "cell_type": "code",
   "execution_count": 27,
   "id": "0f2a05d1",
   "metadata": {},
   "outputs": [
    {
     "name": "stdout",
     "output_type": "stream",
     "text": [
      "[N] ✔︎ 全部一致\n",
      "[J] ✔︎ 全部一致\n",
      "[alpha] ✔︎ 全部一致\n",
      "[beta] ✔︎ 全部一致\n",
      "[gamma] ❌ 不一致 15882 个；最大误差 0.461876 @ (np.int64(32), np.int64(6), np.int64(9))\n",
      "[theta] ✔︎ 全部一致\n",
      "\n",
      "=== 总计不一致元素数: 15882 ===\n"
     ]
    }
   ],
   "source": [
    "\n",
    "\n",
    "pairs_to_check = {\n",
    "    \"N\":     (N,      N_R),\n",
    "    \"J\":     (J,      J_R),\n",
    "    \"alpha\": (alpha,  alpha_R),\n",
    "    \"beta\":  (beta,   beta_R),\n",
    "    \"gamma\": (gamma_TRY,  gamma_R),\n",
    "    \"theta\": (theta,  theta_R),\n",
    "}\n",
    "\n",
    "ABS_TOL = 1e-3          # 仅按绝对误差判断，阈值 0.0001\n",
    "total_mismatch = 0\n",
    "report = []\n",
    "\n",
    "for name, (lhs, rhs) in pairs_to_check.items():\n",
    "    a, b = np.asarray(lhs), np.asarray(rhs)\n",
    "\n",
    "    # 形状不同直接记为全不一致\n",
    "    if a.shape != b.shape:\n",
    "        report.append(f\"[{name}] 形状不一致 {a.shape} vs {b.shape} → 计为全部不一致\")\n",
    "        mism = a.size\n",
    "    else:\n",
    "        diff = np.abs(a - b)\n",
    "        mask_equal = diff <= ABS_TOL          # 绝对误差≤阈值视为一致\n",
    "        mism = diff.size - mask_equal.sum()\n",
    "\n",
    "        if mism == 0:\n",
    "            report.append(f\"[{name}] ✔︎ 全部一致\")\n",
    "        else:\n",
    "            pos_max = np.unravel_index(diff.argmax(), a.shape)\n",
    "            max_err = diff[pos_max]\n",
    "            report.append(\n",
    "                f\"[{name}] ❌ 不一致 {mism} 个；最大误差 {max_err:.6g} @ {pos_max}\"\n",
    "            )\n",
    "\n",
    "    total_mismatch += mism\n",
    "\n",
    "print(\"\\n\".join(report))\n",
    "print(f\"\\n=== 总计不一致元素数: {total_mismatch} ===\")\n"
   ]
  },
  {
   "cell_type": "code",
   "execution_count": 53,
   "id": "b5e39a4a",
   "metadata": {},
   "outputs": [
    {
     "data": {
      "text/plain": [
       "'/Users/yaolangzhong/Dropbox/Carbon_Emission_Analysis_2017/volatility_analysis/Furusawa2023/data'"
      ]
     },
     "execution_count": 53,
     "metadata": {},
     "output_type": "execute_result"
    }
   ],
   "source": [
    "wd = \"/Users/yaolangzhong/Dropbox/Carbon_Emission_Analysis_2017/volatility_analysis/Furusawa2023/data\"\n",
    "os.chdir(wd)\n",
    "os.getcwd()"
   ]
  },
  {
   "cell_type": "code",
   "execution_count": 54,
   "id": "464f7953",
   "metadata": {},
   "outputs": [],
   "source": [
    "np.savez('data_2017.npz',\n",
    "        N = N,\n",
    "        S = J,\n",
    "        country_list = country_list, \n",
    "        sector_list = sector_list, \n",
    "        alpha = alpha, \n",
    "        beta = beta, \n",
    "        gamma = gamma, \n",
    "        theta = theta, \n",
    "        pif = pif,\n",
    "        pim = pim,\n",
    "        pi = pi,\n",
    "        Xf = Xf,\n",
    "        Xm = Xm,\n",
    "        X = X,\n",
    "        tilde_tau = tilde_tau,\n",
    "        D = D, \n",
    "        V = VA)"
   ]
  },
  {
   "cell_type": "code",
   "execution_count": null,
   "id": "c89bb472",
   "metadata": {},
   "outputs": [],
   "source": []
  },
  {
   "cell_type": "code",
   "execution_count": null,
   "id": "a1a325ac",
   "metadata": {},
   "outputs": [],
   "source": []
  }
 ],
 "metadata": {
  "kernelspec": {
   "display_name": "base",
   "language": "python",
   "name": "python3"
  },
  "language_info": {
   "codemirror_mode": {
    "name": "ipython",
    "version": 3
   },
   "file_extension": ".py",
   "mimetype": "text/x-python",
   "name": "python",
   "nbconvert_exporter": "python",
   "pygments_lexer": "ipython3",
   "version": "3.12.2"
  }
 },
 "nbformat": 4,
 "nbformat_minor": 5
}

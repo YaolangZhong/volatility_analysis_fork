{
 "cells": [
  {
   "cell_type": "markdown",
   "id": "48631718",
   "metadata": {},
   "source": [
    "Run this file after running \"1_Clean_Eora.ipynb\"\n",
    "\n",
    "This file is used to generate paratmers used for estimating trade cost and running models"
   ]
  },
  {
   "cell_type": "markdown",
   "id": "317933fb",
   "metadata": {},
   "source": [
    "# Set up"
   ]
  },
  {
   "cell_type": "code",
   "execution_count": 1,
   "id": "e03bf538",
   "metadata": {},
   "outputs": [],
   "source": [
    "import os\n",
    "import pandas as pd \n",
    "import numpy as np\n"
   ]
  },
  {
   "cell_type": "code",
   "execution_count": 3,
   "id": "05de93fe",
   "metadata": {},
   "outputs": [
    {
     "name": "stdout",
     "output_type": "stream",
     "text": [
      "Current working directory: /Users/yaolangzhong/Dropbox/Tariff_Project_2017\n",
      "Cleaned Eora data folder: /Users/yaolangzhong/Dropbox/Tariff_Project_2017/3_Result/eora_clean\n"
     ]
    }
   ],
   "source": [
    "# Set working directory\n",
    "wd = os.path.expanduser(\"~/Dropbox/Tariff_Project_2017\")\n",
    "os.chdir(wd)\n",
    "print(f\"Current working directory: {os.getcwd()}\")\n",
    "\n",
    "# 3. Define data paths and parameters\n",
    "# Path to raw Eora BP data\n",
    "data_path = os.path.join(wd, \"3_Result/eora_clean\")\n",
    "\n",
    "\n",
    "save_path = os.path.join(wd, \"3_Result/parameters\")\n",
    "\n",
    "\n",
    "# Verify paths\n",
    "print(f\"Cleaned Eora data folder: {data_path}\")"
   ]
  },
  {
   "cell_type": "markdown",
   "id": "a427432c",
   "metadata": {},
   "source": [
    "# Part I ： Run this part after running \"1_Clean_Eora.ipynb\""
   ]
  },
  {
   "cell_type": "code",
   "execution_count": 4,
   "id": "ccdd1148",
   "metadata": {},
   "outputs": [
    {
     "name": "stdout",
     "output_type": "stream",
     "text": [
      "N = 37, J = 23\n"
     ]
    }
   ],
   "source": [
    "# ----------------------------\n",
    "#  Read country / sector lists\n",
    "# ----------------------------\n",
    "country_list = (\n",
    "    pd.read_csv(os.path.join(data_path, \"country_list.csv\"), header=0)[\"0\"]\n",
    "    .astype(str)\n",
    "    .tolist()\n",
    ")\n",
    "\n",
    "sector_list = (\n",
    "    pd.read_csv(os.path.join(data_path, \"sector_list.csv\"), header=0)[\"0\"]\n",
    "    .astype(str)\n",
    "    .tolist()\n",
    ")\n",
    "\n",
    "label_list = pd.read_csv(os.path.join(data_path, \"labels.csv\"), header=0)\n",
    "\n",
    "# ----------------------------\n",
    "#  Basic dimension information\n",
    "# ----------------------------\n",
    "N = len(country_list)  # number of countries\n",
    "J = len(sector_list)   # number of sectors\n",
    "\n",
    "print(f\"{N = }, {J = }\")\n"
   ]
  },
  {
   "cell_type": "code",
   "execution_count": 5,
   "id": "b7950d5d",
   "metadata": {},
   "outputs": [
    {
     "name": "stdout",
     "output_type": "stream",
     "text": [
      "io shape: (851, 851), fd shape: (851, 222), va shape: (6, 851)\n"
     ]
    }
   ],
   "source": [
    "# -------------------------------------------------\n",
    "#  Read input‑output tables, final demand, value added\n",
    "# -------------------------------------------------\n",
    "\n",
    "io = (\n",
    "    pd.read_csv(os.path.join(data_path, \"T_final_2017.csv\"), header=0)\n",
    "    .fillna(0)           \n",
    "    .to_numpy(float)      \n",
    ")\n",
    "\n",
    "fd = (\n",
    "    pd.read_csv(os.path.join(data_path, \"FD_final_2017.csv\"), header=0)\n",
    "    .fillna(0)\n",
    "    .to_numpy(float)\n",
    ")\n",
    "\n",
    "\n",
    "\n",
    "va = (\n",
    "    pd.read_csv(os.path.join(data_path, \"VA_final_2017.csv\"), header=0)\n",
    "    .fillna(0)\n",
    "    .to_numpy(float)\n",
    ")\n",
    "\n",
    "print(f\"io shape: {io.shape}, fd shape: {fd.shape}, va shape: {va.shape}\")"
   ]
  },
  {
   "cell_type": "markdown",
   "id": "a5732455",
   "metadata": {},
   "source": [
    "## alpha(N,J): Calibrate $\\alpha_n^{j}$ (preference paramter) in household utility function \n"
   ]
  },
  {
   "cell_type": "code",
   "execution_count": 6,
   "id": "d2b7954b",
   "metadata": {},
   "outputs": [],
   "source": [
    "# Final demand accounts include: \n",
    "# 1.Household final consumption \n",
    "# 2.Non-profit institutions serving households\n",
    "# 3.Government final consumption \n",
    "# 4.Gross fixed capital formation\n",
    "# 5.Changes in inventories \n",
    "# 6.Acquisitions less disposals of valuables\n",
    "\n",
    "# Here I exclude 5 and 6 to better represent household preference\n",
    "fd_n = 6 \n",
    "fd_n_2 = 4\n",
    "keep_fd_n = [0, 1, 2, 3]  \n",
    "\n",
    "# Step 1: select the four accounts (exclude the last two)\n",
    "cols_to_select = []\n",
    "for c_idx in range(N):\n",
    "    base = c_idx * fd_n\n",
    "    cols_to_select.extend([base + a for a in keep_fd_n])\n",
    "\n",
    "fd_select = fd[:, cols_to_select]      # (N*J, 4*N)\n",
    "\n",
    "# Step 2：sum up over accounts for final demand \n",
    "fd_sum = fd_select.reshape(fd_select.shape[0], N, fd_n_2).sum(axis=2) # reshape to (NJ, N, 4 and sum up over the last dim)\n",
    "\n",
    "# Step 3: sum up over countries for the same sector\n",
    "fd_sum_reshaped = fd_sum.reshape(N, J, N)\n",
    "fd_final = fd_sum_reshaped.sum(axis=0)         # (J, N)：（j,n）is country n's total comsumption in sector j, no matter where it comes from \n",
    "\n",
    "# ----------- correct above - checked by hand --------------\n",
    "\n",
    "# Step 4: calculate shares\n",
    "total_fd = fd_final.sum(axis=0, keepdims=True) # (1, N) # sum up over all sectors for each country, that is, each country's total final demand (total final consumption)\n",
    "Alpha_jn = fd_final / total_fd                 # (J, N) \n",
    "Alpha_nj = Alpha_jn.T                          # (N, J)\n",
    "\n",
    "# Step 5: adjust\n",
    "Alpha_nj = np.clip(Alpha_nj, 0.00001, 0.99999)\n",
    "Alpha_nj = Alpha_nj / Alpha_nj.sum(axis=1, keepdims=True)\n"
   ]
  },
  {
   "cell_type": "code",
   "execution_count": 7,
   "id": "a1ab978f",
   "metadata": {},
   "outputs": [
    {
     "name": "stdout",
     "output_type": "stream",
     "text": [
      "For each country, the sum over secotrs equals 1 ✅\n",
      "Every value in alpha is between 0 and 1 ✅\n"
     ]
    }
   ],
   "source": [
    "# Check if it satisfies the model\n",
    "\n",
    "alpha = Alpha_nj.copy()  # alpha is the final variable name we use in model simulation\n",
    "\n",
    "# Check\n",
    "# Check 1: For each n, the sum over j equals 1\n",
    "sum_by_n = np.sum(alpha, axis=1)\n",
    "check_sum = np.allclose(sum_by_n, 1, atol=1e-6)  # Allowing a small numerical tolerance\n",
    "if check_sum:\n",
    "    print(\"For each country, the sum over secotrs equals 1 ✅\")\n",
    "else:\n",
    "    print(\"There are some country where the sum over sectors is not 1 ❌\")\n",
    "    print(\"The issue occurs at the following n indices:\", np.where(np.abs(sum_by_n - 1) > 1e-6)[0])\n",
    "    print(\"The corresponding sums are:\", sum_by_n[np.where(np.abs(sum_by_n - 1) > 1e-6)[0]])\n",
    "# Check 2: Every value in alpha is between 0 and 1\n",
    "check_range = np.all((alpha >= 0) & (alpha <= 1))\n",
    "if check_range:\n",
    "    print(\"Every value in alpha is between 0 and 1 ✅\")\n",
    "else:\n",
    "    print(\"There are values in alpha that are not between 0 and 1 ❌\")\n",
    "    print(\"These values are at positions:\", np.where((alpha < 0) | (alpha > 1)))\n",
    "    print(\"The values are:\", alpha[(alpha < 0) | (alpha > 1)])\n",
    "\n"
   ]
  },
  {
   "cell_type": "code",
   "execution_count": 8,
   "id": "f56a1b96",
   "metadata": {},
   "outputs": [
    {
     "name": "stdout",
     "output_type": "stream",
     "text": [
      "Alpha_nj_2017.csv saved successfully.\n"
     ]
    }
   ],
   "source": [
    "# Save to csv, for check\n",
    "alpha_df = pd.DataFrame(Alpha_nj,\n",
    "                        index=country_list,\n",
    "                        columns=sector_list)\n",
    "\n",
    "\n",
    "#os.makedirs(save_path, exist_ok=True) \n",
    "alpha_df.to_csv(os.path.join(save_path, \"Alpha_nj_2017.csv\"))\n",
    "\n",
    "print(\"Alpha_nj_2017.csv saved successfully.\")"
   ]
  },
  {
   "cell_type": "markdown",
   "id": "d062cc1e",
   "metadata": {},
   "source": [
    "## GO(N,J): Calculate Gross Output of Intermediate Goods, Final Goods, and All Goods\n"
   ]
  },
  {
   "cell_type": "code",
   "execution_count": 9,
   "id": "1d229f43",
   "metadata": {},
   "outputs": [],
   "source": [
    "# Total output: sum rows\n",
    "io_GO = io.sum(axis=1)         # (NJ,1) # intermediate output: sum up for each row\n",
    "fd_GO = fd_select.sum(axis=1)  # (NJ,1) # final output:sum up for each row. Previously, I incorrectely wrote fd_GO = fd.sum(axis=1)  \n",
    "#fd_GO = fd.sum(axis=1)  # (NJ,1) # final output:sum up for each row. Previously, I incorrectely wrote fd_GO = fd.sum(axis=1)\n",
    "GO_temp    = io_GO + fd_GO         # (NJ,)\n",
    "\n",
    "GO = GO_temp.reshape(N, J, order=\"C\")  # (N,J) # row - country, col - sector\n",
    "\n",
    "go_file = os.path.join(save_path, \"GO_2017.csv\")\n",
    "pd.DataFrame(GO, index=country_list, columns=sector_list).to_csv(go_file)"
   ]
  },
  {
   "cell_type": "markdown",
   "id": "a69028dd",
   "metadata": {},
   "source": [
    "## $\\beta(N,J)$: Calibrate $\\gamma_n^j$ (value-added share) in production function "
   ]
  },
  {
   "cell_type": "code",
   "execution_count": 10,
   "id": "c4c67252",
   "metadata": {},
   "outputs": [
    {
     "name": "stdout",
     "output_type": "stream",
     "text": [
      "There are 23 values greater than 1. They have been replaced with 0.99.\n",
      "No values are less than 0.\n"
     ]
    }
   ],
   "source": [
    "# Value added accounts include: 1.Compensation of employees; 2.Taxes on production; 4.Net operating surplus; 5. Net mixed income; 6. Consumption of fixed capital\n",
    "# Value added accounts exclude: 3. Subsidies on production\n",
    "# Reason: for some countries, Subsidies on production is large negative number, resulting in the sum of VA negative\n",
    "\n",
    "va_total = np.delete(va, 2, axis=0).sum(axis=0)   # (N·J,)\n",
    "\n",
    "Gamma_vec = va_total / GO_temp                        # (N·J,)\n",
    "Gamma_nj  = Gamma_vec.reshape(N, J, order=\"C\")   # # row - country, col - sector\n",
    "\n",
    "\n",
    "gt_one = Gamma_nj > 1\n",
    "if gt_one.any():\n",
    "    print(f\"There are {gt_one.sum()} values greater than 1. They have been replaced with 0.99.\")\n",
    "    Gamma_nj[gt_one] = 0.99\n",
    "else:\n",
    "    print(\"No values are greater than 1.\")\n",
    "\n",
    "lt_zero = Gamma_nj < 0\n",
    "if lt_zero.any():\n",
    "    print(f\"There are {lt_zero.sum()} values less than 0. They have been replaced with 0.01.\")\n",
    "    Gamma_nj[lt_zero] = 0.01\n",
    "else:\n",
    "    print(\"No values are less than 0.\")\n",
    "\n",
    "# Since further adjustment may be needed, DO NOT save it now; save after calculating gamma_njk"
   ]
  },
  {
   "cell_type": "markdown",
   "id": "e5e97206",
   "metadata": {},
   "source": [
    "## $\\gamma(N,J,J)$: Calibarte $\\gamma_n^{j,k}$\n",
    "\n",
    "Note: gamma(n,j,k) refers to the share of input from sector k in the production of nj \n",
    "NOTE: the last dimension (k) is from sector in this code, j dimension is destination sector in this code"
   ]
  },
  {
   "cell_type": "code",
   "execution_count": 44,
   "id": "60162727",
   "metadata": {},
   "outputs": [
    {
     "name": "stdout",
     "output_type": "stream",
     "text": [
      "NA values have been handled.\n",
      "No values less than 0 or greater than 1 found in Gamma_nj_k.\n"
     ]
    }
   ],
   "source": [
    "# Step 1: sum up over sectors\n",
    "# Sum up each sectors. eg. sector 1 = sum of sector 1 of each countries (row1, row1+J, row1+2J...)\n",
    "# The aim is to sum up all goods from the same sector across countries (no matter where they from)\n",
    "\n",
    "io_sector_sum = io.reshape(N, J, -1).sum(axis=0)      # (J, N*J) # first reshape to (N,J,NJ),then, sum up over N, that is ,sum up across sectors no matter where they comes from \n",
    "\n",
    "# Step 2: Calculate Total Input (column sums)\n",
    "total_input = io.sum(axis=0)                          # (N*J,)\n",
    "\n",
    "# Step 3: Gamma_k_nj: row are the input sectors; colums are user \"country-sector\"\n",
    "with np.errstate(divide=\"ignore\", invalid=\"ignore\"):\n",
    "    Gamma_k_nj = io_sector_sum / total_input          # (J, N*J) \n",
    "Gamma_nj_k = Gamma_k_nj.T                             # (N*J, J) row - used by; col - from sector\n",
    "\n",
    "# Step 4: Check if Gamma_nj_k contains any NA values\n",
    "nan_mask = np.isnan(Gamma_nj_k)\n",
    "if nan_mask.any():\n",
    "    rows_with_nan = np.where(nan_mask.any(axis=1))[0]   \n",
    "    n_idx = rows_with_nan // J\n",
    "    j_idx = rows_with_nan %  J\n",
    "    Gamma_nj[n_idx, j_idx] = 0.9999\n",
    "    Gamma_nj_k[nan_mask] = 0.0001\n",
    "    print(\"NA values have been handled.\")\n",
    "else:\n",
    "    print(\"No NA values found in Gamma_nj_k.\")\n",
    "\n",
    "# NA appears because input of \"KOR - Recycling\", \"ESP - Others\" are all zeros across all coutries and sectors\n",
    "\n",
    "# Step 5: Check and handle values less than 0 or greater than 1 in Gamma_nj_k\n",
    "lt_zero = Gamma_nj_k < 0\n",
    "if lt_zero.any():\n",
    "    rows = np.where(lt_zero.any(axis=1))[0]\n",
    "    n_idx = rows // J\n",
    "    j_idx = rows %  J\n",
    "    Gamma_nj_k[lt_zero] = 0.0001\n",
    "    Gamma_nj[n_idx, j_idx] = 0.9999\n",
    "    handled = True\n",
    "else:\n",
    "    handled = False\n",
    "\n",
    "gt_one = Gamma_nj_k > 1\n",
    "if gt_one.any():\n",
    "    rows = np.where(gt_one.any(axis=1))[0]\n",
    "    n_idx = rows // J\n",
    "    j_idx = rows %  J\n",
    "    Gamma_nj_k[gt_one] = 0.9999\n",
    "    Gamma_nj[n_idx, j_idx] = 0.0001\n",
    "    handled = True\n",
    "\n",
    "print(\"Values less than 0 or greater than 1 have been handled.\" if handled\n",
    "    else \"No values less than 0 or greater than 1 found in Gamma_nj_k.\")\n",
    "\n",
    "# Step 6: Adjust to meet the model\n",
    "row_sum = Gamma_nj_k.sum(axis=1)             # (N*J,)\n",
    "row_rest = 1.0 - Gamma_nj.ravel(order=\"C\")   # (N*J,)\n",
    "\n",
    "\n",
    "scale = row_rest / row_sum  \n",
    "Gamma_nj_k *= scale[:, None] # (NJ,J)\n",
    "\n"
   ]
  },
  {
   "cell_type": "code",
   "execution_count": 45,
   "id": "07170497",
   "metadata": {},
   "outputs": [
    {
     "name": "stdout",
     "output_type": "stream",
     "text": [
      "Every value in beta is between 0 and 1 ✅\n"
     ]
    }
   ],
   "source": [
    "# Check \n",
    "\n",
    "beta = Gamma_nj.copy()  # beta is the variable name used in model simulation\n",
    "\n",
    "# Check: Every value in beta is between 0 and 1\n",
    "check_range = np.all((beta >= 0) & (beta <= 1))\n",
    "if check_range:\n",
    "    print(\"Every value in beta is between 0 and 1 ✅\")\n",
    "else:\n",
    "    print(\"There are values in beta that are not between 0 and 1 ❌\")\n",
    "    print(\"These values are at positions:\", np.where((beta < 0) | (beta > 1)))\n",
    "    print(\"The values are:\", beta[(beta < 0) | (beta > 1)])\n",
    "\n"
   ]
  },
  {
   "cell_type": "code",
   "execution_count": 46,
   "id": "ccb1d833",
   "metadata": {},
   "outputs": [
    {
     "name": "stdout",
     "output_type": "stream",
     "text": [
      "Every value in gamma is between 0 and 1 ✅\n",
      "Condition satisfied: sum(k) gamma[n, j, k] + beta[n, j] = 1 ✅\n"
     ]
    }
   ],
   "source": [
    "# Check \n",
    "# Check 1: Every value in gamma is between 0 and 1\n",
    "\n",
    "gamma = Gamma_nj_k.reshape((N, J, J)) # gamma is the variable name used in model simulation:  $gamma(n, j, k)$ : country n, using sector j, producing sector k\n",
    "\n",
    "invalid_values = (gamma < 0) | (gamma > 1)\n",
    "\n",
    "if np.any(invalid_values):\n",
    "    print(\"There are values in gamma that are not between 0 and 1 ❌\")\n",
    "    print(\"These values are at positions:\", np.where(invalid_values))\n",
    "    print(\"The values are:\", gamma[invalid_values])\n",
    "else:\n",
    "    print(\"Every value in gamma is between 0 and 1 ✅\")\n",
    "\n",
    "# Check 2: sum(k) gamma[n,j,k] + beta[n,j] = 1\n",
    "temp = np.sum(gamma, axis = 2) + beta\n",
    "is_valid = np.allclose(temp, 1, atol = 1e-5)\n",
    "\n",
    "if is_valid:\n",
    "    print(\"Condition satisfied: sum(k) gamma[n, j, k] + beta[n, j] = 1 ✅\")\n",
    "else:\n",
    "    print(\"Condition not satisfied: sum(k) gamma[n, k, j] + beta[n, j] ≠ 1 ❌\")\n",
    "    print(\"Positions where the condition fails:\", np.where(~np.isclose(temp, 1, atol=1e-5)))\n",
    "    print(\"Values that do not satisfy the condition:\", temp[~np.isclose(temp, 1, atol=1e-5)])"
   ]
  },
  {
   "cell_type": "code",
   "execution_count": 47,
   "id": "a051cab1",
   "metadata": {},
   "outputs": [
    {
     "name": "stdout",
     "output_type": "stream",
     "text": [
      "Gamma_njk_2017.csv and Gamma_nj_2017.csv saved successfully.\n"
     ]
    }
   ],
   "source": [
    "# Save to csv\n",
    "gamma_njk_df = pd.DataFrame(Gamma_nj_k,\n",
    "                            index=[f\"{country}_{sector}\"\n",
    "                                for country in country_list\n",
    "                                for sector  in sector_list],\n",
    "                            columns=sector_list)\n",
    "\n",
    "gamma_nj_df  = pd.DataFrame(Gamma_nj,\n",
    "                            index=country_list,\n",
    "                            columns=sector_list)\n",
    "\n",
    "gamma_njk_df.to_csv(os.path.join(save_path, \"Gamma_njk_2017.csv\"))\n",
    "gamma_nj_df.to_csv (os.path.join(save_path, \"Gamma_nj_2017.csv\"))\n",
    "\n",
    "print(\"Gamma_njk_2017.csv and Gamma_nj_2017.csv saved successfully.\")"
   ]
  },
  {
   "cell_type": "markdown",
   "id": "a8ecfddf",
   "metadata": {},
   "source": [
    "## VA: shape (N, )"
   ]
  },
  {
   "cell_type": "code",
   "execution_count": 48,
   "id": "f114bcdf",
   "metadata": {},
   "outputs": [
    {
     "name": "stdout",
     "output_type": "stream",
     "text": [
      "Every country's value added is greater than 0 ✅\n"
     ]
    }
   ],
   "source": [
    "va_matrix = va_total.reshape(N, J)   \n",
    "\n",
    "VA = va_matrix.sum(axis=1)\n",
    "\n",
    "df_va = pd.DataFrame({\n",
    "    \"Country\": country_list,\n",
    "    \"ValueAdded\": VA\n",
    "})\n",
    "\n",
    "df_va.to_csv(\"3_Result/parameters/VA.csv\", index=False, encoding=\"utf-8\")\n",
    "\n",
    "\n",
    "# Check if every value in VA is greater than 0\n",
    "check_positive = np.all(VA > 0)\n",
    "if check_positive:\n",
    "    print(\"Every country's value added is greater than 0 ✅\")\n",
    "else:\n",
    "    print(\"There are values in VA that are less than or equal to 0 ❌\")\n",
    "    print(\"These values are at positions:\", np.where(VA <= 0))\n",
    "    print(\"The values are:\", VA[VA <= 0])"
   ]
  },
  {
   "cell_type": "markdown",
   "id": "1a65bfc9",
   "metadata": {},
   "source": [
    "# Part II: Run this part after running \"3_Estimate_TradeCost.ipynb\"\n"
   ]
  },
  {
   "cell_type": "markdown",
   "id": "3d17be9d",
   "metadata": {},
   "source": [
    "## $\\theta_n$\n",
    "\n",
    "As that decided in \"3_Estimate_TradeCost.ipynb\""
   ]
  },
  {
   "cell_type": "code",
   "execution_count": 49,
   "id": "f22eacfb",
   "metadata": {},
   "outputs": [],
   "source": [
    "# Trade elasticity: take from \"Bolhuis, M. A., Chen, M. J., & Kett, B. R. (2023). Fragmentation in global trade: Accounting for commodities. International Monetary Fund.\"\n",
    "\n",
    "##############  Sector megering case ######################\n",
    "\n",
    "# 1 Agriculture, Fishing: 2.91                               \n",
    "# 2 Mining and Quarrying: 3.41                               \n",
    "# 3 Food & Beverages: 4.17                                     \n",
    "# 4 Textiles and Wearing Apparel: 4.71\n",
    "# 5 Wood and Paper: (8.8 + 8.21) /2 = 8.505                                                                    \n",
    "# 6 Petroleum, Chemical and Non-Metallic Mineral Products:  (3.67 + 10.56 + 6.75 + 4.79)/4 = 6.4425\n",
    "# 7 Metal Products: （7.39 + 4.22）/2 = 5.805\n",
    "# 8 Electrical and Machinery:  (5.01 + 5.14 + 4.11) /3 = 4.753                                                      \n",
    "# 9 Transport Equipment: (8.92 + 8.99)/2 = 8.955                               \n",
    "# 10 Other Manufacturing, Recycling :  4.06                \n",
    "# ---------------------------------------------------------------------\n",
    "# Services sectors: 8.35\n",
    "\n",
    "theta = np.array([2.91, 3.14, 4.17, 4.71, 8.505, 6.4425, 5.805, 4.753, 8.955, 4.06,\n",
    "                8.35, 8.35, 8.35, 8.35, 8.35, 8.35, 8.35, 8.35, 8.35, 8.35, 8.35, 8.35, 8.35])\n",
    "\n"
   ]
  },
  {
   "cell_type": "markdown",
   "id": "9af21eed",
   "metadata": {},
   "source": [
    "## $\\tilde{\\tau}$: shape $(N, N, J)$\n",
    "The tariff rate vector, the $(n, i, j)$ denote the $(1+\\tau)$ tariff rate of country $n$ on country $i$ for goods of sector $j$"
   ]
  },
  {
   "cell_type": "code",
   "execution_count": 50,
   "id": "a692fc9f",
   "metadata": {},
   "outputs": [],
   "source": [
    "# Import tariff data constructed in \"3_Estimate_TradeCost.ipynb\"\n",
    "# Here I choose \"tariff\" column to apply to my model\n",
    "\n",
    "tariff_all  = pd.read_csv(os.path.join(save_path, \"All_Tariff_2017.csv\"))\n",
    "tariff_df  = tariff_all .iloc[:, 1:]\n",
    "tariff_df = tariff_df[['Importer', 'Exporter', 'Sector', \"tariff\"]]\n",
    "\n",
    "tariff_df['Exporter_Sector'] = tariff_df['Exporter'] + '_' + tariff_df['Sector']\n",
    "tariff_df['Importer'] = pd.Categorical(\n",
    "    tariff_df['Importer'],\n",
    "    categories=tariff_df['Importer'].unique(),\n",
    "    ordered=True\n",
    ")\n",
    "tariff_df['Exporter_Sector'] = pd.Categorical(\n",
    "    tariff_df['Exporter_Sector'],\n",
    "    categories=tariff_df['Exporter_Sector'].unique(),\n",
    "    ordered=True\n",
    ")\n",
    "\n",
    "# pivot and reshape\n",
    "tariff_matrix = tariff_df.pivot_table(\n",
    "    index='Importer',\n",
    "    columns='Exporter_Sector',\n",
    "    values='tariff',\n",
    "    aggfunc='first',\n",
    "    observed=False\n",
    ")\n",
    "tariff_np   = tariff_matrix.to_numpy() / 100\n",
    "tariff_base = tariff_np.reshape((N, N, J))\n",
    "\n",
    "# Construct tilde_tau\n",
    "# tilde_tau[n,i,j]: country n's tariff on goods j from contry i (n:importer, i:exporte)\n",
    "tilde_tau = tariff_base + 1\n"
   ]
  },
  {
   "cell_type": "code",
   "execution_count": 51,
   "id": "d7cc2f7e",
   "metadata": {},
   "outputs": [
    {
     "data": {
      "text/plain": [
       "array([[0.00000000e+00, 0.00000000e+00, 0.00000000e+00, ...,\n",
       "        0.00000000e+00, 0.00000000e+00, 0.00000000e+00],\n",
       "       [4.68311932e-02, 1.14054054e-04, 2.84955205e-01, ...,\n",
       "        0.00000000e+00, 0.00000000e+00, 0.00000000e+00],\n",
       "       [4.68311932e-02, 1.14054054e-04, 2.75753640e-01, ...,\n",
       "        0.00000000e+00, 0.00000000e+00, 0.00000000e+00],\n",
       "       ...,\n",
       "       [2.60273172e-03, 7.83783800e-05, 5.86006451e-03, ...,\n",
       "        0.00000000e+00, 0.00000000e+00, 0.00000000e+00],\n",
       "       [2.33963087e-02, 3.19669670e-03, 3.54108935e-01, ...,\n",
       "        0.00000000e+00, 0.00000000e+00, 0.00000000e+00],\n",
       "       [9.91954600e-02, 4.30856486e-02, 3.56773959e-01, ...,\n",
       "        0.00000000e+00, 0.00000000e+00, 0.00000000e+00]])"
      ]
     },
     "execution_count": 51,
     "metadata": {},
     "output_type": "execute_result"
    }
   ],
   "source": [
    "tariff_np"
   ]
  },
  {
   "cell_type": "markdown",
   "id": "51af6859",
   "metadata": {},
   "source": [
    "## Xf(N,J) and Xm(N,J): Calculate Expenditure for final goods and intermediate goods\n",
    "\n",
    "This is not necessary for model simulation; just for check"
   ]
  },
  {
   "cell_type": "code",
   "execution_count": 52,
   "id": "e20424fa",
   "metadata": {},
   "outputs": [],
   "source": [
    "# The observed data is basic price\n",
    "\n",
    "# To obatin X in purchase price, we multiply by tau (1 + tariff)\n",
    "\n",
    "Mm_temp = io.reshape(N, J, N, J).sum(axis = 3) # (exporter, sector, importer)\n",
    "Mm = Mm_temp.transpose(2, 0, 1)  # (importer, exporter, sector) \n",
    "# adjust by \\tau\n",
    "tau_esI = np.transpose(tilde_tau, (1, 2, 0))   \n",
    "\n",
    "Xm_bilateral = Mm_temp * tau_esI # (exporter, sector, importer)\n",
    "Xm  =  Xm_bilateral.sum(axis = 0 ).T   # (N,J)\n",
    "\n",
    "\n",
    "Mf_temp = fd_select.reshape(N,J,N,fd_n_2).sum(axis = 3) # (exporter, sector, importer)\n",
    "Mf = Mf_temp.transpose(2, 0, 1)  # (importer, exporter, sector)\n",
    "Xf_bilateral = Mf_temp  * tau_esI # (exporter, sector, importer)\n",
    "Xf  =  Xf_bilateral.sum(axis = 0 ).T # (N,J)  \n",
    "\n",
    "M = Mm + Mf   # (importer, exporter, sector) \n",
    "\n",
    "X = Xf + Xm  # (N,J)\n",
    "\n",
    "\n",
    "# save\n",
    "df_X = pd.DataFrame(X,\n",
    "                index=country_list,\n",
    "                columns=sector_list)\n",
    "df_X.to_csv(\"3_Result/parameters/X.csv\", index=False, encoding=\"utf-8\")\n",
    "\n",
    "df_Xm = pd.DataFrame(Xm,\n",
    "                index=country_list,\n",
    "                columns=sector_list)\n",
    "df_Xm.to_csv(\"3_Result/parameters/Xm.csv\", index=False, encoding=\"utf-8\")\n",
    "\n",
    "\n",
    "df_Xf = pd.DataFrame(Xf,\n",
    "                index=country_list,\n",
    "                columns=sector_list)\n",
    "df_Xf.to_csv(\"3_Result/parameters/Xf.csv\", index=False, encoding=\"utf-8\")\n",
    "\n"
   ]
  },
  {
   "cell_type": "markdown",
   "id": "cd5d9609",
   "metadata": {},
   "source": [
    "##  $D_n$: Trade Deficit (Import - Export)"
   ]
  },
  {
   "cell_type": "code",
   "execution_count": 53,
   "id": "13e3eef0",
   "metadata": {},
   "outputs": [],
   "source": [
    "# M: shape (N, N, J)\n",
    "imports = M.sum(axis=1)   # shape (N, J) ─ Σ_i M_{n i}^j\n",
    "exports = M.sum(axis=0)   # shape (N, J) ─ Σ_i M_{i n}^j\n",
    "\n",
    "D_nj = imports - exports     # shape (N, J) ─ D_n^j\n",
    "\n",
    "D = D_nj.sum(axis=1) # D.shape (N,)\n",
    "\n",
    "df = pd.DataFrame({\n",
    "    'Country': country_list,\n",
    "    'IM  - EX': D\n",
    "})\n",
    "\n",
    "df.to_csv(\"3_Result/parameters/D.csv\", index=False, encoding=\"utf-8\")\n"
   ]
  },
  {
   "cell_type": "markdown",
   "id": "2a61f378",
   "metadata": {},
   "source": [
    "## pif,pim,pit(N,N,J): Calibrate intermediate goods trade share $\\pi_{ni}^{j,I}$, final goods trade share $\\pi_{ni}^{j,F}$, and total trade share $\\pi_{ni}^{j}$\n",
    "\n",
    "pi(n,i,j) n is  importer, i is exporter, j is sector"
   ]
  },
  {
   "cell_type": "code",
   "execution_count": 54,
   "id": "985bc263",
   "metadata": {},
   "outputs": [
    {
     "name": "stdout",
     "output_type": "stream",
     "text": [
      "       final ✅ No negative entries\n",
      "\n",
      "       final ✅ Condition satisfied: ∑₍i₎ π[final][n,i,j] = 1\n",
      "intermediate ✅ No negative entries\n",
      "\n",
      "intermediate ✅ Condition satisfied: ∑₍i₎ π[intermediate][n,i,j] = 1\n",
      "         all ✅ No negative entries\n",
      "\n",
      "         all ✅ Condition satisfied: ∑₍i₎ π[all][n,i,j] = 1\n"
     ]
    }
   ],
   "source": [
    "Xf_nij= Xf_bilateral.transpose(2, 0, 1)  # (importer, exporter, sector)\n",
    "Xm_nij = Xm_bilateral.transpose(2, 0, 1)  # (importer, exporter, sector)\n",
    "X_nij = Xf_nij + Xm_nij  # (importer, exporter, sector)\n",
    "\n",
    "\n",
    "# Total trade share\n",
    "denom = X_nij.sum(axis=1, keepdims=True)        # shape (N, 1, J)\n",
    "with np.errstate(divide=\"ignore\", invalid=\"ignore\"):\n",
    "    pi = np.divide(X_nij, denom, where=denom != 0)   \n",
    "    pi = np.nan_to_num(pi)\n",
    "\n",
    "# Intermediate goods trade share\n",
    "denom = Xm_nij.sum(axis=1, keepdims=True)        # shape (N, 1, J)\n",
    "with np.errstate(divide=\"ignore\", invalid=\"ignore\"):\n",
    "    pim = np.divide(Xm_nij, denom, where=denom != 0)   \n",
    "    pim = np.nan_to_num(pim)\n",
    "\n",
    "\n",
    "# Final goods trade share\n",
    "denom = Xf_nij.sum(axis=1, keepdims=True)        # shape (N, 1, J)\n",
    "with np.errstate(divide=\"ignore\", invalid=\"ignore\"):\n",
    "    pif = np.divide(Xf_nij, denom, where=denom != 0)   \n",
    "    pif = np.nan_to_num(pif)\n",
    "\n",
    "# Check\n",
    "\n",
    "pi_sets = {\n",
    "    \"final\": pif,\n",
    "    \"intermediate\": pim,\n",
    "    \"all\": pi\n",
    "}\n",
    "\n",
    "tol_sum = 1e-5          \n",
    "tol_neg = -1e-12       \n",
    "\n",
    "for name, arr in pi_sets.items():\n",
    "    # ---- 1)check negative ----\n",
    "    neg_mask = arr < tol_neg         \n",
    "    if np.any(neg_mask):\n",
    "        coords = np.argwhere(neg_mask)\n",
    "        print(f\"{name:>12} ❌ Found {coords.shape[0]} negative entries\")\n",
    "        for idx in coords[:10]:\n",
    "            n, i, j = idx\n",
    "            print(f\"  (importer={n}, exporter={i}, sector={j}) -> {arr[n, i, j]}\")\n",
    "        if coords.shape[0] > 10:\n",
    "            print(\"  ... (truncated)\")\n",
    "    else:\n",
    "        print(f\"{name:>12} ✅ No negative entries\\n\")\n",
    "    # ---- 2) check sum ----\n",
    "    col_sum = np.sum(arr, axis=1)\n",
    "    if np.allclose(col_sum, 1, atol=tol_sum):\n",
    "        print(f\"{name:>12} ✅ Condition satisfied: ∑₍i₎ π[{name}][n,i,j] = 1\")\n",
    "    else:\n",
    "        bad = ~np.isclose(col_sum, 1, atol=tol_sum)\n",
    "        print(f\"{name:>12} ❌ Condition not satisfied: {bad.sum()} (n,j) positions differ\")\n",
    "        print(\"  Position (n,j):\", np.argwhere(bad))\n",
    "        print(\"  Actual sum:\", col_sum[bad])\n",
    "\n"
   ]
  },
  {
   "cell_type": "code",
   "execution_count": 59,
   "id": "4a637c06",
   "metadata": {},
   "outputs": [],
   "source": [
    "def country_reordering(country_list, ordering_var, ordering_type=\"desc\"):\n",
    "    # Step 1: Get sorted indices (descending by ordering_var)\n",
    "    if ordering_type == \"desc\":\n",
    "        sorted_indices = np.argsort(-ordering_var).astype(int)\n",
    "    elif ordering_type == \"asc\":\n",
    "        sorted_indices = np.argsort(ordering_var).astype(int)\n",
    "    else:\n",
    "        raise ValueError(f\"Invalid ordering type: {ordering_type}\")\n",
    "    \n",
    "    # Step 2: Find ROW index in the sorted list\n",
    "    sorted_countries = country_list[sorted_indices]\n",
    "    row_idx_in_sorted = np.where(sorted_countries == \"ROW\")[0]\n",
    "    \n",
    "    if len(row_idx_in_sorted) == 0:\n",
    "        # If ROW not found, just use the sorted order\n",
    "        final_indices = sorted_indices\n",
    "    else:\n",
    "        row_idx_in_sorted = row_idx_in_sorted[0]  # Get the index\n",
    "        \n",
    "        # Step 3: Create final ordering (move ROW to end)\n",
    "        final_indices = np.concatenate([\n",
    "            sorted_indices[:row_idx_in_sorted],      # Before ROW\n",
    "            sorted_indices[row_idx_in_sorted+1:],    # After ROW\n",
    "            sorted_indices[row_idx_in_sorted:row_idx_in_sorted+1]  # ROW at end\n",
    "        ])\n",
    "    \n",
    "    N = len(country_list)\n",
    "    \n",
    "    # Step 4: Create optimized reordering function\n",
    "    def reorder_variable(variable):\n",
    "        \"\"\"\n",
    "        Efficiently reorder variable along all dimensions matching country size N\n",
    "        \n",
    "        Args:\n",
    "            variable: Input array of any shape where dimensions of size N \n",
    "                     correspond to countries in original country_list order\n",
    "            \n",
    "        Returns:\n",
    "            Reordered array with same shape, country dimensions reordered\n",
    "        \"\"\"\n",
    "        variable = np.asarray(variable)\n",
    "        \n",
    "        # Find country dimensions (size N)\n",
    "        country_dims = np.where(np.array(variable.shape) == N)[0]\n",
    "        \n",
    "        if len(country_dims) == 0:\n",
    "            return variable\n",
    "        \n",
    "        # Apply reordering to all country dimensions\n",
    "        result = variable\n",
    "        for dim in country_dims:\n",
    "            result = result.take(final_indices, axis=dim)\n",
    "        \n",
    "        return result\n",
    "    \n",
    "    return reorder_variable, sorted_countries"
   ]
  },
  {
   "cell_type": "code",
   "execution_count": null,
   "id": "ab3a6a26",
   "metadata": {},
   "outputs": [],
   "source": [
    "reorder_variable, sorted_countries = country_reordering(np.asarray(country_list), VA)"
   ]
  },
  {
   "cell_type": "code",
   "execution_count": 63,
   "id": "6882d75e",
   "metadata": {},
   "outputs": [],
   "source": [
    "country_list = reorder_variable(country_list)\n",
    "sector_list = reorder_variable(sector_list)\n",
    "alpha = reorder_variable(alpha)\n",
    "beta = reorder_variable(beta)\n",
    "gamma = reorder_variable(gamma)\n",
    "theta = reorder_variable(theta)\n",
    "pi = reorder_variable(pi)\n",
    "pim = reorder_variable(pim)\n",
    "pif = reorder_variable(pif)\n",
    "Xf = reorder_variable(Xf)\n",
    "Xm = reorder_variable(Xm)\n",
    "X = reorder_variable(X)\n",
    "tilde_tau = reorder_variable(tilde_tau)\n",
    "D = reorder_variable(D)\n",
    "VA = reorder_variable(VA)"
   ]
  },
  {
   "cell_type": "code",
   "execution_count": 71,
   "id": "d6359bcf",
   "metadata": {},
   "outputs": [],
   "source": [
    "os.chdir(\"/Users/yaolangzhong/Research/volatility_analysis\")"
   ]
  },
  {
   "cell_type": "code",
   "execution_count": 74,
   "id": "0f1fe6ba",
   "metadata": {},
   "outputs": [],
   "source": [
    "#np.savez('data_2017(gvc_consistent).npz',\n",
    "np.savez('data.npz',\n",
    "        N = N,\n",
    "        S = J,\n",
    "        country_list = country_list, \n",
    "        sector_list = sector_list, \n",
    "        alpha = alpha, \n",
    "        beta = beta, \n",
    "        gamma = gamma.transpose(0, 2, 1),\n",
    "        theta = theta, \n",
    "        pi = pi,\n",
    "        pim = pim,\n",
    "        pif = pif,\n",
    "        Xf = Xf,\n",
    "        Xm = Xm,\n",
    "        X = X,\n",
    "        tilde_tau = tilde_tau,\n",
    "        D = D, \n",
    "        V = VA)"
   ]
  },
  {
   "cell_type": "code",
   "execution_count": null,
   "id": "1f17874a",
   "metadata": {},
   "outputs": [],
   "source": []
  },
  {
   "cell_type": "code",
   "execution_count": 26,
   "id": "0a1c0aae",
   "metadata": {},
   "outputs": [],
   "source": [
    "real_data = np.load('data_2017(gvc_consistent).npz')\n",
    "N = int(real_data['N'])\n",
    "J = int(real_data['S'])\n",
    "country_list = [c.decode(\"utf-8\") if isinstance(c, bytes) else c\n",
    "                for c in real_data[\"country_list\"].tolist()]\n",
    "sector_list = [s.decode(\"utf-8\") if isinstance(s, bytes) else s\n",
    "                for s in real_data[\"sector_list\"].tolist()]\n",
    "theta = real_data['theta']\n",
    "X = real_data['X'] \n",
    "alpha = real_data['alpha']\n",
    "beta = real_data['beta']\n",
    "gamma = real_data['gamma']\n",
    "pi = real_data['pi']\n",
    "\n",
    "gamma_copy = gamma.copy()  \n",
    "gamma_cp = gamma_copy.transpose(0, 2, 1)  \n",
    "\n",
    "D_copy = D.copy()\n",
    "D_cp = -D_copy\n",
    "\n"
   ]
  },
  {
   "cell_type": "code",
   "execution_count": 27,
   "id": "a159f25b",
   "metadata": {},
   "outputs": [
    {
     "name": "stdout",
     "output_type": "stream",
     "text": [
      "Round 1: w_hat_min = 0.9839700254858132, w_hat_max = 1.0119169217906454, min_X_prime = 14487.984317812025, max_X_prime = 9684121197.426102, wfmax = 0.01602997451418675, Pfmax = 2.220446049250313e-16 \n",
      "Round 2: w_hat_min = 0.9711986100711048, w_hat_max = 1.0216147564145657, min_X_prime = 14466.195222466045, max_X_prime = 9724650796.536306, wfmax = 0.012771415414708498, Pfmax = 0.0116643143030839 \n",
      "Round 3: w_hat_min = 0.9626306099937414, w_hat_max = 1.0288040372013172, min_X_prime = 14444.054832388061, max_X_prime = 9754502189.540283, wfmax = 0.008568000077363358, Pfmax = 0.009555375298280211 \n",
      "Round 4: w_hat_min = 0.9578287561028535, w_hat_max = 1.0339785923089162, min_X_prime = 14425.249829327668, max_X_prime = 9776798162.539291, wfmax = 0.00517455510759901, Pfmax = 0.00832994617231142 \n",
      "Round 5: w_hat_min = 0.9557644563046049, w_hat_max = 1.0376981190617718, min_X_prime = 14411.612099082482, max_X_prime = 9793714080.868353, wfmax = 0.003719526752855584, Pfmax = 0.006190661081475923 \n",
      "Round 6: w_hat_min = 0.9553275698925038, w_hat_max = 1.0404047250418995, min_X_prime = 14403.525034255976, max_X_prime = 9806779723.402132, wfmax = 0.00270660598012773, Pfmax = 0.0042360465749359255 \n",
      "Round 7: w_hat_min = 0.9556256860101294, w_hat_max = 1.042410730678773, min_X_prime = 14400.166557986078, max_X_prime = 9817040533.850796, wfmax = 0.002006005636873587, Pfmax = 0.002744981246513012 \n",
      "Round 8: w_hat_min = 0.9560884674531633, w_hat_max = 1.043927282656719, min_X_prime = 14400.074835496373, max_X_prime = 9825197058.367573, wfmax = 0.001516551977945868, Pfmax = 0.0020132612490453283 \n",
      "Round 9: w_hat_min = 0.9564379323962179, w_hat_max = 1.045094994828007, min_X_prime = 14401.728891858766, max_X_prime = 9831724323.728882, wfmax = 0.0011677121712880822, Pfmax = 0.001503226518687173 \n",
      "Round 10: w_hat_min = 0.9565980840424784, w_hat_max = 1.0460077407010162, min_X_prime = 14403.930494170345, max_X_prime = 9836958761.463234, wfmax = 0.0009127458730091575, Pfmax = 0.0011518877156038165 \n",
      "Round 11: w_hat_min = 0.9565999725858926, w_hat_max = 1.0467292319839152, min_X_prime = 14405.940429802515, max_X_prime = 9841153106.076653, wfmax = 0.0007214912828990006, Pfmax = 0.0009001210047536734 \n",
      "Round 12: w_hat_min = 0.956510578582253, w_hat_max = 1.0473039277279421, min_X_prime = 14407.433606721563, max_X_prime = 9844507282.385376, wfmax = 0.0005746957440269096, Pfmax = 0.0007113798706093188 \n",
      "Round 13: w_hat_min = 0.9563918328344667, w_hat_max = 1.0477639306766275, min_X_prime = 14408.369362677638, max_X_prime = 9847184370.348923, wfmax = 0.0004600029486854229, Pfmax = 0.000566575971922445 \n",
      "Round 14: w_hat_min = 0.9562842502220578, w_hat_max = 1.0481332234123983, min_X_prime = 14408.854368980381, max_X_prime = 9849318684.70719, wfmax = 0.0003692927357707987, Pfmax = 0.0004534709149592864 \n",
      "Round 15: w_hat_min = 0.956205982217218, w_hat_max = 1.048430236276639, min_X_prime = 14409.0392869682, max_X_prime = 9851020356.245855, wfmax = 0.0002970128642405534, Pfmax = 0.0003640317590962727 \n",
      "Round 16: w_hat_min = 0.95615898430581, w_hat_max = 1.048669418787064, min_X_prime = 14409.059251830991, max_X_prime = 9852378679.9236, wfmax = 0.00023918251042509553, Pfmax = 0.00029277208674427513 \n",
      "Round 17: w_hat_min = 0.9561366250487198, w_hat_max = 1.0488622370207237, min_X_prime = 14409.010456816104, max_X_prime = 9853465148.327919, wfmax = 0.0001928182336596862, Pfmax = 0.0002357616960997344 \n",
      "Round 18: w_hat_min = 0.9561297734433541, w_hat_max = 1.0490178451297119, min_X_prime = 14408.94926610084, max_X_prime = 9854336384.8339, wfmax = 0.00015560810898818112, Pfmax = 0.0001900568002375369 \n",
      "Round 19: w_hat_min = 0.956130438231889, w_hat_max = 1.0491435684558177, min_X_prime = 14408.901613335955, max_X_prime = 9855036907.64494, wfmax = 0.00012572332610583103, Pfmax = 0.00015337701390749636 \n",
      "Round 20: w_hat_min = 0.9561332216512707, w_hat_max = 1.0492452711846365, min_X_prime = 14408.87450836684, max_X_prime = 9855601600.95021, wfmax = 0.00010170272881881992, Pfmax = 0.00012391886300955335 \n",
      "Round 21: w_hat_min = 0.9561353262176563, w_hat_max = 1.0493276466148607, min_X_prime = 14408.865528047001, max_X_prime = 9856057810.722162, wfmax = 8.23754302241575e-05, Pfmax = 0.000100241631361353 \n",
      "Round 22: w_hat_min = 0.9561358679179198, w_hat_max = 1.0493944505067623, min_X_prime = 14408.86905057618, max_X_prime = 9856427044.82272, wfmax = 6.680389190161229e-05, Pfmax = 8.449168054136535e-05 \n",
      "Round 23: w_hat_min = 0.9561350452662906, w_hat_max = 1.0494486895837047, min_X_prime = 14408.879562190792, max_X_prime = 9856726306.061848, wfmax = 5.423907694246388e-05, Pfmax = 8.390073848174584e-05 \n",
      "Round 24: w_hat_min = 0.956133464618755, w_hat_max = 1.0494927734154784, min_X_prime = 14408.892938412771, max_X_prime = 9856969113.667149, wfmax = 4.4381599117682136e-05, Pfmax = 8.329401261175651e-05 \n",
      "Round 25: w_hat_min = 0.9561317213828832, w_hat_max = 1.0495286361071419, min_X_prime = 14408.90659718334, max_X_prime = 9857166276.411922, wfmax = 3.6555490986356354e-05, Pfmax = 8.267620812785204e-05 \n",
      "Round 26: w_hat_min = 0.9561302144567568, w_hat_max = 1.049557833216053, min_X_prime = 14408.919177078762, max_X_prime = 9857326476.320892, wfmax = 3.0092784244817317e-05, Pfmax = 8.20507712719909e-05 \n",
      "Round 27: w_hat_min = 0.956129119661703, w_hat_max = 1.0495816185774927, min_X_prime = 14408.930119212142, max_X_prime = 9857456711.854794, wfmax = 2.47610216281835e-05, Pfmax = 8.142032130620258e-05 \n",
      "Round 28: w_hat_min = 0.9561284439015347, w_hat_max = 1.0496010050393716, min_X_prime = 14408.939320952544, max_X_prime = 9857562638.198568, wfmax = 2.0365710832415118e-05, Pfmax = 8.078690987178838e-05 \n",
      "Round 29: w_hat_min = 0.9561281012804363, w_hat_max = 1.0496168124498972, min_X_prime = 14408.94690337962, max_X_prime = 9857648832.16188, wfmax = 1.6744703885351875e-05, Pfmax = 8.015217630241711e-05 \n",
      "Round 30: w_hat_min = 0.9561279776740385, w_hat_max = 1.0496297056261013, min_X_prime = 14408.953076327121, max_X_prime = 9857719001.181602, wfmax = 1.3763209089745487e-05, Pfmax = 7.951744311707198e-05 \n",
      "Round 31: w_hat_min = 0.9561279713155978, w_hat_max = 1.0496402244811398, min_X_prime = 14408.958068944536, max_X_prime = 9857776150.059082, wfmax = 1.1309427863315236e-05, Pfmax = 7.888377860965079e-05 \n",
      "Round 32: w_hat_min = 0.9561280102808246, w_hat_max = 1.0496488080203323, min_X_prime = 14408.962097653779, max_X_prime = 9857822715.022314, wfmax = 9.290790322857845e-06, Pfmax = 7.825204185085699e-05 \n",
      "Round 33: w_hat_min = 0.956128053774167, w_hat_max = 1.049655813533477, min_X_prime = 14408.965353013176, max_X_prime = 9857860672.012133, wfmax = 7.630745814890538e-06, Pfmax = 7.762291815383016e-05 \n",
      "Round 34: w_hat_min = 0.9561280850438798, w_hat_max = 1.049661532008046, min_X_prime = 14408.96799550328, max_X_prime = 9857891624.324276, wfmax = 6.266052444470205e-06, Pfmax = 7.699694882823405e-05 \n",
      "Round 35: w_hat_min = 0.9561281020201458, w_hat_max = 1.0496662005533604, min_X_prime = 14408.970155628927, max_X_prime = 9857916873.563772, wfmax = 5.144504071963318e-06, Pfmax = 7.637455682785177e-05 \n",
      "Round 36: w_hat_min = 0.9561281092590564, w_hat_max = 1.0496700124468823, min_X_prime = 14408.971936371505, max_X_prime = 9857937477.055603, wfmax = 4.223033426176137e-06, Pfmax = 7.575606887944009e-05 \n",
      "Round 37: w_hat_min = 0.956128112586615, w_hat_max = 1.0496731252781681, min_X_prime = 14408.973417003013, max_X_prime = 9857954294.258623, wfmax = 3.4661340335695456e-06, Pfmax = 7.514173432165983e-05 \n",
      "Round 38: w_hat_min = 0.9561281164036917, w_hat_max = 1.04967566756335, min_X_prime = 14408.974657534687, max_X_prime = 9857968024.266258, wfmax = 2.8445497696205635e-06, Pfmax = 7.453174085092495e-05 \n",
      "Round 39: w_hat_min = 0.9561281229326342, w_hat_max = 1.049677744124824, min_X_prime = 14408.975703168668, max_X_prime = 9857979236.100412, wfmax = 2.334187864660997e-06, Pfmax = 7.392622742419253e-05 \n",
      "Round 40: w_hat_min = 0.9561281325518423, w_hat_max = 1.0496794404708394, min_X_prime = 14408.976588263991, max_X_prime = 9857988393.191338, wfmax = 1.915217939796321e-06, Pfmax = 7.332529465575721e-05 \n",
      "Round 41: w_hat_min = 0.9561281445279916, w_hat_max = 1.0496808263631137, min_X_prime = 14408.977339532441, max_X_prime = 9857995873.174198, wfmax = 1.5713256960037114e-06, Pfmax = 7.272901307597834e-05 \n",
      "Round 42: w_hat_min = 0.9561281577176207, w_hat_max = 1.0496819587240924, min_X_prime = 14408.977978387698, max_X_prime = 9858001983.915318, wfmax = 1.2890951944788398e-06, Pfmax = 7.213742963096959e-05 \n",
      "Round 43: w_hat_min = 0.956128171048349, w_hat_max = 1.0496828840065437, min_X_prime = 14408.978522529278, max_X_prime = 9858006976.501804, wfmax = 1.0574980071620388e-06, Pfmax = 7.155057276542198e-05 \n",
      "Round 44: w_hat_min = 0.9561281837534409, w_hat_max = 1.04968364012509, min_X_prime = 14408.97898692942, max_X_prime = 9858011055.782629, wfmax = 8.674711660106027e-07, Pfmax = 7.096845639109617e-05 \n"
     ]
    }
   ],
   "source": [
    "from equilibrium import equilibrium\n",
    "from cp_functions import calc_real_I, calc_real_w\n",
    "\n",
    "kappa_base = np.ones((N,N,J))\n",
    "\n",
    "w_hat_initial = np.ones(N)\n",
    "P_hat_initial = np.ones((N, J)) \n",
    "\n",
    "w_base, P_base, X_base, pi_base = equilibrium(gamma_cp, beta, theta, tilde_tau, kappa_base, pi, alpha, VA, D_cp, N, J, X, w_hat_initial, P_hat_initial)\n"
   ]
  },
  {
   "cell_type": "code",
   "execution_count": 33,
   "id": "77a50e75",
   "metadata": {},
   "outputs": [
    {
     "name": "stdout",
     "output_type": "stream",
     "text": [
      "The autoreload extension is already loaded. To reload it, use:\n",
      "  %reload_ext autoreload\n"
     ]
    }
   ],
   "source": [
    "%load_ext autoreload\n",
    "%autoreload 2  \n",
    "\n",
    "from equilibrium_T import equilibrium\n",
    "from cp_functions_T import calc_real_I, calc_real_w"
   ]
  },
  {
   "cell_type": "code",
   "execution_count": 34,
   "id": "47fa8ac0",
   "metadata": {},
   "outputs": [
    {
     "name": "stdout",
     "output_type": "stream",
     "text": [
      "Round 1: w_hat_min = 0.9839700254858131, w_hat_max = 1.0119169217906452, min_X_prime = 14487.984317812028, max_X_prime = 9684121197.426104, wfmax = 0.016029974514186862, Pfmax = 2.220446049250313e-16 \n",
      "Round 2: w_hat_min = 0.9711986100711048, w_hat_max = 1.0216147564145657, min_X_prime = 14466.195222466045, max_X_prime = 9724650796.536308, wfmax = 0.012771415414708387, Pfmax = 0.0116643143030839 \n",
      "Round 3: w_hat_min = 0.9626306099937414, w_hat_max = 1.0288040372013172, min_X_prime = 14444.054832388065, max_X_prime = 9754502189.540285, wfmax = 0.008568000077363358, Pfmax = 0.0095553752982801 \n",
      "Round 4: w_hat_min = 0.9578287561028536, w_hat_max = 1.0339785923089162, min_X_prime = 14425.249829327673, max_X_prime = 9776798162.539291, wfmax = 0.00517455510759901, Pfmax = 0.00832994617231142 \n",
      "Round 5: w_hat_min = 0.9557644563046049, w_hat_max = 1.0376981190617718, min_X_prime = 14411.612099082486, max_X_prime = 9793714080.868351, wfmax = 0.003719526752855584, Pfmax = 0.006190661081475923 \n",
      "Round 6: w_hat_min = 0.9553275698925039, w_hat_max = 1.0404047250418995, min_X_prime = 14403.525034255976, max_X_prime = 9806779723.402136, wfmax = 0.00270660598012773, Pfmax = 0.0042360465749360365 \n",
      "Round 7: w_hat_min = 0.9556256860101295, w_hat_max = 1.042410730678773, min_X_prime = 14400.166557986076, max_X_prime = 9817040533.850794, wfmax = 0.002006005636873587, Pfmax = 0.002744981246513012 \n",
      "Round 8: w_hat_min = 0.9560884674531634, w_hat_max = 1.0439272826567187, min_X_prime = 14400.074835496369, max_X_prime = 9825197058.367573, wfmax = 0.001516551977945646, Pfmax = 0.0020132612490453283 \n",
      "Round 9: w_hat_min = 0.956437932396218, w_hat_max = 1.0450949948280068, min_X_prime = 14401.728891858766, max_X_prime = 9831724323.728888, wfmax = 0.0011677121712880822, Pfmax = 0.001503226518687173 \n",
      "Round 10: w_hat_min = 0.9565980840424785, w_hat_max = 1.046007740701016, min_X_prime = 14403.930494170349, max_X_prime = 9836958761.463238, wfmax = 0.0009127458730091575, Pfmax = 0.0011518877156038165 \n",
      "Round 11: w_hat_min = 0.9565999725858929, w_hat_max = 1.0467292319839152, min_X_prime = 14405.940429802518, max_X_prime = 9841153106.076653, wfmax = 0.0007214912828992226, Pfmax = 0.0009001210047536734 \n",
      "Round 12: w_hat_min = 0.9565105785822533, w_hat_max = 1.0473039277279421, min_X_prime = 14407.433606721563, max_X_prime = 9844507282.38538, wfmax = 0.0005746957440269096, Pfmax = 0.0007113798706095409 \n",
      "Round 13: w_hat_min = 0.956391832834467, w_hat_max = 1.0477639306766273, min_X_prime = 14408.369362677644, max_X_prime = 9847184370.348923, wfmax = 0.00046000294868520086, Pfmax = 0.000566575971922445 \n",
      "Round 14: w_hat_min = 0.9562842502220581, w_hat_max = 1.0481332234123981, min_X_prime = 14408.854368980386, max_X_prime = 9849318684.707184, wfmax = 0.0003692927357707987, Pfmax = 0.00045347091495906433 \n",
      "Round 15: w_hat_min = 0.9562059822172182, w_hat_max = 1.0484302362766387, min_X_prime = 14409.039286968204, max_X_prime = 9851020356.245852, wfmax = 0.0002970128642405534, Pfmax = 0.0003640317590962727 \n",
      "Round 16: w_hat_min = 0.95615898430581, w_hat_max = 1.0486694187870638, min_X_prime = 14409.059251830991, max_X_prime = 9852378679.923603, wfmax = 0.00023918251042509553, Pfmax = 0.00029277208674427513 \n",
      "Round 17: w_hat_min = 0.9561366250487195, w_hat_max = 1.0488622370207235, min_X_prime = 14409.0104568161, max_X_prime = 9853465148.327915, wfmax = 0.0001928182336596862, Pfmax = 0.0002357616960997344 \n",
      "Round 18: w_hat_min = 0.9561297734433539, w_hat_max = 1.0490178451297116, min_X_prime = 14408.94926610084, max_X_prime = 9854336384.833906, wfmax = 0.00015560810898818112, Pfmax = 0.0001900568002375369 \n",
      "Round 19: w_hat_min = 0.9561304382318888, w_hat_max = 1.049143568455818, min_X_prime = 14408.901613335951, max_X_prime = 9855036907.644938, wfmax = 0.00012572332610627512, Pfmax = 0.00015337701390749636 \n",
      "Round 20: w_hat_min = 0.9561332216512705, w_hat_max = 1.0492452711846367, min_X_prime = 14408.87450836684, max_X_prime = 9855601600.950216, wfmax = 0.00010170272881881992, Pfmax = 0.00012391886300999744 \n",
      "Round 21: w_hat_min = 0.9561353262176563, w_hat_max = 1.0493276466148609, min_X_prime = 14408.865528047001, max_X_prime = 9856057810.722157, wfmax = 8.23754302241575e-05, Pfmax = 0.000100241631361353 \n",
      "Round 22: w_hat_min = 0.95613586791792, w_hat_max = 1.0493944505067625, min_X_prime = 14408.869050576182, max_X_prime = 9856427044.82272, wfmax = 6.680389190161229e-05, Pfmax = 8.449168054136535e-05 \n",
      "Round 23: w_hat_min = 0.9561350452662909, w_hat_max = 1.049448689583705, min_X_prime = 14408.879562190796, max_X_prime = 9856726306.061848, wfmax = 5.423907694246388e-05, Pfmax = 8.390073848174584e-05 \n",
      "Round 24: w_hat_min = 0.9561334646187553, w_hat_max = 1.0494927734154786, min_X_prime = 14408.892938412777, max_X_prime = 9856969113.667149, wfmax = 4.438159911790418e-05, Pfmax = 8.329401261175651e-05 \n",
      "Round 25: w_hat_min = 0.9561317213828835, w_hat_max = 1.049528636107142, min_X_prime = 14408.906597183344, max_X_prime = 9857166276.411919, wfmax = 3.6555490986356354e-05, Pfmax = 8.267620812785204e-05 \n",
      "Round 26: w_hat_min = 0.9561302144567572, w_hat_max = 1.0495578332160531, min_X_prime = 14408.919177078762, max_X_prime = 9857326476.320896, wfmax = 3.0092784244817317e-05, Pfmax = 8.20507712719909e-05 \n",
      "Round 27: w_hat_min = 0.9561291196617032, w_hat_max = 1.0495816185774929, min_X_prime = 14408.930119212146, max_X_prime = 9857456711.854794, wfmax = 2.47610216281835e-05, Pfmax = 8.142032130620258e-05 \n",
      "Round 28: w_hat_min = 0.956128443901535, w_hat_max = 1.0496010050393716, min_X_prime = 14408.93932095254, max_X_prime = 9857562638.198563, wfmax = 2.0365710832415118e-05, Pfmax = 8.078690987178838e-05 \n",
      "Round 29: w_hat_min = 0.9561281012804365, w_hat_max = 1.0496168124498972, min_X_prime = 14408.946903379616, max_X_prime = 9857648832.161877, wfmax = 1.6744703885462897e-05, Pfmax = 8.015217630241711e-05 \n",
      "Round 30: w_hat_min = 0.9561279776740383, w_hat_max = 1.0496297056261013, min_X_prime = 14408.953076327118, max_X_prime = 9857719001.181602, wfmax = 1.376320908985651e-05, Pfmax = 7.951744311707198e-05 \n",
      "Round 31: w_hat_min = 0.9561279713155976, w_hat_max = 1.0496402244811398, min_X_prime = 14408.958068944534, max_X_prime = 9857776150.059082, wfmax = 1.1309427863204213e-05, Pfmax = 7.888377860965079e-05 \n",
      "Round 32: w_hat_min = 0.9561280102808246, w_hat_max = 1.0496488080203323, min_X_prime = 14408.962097653775, max_X_prime = 9857822715.02231, wfmax = 9.290790322857845e-06, Pfmax = 7.825204185085699e-05 \n",
      "Round 33: w_hat_min = 0.956128053774167, w_hat_max = 1.0496558135334773, min_X_prime = 14408.965353013184, max_X_prime = 9857860672.012138, wfmax = 7.630745814890538e-06, Pfmax = 7.762291815383016e-05 \n",
      "Round 34: w_hat_min = 0.9561280850438798, w_hat_max = 1.0496615320080462, min_X_prime = 14408.967995503284, max_X_prime = 9857891624.324276, wfmax = 6.266052444470205e-06, Pfmax = 7.699694882823405e-05 \n",
      "Round 35: w_hat_min = 0.9561281020201458, w_hat_max = 1.0496662005533606, min_X_prime = 14408.970155628935, max_X_prime = 9857916873.56377, wfmax = 5.144504071852296e-06, Pfmax = 7.637455682785177e-05 \n",
      "Round 36: w_hat_min = 0.9561281092590564, w_hat_max = 1.0496700124468825, min_X_prime = 14408.971936371512, max_X_prime = 9857937477.055603, wfmax = 4.223033426065115e-06, Pfmax = 7.575606887944009e-05 \n",
      "Round 37: w_hat_min = 0.9561281125866152, w_hat_max = 1.0496731252781686, min_X_prime = 14408.973417003013, max_X_prime = 9857954294.258623, wfmax = 3.4661340335695456e-06, Pfmax = 7.514173432165983e-05 \n",
      "Round 38: w_hat_min = 0.9561281164036917, w_hat_max = 1.0496756675633505, min_X_prime = 14408.974657534693, max_X_prime = 9857968024.266258, wfmax = 2.8445497696205635e-06, Pfmax = 7.453174085092495e-05 \n",
      "Round 39: w_hat_min = 0.9561281229326339, w_hat_max = 1.0496777441248244, min_X_prime = 14408.975703168679, max_X_prime = 9857979236.100418, wfmax = 2.334187864660997e-06, Pfmax = 7.392622742419253e-05 \n",
      "Round 40: w_hat_min = 0.956128132551842, w_hat_max = 1.0496794404708398, min_X_prime = 14408.976588263995, max_X_prime = 9857988393.191338, wfmax = 1.915217939796321e-06, Pfmax = 7.332529465575721e-05 \n",
      "Round 41: w_hat_min = 0.9561281445279913, w_hat_max = 1.049680826363114, min_X_prime = 14408.977339532445, max_X_prime = 9857995873.174198, wfmax = 1.5713256960037114e-06, Pfmax = 7.272901307597834e-05 \n",
      "Round 42: w_hat_min = 0.9561281577176207, w_hat_max = 1.0496819587240929, min_X_prime = 14408.977978387702, max_X_prime = 9858001983.915327, wfmax = 1.2890951943678175e-06, Pfmax = 7.213742963096959e-05 \n",
      "Round 43: w_hat_min = 0.9561281710483492, w_hat_max = 1.0496828840065442, min_X_prime = 14408.978522529285, max_X_prime = 9858006976.501808, wfmax = 1.0574980071620388e-06, Pfmax = 7.155057276542198e-05 \n",
      "Round 44: w_hat_min = 0.9561281837534411, w_hat_max = 1.0496836401250902, min_X_prime = 14408.978986929422, max_X_prime = 9858011055.782635, wfmax = 8.674711660106027e-07, Pfmax = 7.096845639109617e-05 \n"
     ]
    }
   ],
   "source": [
    "kappa_base = np.ones((N,N,J))\n",
    "T_base = np.ones((N,J))\n",
    "\n",
    "w_hat_initial = np.ones(N)\n",
    "P_hat_initial = np.ones((N, J)) \n",
    "\n",
    "w_base, P_base, X_base, pi_base = equilibrium(gamma_cp, beta, theta, tilde_tau, kappa_base, T_base, pi, alpha, VA, D_cp, N, J, X, w_hat_initial, P_hat_initial)\n"
   ]
  },
  {
   "cell_type": "code",
   "execution_count": null,
   "id": "8985e1b6",
   "metadata": {},
   "outputs": [],
   "source": []
  },
  {
   "cell_type": "code",
   "execution_count": null,
   "id": "05701627",
   "metadata": {},
   "outputs": [],
   "source": []
  },
  {
   "cell_type": "code",
   "execution_count": null,
   "id": "33230994",
   "metadata": {},
   "outputs": [],
   "source": []
  },
  {
   "cell_type": "code",
   "execution_count": null,
   "id": "afb9fd9b",
   "metadata": {},
   "outputs": [],
   "source": []
  },
  {
   "cell_type": "code",
   "execution_count": null,
   "id": "742cfb88",
   "metadata": {},
   "outputs": [],
   "source": []
  },
  {
   "cell_type": "code",
   "execution_count": null,
   "id": "f7256886",
   "metadata": {},
   "outputs": [],
   "source": []
  },
  {
   "cell_type": "code",
   "execution_count": null,
   "id": "dfdf48e6",
   "metadata": {},
   "outputs": [],
   "source": []
  },
  {
   "cell_type": "markdown",
   "id": "7c82872e",
   "metadata": {},
   "source": [
    "\\begin{equation}\n",
    "\\hat{c}_n^j=\\hat{w}_n^{\\gamma_n^j} \\prod_{k=1}^J (\\hat{P}_n^k)^{\\gamma_n^{k j}}\n",
    "\\end{equation}\n",
    "\n",
    "\\begin{equation}\n",
    "\\hat{P}_n^j=\\left[\\sum_{i=1}^N \\pi_{n i}^j \\hat{T}_i^j\\left(\\hat{c}_i^j \\hat{\\kappa}_{n i}^j\\right)^{-\\theta^j}\\right]^{-\\frac{1}{\\theta^j}}\n",
    "\\end{equation}\n",
    "\n",
    "\\begin{equation}\n",
    "\\hat{\\pi}_{n i}^j=\\frac{\\hat{T}_i^j\\left(\\hat{c}_i^j \\hat{\\kappa}_{n i}^j\\right)^{-\\theta^j}}{\\sum_{h=1}^N \\pi_{n h}^j \\hat{T}_h^j\\left(\\hat{c}_h^j \\hat{\\kappa}_{n h}^j\\right)^{-\\theta^j}}\n",
    "\\end{equation}\n",
    "\n",
    "\\begin{equation}\n",
    "X_n^{j^{\\prime}}=\\sum_{k=1}^J \\gamma_n^{j, k} \\sum_{i=1}^N \\frac{\\pi_{i n}^{k^{\\prime}}}{1+\\tau_{i n}^{k^{\\prime}}} X_i^{k^{\\prime}}+\\alpha_n^j\\left(\\widehat{w}_n w_n L_n+\\sum_{j=1}^J \\sum_{i=1}^N \\tau_{n i}^{j^{\\prime}} \\frac{\\pi_{n i}^{j^{\\prime}}}{1+\\tau_{n i}^{j^{\\prime}}} X_n^{j^{\\prime}}+D_n\\right)\n",
    "\\end{equation}\n",
    "\n",
    "\n",
    "\\begin{equation}\n",
    "\\sum_{j=1}^J \\sum_{i=1}^N \\frac{\\pi_{n i}^{j^{\\prime}}}{1+\\tau_{n i}^{j^{\\prime}}} X_n^{j^{\\prime}}-D_n=\\sum_{j=1}^J \\sum_{i=1}^N \\frac{\\pi_{i n}^{j^{\\prime}}}{1+\\tau_{i n}^{j^{\\prime}}} X_i^{j^{\\prime}}\n",
    "\\end{equation}"
   ]
  },
  {
   "cell_type": "markdown",
   "id": "e0fd55cf",
   "metadata": {},
   "source": [
    "# Check"
   ]
  },
  {
   "cell_type": "code",
   "execution_count": null,
   "id": "3c3ec4ff",
   "metadata": {},
   "outputs": [],
   "source": [
    "from equilibrium import equilibrium\n",
    "from cp_functions import calc_real_I, calc_real_w\n",
    "\n",
    "kappa_base = np.ones((N,N,J))\n",
    "\n",
    "w_hat_initial = np.ones(N)\n",
    "P_hat_initial = np.ones((N, J)) \n",
    "\n",
    "D_2 = -D\n",
    "\n",
    "g_tem = gamma.copy()  # gamma is the variable name used in model simulation\n",
    "gamma_TRY = g_tem.transpose(0, 2, 1)  \n",
    "\n",
    "w_base, P_base, X_base, pi_base = equilibrium(gamma_TRY, beta, theta, tilde_tau, kappa_base, pi, alpha, VA, D_2, N, J, X, w_hat_initial, P_hat_initial)\n"
   ]
  },
  {
   "cell_type": "code",
   "execution_count": null,
   "id": "74f360d9",
   "metadata": {},
   "outputs": [],
   "source": [
    "# real_data = np.load('model_data_2017.npz')\n",
    "real_data = np.load('R_model_data_2017.npz')\n",
    "\n",
    "for name in real_data.files:\n",
    "    arr = real_data[name]\n",
    "    print(f\"{name}: shape={arr.shape}, dtype={arr.dtype}\")\n",
    "\n"
   ]
  },
  {
   "cell_type": "code",
   "execution_count": null,
   "id": "8682043e",
   "metadata": {},
   "outputs": [],
   "source": [
    "N_R = int(real_data['N'])\n",
    "J_R = int(real_data['J'])\n",
    "country_list_R = [c.decode(\"utf-8\") if isinstance(c, bytes) else c\n",
    "                for c in real_data[\"country_list\"].tolist()]\n",
    "sector_list_R = [s.decode(\"utf-8\") if isinstance(s, bytes) else s\n",
    "                for s in real_data[\"sector_list\"].tolist()]\n",
    "theta_R = real_data['theta']\n",
    "X_R = real_data['X']  # X[n,j]: country n's total output in sector j\n",
    "alpha_R = real_data['alpha']\n",
    "beta_R = real_data['beta']\n",
    "gamma_R = real_data['gamma']\n",
    "pi_R = real_data['pi']\n"
   ]
  },
  {
   "cell_type": "code",
   "execution_count": null,
   "id": "0f2a05d1",
   "metadata": {},
   "outputs": [],
   "source": [
    "\n",
    "\n",
    "pairs_to_check = {\n",
    "    \"N\":     (N,      N_R),\n",
    "    \"J\":     (J,      J_R),\n",
    "    \"alpha\": (alpha,  alpha_R),\n",
    "    \"beta\":  (beta,   beta_R),\n",
    "    \"gamma\": (gamma_TRY,  gamma_R),\n",
    "    \"theta\": (theta,  theta_R),\n",
    "}\n",
    "\n",
    "ABS_TOL = 1e-3          # 仅按绝对误差判断，阈值 0.0001\n",
    "total_mismatch = 0\n",
    "report = []\n",
    "\n",
    "for name, (lhs, rhs) in pairs_to_check.items():\n",
    "    a, b = np.asarray(lhs), np.asarray(rhs)\n",
    "\n",
    "    # 形状不同直接记为全不一致\n",
    "    if a.shape != b.shape:\n",
    "        report.append(f\"[{name}] 形状不一致 {a.shape} vs {b.shape} → 计为全部不一致\")\n",
    "        mism = a.size\n",
    "    else:\n",
    "        diff = np.abs(a - b)\n",
    "        mask_equal = diff <= ABS_TOL          # 绝对误差≤阈值视为一致\n",
    "        mism = diff.size - mask_equal.sum()\n",
    "\n",
    "        if mism == 0:\n",
    "            report.append(f\"[{name}] ✔︎ 全部一致\")\n",
    "        else:\n",
    "            pos_max = np.unravel_index(diff.argmax(), a.shape)\n",
    "            max_err = diff[pos_max]\n",
    "            report.append(\n",
    "                f\"[{name}] ❌ 不一致 {mism} 个；最大误差 {max_err:.6g} @ {pos_max}\"\n",
    "            )\n",
    "\n",
    "    total_mismatch += mism\n",
    "\n",
    "print(\"\\n\".join(report))\n",
    "print(f\"\\n=== 总计不一致元素数: {total_mismatch} ===\")\n"
   ]
  },
  {
   "cell_type": "code",
   "execution_count": null,
   "id": "464f7953",
   "metadata": {},
   "outputs": [],
   "source": [
    "np.savez('data_2017(gvc_consistent).npz',\n",
    "        N = N,\n",
    "        J = J,\n",
    "        country_list = country_list, \n",
    "        sector_list = sector_list, \n",
    "        alpha = alpha, \n",
    "        beta = beta, \n",
    "        gamma = gamma, \n",
    "        theta = theta, \n",
    "        pi = pi,\n",
    "        X = X,\n",
    "        tilde_tau = tilde_tau,\n",
    "        D = D, \n",
    "        VA = VA)"
   ]
  }
 ],
 "metadata": {
  "kernelspec": {
   "display_name": "base",
   "language": "python",
   "name": "python3"
  },
  "language_info": {
   "codemirror_mode": {
    "name": "ipython",
    "version": 3
   },
   "file_extension": ".py",
   "mimetype": "text/x-python",
   "name": "python",
   "nbconvert_exporter": "python",
   "pygments_lexer": "ipython3",
   "version": "3.12.2"
  }
 },
 "nbformat": 4,
 "nbformat_minor": 5
}

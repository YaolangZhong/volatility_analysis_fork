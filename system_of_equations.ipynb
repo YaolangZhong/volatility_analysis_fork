{
 "cells": [
  {
   "cell_type": "markdown",
   "id": "2c42b588",
   "metadata": {},
   "source": [
    "Below is the notation used in the Furusawa(2023) paper:\n",
    "\n",
    "$$\n",
    "\\begin{aligned}\n",
    "\\hat{c}_{i t}^s & =\\hat{w}_{i t}^{\\beta_i^s} \\prod_{k=1}^S\\left(\\hat{P}_{i t}^{k m *}\\right)^{\\beta_i^{s k}} \\\\\n",
    "\\left(\\hat{P}_{n t}^{s u *}\\right)^{-\\theta^s} & =\\sum_{h=1}^N \\pi_{n h 0}^{s u} \\hat{\\Lambda}_{h t}^s\\left(\\hat{c}_{h t}^s \\hat{d}_{n h t}^{s u}\\right)^{-\\theta^s} \\\\\n",
    "\\hat{\\pi}_{n i t}^{s u} & =\\frac{\\hat{\\Lambda}_{i t}^s\\left(\\hat{c}_{i t}^s \\hat{d}_{n i t}^{s u}\\right)^{-\\theta^s}}{\\left(\\hat{P}_{n t}^{s u *}\\right)^{-\\theta^s}} \\\\\n",
    "X_{n t}^{s f \\prime} & =\\alpha_n^s\\left[\\hat{w}_{n t} \\hat{L}_{n t} w_{n 0} L_{n 0}+\\sum_{s=1}^S \\sum_{i=1}^N \\frac{\\tau_{n i t}^{s \\prime}}{1+\\tau_{n i t}^{s \\prime}}\\left(\\pi_{n i t}^{s f \\prime} X_{n t}^{s f \\prime}+\\pi_{n i t}^{s m \\prime} X_{n t}^{s m \\prime}\\right)+T D_{n t}^{\\prime}\\right] \\\\\n",
    "X_{n t}^{s m \\prime} & =\\sum_{k=1}^S \\beta_n^{k s}\\left(\\sum_{i=1}^N \\frac{\\pi_{i n t}^{k f \\prime}}{1+\\tau_{i n t}^{k \\prime \\prime}} X_{i t}^{k f \\prime}+\\sum_{i=1}^N \\frac{\\pi_{i n t}^{k m \\prime}}{1+\\tau_{i n t}^{k \\prime}} X_{i t}^{k m \\prime}\\right) \\\\\n",
    "T D_{n t}^{\\prime} & =\\sum_{s=1}^S \\sum_{i=1}^N\\left(\\frac{\\pi_{n i t}^{s f \\prime} X_{n t}^{s f \\prime}+\\pi_{n i t}^{s m \\prime} X_{n t}^{s m \\prime}}{1+\\tau_{n i t}^{s \\prime}}-\\frac{\\pi_{i n t}^{s f \\prime} X_{i t}^{s f \\prime}+\\pi_{i n t}^{s m \\prime} X_{i t}^{s m \\prime}}{1+\\tau_{i n t}^{s \\prime}}\\right) \\\\\n",
    "\\frac{T D_{n t}^{\\prime}}{\\sum_i \\hat{w}_{i t} \\hat{L}_{i t} w_{i 0} L_{i 0}} & =\\frac{T D_{n 0}}{\\sum_i w_{i 0} L_{i 0}}\n",
    "\\end{aligned}\n",
    "$$"
   ]
  },
  {
   "cell_type": "markdown",
   "id": "7746a201",
   "metadata": {},
   "source": [
    "To rewrite and some changes in notation, we first clarify that for the shape $(N, N, S, S)$, and corresponding index is $(i, n, s, k)$ with the meaning $(\\text{import country, export country, input sector, output sector})$.\n"
   ]
  },
  {
   "cell_type": "markdown",
   "id": "f7d5d263",
   "metadata": {},
   "source": [
    "$$\n",
    "\\begin{aligned}\n",
    "\\hat{c}_{is} & = \\hat{w}_{i}^{\\beta_{is}} \\prod_{k=1}^S\\left(\\hat{P}_{ik}^{m}\\right)^{\\gamma_{isk}} &&(E1)\\\\[10pt]\n",
    "\n",
    "\\left(\\hat{P}_{is}^{u}\\right)^{-\\theta^s} & = \\sum_{n=1}^N \\pi_{i n s}^{0u} \\hat{\\Lambda}_{ns}\\left(\\hat{c}_{ns} \\hat{d}_{ins}^u\\right)^{-\\theta^s} &&(E2)\\\\[10pt]\n",
    "\n",
    "\\hat{\\pi}_{i n s}^{u} & = \\frac{\\hat{\\Lambda}_{ns}\\left(\\hat{c}_{ns} \\hat{d}_{ins}^{u}\\right)^{-\\theta^s}}{\\left(\\hat{P}_{is}^{u}\\right)^{-\\theta^s}} &&(E3)\\\\[10pt]\n",
    "\n",
    "X_{is}^{f \\prime} & = \\alpha_{is}\\left[\\hat{w}_{i} V_i+\\sum_{k=1}^S \\sum_{n=1}^N \\frac{\\tau_{i n k}^{\\prime}}{1+\\tau_{i n k}^{\\prime}}\\left(\\pi_{i n k}^{f \\prime} X_{ik}^{f \\prime}+\\pi_{ink}^{m \\prime} X_{ik}^{m \\prime}\\right)+D_{i}^{\\prime}\\right] &&(E4)\\\\[10pt]\n",
    "\n",
    "X_{is}^{m \\prime} & = \\sum_{k=1}^S \\gamma_{iks}\\left(\\sum_{n=1}^N \\frac{\\pi_{n i k}^{f \\prime}}{1+\\tau_{n i k}^{\\prime}} X_{n k}^{f \\prime}+\\sum_{n=1}^N \\frac{\\pi_{n i k}^{m \\prime}}{1+\\tau_{n i k}^{\\prime}} X_{n k}^{m \\prime}\\right) &&(E5)\\\\[10pt]\n",
    "\n",
    "D_{i}^{\\prime} & = \\sum_{s=1}^S \\sum_{n=1}^N\\left(\\frac{\\pi_{ins}^{f \\prime} X_{is}^{f \\prime}+\\pi_{ins}^{m \\prime} X_{is}^{m \\prime}}{1+\\tau_{ins}^{\\prime}}-\\frac{\\pi_{nis}^{f \\prime} X_{ns}^{f \\prime}+\\pi_{nis}^{m \\prime} X_{ns}^{m \\prime}}{1+\\tau_{nis}^{\\prime}}\\right) &&(E6)\\\\[10pt]\n",
    "\n",
    "\\frac{D_{n}^{\\prime}}{\\sum_{i=1}^N \\hat{w}_{i} V_{i} } & = \\frac{D_{n}}{\\sum_{i=1}^N V_i} &&(E7)\n",
    "\\end{aligned}\n",
    "$$"
   ]
  }
 ],
 "metadata": {
  "kernelspec": {
   "display_name": "base",
   "language": "python",
   "name": "python3"
  },
  "language_info": {
   "codemirror_mode": {
    "name": "ipython",
    "version": 3
   },
   "file_extension": ".py",
   "mimetype": "text/x-python",
   "name": "python",
   "nbconvert_exporter": "python",
   "pygments_lexer": "ipython3",
   "version": "3.12.2"
  }
 },
 "nbformat": 4,
 "nbformat_minor": 5
}

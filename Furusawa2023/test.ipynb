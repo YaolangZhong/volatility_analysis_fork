{
 "cells": [
  {
   "cell_type": "code",
   "execution_count": 57,
   "metadata": {},
   "outputs": [
    {
     "name": "stdout",
     "output_type": "stream",
     "text": [
      "The autoreload extension is already loaded. To reload it, use:\n",
      "  %reload_ext autoreload\n"
     ]
    }
   ],
   "source": [
    "%load_ext autoreload\n",
    "%autoreload 2\n",
    "import os\n",
    "import numpy as np\n",
    "import timeit\n",
    "from models import *\n",
    "from equations import *\n",
    "from solvers import *"
   ]
  },
  {
   "cell_type": "code",
   "execution_count": 58,
   "metadata": {},
   "outputs": [
    {
     "name": "stdout",
     "output_type": "stream",
     "text": [
      "Initial guess for w_hat: [1.5 1.5]\n",
      "[FULL] Iter 1: loss = 3.167e+03\n",
      "[FULL] Iter 2: loss = 8.423e+03\n",
      "[FULL] Iter 3: loss = 3.561e+03\n",
      "[FULL] Iter 4: loss = 1.232e+03\n",
      "[FULL] Iter 5: loss = 1.855e+03\n",
      "[FULL] Iter 6: loss = 8.233e+02\n",
      "[FULL] Iter 7: loss = 6.128e+02\n",
      "[FULL] Iter 8: loss = 4.440e+02\n",
      "[FULL] Iter 9: loss = 1.385e+02\n",
      "[FULL] Iter 10: loss = 5.250e+01\n",
      "[FULL] Iter 11: loss = 6.319e+01\n",
      "[FULL] Iter 12: loss = 2.554e+01\n",
      "[FULL] Iter 13: loss = 1.280e+01\n",
      "[FULL] Iter 14: loss = 1.554e+01\n",
      "[FULL] Iter 15: loss = 5.686e+00\n",
      "[FULL] Iter 16: loss = 8.430e+00\n",
      "[FULL] Iter 17: loss = 2.869e+00\n",
      "[FULL] Iter 18: loss = 5.613e+00\n",
      "[FULL] Iter 19: loss = 7.226e-01\n",
      "[FULL] Iter 20: loss = 1.196e+00\n",
      "[FULL] Iter 21: loss = 9.548e-01\n",
      "[FULL] Iter 22: loss = 5.402e-01\n",
      "[FULL] Iter 23: loss = 1.617e-01\n",
      "[FULL] Iter 24: loss = 3.441e-01\n",
      "[FULL] Iter 25: loss = 1.436e-01\n",
      "[FULL] Iter 26: loss = 1.585e-01\n",
      "[FULL] Iter 27: loss = 5.305e-03\n",
      "[FULL] Iter 28: loss = 2.019e-02\n",
      "[FULL] Iter 29: loss = 6.544e-02\n",
      "[FULL] Iter 30: loss = 2.635e-02\n",
      "[FULL] Iter 31: loss = 6.799e-03\n",
      "[FULL] Iter 32: loss = 9.724e-03\n",
      "[FULL] Iter 33: loss = 4.488e-03\n",
      "[FULL] Iter 34: loss = 9.512e-04\n",
      "[FULL] Iter 35: loss = 1.768e-03\n",
      "[FULL] Iter 36: loss = 1.564e-03\n",
      "[FULL] Iter 37: loss = 7.305e-04\n",
      "[FULL] Iter 38: loss = 3.618e-04\n",
      "[FULL] Iter 39: loss = 5.826e-04\n",
      "[FULL] Iter 40: loss = 1.291e-04\n",
      "[FULL] Iter 41: loss = 3.499e-04\n",
      "[FULL] Iter 42: loss = 6.115e-05\n",
      "[FULL] Iter 43: loss = 1.240e-04\n",
      "[FULL] Iter 44: loss = 1.240e-04\n",
      "SciPy status 0: Optimization terminated successfully.\n"
     ]
    },
    {
     "name": "stderr",
     "output_type": "stream",
     "text": [
      "/Users/yaolangzhong/Dropbox/Carbon_Emission_Analysis_2017/volatility_analysis/solvers.py:199: OptimizeWarning: Unknown solver options: gtol\n",
      "  res = minimize(\n"
     ]
    }
   ],
   "source": [
    "data_file_name = \"experiments/toy_IO/params.npz\"\n",
    "params = ModelParams.load_from_npz(data_file_name)\n",
    "# params.theta = np.array([2, 2])\n",
    "model = Model(params)\n",
    "shocks = model.shocks\n",
    "initial_guess = 1.5\n",
    "model.sol.w_hat *= initial_guess\n",
    "print(\"Initial guess for w_hat:\", model.sol.w_hat)\n",
    "solver = ModelSolver(model, config=SolverConfig(reduced=False, method=\"Nelder-Mead\"))\n",
    "# solver = ModelSolver(model, config=SolverConfig(reduced=False, method=\"Powell\"))\n",
    "solver.solve()"
   ]
  },
  {
   "cell_type": "code",
   "execution_count": 46,
   "metadata": {},
   "outputs": [
    {
     "data": {
      "text/plain": [
       "       message: Optimization terminated successfully.\n",
       "       success: True\n",
       "        status: 0\n",
       "           fun: 15.367772090815606\n",
       "             x: [ 1.082e+00  1.082e+00]\n",
       "           nit: 60\n",
       "          nfev: 117\n",
       " final_simplex: (array([[ 1.082e+00,  1.082e+00],\n",
       "                       [ 1.082e+00,  1.082e+00],\n",
       "                       [ 1.082e+00,  1.082e+00]]), array([ 1.537e+01,  1.537e+01,  1.537e+01]))"
      ]
     },
     "execution_count": 46,
     "metadata": {},
     "output_type": "execute_result"
    }
   ],
   "source": [
    "solver.res"
   ]
  },
  {
   "cell_type": "code",
   "execution_count": 48,
   "metadata": {},
   "outputs": [],
   "source": [
    "(N, S, alpha, beta, gamma, theta, pif, pim, tilde_tau,\n",
    "             Xf, Xm, V, D, countries, sectors) = params.unpack()\n",
    "(lambda_hat, df_hat, dm_hat, tilde_tau_prime) = shocks.unpack()\n",
    "(w_hat, c_hat, Pf_hat, Pm_hat, pif_hat, pim_hat, Xf_prime,\n",
    "             Xm_prime, p_index, real_w, D_prime) = model.sol.unpack()\n",
    "pim_prime = pim * pim_hat\n",
    "pif_prime = pif * pif_hat\n"
   ]
  },
  {
   "cell_type": "code",
   "execution_count": 49,
   "metadata": {},
   "outputs": [],
   "source": [
    "# c_hat, Pm_hat = solve_price_and_cost(w_hat, beta, gamma, theta, pim, lambda_hat, dm_hat)\n",
    "# # 2. Final-goods price index\n",
    "# Pf_hat = calc_Pf_hat(c_hat, theta, pif, lambda_hat, df_hat)\n",
    "# # 3. Expenditure-share changes\n",
    "# pif_hat = calc_pif_hat(c_hat, Pf_hat, theta, lambda_hat, df_hat)\n",
    "# pim_hat = calc_pim_hat(c_hat, Pm_hat, theta, lambda_hat, dm_hat)\n",
    "# # 4. Updated bilateral shares\n",
    "# pif_prime = pif * pif_hat\n",
    "# pim_prime = pim * pim_hat\n",
    "# # 5. τ (needed for linear system)\n",
    "# N, S = alpha.shape\n",
    "# # 6. Solve linear system for quantities and trade balance\n",
    "# #Xf_prime, Xm_prime, D_prime = calc_Xf_Xm_D(N, S, alpha, gamma, pif_prime, pim_prime,tilde_tau_prime, w_hat, V)\n",
    "# Xf_prime_iterative, Xm_prime_iterative, D_prime_iterative = \\\n",
    "# calc_Xf_Xm_D_iterative(N, S, alpha, gamma, pif_prime, pim_prime,tilde_tau_prime, w_hat, V)\n",
    "# Xf_prime_iterative_python, Xm_prime_iterative_python, D_prime_iterative_python = \\\n",
    "# calc_Xf_Xm_D_iterative_python(N, S, alpha, gamma, pif_prime, pim_prime,tilde_tau_prime, w_hat, V, Xf0=Xf, Xm0=Xm, D0=D)"
   ]
  },
  {
   "cell_type": "code",
   "execution_count": 50,
   "metadata": {},
   "outputs": [],
   "source": [
    "assert np.allclose(pif_prime.sum(axis=1), 1.0, atol=1e-10)\n",
    "assert np.allclose(pim_prime.sum(axis=1), 1.0, atol=1e-10)"
   ]
  },
  {
   "cell_type": "code",
   "execution_count": 51,
   "metadata": {},
   "outputs": [
    {
     "data": {
      "text/plain": [
       "array([[[0.50012132, 0.50012132],\n",
       "        [0.49987648, 0.49987648]],\n",
       "\n",
       "       [[0.50012132, 0.50012132],\n",
       "        [0.49987648, 0.49987648]]])"
      ]
     },
     "execution_count": 51,
     "metadata": {},
     "output_type": "execute_result"
    }
   ],
   "source": [
    "pim_prime"
   ]
  },
  {
   "cell_type": "code",
   "execution_count": 52,
   "metadata": {},
   "outputs": [
    {
     "data": {
      "text/plain": [
       "array([1.08188551, 1.08202427])"
      ]
     },
     "execution_count": 52,
     "metadata": {},
     "output_type": "execute_result"
    }
   ],
   "source": [
    "w_hat"
   ]
  },
  {
   "cell_type": "code",
   "execution_count": 53,
   "metadata": {},
   "outputs": [
    {
     "data": {
      "text/plain": [
       "array([[1.08191676, 1.08191676],\n",
       "       [1.08199244, 1.08199244]])"
      ]
     },
     "execution_count": 53,
     "metadata": {},
     "output_type": "execute_result"
    }
   ],
   "source": [
    "c_hat"
   ]
  },
  {
   "cell_type": "code",
   "execution_count": 54,
   "metadata": {},
   "outputs": [
    {
     "data": {
      "text/plain": [
       "(array([[54.93704739, 54.93704739],\n",
       "        [74.89753911, 74.89753911]]),\n",
       " array([[50., 50.],\n",
       "        [70., 70.]]))"
      ]
     },
     "execution_count": 54,
     "metadata": {},
     "output_type": "execute_result"
    }
   ],
   "source": [
    "Xf_prime, Xf"
   ]
  },
  {
   "cell_type": "code",
   "execution_count": 55,
   "metadata": {},
   "outputs": [
    {
     "data": {
      "text/plain": [
       "(array([[54.09561473, 54.09561473],\n",
       "        [54.09561473, 54.09561473]]),\n",
       " array([[60., 60.],\n",
       "        [60., 60.]]))"
      ]
     },
     "execution_count": 55,
     "metadata": {},
     "output_type": "execute_result"
    }
   ],
   "source": [
    "Xm_prime, Xm"
   ]
  },
  {
   "cell_type": "code",
   "execution_count": 56,
   "metadata": {},
   "outputs": [
    {
     "data": {
      "text/plain": [
       "(array([-20.01876878,  20.01876878]), array([-20.,  20.]))"
      ]
     },
     "execution_count": 56,
     "metadata": {},
     "output_type": "execute_result"
    }
   ],
   "source": [
    "D_prime, D"
   ]
  },
  {
   "cell_type": "code",
   "execution_count": 13,
   "metadata": {},
   "outputs": [
    {
     "data": {
      "text/plain": [
       "(array([1.00130203, 1.00167197]),\n",
       " array([[1.00138583, 1.00138583],\n",
       "        [1.00158762, 1.00158762]]),\n",
       " array([[1.00148671, 1.00148671],\n",
       "        [1.00148671, 1.00148671]]),\n",
       " array([[1.00148641, 1.00148641],\n",
       "        [1.00148641, 1.00148641]]),\n",
       " array([[[1.00020149, 1.00020149],\n",
       "         [0.99979851, 0.99979851]],\n",
       " \n",
       "        [[1.00020149, 1.00020149],\n",
       "         [0.99979851, 0.99979851]]]),\n",
       " array([[[1.00020088, 1.00020088],\n",
       "         [0.9997979 , 0.9997979 ]],\n",
       " \n",
       "        [[1.00020088, 1.00020088],\n",
       "         [0.9997979 , 0.9997979 ]]]),\n",
       " array([[50.11141529, 50.11141529],\n",
       "        [70.06702507, 70.06702507]]))"
      ]
     },
     "execution_count": 13,
     "metadata": {},
     "output_type": "execute_result"
    }
   ],
   "source": [
    "w_hat, c_hat, Pf_hat, Pm_hat, pif_hat, pim_hat, Xf_prime,"
   ]
  },
  {
   "cell_type": "code",
   "execution_count": null,
   "metadata": {},
   "outputs": [],
   "source": []
  },
  {
   "cell_type": "code",
   "execution_count": null,
   "metadata": {},
   "outputs": [],
   "source": []
  },
  {
   "cell_type": "code",
   "execution_count": null,
   "metadata": {},
   "outputs": [],
   "source": []
  }
 ],
 "metadata": {
  "kernelspec": {
   "display_name": "base",
   "language": "python",
   "name": "python3"
  },
  "language_info": {
   "codemirror_mode": {
    "name": "ipython",
    "version": 3
   },
   "file_extension": ".py",
   "mimetype": "text/x-python",
   "name": "python",
   "nbconvert_exporter": "python",
   "pygments_lexer": "ipython3",
   "version": "3.12.2"
  }
 },
 "nbformat": 4,
 "nbformat_minor": 2
}

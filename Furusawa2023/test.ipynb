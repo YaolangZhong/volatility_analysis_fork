{
 "cells": [
  {
   "cell_type": "code",
   "execution_count": 16,
   "metadata": {},
   "outputs": [
    {
     "name": "stdout",
     "output_type": "stream",
     "text": [
      "The autoreload extension is already loaded. To reload it, use:\n",
      "  %reload_ext autoreload\n"
     ]
    }
   ],
   "source": [
    "%load_ext autoreload\n",
    "%autoreload 2\n",
    "import os\n",
    "import numpy as np\n",
    "import timeit\n",
    "from models import *\n",
    "from equations import *\n",
    "from solvers import *"
   ]
  },
  {
   "cell_type": "code",
   "execution_count": 17,
   "metadata": {},
   "outputs": [],
   "source": [
    "data_file_name = \"data/data_2017(gvc_consistent).npz\"\n",
    "params = ModelParams.load_from_npz(data_file_name)\n",
    "params.gamma = np.swapaxes(params.gamma, 1, 2)\n",
    "#params.pif = params.pim\n",
    "# params.pim = params.pi\n",
    "model = Model(params)\n",
    "shocks = model.shocks"
   ]
  },
  {
   "cell_type": "code",
   "execution_count": 18,
   "metadata": {},
   "outputs": [
    {
     "data": {
      "text/plain": [
       "array(['AUS', 'AUT', 'BEL', 'BRA', 'BGR', 'CAN', 'CHN', 'CZE', 'DNK',\n",
       "       'EST', 'FIN', 'FRA', 'DEU', 'GRC', 'HUN', 'IND', 'IRL', 'ITA',\n",
       "       'JPN', 'LTU', 'MEX', 'NLD', 'POL', 'PRT', 'KOR', 'ROU', 'RUS',\n",
       "       'SVK', 'SVN', 'ESP', 'SWE', 'TWN', 'TUR', 'GBR', 'USA', 'VNM',\n",
       "       'ROW'], dtype='<U3')"
      ]
     },
     "execution_count": 18,
     "metadata": {},
     "output_type": "execute_result"
    }
   ],
   "source": [
    "model.params.country_list"
   ]
  },
  {
   "cell_type": "code",
   "execution_count": 13,
   "metadata": {},
   "outputs": [],
   "source": [
    "w_hat = model.sol.w_hat\n",
    "Pf_hat = model.sol.Pf_hat\n",
    "Pm_hat = model.sol.Pm_hat\n",
    "vfactor = -0.2\n",
    "(N, S, alpha, beta, gamma, theta, pif, pim, pi, tilde_tau, Xf, Xm, X, V, D, countries, sectors) = params.unpack()\n",
    "(lambda_hat, df_hat, dm_hat, tilde_tau_hat) = shocks.unpack()\n",
    "(c_hat, Pf_hat, Pm_hat, pif_hat, pim_hat, Xf_prime, Xm_prime, D_prime, p_index, real_w) = generate_equilibrium(\n",
    "                w_hat, Pm_hat, alpha, beta, gamma, theta, pif, pim, tilde_tau, V, D, Xf, Xm, lambda_hat, df_hat, dm_hat, tilde_tau_hat)\n",
    "w_grad = (D - D_prime) / V * vfactor\n",
    "Xf = Xf_prime        # latest expenditure becomes next-round initial guess\n",
    "Xm = Xm_prime\n",
    "# update wages\n",
    "w_hat = w_hat - w_grad"
   ]
  },
  {
   "cell_type": "code",
   "execution_count": 14,
   "metadata": {},
   "outputs": [
    {
     "name": "stdout",
     "output_type": "stream",
     "text": [
      "Iter 1: w_min=9.801e-01, w_max=1.011e+00, X_min=2.257e+03, X_max=5.410e+09, Δw=1.991e-02, ΔP=2.220e-16\n",
      "Iter 2: w_min=9.640e-01, w_max=1.020e+00, X_min=2.242e+03, X_max=5.436e+09, Δw=1.606e-02, ΔP=1.533e-02\n",
      "Iter 3: w_min=9.530e-01, w_max=1.027e+00, X_min=2.229e+03, X_max=5.461e+09, Δw=1.107e-02, ΔP=1.200e-02\n",
      "Iter 4: w_min=9.465e-01, w_max=1.032e+00, X_min=2.218e+03, X_max=5.484e+09, Δw=6.463e-03, ΔP=1.039e-02\n",
      "Iter 5: w_min=9.435e-01, w_max=1.036e+00, X_min=2.210e+03, X_max=5.503e+09, Δw=3.928e-03, ΔP=7.852e-03\n",
      "Iter 6: w_min=9.428e-01, w_max=1.039e+00, X_min=2.203e+03, X_max=5.519e+09, Δw=2.966e-03, ΔP=5.441e-03\n",
      "Iter 7: w_min=9.431e-01, w_max=1.041e+00, X_min=2.199e+03, X_max=5.532e+09, Δw=2.270e-03, ΔP=3.525e-03\n",
      "Iter 8: w_min=9.438e-01, w_max=1.043e+00, X_min=2.196e+03, X_max=5.543e+09, Δw=1.765e-03, ΔP=2.213e-03\n",
      "Iter 9: w_min=9.444e-01, w_max=1.045e+00, X_min=2.194e+03, X_max=5.552e+09, Δw=1.392e-03, ΔP=1.714e-03\n",
      "Iter 10: w_min=9.447e-01, w_max=1.046e+00, X_min=2.192e+03, X_max=5.559e+09, Δw=1.113e-03, ΔP=1.348e-03\n",
      "Iter 11: w_min=9.448e-01, w_max=1.047e+00, X_min=2.191e+03, X_max=5.565e+09, Δw=8.988e-04, ΔP=1.075e-03\n",
      "Iter 12: w_min=9.448e-01, w_max=1.047e+00, X_min=2.191e+03, X_max=5.569e+09, Δw=7.320e-04, ΔP=8.669e-04\n",
      "Iter 13: w_min=9.446e-01, w_max=1.048e+00, X_min=2.191e+03, X_max=5.573e+09, Δw=5.997e-04, ΔP=7.052e-04\n",
      "Iter 14: w_min=9.445e-01, w_max=1.048e+00, X_min=2.191e+03, X_max=5.577e+09, Δw=4.935e-04, ΔP=5.774e-04\n",
      "Iter 15: w_min=9.444e-01, w_max=1.049e+00, X_min=2.191e+03, X_max=5.579e+09, Δw=4.073e-04, ΔP=4.749e-04\n",
      "Iter 16: w_min=9.443e-01, w_max=1.049e+00, X_min=2.191e+03, X_max=5.581e+09, Δw=3.369e-04, ΔP=3.919e-04\n",
      "Iter 17: w_min=9.442e-01, w_max=1.049e+00, X_min=2.191e+03, X_max=5.583e+09, Δw=2.791e-04, ΔP=3.241e-04\n",
      "Iter 18: w_min=9.442e-01, w_max=1.050e+00, X_min=2.191e+03, X_max=5.584e+09, Δw=2.315e-04, ΔP=2.685e-04\n",
      "Iter 19: w_min=9.442e-01, w_max=1.050e+00, X_min=2.191e+03, X_max=5.586e+09, Δw=1.923e-04, ΔP=2.227e-04\n",
      "Iter 20: w_min=9.442e-01, w_max=1.050e+00, X_min=2.191e+03, X_max=5.587e+09, Δw=1.598e-04, ΔP=1.849e-04\n",
      "Iter 21: w_min=9.441e-01, w_max=1.050e+00, X_min=2.191e+03, X_max=5.587e+09, Δw=1.330e-04, ΔP=1.537e-04\n",
      "Iter 22: w_min=9.441e-01, w_max=1.050e+00, X_min=2.191e+03, X_max=5.588e+09, Δw=1.107e-04, ΔP=1.279e-04\n",
      "Iter 23: w_min=9.441e-01, w_max=1.050e+00, X_min=2.191e+03, X_max=5.589e+09, Δw=9.226e-05, ΔP=1.065e-04\n",
      "Iter 24: w_min=9.441e-01, w_max=1.050e+00, X_min=2.191e+03, X_max=5.589e+09, Δw=7.693e-05, ΔP=8.871e-05\n",
      "Iter 25: w_min=9.441e-01, w_max=1.050e+00, X_min=2.191e+03, X_max=5.590e+09, Δw=6.419e-05, ΔP=7.397e-05\n",
      "Iter 26: w_min=9.441e-01, w_max=1.051e+00, X_min=2.191e+03, X_max=5.590e+09, Δw=5.359e-05, ΔP=6.172e-05\n",
      "Iter 27: w_min=9.441e-01, w_max=1.051e+00, X_min=2.191e+03, X_max=5.590e+09, Δw=4.476e-05, ΔP=5.152e-05\n",
      "Iter 28: w_min=9.441e-01, w_max=1.051e+00, X_min=2.191e+03, X_max=5.590e+09, Δw=3.740e-05, ΔP=5.082e-05\n",
      "Iter 29: w_min=9.441e-01, w_max=1.051e+00, X_min=2.191e+03, X_max=5.591e+09, Δw=3.126e-05, ΔP=5.048e-05\n",
      "Iter 30: w_min=9.441e-01, w_max=1.051e+00, X_min=2.191e+03, X_max=5.591e+09, Δw=2.614e-05, ΔP=5.014e-05\n",
      "Iter 31: w_min=9.441e-01, w_max=1.051e+00, X_min=2.191e+03, X_max=5.591e+09, Δw=2.186e-05, ΔP=4.979e-05\n",
      "Iter 32: w_min=9.441e-01, w_max=1.051e+00, X_min=2.191e+03, X_max=5.591e+09, Δw=1.829e-05, ΔP=4.943e-05\n",
      "Iter 33: w_min=9.441e-01, w_max=1.051e+00, X_min=2.191e+03, X_max=5.591e+09, Δw=1.530e-05, ΔP=4.907e-05\n",
      "Iter 34: w_min=9.441e-01, w_max=1.051e+00, X_min=2.191e+03, X_max=5.591e+09, Δw=1.280e-05, ΔP=4.871e-05\n",
      "Iter 35: w_min=9.441e-01, w_max=1.051e+00, X_min=2.191e+03, X_max=5.591e+09, Δw=1.072e-05, ΔP=4.835e-05\n",
      "Iter 36: w_min=9.441e-01, w_max=1.051e+00, X_min=2.191e+03, X_max=5.591e+09, Δw=8.969e-06, ΔP=4.799e-05\n",
      "Iter 37: w_min=9.441e-01, w_max=1.051e+00, X_min=2.191e+03, X_max=5.591e+09, Δw=7.508e-06, ΔP=4.763e-05\n",
      "Iter 38: w_min=9.441e-01, w_max=1.051e+00, X_min=2.191e+03, X_max=5.591e+09, Δw=6.285e-06, ΔP=4.727e-05\n",
      "Iter 39: w_min=9.441e-01, w_max=1.051e+00, X_min=2.191e+03, X_max=5.591e+09, Δw=5.262e-06, ΔP=4.691e-05\n",
      "Iter 40: w_min=9.441e-01, w_max=1.051e+00, X_min=2.191e+03, X_max=5.591e+09, Δw=4.406e-06, ΔP=4.655e-05\n",
      "Iter 41: w_min=9.441e-01, w_max=1.051e+00, X_min=2.191e+03, X_max=5.591e+09, Δw=3.689e-06, ΔP=4.620e-05\n",
      "Iter 42: w_min=9.441e-01, w_max=1.051e+00, X_min=2.191e+03, X_max=5.591e+09, Δw=3.089e-06, ΔP=4.584e-05\n",
      "Iter 43: w_min=9.441e-01, w_max=1.051e+00, X_min=2.191e+03, X_max=5.591e+09, Δw=2.587e-06, ΔP=4.549e-05\n",
      "Iter 44: w_min=9.441e-01, w_max=1.051e+00, X_min=2.191e+03, X_max=5.591e+09, Δw=2.167e-06, ΔP=4.514e-05\n",
      "Iter 45: w_min=9.441e-01, w_max=1.051e+00, X_min=2.191e+03, X_max=5.591e+09, Δw=1.815e-06, ΔP=4.480e-05\n",
      "Iter 46: w_min=9.441e-01, w_max=1.051e+00, X_min=2.191e+03, X_max=5.591e+09, Δw=1.520e-06, ΔP=4.445e-05\n",
      "Iter 47: w_min=9.441e-01, w_max=1.051e+00, X_min=2.191e+03, X_max=5.591e+09, Δw=1.273e-06, ΔP=4.411e-05\n",
      "Iter 48: w_min=9.441e-01, w_max=1.051e+00, X_min=2.191e+03, X_max=5.591e+09, Δw=1.067e-06, ΔP=4.377e-05\n",
      "Iter 49: w_min=9.441e-01, w_max=1.051e+00, X_min=2.191e+03, X_max=5.591e+09, Δw=8.937e-07, ΔP=4.343e-05\n"
     ]
    }
   ],
   "source": [
    "solver = ModelSolver(model)\n",
    "solver.solve()"
   ]
  },
  {
   "cell_type": "code",
   "execution_count": 15,
   "metadata": {},
   "outputs": [
    {
     "data": {
      "text/plain": [
       "array([0.96398591, 0.9682538 , 0.96940441, 0.99243285, 0.9441079 ,\n",
       "       0.97965848, 0.98635523, 0.96858922, 0.96893122, 0.98606637,\n",
       "       0.98417573, 0.97665499, 0.96711125, 0.95857258, 0.97782775,\n",
       "       1.00309053, 0.98139281, 0.9580231 , 0.98139593, 0.97244679,\n",
       "       1.05077166, 0.98012073, 0.96879454, 0.96332741, 0.96297521,\n",
       "       0.98482475, 0.96330166, 0.98572686, 0.97237227, 0.96956649,\n",
       "       0.97962496, 1.01709686, 0.97253981, 0.98392431, 1.02885962,\n",
       "       0.96989589, 1.02377473])"
      ]
     },
     "execution_count": 15,
     "metadata": {},
     "output_type": "execute_result"
    }
   ],
   "source": [
    "model.sol.w_hat"
   ]
  },
  {
   "cell_type": "code",
   "execution_count": null,
   "metadata": {},
   "outputs": [],
   "source": []
  },
  {
   "cell_type": "code",
   "execution_count": null,
   "metadata": {},
   "outputs": [],
   "source": []
  }
 ],
 "metadata": {
  "kernelspec": {
   "display_name": "base",
   "language": "python",
   "name": "python3"
  },
  "language_info": {
   "codemirror_mode": {
    "name": "ipython",
    "version": 3
   },
   "file_extension": ".py",
   "mimetype": "text/x-python",
   "name": "python",
   "nbconvert_exporter": "python",
   "pygments_lexer": "ipython3",
   "version": "3.12.2"
  }
 },
 "nbformat": 4,
 "nbformat_minor": 2
}

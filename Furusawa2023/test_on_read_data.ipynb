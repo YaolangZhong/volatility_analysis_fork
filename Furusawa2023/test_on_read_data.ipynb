{
 "cells": [
  {
   "cell_type": "code",
   "execution_count": 27,
   "id": "86fc471b",
   "metadata": {},
   "outputs": [
    {
     "name": "stdout",
     "output_type": "stream",
     "text": [
      "The autoreload extension is already loaded. To reload it, use:\n",
      "  %reload_ext autoreload\n"
     ]
    }
   ],
   "source": [
    "%load_ext autoreload\n",
    "%autoreload 2\n",
    "import os\n",
    "import numpy as np\n",
    "import timeit\n",
    "from models import *\n",
    "from equations import *\n",
    "from solvers import *"
   ]
  },
  {
   "cell_type": "code",
   "execution_count": 63,
   "id": "b3ae5241",
   "metadata": {},
   "outputs": [
    {
     "name": "stdout",
     "output_type": "stream",
     "text": [
      "Keys in data/CP_data_2017.npz\n",
      "  N            shape=()  dtype=int64\n",
      "  country_list shape=(37,)  dtype=<U3\n",
      "  sector_list  shape=(23,)  dtype=<U36\n",
      "  alpha        shape=(37, 23)  dtype=float64\n",
      "  beta         shape=(37, 23)  dtype=float64\n",
      "  gamma        shape=(37, 23, 23)  dtype=float64\n",
      "  theta        shape=(23,)  dtype=float64\n",
      "  X            shape=(37, 23)  dtype=float64\n",
      "  tilde_tau    shape=(37, 37, 23)  dtype=float64\n",
      "  D            shape=(37,)  dtype=float64\n",
      "  S            shape=()  dtype=int64\n",
      "  V            shape=(37,)  dtype=float64\n"
     ]
    }
   ],
   "source": [
    "fname = \"data/CP_data_2017.npz\"\n",
    "with np.load(fname, allow_pickle=True) as npz:\n",
    "    data = dict(npz)           # mutable copy\n",
    "\n",
    "print(\"Keys in\", fname)\n",
    "for k, v in data.items():\n",
    "    print(f\"  {k:<12} shape={v.shape}  dtype={v.dtype}\")"
   ]
  },
  {
   "cell_type": "code",
   "execution_count": 65,
   "id": "dace34e8",
   "metadata": {},
   "outputs": [
    {
     "name": "stdout",
     "output_type": "stream",
     "text": [
      "Keys in data/new_vs_real_data_2017.npz\n",
      "  N            shape=()  dtype=int64\n",
      "  country_list shape=(37,)  dtype=<U3\n",
      "  sector_list  shape=(25,)  dtype=<U53\n",
      "  alpha        shape=(37, 25)  dtype=float64\n",
      "  beta         shape=(37, 25)  dtype=float64\n",
      "  gamma        shape=(37, 25, 25)  dtype=float64\n",
      "  theta        shape=(25,)  dtype=float64\n",
      "  pif          shape=(37, 37, 25)  dtype=float64\n",
      "  pim          shape=(37, 37, 25)  dtype=float64\n",
      "  Xf           shape=(37, 25)  dtype=float64\n",
      "  Xm           shape=(37, 25)  dtype=float64\n",
      "  tilde_tau    shape=(37, 37, 25)  dtype=float64\n",
      "  D            shape=(37,)  dtype=float64\n",
      "  S            shape=()  dtype=int64\n",
      "  V            shape=(37,)  dtype=float64\n"
     ]
    }
   ],
   "source": [
    "fname = \"data/new_vs_real_data_2017.npz\"\n",
    "with np.load(fname, allow_pickle=True) as npz:\n",
    "    data = dict(npz)           # mutable copy\n",
    "\n",
    "print(\"Keys in\", fname)\n",
    "for k, v in data.items():\n",
    "    print(f\"  {k:<12} shape={v.shape}  dtype={v.dtype}\")"
   ]
  },
  {
   "cell_type": "code",
   "execution_count": null,
   "id": "1d15d71a",
   "metadata": {},
   "outputs": [],
   "source": []
  }
 ],
 "metadata": {
  "kernelspec": {
   "display_name": "base",
   "language": "python",
   "name": "python3"
  },
  "language_info": {
   "codemirror_mode": {
    "name": "ipython",
    "version": 3
   },
   "file_extension": ".py",
   "mimetype": "text/x-python",
   "name": "python",
   "nbconvert_exporter": "python",
   "pygments_lexer": "ipython3",
   "version": "3.12.2"
  }
 },
 "nbformat": 4,
 "nbformat_minor": 5
}

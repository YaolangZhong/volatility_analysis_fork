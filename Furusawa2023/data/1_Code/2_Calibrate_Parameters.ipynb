{
 "cells": [
  {
   "cell_type": "markdown",
   "id": "48631718",
   "metadata": {},
   "source": [
    "Run this file after running \"1_Clean_Eora.ipynb\"\n",
    "\n",
    "This file is used to generate paratmers used for estimating trade cost and running models"
   ]
  },
  {
   "cell_type": "markdown",
   "id": "317933fb",
   "metadata": {},
   "source": [
    "# Set up"
   ]
  },
  {
   "cell_type": "code",
   "execution_count": 1,
   "id": "e03bf538",
   "metadata": {},
   "outputs": [],
   "source": [
    "import os\n",
    "import pandas as pd \n",
    "import numpy as np\n"
   ]
  },
  {
   "cell_type": "code",
   "execution_count": 2,
   "id": "05de93fe",
   "metadata": {},
   "outputs": [
    {
     "name": "stdout",
     "output_type": "stream",
     "text": [
      "Current working directory: /Users/lishuangcen/Dropbox/Tariff_Project\n",
      "Cleaned Eora data folder: /Users/lishuangcen/Dropbox/Tariff_Project/3_Result/eora_clean\n"
     ]
    }
   ],
   "source": [
    "# Set working directory\n",
    "wd = os.path.expanduser(\"~/Dropbox/Tariff_Project\")\n",
    "os.chdir(wd)\n",
    "print(f\"Current working directory: {os.getcwd()}\")\n",
    "\n",
    "# 3. Define data paths and parameters\n",
    "# Path to raw Eora BP data\n",
    "data_path = os.path.join(wd, \"3_Result/eora_clean\")\n",
    "\n",
    "\n",
    "save_path = os.path.join(wd, \"3_Result/parameters\")\n",
    "\n",
    "\n",
    "# Verify paths\n",
    "print(f\"Cleaned Eora data folder: {data_path}\")"
   ]
  },
  {
   "cell_type": "markdown",
   "id": "a427432c",
   "metadata": {},
   "source": [
    "# Part I ： Run this part after running \"1_Clean_Eora.ipynb\""
   ]
  },
  {
   "cell_type": "code",
   "execution_count": 3,
   "id": "ccdd1148",
   "metadata": {},
   "outputs": [
    {
     "name": "stdout",
     "output_type": "stream",
     "text": [
      "N = 37, J = 25\n"
     ]
    }
   ],
   "source": [
    "# ----------------------------\n",
    "#  Read country / sector lists\n",
    "# ----------------------------\n",
    "country_list = (\n",
    "    pd.read_csv(os.path.join(data_path, \"country_list.csv\"), header=0)[\"0\"]\n",
    "    .astype(str)\n",
    "    .tolist()\n",
    ")\n",
    "\n",
    "sector_list = (\n",
    "    pd.read_csv(os.path.join(data_path, \"sector_list.csv\"), header=0)[\"0\"]\n",
    "    .astype(str)\n",
    "    .tolist()\n",
    ")\n",
    "\n",
    "label_list = pd.read_csv(os.path.join(data_path, \"labels.csv\"), header=0)\n",
    "\n",
    "# ----------------------------\n",
    "#  Basic dimension information\n",
    "# ----------------------------\n",
    "N = len(country_list)  # number of countries\n",
    "J = len(sector_list)   # number of sectors\n",
    "\n",
    "print(f\"{N = }, {J = }\")\n"
   ]
  },
  {
   "cell_type": "code",
   "execution_count": 4,
   "id": "b7950d5d",
   "metadata": {},
   "outputs": [
    {
     "name": "stdout",
     "output_type": "stream",
     "text": [
      "io shape: (925, 925), fd shape: (925, 222), va shape: (6, 925)\n"
     ]
    }
   ],
   "source": [
    "# -------------------------------------------------\n",
    "#  Read input‑output tables, final demand, value added\n",
    "# -------------------------------------------------\n",
    "\n",
    "io = (\n",
    "    pd.read_csv(os.path.join(data_path, \"T_final_2017.csv\"), header=0)\n",
    "    .fillna(0)           \n",
    "    .to_numpy(float)      \n",
    ")\n",
    "\n",
    "fd = (\n",
    "    pd.read_csv(os.path.join(data_path, \"FD_final_2017.csv\"), header=0)\n",
    "    .fillna(0)\n",
    "    .to_numpy(float)\n",
    ")\n",
    "\n",
    "\n",
    "\n",
    "va = (\n",
    "    pd.read_csv(os.path.join(data_path, \"VA_final_2017.csv\"), header=0)\n",
    "    .fillna(0)\n",
    "    .to_numpy(float)\n",
    ")\n",
    "\n",
    "print(f\"io shape: {io.shape}, fd shape: {fd.shape}, va shape: {va.shape}\")"
   ]
  },
  {
   "cell_type": "markdown",
   "id": "a5732455",
   "metadata": {},
   "source": [
    "## alpha(N,J): Calibrate $\\alpha_n^{j}$ (preference paramter) in household utility function \n"
   ]
  },
  {
   "cell_type": "code",
   "execution_count": 5,
   "id": "d2b7954b",
   "metadata": {},
   "outputs": [],
   "source": [
    "# Final demand accounts include: \n",
    "# 1.Household final consumption \n",
    "# 2.Non-profit institutions serving households\n",
    "# 3.Government final consumption \n",
    "# 4.Gross fixed capital formation\n",
    "# 5.Changes in inventories \n",
    "# 6.Acquisitions less disposals of valuables\n",
    "\n",
    "# Here I exclude 5 and 6 to better represent household preference\n",
    "fd_n = 6 \n",
    "fd_n_2 = 4\n",
    "keep_fd_n = [0, 1, 2, 3]  \n",
    "\n",
    "# Step 1: select the four accounts (exclude the last two)\n",
    "cols_to_select = []\n",
    "for c_idx in range(N):\n",
    "    base = c_idx * fd_n\n",
    "    cols_to_select.extend([base + a for a in keep_fd_n])\n",
    "\n",
    "fd_select = fd[:, cols_to_select]      # (N*J, 4*N)\n",
    "\n",
    "# Step 2：sum up over accounts for final demand \n",
    "fd_sum = fd_select.reshape(fd_select.shape[0], N, 4).sum(axis=2) # reshape to (NJ, N, 4 and sum up over the last dim)\n",
    "\n",
    "# Step 3: sum up over countries for the same sector\n",
    "fd_sum_reshaped = fd_sum.reshape(N, J, N)\n",
    "fd_final = fd_sum_reshaped.sum(axis=0)         # (J, N)：（j,n）is country n's total comsumption in sector j, no matter where it comes from \n",
    "\n",
    "# ----------- correct above - checked by hand --------------\n",
    "\n",
    "# Step 4: calculate shares\n",
    "total_fd = fd_final.sum(axis=0, keepdims=True) # (1, N) # sum up over all sectors for each country, that is, each country's total final demand (total final consumption)\n",
    "Alpha_jn = fd_final / total_fd                 # (J, N) \n",
    "Alpha_nj = Alpha_jn.T                          # (N, J)\n",
    "\n",
    "# Step 5: adjust\n",
    "Alpha_nj = np.clip(Alpha_nj, 0.00001, 0.99999)\n",
    "Alpha_nj = Alpha_nj / Alpha_nj.sum(axis=1, keepdims=True)\n",
    "\n",
    "# ----------- correct above - checked by hand --------------\n",
    "\n"
   ]
  },
  {
   "cell_type": "code",
   "execution_count": 6,
   "id": "a1ab978f",
   "metadata": {},
   "outputs": [
    {
     "name": "stdout",
     "output_type": "stream",
     "text": [
      "For each country, the sum over secotrs equals 1 ✅\n",
      "Every value in alpha is between 0 and 1 ✅\n"
     ]
    }
   ],
   "source": [
    "# Check if it satisfies the model\n",
    "\n",
    "alpha = Alpha_nj.copy()  # alpha is the final variable name we use in model simulation\n",
    "\n",
    "# Check\n",
    "# Check 1: For each n, the sum over j equals 1\n",
    "sum_by_n = np.sum(alpha, axis=1)\n",
    "check_sum = np.allclose(sum_by_n, 1, atol=1e-6)  # Allowing a small numerical tolerance\n",
    "if check_sum:\n",
    "    print(\"For each country, the sum over secotrs equals 1 ✅\")\n",
    "else:\n",
    "    print(\"There are some country where the sum over sectors is not 1 ❌\")\n",
    "    print(\"The issue occurs at the following n indices:\", np.where(np.abs(sum_by_n - 1) > 1e-6)[0])\n",
    "    print(\"The corresponding sums are:\", sum_by_n[np.where(np.abs(sum_by_n - 1) > 1e-6)[0]])\n",
    "# Check 2: Every value in alpha is between 0 and 1\n",
    "check_range = np.all((alpha >= 0) & (alpha <= 1))\n",
    "if check_range:\n",
    "    print(\"Every value in alpha is between 0 and 1 ✅\")\n",
    "else:\n",
    "    print(\"There are values in alpha that are not between 0 and 1 ❌\")\n",
    "    print(\"These values are at positions:\", np.where((alpha < 0) | (alpha > 1)))\n",
    "    print(\"The values are:\", alpha[(alpha < 0) | (alpha > 1)])\n",
    "\n"
   ]
  },
  {
   "cell_type": "code",
   "execution_count": 7,
   "id": "f56a1b96",
   "metadata": {},
   "outputs": [
    {
     "name": "stdout",
     "output_type": "stream",
     "text": [
      "Alpha_nj_2017.csv saved successfully.\n"
     ]
    }
   ],
   "source": [
    "# Save to csv, for check\n",
    "alpha_df = pd.DataFrame(Alpha_nj,\n",
    "                        index=country_list,\n",
    "                        columns=sector_list)\n",
    "\n",
    "\n",
    "#os.makedirs(save_path, exist_ok=True) \n",
    "alpha_df.to_csv(os.path.join(save_path, \"Alpha_nj_2017.csv\"))\n",
    "\n",
    "print(\"Alpha_nj_2017.csv saved successfully.\")"
   ]
  },
  {
   "cell_type": "markdown",
   "id": "d062cc1e",
   "metadata": {},
   "source": [
    "## GO(N,J): Calculate Gross Output of Intermediate Goods, Final Goods, and All Goods\n"
   ]
  },
  {
   "cell_type": "code",
   "execution_count": 8,
   "id": "1d229f43",
   "metadata": {},
   "outputs": [],
   "source": [
    "# Total output: sum rows\n",
    "io_GO = io.sum(axis=1)         # (NJ,1) # intermediate output: sum up for each row\n",
    "fd_GO = fd_select.sum(axis=1)  # (NJ,1) # final output:sum up for each row. Previously, I incorrectely wrote fd_GO = fd.sum(axis=1)  \n",
    "\n",
    "GO_temp    = io_GO + fd_GO         # (NJ,)\n",
    "\n",
    "GO = GO_temp.reshape(N, J, order=\"C\")  # (N,J) # row - country, col - sector\n",
    "\n",
    "go_file = os.path.join(save_path, \"GO_2017.csv\")\n",
    "pd.DataFrame(GO, index=country_list, columns=sector_list).to_csv(go_file)"
   ]
  },
  {
   "cell_type": "markdown",
   "id": "02dda971",
   "metadata": {},
   "source": [
    "##  $D_n$: Trade Deficit "
   ]
  },
  {
   "cell_type": "code",
   "execution_count": 9,
   "id": "4b78bd29",
   "metadata": {},
   "outputs": [],
   "source": [
    "# D_n = IM - EX\n",
    "\n",
    "# sum up over sectors for total output\n",
    "EX = GO.sum(axis = 1) \n",
    "\n",
    "\n",
    "# sum up over sectors / fd accountrs for total consumption / imports\n",
    "io_CS = io.sum(axis = 0) # sum up over all import sources\n",
    "C_io = io_CS.reshape(N, J).sum(axis=1) \n",
    "fd_CS = fd_select.sum(axis = 0)  # sum up over all import sources\n",
    "C_fd = fd_CS.reshape(N, fd_n_2).sum(axis=1)  \n",
    "\n",
    "IM = C_io + C_fd\n",
    "\n",
    "D = IM - EX\n",
    "\n",
    "\n",
    "\n",
    "df_trade_deficit = pd.DataFrame({\n",
    "    \"Country\": country_list,\n",
    "    \"IM-EX\": D\n",
    "})\n",
    "\n",
    "df_trade_deficit.to_csv(\"3_Result/parameters/D.csv\", index=False, encoding=\"utf-8\")\n"
   ]
  },
  {
   "cell_type": "markdown",
   "id": "a69028dd",
   "metadata": {},
   "source": [
    "## $\\beta(N,J)$: Calibrate $\\gamma_n^j$ (value-added share) in production function "
   ]
  },
  {
   "cell_type": "code",
   "execution_count": 10,
   "id": "c4c67252",
   "metadata": {},
   "outputs": [
    {
     "name": "stdout",
     "output_type": "stream",
     "text": [
      "There are 38 values greater than 1. They have been replaced with 0.99.\n",
      "No values are less than 0.\n"
     ]
    },
    {
     "name": "stderr",
     "output_type": "stream",
     "text": [
      "/var/folders/j3/y9kg_6px2gb9b4k8rrxcdxvr0000gn/T/ipykernel_59023/1716875595.py:7: RuntimeWarning: invalid value encountered in divide\n",
      "  Gamma_vec = va_total / GO_temp                        # (N·J,)\n"
     ]
    }
   ],
   "source": [
    "# Value added accounts include: 1.Compensation of employees; 2.Taxes on production; 4.Net operating surplus; 5. Net mixed income; 6. Consumption of fixed capital\n",
    "# Value added accounts exclude: 3. Subsidies on production\n",
    "# Reason: for some countries, Subsidies on production is large negative number, resulting in the sum of VA negative\n",
    "\n",
    "va_total = np.delete(va, 2, axis=0).sum(axis=0)   # (N·J,)\n",
    "\n",
    "Gamma_vec = va_total / GO_temp                        # (N·J,)\n",
    "Gamma_nj  = Gamma_vec.reshape(N, J, order=\"C\")   # # row - country, col - sector\n",
    "\n",
    "\n",
    "gt_one = Gamma_nj > 1\n",
    "if gt_one.any():\n",
    "    print(f\"There are {gt_one.sum()} values greater than 1. They have been replaced with 0.99.\")\n",
    "    Gamma_nj[gt_one] = 0.99\n",
    "else:\n",
    "    print(\"No values are greater than 1.\")\n",
    "\n",
    "lt_zero = Gamma_nj < 0\n",
    "if lt_zero.any():\n",
    "    print(f\"There are {lt_zero.sum()} values less than 0. They have been replaced with 0.01.\")\n",
    "    Gamma_nj[lt_zero] = 0.01\n",
    "else:\n",
    "    print(\"No values are less than 0.\")\n",
    "\n",
    "# Since further adjustment may be needed, DO NOT save it now; save after calculating gamma_njk"
   ]
  },
  {
   "cell_type": "markdown",
   "id": "e5e97206",
   "metadata": {},
   "source": [
    "## gamma(N,J,J): Calibarte $\\gamma_n^{j,k}$\n",
    "\n",
    "Note: gamma(n,j,k) refers to the share of input from sector k in the production of nj "
   ]
  },
  {
   "cell_type": "code",
   "execution_count": 11,
   "id": "60162727",
   "metadata": {},
   "outputs": [
    {
     "name": "stdout",
     "output_type": "stream",
     "text": [
      "NA values have been handled.\n",
      "No values less than 0 or greater than 1 found in Gamma_nj_k.\n"
     ]
    }
   ],
   "source": [
    "# Step 1: sum up over sectors\n",
    "# Sum up each sectors. eg. sector 1 = sum of sector 1 of each countries (row1, row1+J, row1+2J...)\n",
    "# The aim is to sum up all goods from the same sector across countries (no matter where they from)\n",
    "\n",
    "io_sector_sum = io.reshape(N, J, -1).sum(axis=0)      # (J, N*J) # first reshape to (N,J,NJ),then, sum up over N, that is ,sum up across sectors no matter where they comes from \n",
    "\n",
    "# Step 2: Calculate Total Input (column sums)\n",
    "total_input = io.sum(axis=0)                          # (N*J,)\n",
    "\n",
    "# Step 3: Gamma_k_nj: row are the input sectors; colums are user \"country-sector\"\n",
    "with np.errstate(divide=\"ignore\", invalid=\"ignore\"):\n",
    "    Gamma_k_nj = io_sector_sum / total_input          # (J, N*J) \n",
    "Gamma_nj_k = Gamma_k_nj.T                             # (N*J, J) row - used by; col - from sector\n",
    "\n",
    "# Step 4: Check if Gamma_nj_k contains any NA values\n",
    "nan_mask = np.isnan(Gamma_nj_k)\n",
    "if nan_mask.any():\n",
    "    rows_with_nan = np.where(nan_mask.any(axis=1))[0]   \n",
    "    n_idx = rows_with_nan // J\n",
    "    j_idx = rows_with_nan %  J\n",
    "    Gamma_nj[n_idx, j_idx] = 0.9999\n",
    "    Gamma_nj_k[nan_mask] = 0.0001\n",
    "    print(\"NA values have been handled.\")\n",
    "else:\n",
    "    print(\"No NA values found in Gamma_nj_k.\")\n",
    "\n",
    "# NA appears because input of \"KOR - Recycling\", \"ESP - Others\" are all zeros across all coutries and sectors\n",
    "\n",
    "# Step 5: Check and handle values less than 0 or greater than 1 in Gamma_nj_k\n",
    "lt_zero = Gamma_nj_k < 0\n",
    "if lt_zero.any():\n",
    "    rows = np.where(lt_zero.any(axis=1))[0]\n",
    "    n_idx = rows // J\n",
    "    j_idx = rows %  J\n",
    "    Gamma_nj_k[lt_zero] = 0.0001\n",
    "    Gamma_nj[n_idx, j_idx] = 0.9999\n",
    "    handled = True\n",
    "else:\n",
    "    handled = False\n",
    "\n",
    "gt_one = Gamma_nj_k > 1\n",
    "if gt_one.any():\n",
    "    rows = np.where(gt_one.any(axis=1))[0]\n",
    "    n_idx = rows // J\n",
    "    j_idx = rows %  J\n",
    "    Gamma_nj_k[gt_one] = 0.9999\n",
    "    Gamma_nj[n_idx, j_idx] = 0.0001\n",
    "    handled = True\n",
    "\n",
    "print(\"Values less than 0 or greater than 1 have been handled.\" if handled\n",
    "    else \"No values less than 0 or greater than 1 found in Gamma_nj_k.\")\n",
    "\n",
    "# Step 6: Adjust to meet the model\n",
    "row_sum = Gamma_nj_k.sum(axis=1)             # (N*J,)\n",
    "row_rest = 1.0 - Gamma_nj.ravel(order=\"C\")   # (N*J,)\n",
    "\n",
    "\n",
    "scale = row_rest / row_sum  \n",
    "Gamma_nj_k *= scale[:, None] # (NJ,J)\n",
    "\n"
   ]
  },
  {
   "cell_type": "code",
   "execution_count": 12,
   "id": "07170497",
   "metadata": {},
   "outputs": [
    {
     "name": "stdout",
     "output_type": "stream",
     "text": [
      "Every value in beta is between 0 and 1 ✅\n"
     ]
    }
   ],
   "source": [
    "# Check \n",
    "\n",
    "beta = Gamma_nj.copy()  # beta is the variable name used in model simulation\n",
    "\n",
    "# Check: Every value in beta is between 0 and 1\n",
    "check_range = np.all((beta >= 0) & (beta <= 1))\n",
    "if check_range:\n",
    "    print(\"Every value in beta is between 0 and 1 ✅\")\n",
    "else:\n",
    "    print(\"There are values in beta that are not between 0 and 1 ❌\")\n",
    "    print(\"These values are at positions:\", np.where((beta < 0) | (beta > 1)))\n",
    "    print(\"The values are:\", beta[(beta < 0) | (beta > 1)])\n",
    "\n"
   ]
  },
  {
   "cell_type": "code",
   "execution_count": 13,
   "id": "ccb1d833",
   "metadata": {},
   "outputs": [
    {
     "name": "stdout",
     "output_type": "stream",
     "text": [
      "Every value in gamma is between 0 and 1 ✅\n",
      "Condition satisfied: sum(k) gamma[n, k, j] + beta[n, j] = 1 ✅\n"
     ]
    }
   ],
   "source": [
    "# Check \n",
    "# Check 1: Every value in gamma is between 0 and 1\n",
    "\n",
    "gamma = Gamma_nj_k.reshape((N, J, J)) # gamma is the variable name used in model simulation:  $gamma(n, j, k)$ : country n, using sector j, producing sector k\n",
    "\n",
    "invalid_values = (gamma < 0) | (gamma > 1)\n",
    "\n",
    "if np.any(invalid_values):\n",
    "    print(\"There are values in gamma that are not between 0 and 1 ❌\")\n",
    "    print(\"These values are at positions:\", np.where(invalid_values))\n",
    "    print(\"The values are:\", gamma[invalid_values])\n",
    "else:\n",
    "    print(\"Every value in gamma is between 0 and 1 ✅\")\n",
    "\n",
    "# Check 2: sum(k) gamma[n,k,j] + beta[n,j] = 1\n",
    "temp = np.sum(gamma, axis = 2) + beta\n",
    "is_valid = np.allclose(temp, 1, atol = 1e-5)\n",
    "\n",
    "if is_valid:\n",
    "    print(\"Condition satisfied: sum(k) gamma[n, k, j] + beta[n, j] = 1 ✅\")\n",
    "else:\n",
    "    print(\"Condition not satisfied: sum(k) gamma[n, k, j] + beta[n, j] ≠ 1 ❌\")\n",
    "    print(\"Positions where the condition fails:\", np.where(~np.isclose(temp, 1, atol=1e-5)))\n",
    "    print(\"Values that do not satisfy the condition:\", temp[~np.isclose(temp, 1, atol=1e-5)])"
   ]
  },
  {
   "cell_type": "code",
   "execution_count": 14,
   "id": "a051cab1",
   "metadata": {},
   "outputs": [
    {
     "name": "stdout",
     "output_type": "stream",
     "text": [
      "Gamma_njk_2017.csv and Gamma_nj_2017.csv saved successfully.\n"
     ]
    }
   ],
   "source": [
    "# Save to csv\n",
    "gamma_njk_df = pd.DataFrame(Gamma_nj_k,\n",
    "                            index=[f\"{country}_{sector}\"\n",
    "                                for country in country_list\n",
    "                                for sector  in sector_list],\n",
    "                            columns=sector_list)\n",
    "\n",
    "gamma_nj_df  = pd.DataFrame(Gamma_nj,\n",
    "                            index=country_list,\n",
    "                            columns=sector_list)\n",
    "\n",
    "gamma_njk_df.to_csv(os.path.join(save_path, \"Gamma_njk_2017.csv\"))\n",
    "gamma_nj_df.to_csv (os.path.join(save_path, \"Gamma_nj_2017.csv\"))\n",
    "\n",
    "print(\"Gamma_njk_2017.csv and Gamma_nj_2017.csv saved successfully.\")"
   ]
  },
  {
   "cell_type": "markdown",
   "id": "51dee5be",
   "metadata": {},
   "source": [
    "## pif,pim,pit(N,N,J): Calibrate intermediate goods trade share $\\pi_{ni}^{j,I}$, final goods trade share $\\pi_{ni}^{j,F}$, and total trade share $\\pi_{ni}^{j}$\n",
    "\n",
    "pi(n,i,j) n is  importer, i is exporter, j is sector"
   ]
  },
  {
   "cell_type": "code",
   "execution_count": 15,
   "id": "4a9a02cb",
   "metadata": {},
   "outputs": [
    {
     "name": "stdout",
     "output_type": "stream",
     "text": [
      "io_sum has negative? False   # of negative: 0\n",
      "fd_sum has negative? False   # of negative: 0\n"
     ]
    }
   ],
   "source": [
    "# Sum all sectors within each country's usage; similar to fd_sum calculation\n",
    "io_sum = io.reshape(N*J, N, J).sum(axis=2)\n",
    "\n",
    "# check io_sum\n",
    "has_neg_io  = np.any(io_sum < 0)\n",
    "num_neg_io  = int((io_sum < 0).sum())\n",
    "print(f\"io_sum has negative? {has_neg_io}   # of negative: {num_neg_io}\")\n",
    "\n",
    "# check fd_sum\n",
    "has_neg_fd  = np.any(fd_sum < 0)\n",
    "num_neg_fd  = int((fd_sum < 0).sum())\n",
    "print(f\"fd_sum has negative? {has_neg_fd}   # of negative: {num_neg_fd}\")"
   ]
  },
  {
   "cell_type": "code",
   "execution_count": 16,
   "id": "fb85ab96",
   "metadata": {},
   "outputs": [
    {
     "name": "stdout",
     "output_type": "stream",
     "text": [
      " # of < 0 : 0\n",
      " # of > 1 : 0\n"
     ]
    }
   ],
   "source": [
    "# pi_intermediate \n",
    "\n",
    "B = io_sum.reshape(N, J, N).sum(axis=0)  #  (J, N) Sum over sectors ()\n",
    "\n",
    "# Extend  B to (N*J, N) (you can view io_sum as N * (J*N) stacked vertically)\n",
    "B_expanded = np.repeat(B[np.newaxis, :, :], N, axis=0).reshape(N*J, N)\n",
    "pi_intermediate = io_sum / B_expanded\n",
    "\n",
    "\n",
    "# check\n",
    "below_zero = pi_intermediate< 0        \n",
    "above_one  = pi_intermediate > 1       \n",
    "\n",
    "num_below  = int(below_zero.sum())\n",
    "num_above  = int(above_one.sum())\n",
    "\n",
    "print(f\" # of < 0 : {num_below}\")\n",
    "print(f\" # of > 1 : {num_above}\")"
   ]
  },
  {
   "cell_type": "code",
   "execution_count": 17,
   "id": "b5d4e214",
   "metadata": {},
   "outputs": [
    {
     "name": "stdout",
     "output_type": "stream",
     "text": [
      " # of < 0 : 0\n",
      " # of > 1 : 0\n"
     ]
    }
   ],
   "source": [
    "# pi_final\n",
    "B_final = fd_sum.reshape(N, J, N).sum(axis=0)  # Shape (J, N)\n",
    "\n",
    "B_final_expanded = np.repeat(B_final[np.newaxis, :, :], N, axis=0).reshape(N*J, N)\n",
    "pi_final = fd_sum / B_final_expanded\n",
    "\n",
    "\n",
    "# check\n",
    "below_zero = pi_final < 0       \n",
    "above_one  = pi_final  > 1       \n",
    "\n",
    "\n",
    "num_below  = int(below_zero.sum())\n",
    "num_above  = int(above_one.sum())\n",
    "\n",
    "\n",
    "print(f\" # of < 0 : {num_below}\")\n",
    "print(f\" # of > 1 : {num_above}\")"
   ]
  },
  {
   "cell_type": "code",
   "execution_count": 18,
   "id": "1d125693",
   "metadata": {},
   "outputs": [
    {
     "name": "stdout",
     "output_type": "stream",
     "text": [
      " # of < 0 : 0\n",
      " # of > 1 : 0\n"
     ]
    }
   ],
   "source": [
    "# pi_total\n",
    "total_flow = io_sum  + fd_sum\n",
    "\n",
    "B_total = total_flow.reshape(N, J, N).sum(axis=0)  \n",
    "\n",
    "\n",
    "B_total_expanded = np.repeat(B_total[np.newaxis, :, :], N, axis=0).reshape(N*J, N)\n",
    "pi_total = total_flow / B_total_expanded\n",
    "\n",
    "\n",
    "# check\n",
    "below_zero = pi_total < 0       \n",
    "above_one  = pi_total  > 1        \n",
    "\n",
    "num_below  = int(below_zero.sum())\n",
    "num_above  = int(above_one.sum())\n",
    "\n",
    "\n",
    "print(f\" # of < 0 : {num_below}\")\n",
    "print(f\" # of > 1 : {num_above}\")\n"
   ]
  },
  {
   "cell_type": "code",
   "execution_count": 19,
   "id": "419f1023",
   "metadata": {},
   "outputs": [
    {
     "name": "stdout",
     "output_type": "stream",
     "text": [
      "       final ✅ Consition satisfied: ∑₍i₎ π[final][n,i,j] = 1\n",
      "intermediate ✅ Consition satisfied: ∑₍i₎ π[intermediate][n,i,j] = 1\n",
      "         all ✅ Consition satisfied: ∑₍i₎ π[all][n,i,j] = 1\n"
     ]
    }
   ],
   "source": [
    "pim = pi_intermediate.reshape((N, N, J)) # pim is used in model simulation\n",
    "pim = pim.swapaxes(0, 1)\n",
    "pif = pi_final.reshape((N, N, J)) # pif is used in model simulation\n",
    "pif = pif.swapaxes(0,1)\n",
    "pit = pi_total.reshape((N, N, J)) # pit is used (may not used) in model simulation\n",
    "pit = pit.swapaxes(0,1)\n",
    "\n",
    "\n",
    "pi_sets = {\n",
    "    \"final\": pif,\n",
    "    \"intermediate\": pim,\n",
    "    \"all\": pit\n",
    "}\n",
    "\n",
    "tol = 1e-5\n",
    "for name, pi in pi_sets.items():\n",
    "    temp = np.sum(pi, axis=1)\n",
    "    is_valid = np.allclose(temp, 1, atol=tol)\n",
    "\n",
    "    if is_valid:\n",
    "        print(f\"{name:>12} ✅ Consition satisfied: ∑₍i₎ π[{name}][n,i,j] = 1\")\n",
    "    else:\n",
    "        bad = ~np.isclose(temp, 1, atol=tol)\n",
    "        print(f\"{name:>12} ❌ Consition not satisfied：there are {bad.sum()} positions not equal to 1\")\n",
    "        print(\"  Position (n,j)：\", np.argwhere(bad))\n",
    "        print(\"  Actual sum：\", temp[bad])\n"
   ]
  },
  {
   "cell_type": "code",
   "execution_count": 20,
   "id": "cf737653",
   "metadata": {},
   "outputs": [
    {
     "name": "stdout",
     "output_type": "stream",
     "text": [
      "Saved trade-share file: /Users/lishuangcen/Dropbox/Tariff_Project/3_Result/parameters/trade_share_inter_2017.csv\n",
      "Saved trade-share file: /Users/lishuangcen/Dropbox/Tariff_Project/3_Result/parameters/trade_share_final_2017.csv\n",
      "Saved trade-share file: /Users/lishuangcen/Dropbox/Tariff_Project/3_Result/parameters/trade_share_total_2017.csv\n"
     ]
    },
    {
     "data": {
      "text/html": [
       "<div>\n",
       "<style scoped>\n",
       "    .dataframe tbody tr th:only-of-type {\n",
       "        vertical-align: middle;\n",
       "    }\n",
       "\n",
       "    .dataframe tbody tr th {\n",
       "        vertical-align: top;\n",
       "    }\n",
       "\n",
       "    .dataframe thead th {\n",
       "        text-align: right;\n",
       "    }\n",
       "</style>\n",
       "<table border=\"1\" class=\"dataframe\">\n",
       "  <thead>\n",
       "    <tr style=\"text-align: right;\">\n",
       "      <th></th>\n",
       "      <th>Importer</th>\n",
       "      <th>Exporter</th>\n",
       "      <th>Sector</th>\n",
       "      <th>Share</th>\n",
       "    </tr>\n",
       "  </thead>\n",
       "  <tbody>\n",
       "    <tr>\n",
       "      <th>0</th>\n",
       "      <td>AUS</td>\n",
       "      <td>AUS</td>\n",
       "      <td>Agriculture</td>\n",
       "      <td>0.951798</td>\n",
       "    </tr>\n",
       "    <tr>\n",
       "      <th>1</th>\n",
       "      <td>AUS</td>\n",
       "      <td>AUS</td>\n",
       "      <td>Fishing</td>\n",
       "      <td>0.686534</td>\n",
       "    </tr>\n",
       "    <tr>\n",
       "      <th>2</th>\n",
       "      <td>AUS</td>\n",
       "      <td>AUS</td>\n",
       "      <td>Mining and Quarrying</td>\n",
       "      <td>0.925300</td>\n",
       "    </tr>\n",
       "    <tr>\n",
       "      <th>3</th>\n",
       "      <td>AUS</td>\n",
       "      <td>AUS</td>\n",
       "      <td>Food &amp; Beverages</td>\n",
       "      <td>0.954165</td>\n",
       "    </tr>\n",
       "    <tr>\n",
       "      <th>4</th>\n",
       "      <td>AUS</td>\n",
       "      <td>AUS</td>\n",
       "      <td>Textiles and Wearing Apparel</td>\n",
       "      <td>0.912071</td>\n",
       "    </tr>\n",
       "    <tr>\n",
       "      <th>...</th>\n",
       "      <td>...</td>\n",
       "      <td>...</td>\n",
       "      <td>...</td>\n",
       "      <td>...</td>\n",
       "    </tr>\n",
       "    <tr>\n",
       "      <th>34220</th>\n",
       "      <td>ROW</td>\n",
       "      <td>ROW</td>\n",
       "      <td>Finacial Intermediation and Business Activities</td>\n",
       "      <td>0.788260</td>\n",
       "    </tr>\n",
       "    <tr>\n",
       "      <th>34221</th>\n",
       "      <td>ROW</td>\n",
       "      <td>ROW</td>\n",
       "      <td>Public Administration</td>\n",
       "      <td>0.992163</td>\n",
       "    </tr>\n",
       "    <tr>\n",
       "      <th>34222</th>\n",
       "      <td>ROW</td>\n",
       "      <td>ROW</td>\n",
       "      <td>Education, Health and Other Services</td>\n",
       "      <td>0.327251</td>\n",
       "    </tr>\n",
       "    <tr>\n",
       "      <th>34223</th>\n",
       "      <td>ROW</td>\n",
       "      <td>ROW</td>\n",
       "      <td>Private Households</td>\n",
       "      <td>0.994939</td>\n",
       "    </tr>\n",
       "    <tr>\n",
       "      <th>34224</th>\n",
       "      <td>ROW</td>\n",
       "      <td>ROW</td>\n",
       "      <td>Others</td>\n",
       "      <td>0.808890</td>\n",
       "    </tr>\n",
       "  </tbody>\n",
       "</table>\n",
       "<p>34225 rows × 4 columns</p>\n",
       "</div>"
      ],
      "text/plain": [
       "      Importer Exporter                                           Sector  \\\n",
       "0          AUS      AUS                                      Agriculture   \n",
       "1          AUS      AUS                                          Fishing   \n",
       "2          AUS      AUS                             Mining and Quarrying   \n",
       "3          AUS      AUS                                 Food & Beverages   \n",
       "4          AUS      AUS                     Textiles and Wearing Apparel   \n",
       "...        ...      ...                                              ...   \n",
       "34220      ROW      ROW  Finacial Intermediation and Business Activities   \n",
       "34221      ROW      ROW                            Public Administration   \n",
       "34222      ROW      ROW             Education, Health and Other Services   \n",
       "34223      ROW      ROW                               Private Households   \n",
       "34224      ROW      ROW                                           Others   \n",
       "\n",
       "          Share  \n",
       "0      0.951798  \n",
       "1      0.686534  \n",
       "2      0.925300  \n",
       "3      0.954165  \n",
       "4      0.912071  \n",
       "...         ...  \n",
       "34220  0.788260  \n",
       "34221  0.992163  \n",
       "34222  0.327251  \n",
       "34223  0.994939  \n",
       "34224  0.808890  \n",
       "\n",
       "[34225 rows x 4 columns]"
      ]
     },
     "execution_count": 20,
     "metadata": {},
     "output_type": "execute_result"
    }
   ],
   "source": [
    "# Save to csv\n",
    "from Functions import  save_trade_share_long\n",
    "\n",
    "# 1) Intermediate goods\n",
    "save_trade_share_long(pi_intermediate,\n",
    "                    country_list,\n",
    "                    sector_list,\n",
    "                    save_path,\n",
    "                    \"trade_share_inter_2017.csv\")\n",
    "\n",
    "# 2) Final goods\n",
    "save_trade_share_long(pi_final,\n",
    "                    country_list,\n",
    "                    sector_list,\n",
    "                    save_path,\n",
    "                    \"trade_share_final_2017.csv\")\n",
    "\n",
    "# 3) All goods\n",
    "save_trade_share_long(pi_total,\n",
    "                    country_list,\n",
    "                    sector_list,\n",
    "                    save_path,\n",
    "                    \"trade_share_total_2017.csv\")\n"
   ]
  },
  {
   "cell_type": "markdown",
   "id": "a8ecfddf",
   "metadata": {},
   "source": [
    "## VA: shape (N, )"
   ]
  },
  {
   "cell_type": "code",
   "execution_count": 21,
   "id": "f114bcdf",
   "metadata": {},
   "outputs": [
    {
     "name": "stdout",
     "output_type": "stream",
     "text": [
      "Every country's value added is greater than 0 ✅\n"
     ]
    }
   ],
   "source": [
    "va_total.shape\n",
    "\n",
    "va_matrix = va_total.reshape(N, J)   \n",
    "\n",
    "VA = va_matrix.sum(axis=1)\n",
    "\n",
    "df_va = pd.DataFrame({\n",
    "    \"Country\": country_list,\n",
    "    \"ValueAdded\": VA\n",
    "})\n",
    "\n",
    "df_va.to_csv(\"3_Result/parameters/VA.csv\", index=False, encoding=\"utf-8\")\n",
    "\n",
    "\n",
    "# Check if every value in VA is greater than 0\n",
    "check_positive = np.all(VA > 0)\n",
    "if check_positive:\n",
    "    print(\"Every country's value added is greater than 0 ✅\")\n",
    "else:\n",
    "    print(\"There are values in VA that are less than or equal to 0 ❌\")\n",
    "    print(\"These values are at positions:\", np.where(VA <= 0))\n",
    "    print(\"The values are:\", VA[VA <= 0])"
   ]
  },
  {
   "cell_type": "markdown",
   "id": "1a65bfc9",
   "metadata": {},
   "source": [
    "# Part II: Run this part after running \"3_Estimate_TradeCost.ipynb\"\n"
   ]
  },
  {
   "cell_type": "markdown",
   "id": "3d17be9d",
   "metadata": {},
   "source": [
    "## $\\theta_n$\n",
    "\n",
    "As that decided in \"3_Estimate_TradeCost.ipynb\""
   ]
  },
  {
   "cell_type": "code",
   "execution_count": 22,
   "id": "f22eacfb",
   "metadata": {},
   "outputs": [],
   "source": [
    "# Trade elasticity: take from \"Bolhuis, M. A., Chen, M. J., & Kett, B. R. (2023). Fragmentation in global trade: Accounting for commodities. International Monetary Fund.\"\n",
    "\n",
    "# 1 Agriculture: 2.91\n",
    "# 2 Fishing: 2.91                               \n",
    "# 3 Mining and Quarrying: 3.41                               \n",
    "# 4 Food & Beverages: 4.17                                     \n",
    "# 5 Textiles and Wearing Apparel: 4.71\n",
    "# 6 Wood and Paper: (8.8 + 8.21) /2 = 8.505                                                                    \n",
    "# 7 Petroleum, Chemical and Non-Metallic Mineral Products:  (3.67 + 10.56 + 6.75 + 4.79)/4 = 6.4425\n",
    "# 8 Metal Products: （7.39 + 4.22）/2 = 5.805\n",
    "# 9 Electrical and Machinery:  (5.01 + 5.14 + 4.11) /3 = 4.753                                                      \n",
    "# 10 Transport Equipment: (8.92 + 8.99)/2 = 8.955                               \n",
    "# 11 Other Manufacturing: 4.06\n",
    "# 12 Recycling: 4.06                \n",
    "# ---------------------------------------------------------------------\n",
    "# Services sectors: 8.35\n",
    "\n",
    "theta = np.array([2.91, 2.91, 3.14, 4.17, 4.71, 8.505, 6.4425, 5.805, 4.753, 8.955, 4.06, 4.06,\n",
    "                8.35, 8.35, 8.35, 8.35, 8.35, 8.35, 8.35, 8.35, 8.35, 8.35, 8.35, 8.35, 8.35])  \n",
    "\n"
   ]
  },
  {
   "cell_type": "markdown",
   "id": "9af21eed",
   "metadata": {},
   "source": [
    "## $\\tilde{\\tau}$: shape $(N, N, J)$\n",
    "The tariff rate vector, the $(n, i, j)$ denote the $(1+\\tau)$ tariff rate of country $n$ on country $i$ for goods of sector $j$"
   ]
  },
  {
   "cell_type": "code",
   "execution_count": 23,
   "id": "a692fc9f",
   "metadata": {},
   "outputs": [],
   "source": [
    "# Import tariff data constructed in \"3_Estimate_TradeCost.ipynb\"\n",
    "# Here I choose \"tariff\" column to apply to my model\n",
    "\n",
    "tariff_all  = pd.read_csv(os.path.join(save_path, \"All_Tariff_2017.csv\"))\n",
    "tariff_df  = tariff_all .iloc[:, 1:]\n",
    "tariff_df = tariff_df[['Importer', 'Exporter', 'Sector', \"tariff\"]]\n",
    "\n",
    "tariff_df['Exporter_Sector'] = tariff_df['Exporter'] + '_' + tariff_df['Sector']\n",
    "tariff_df['Importer'] = pd.Categorical(\n",
    "    tariff_df['Importer'],\n",
    "    categories=tariff_df['Importer'].unique(),\n",
    "    ordered=True\n",
    ")\n",
    "tariff_df['Exporter_Sector'] = pd.Categorical(\n",
    "    tariff_df['Exporter_Sector'],\n",
    "    categories=tariff_df['Exporter_Sector'].unique(),\n",
    "    ordered=True\n",
    ")\n",
    "\n",
    "# pivot 并 reshape\n",
    "tariff_matrix = tariff_df.pivot_table(\n",
    "    index='Importer',\n",
    "    columns='Exporter_Sector',\n",
    "    values='tariff',\n",
    "    aggfunc='first',\n",
    "    observed=False\n",
    ")\n",
    "tariff_np   = tariff_matrix.to_numpy()\n",
    "tariff_base = tariff_np.reshape((N, N, J))\n",
    "\n",
    "# Construct tilde_tau\n",
    "# tilde_tau[n,i,j]: country n's tariff on goods j from contry i (n:importer, i:exporte)\n",
    "tilde_tau = tariff_base + 1\n"
   ]
  },
  {
   "cell_type": "markdown",
   "id": "51af6859",
   "metadata": {},
   "source": [
    "## Xf(N,J) and Xm(N,J): Calculate Expenditure for final goods and intermediate goods\n",
    "\n",
    "This is not necessary for model simulation; just for check"
   ]
  },
  {
   "cell_type": "code",
   "execution_count": 24,
   "id": "e20424fa",
   "metadata": {},
   "outputs": [],
   "source": [
    "# The observed data is basic price\n",
    "\n",
    "# To obatin X in purchase price, we multiply by tau (1 + tariff)\n",
    "\n",
    "\n",
    "Ym = io.reshape(N, J, N, J).sum(axis = 3) # (exporter, sector, importer)\n",
    "# adjust by \\tau\n",
    "tau_esI = np.transpose(tilde_tau, (1, 2, 0))   \n",
    "\n",
    "Xm_temp = Ym * tau_esI \n",
    "Xm  =  Xm_temp.sum(axis = 0 ).T   # (N,J)\n",
    "\n",
    "\n",
    "Yf = fd_select.reshape(N,J,N,fd_n_2).sum(axis = 3) # (exporter, sector, importer)\n",
    "Xf_temp = Yf  * tau_esI \n",
    "Xf  =  Xf_temp.sum(axis = 0 ).T # (N,J)\n",
    "\n",
    "X = Xf + Xm  # (N,J)\n",
    "\n",
    "\n",
    "# just for check\n",
    "df = pd.DataFrame(X,\n",
    "                index=country_list,\n",
    "                columns=sector_list)\n",
    "df.to_csv(os.path.join(wd, \"check/Expenditure.csv\"), index=True, encoding=\"utf-8\")\n"
   ]
  },
  {
   "cell_type": "code",
   "execution_count": 25,
   "id": "4944ab76",
   "metadata": {},
   "outputs": [],
   "source": [
    "# save to npz\n",
    "\n",
    "np.savez('model_data_2017.npz',\n",
    "        N = N,\n",
    "        J = J,\n",
    "        country_list = country_list, \n",
    "        sector_list = sector_list, \n",
    "        alpha = alpha, \n",
    "        beta = beta, \n",
    "        gamma = gamma, \n",
    "        theta = theta, \n",
    "        pif = pif, \n",
    "        pim = pim, \n",
    "        Xf = Xf,\n",
    "        Xm = Xm,\n",
    "        tilde_tau = tilde_tau,\n",
    "        D = D, \n",
    "        VA = VA)"
   ]
  },
  {
   "cell_type": "markdown",
   "id": "1b9f6cd0",
   "metadata": {},
   "source": [
    "\n",
    "\n",
    "- 计算saving rate\n",
    "\n",
    "- 全部改成tradable\n",
    "\n",
    "\n",
    "- 检查Trade deficit， X的定义\n",
    "\n"
   ]
  }
 ],
 "metadata": {
  "kernelspec": {
   "display_name": "base",
   "language": "python",
   "name": "python3"
  },
  "language_info": {
   "codemirror_mode": {
    "name": "ipython",
    "version": 3
   },
   "file_extension": ".py",
   "mimetype": "text/x-python",
   "name": "python",
   "nbconvert_exporter": "python",
   "pygments_lexer": "ipython3",
   "version": "3.12.4"
  }
 },
 "nbformat": 4,
 "nbformat_minor": 5
}

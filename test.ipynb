{
 "cells": [
  {
   "cell_type": "code",
   "execution_count": 65,
   "metadata": {},
   "outputs": [
    {
     "name": "stdout",
     "output_type": "stream",
     "text": [
      "The autoreload extension is already loaded. To reload it, use:\n",
      "  %reload_ext autoreload\n"
     ]
    }
   ],
   "source": [
    "import numpy as np\n",
    "from equations import *\n",
    "from equations_matrix import *\n",
    "from solvers import *\n",
    "%load_ext autoreload\n",
    "%autoreload 2"
   ]
  },
  {
   "cell_type": "markdown",
   "metadata": {},
   "source": [
    "# 1. Test comparing numerical and analytical solution for X_prme"
   ]
  },
  {
   "cell_type": "markdown",
   "metadata": {},
   "source": [
    "### 1.1 parameter setup"
   ]
  },
  {
   "cell_type": "code",
   "execution_count": null,
   "metadata": {},
   "outputs": [],
   "source": [
    "# Set dimensions\n",
    "N = 51  # number of countries\n",
    "J = 3  # number of sectors\n",
    "\n",
    "# Generate dummy arrays for the exogenous inputs\n",
    "w_hat = np.ones(N)\n",
    "td_prime = np.zeros(N)\n",
    "\n",
    "# pif_hat and pim_hat are (N, N, J)\n",
    "pif_hat = np.ones((N, N, J)) / N\n",
    "pim_hat = np.ones((N, N, J)) / N\n",
    "\n",
    "\n",
    "# Define dummy classes for ModelParams and ModelShocks\n",
    "class ModelParams:\n",
    "    pass\n",
    "\n",
    "class ModelShocks:\n",
    "    pass\n",
    "\n",
    "# Create instances\n",
    "mp = ModelParams()\n",
    "shocks = ModelShocks()\n",
    "\n",
    "# Fill ModelParams with attributes\n",
    "mp.w0 = np.ones(N)\n",
    "mp.L0 = np.ones(N)\n",
    "mp.alpha = np.ones((N, J)) / J\n",
    "mp.pif = np.ones((N, N, J))\n",
    "mp.pim = np.ones((N, N, J)) \n",
    "mp.gamma = np.ones((N, J, J)) * 0.7 / J\n",
    "\n",
    "# Fill ModelShocks with attributes\n",
    "# Ensure tilde_tau_prime > 1 to avoid division by zero issues\n",
    "shocks.tilde_tau_prime = np.random.rand(N, N, J) + 1.1"
   ]
  },
  {
   "cell_type": "markdown",
   "metadata": {},
   "source": [
    "### 1.2 Numerical solution"
   ]
  },
  {
   "cell_type": "code",
   "execution_count": 15,
   "metadata": {},
   "outputs": [
    {
     "name": "stdout",
     "output_type": "stream",
     "text": [
      "X_prime converged in 57 iterations\n"
     ]
    }
   ],
   "source": [
    "Xf_init = mp.alpha * (w_hat * mp.w0 * mp.L0 + td_prime)[:, None]  # shape: (N, J)\n",
    "Xm_init = np.zeros_like(Xf_init)                                   # shape: (N, J)\n",
    "\n",
    "# Call your iterative solver (solve_X_prime) using the guess:\n",
    "Xf_iter, Xm_iter = solve_X_prime(w_hat, pif_hat, pim_hat, td_prime, Xf_init, Xm_init, mp, shocks, mute=False)"
   ]
  },
  {
   "cell_type": "markdown",
   "metadata": {},
   "source": [
    "### 1.3 Analytical solution"
   ]
  },
  {
   "cell_type": "code",
   "execution_count": 16,
   "metadata": {},
   "outputs": [],
   "source": [
    "# Call the closed-form solver (calc_X) to get the direct solution:\n",
    "Xf_closed, Xm_closed = calc_X(w_hat, pif_hat, pim_hat, td_prime, mp, shocks)"
   ]
  },
  {
   "cell_type": "markdown",
   "metadata": {},
   "source": [
    "### 1.4 Check the difference"
   ]
  },
  {
   "cell_type": "code",
   "execution_count": 17,
   "metadata": {},
   "outputs": [
    {
     "name": "stdout",
     "output_type": "stream",
     "text": [
      "Difference in Xf (iterative vs. closed-form): 4.2999443126792367e-05\n",
      "Difference in Xm (iterative vs. closed-form): 5.4974185203698866e-05\n"
     ]
    }
   ],
   "source": [
    "# Compare the results between the iterative and closed-form solutions.\n",
    "print(\"Difference in Xf (iterative vs. closed-form):\", np.linalg.norm(Xf_iter - Xf_closed))\n",
    "print(\"Difference in Xm (iterative vs. closed-form):\", np.linalg.norm(Xm_iter - Xm_closed))"
   ]
  },
  {
   "cell_type": "markdown",
   "metadata": {},
   "source": [
    "# 2. HHI "
   ]
  },
  {
   "cell_type": "markdown",
   "metadata": {},
   "source": [
    "### Mathematical Format"
   ]
  },
  {
   "cell_type": "markdown",
   "metadata": {},
   "source": [
    "Possibly wrong:\n",
    "\n",
    "$$Q_n^s \\equiv \\frac{\\sum_{i}(\\pi_{in}^{sf}X_{in}^{sf}+\\pi_{in}^{sm}X_{in}^{sm})}{1+\\tau_{in}}$$\n",
    "\n",
    "Inferred:\n",
    "\n",
    "$$Q_n^s \\equiv \\sum_{i}\\frac{(\\pi_{in}^{sf}X_{i}^{sf}+\\pi_{in}^{sm}X_{i}^{sm})}{1+\\tau^s_{in}}$$\n",
    "Then,HHI can be calculated as\n",
    "$$HHI_n=\\sum_k\\left(\\frac{Q_n^k}{\\sum_s Q_n^s}\\right)^2$$"
   ]
  },
  {
   "cell_type": "code",
   "execution_count": 66,
   "metadata": {},
   "outputs": [],
   "source": [
    "def calc_HHI(pim, pif, Xm, Xf, tau_tilde):\n",
    "    \"\"\"\n",
    "    - pif, pim, tau_tilde: arrays of shape (i, n, s)\n",
    "        where:\n",
    "            i = importing country index,\n",
    "            n = exporting country index,\n",
    "            s = sector index.\n",
    "    - Xm, Xf: arrays of shape (i, s) corresponding to intermediate and final goods expenditures\n",
    "        for importing countries.\n",
    "    The formula is:\n",
    "      Q_n^s = sum_{i} [ (pif[i,n,s] * Xf[i,s] + pim[i,n,s] * Xm[i,s]) / (1 + tau_tilde[i,n,s]) ]\n",
    "    and then the HHI for each exporting country n is:\n",
    "      HHI_n = sum_s ( Q_n^s / (sum_{s'} Q_n^{s'}) )^2.\n",
    "    \n",
    "    Returns:\n",
    "      HHI: an array of shape (n,) giving the HHI for each exporting country.\n",
    "    \"\"\"\n",
    "    numerator = pif * Xf[:, None, :] + pim * Xm[:, None, :]  # shape: (N, N, J)\n",
    "    term = numerator / (1 + tau_tilde)  # shape: (N, N, J)\n",
    "    Q = term.sum(axis=0)  # shape: (N, J)\n",
    "    # For each exporting country, sum over sectors to get the total Q:\n",
    "    Q_total = Q.sum(axis=1)  # shape: (N,)\n",
    "    # Compute HHI for each exporting country:\n",
    "    HHI = np.sum((Q / Q_total[:, None])**2, axis=1)  # shape: (N,)\n",
    "    return HHI"
   ]
  },
  {
   "cell_type": "markdown",
   "metadata": {},
   "source": [
    "# 3. Test to see if this paper generalize to CP(2015)"
   ]
  },
  {
   "cell_type": "markdown",
   "metadata": {},
   "source": [
    "### 3.1 parameter setup (same as 1.1)"
   ]
  },
  {
   "cell_type": "code",
   "execution_count": 72,
   "metadata": {},
   "outputs": [],
   "source": [
    "# Set dimensions\n",
    "N = 51  # number of countries\n",
    "J = 3  # number of sectors\n",
    "\n",
    "# Generate dummy arrays for the exogenous inputs\n",
    "w_hat = np.ones(N)\n",
    "td_prime = np.zeros(N)\n",
    "\n",
    "# pif_hat and pim_hat are (N, N, J)\n",
    "pif_hat = np.ones((N, N, J)) / N\n",
    "pim_hat = np.ones((N, N, J)) / N\n",
    "\n",
    "\n",
    "# Define dummy classes for ModelParams and ModelShocks\n",
    "class ModelParams:\n",
    "    pass\n",
    "class ModelShocks:\n",
    "    pass\n",
    "# Create instances\n",
    "mp = ModelParams()\n",
    "shocks = ModelShocks()\n",
    "\n",
    "# Fill ModelParams with attributes\n",
    "mp.w0 = np.ones(N)\n",
    "mp.L0 = np.ones(N)\n",
    "mp.alpha = np.ones((N, J)) / J\n",
    "mp.pif = np.ones((N, N, J))\n",
    "mp.pim = np.ones((N, N, J)) \n",
    "mp.gamma = np.ones((N, J, J)) * 0.7 / J\n",
    "\n",
    "# Fill ModelShocks with attributes\n",
    "# Ensure tilde_tau_prime > 1 to avoid division by zero issues\n",
    "shocks.tilde_tau_prime = np.random.rand(N, N, J) + 1.1\n"
   ]
  },
  {
   "cell_type": "markdown",
   "metadata": {},
   "source": [
    "### 3.2 Analytical solutions for $X_f, X_m$ in this paper"
   ]
  },
  {
   "cell_type": "code",
   "execution_count": 73,
   "metadata": {},
   "outputs": [],
   "source": [
    "# Call the closed-form solver (calc_X) to get the direct solution:\n",
    "Xf_closed, Xm_closed = calc_X(w_hat, pif_hat, pim_hat, td_prime, mp, shocks)"
   ]
  },
  {
   "cell_type": "markdown",
   "metadata": {},
   "source": [
    "### 3.3 Analytical solution for $X$ in CP(2015)"
   ]
  },
  {
   "cell_type": "code",
   "execution_count": 74,
   "metadata": {},
   "outputs": [],
   "source": [
    "from cp_expenditure_equation import calc_X_cp\n",
    "# mapping between inputs for calc_X function and for calc_X_cp function\n",
    "alpha = mp.alpha\n",
    "gamma = mp.gamma\n",
    "pi_prime = pif_hat * mp.pif\n",
    "tilde_tau_prime = shocks.tilde_tau_prime\n",
    "D = td_prime\n",
    "VA = mp.w0 * mp.L0\n",
    "\n",
    "X_cp = calc_X_cp(w_hat, alpha, gamma, pi_prime, tilde_tau_prime, D, VA)"
   ]
  },
  {
   "cell_type": "markdown",
   "metadata": {},
   "source": [
    "### 3.4 Check if $X_f + X_m = X_{cp}$"
   ]
  },
  {
   "cell_type": "code",
   "execution_count": 80,
   "metadata": {},
   "outputs": [],
   "source": [
    "assert (Xf_closed + Xm_closed == X_cp).all()"
   ]
  },
  {
   "cell_type": "code",
   "execution_count": null,
   "metadata": {},
   "outputs": [],
   "source": []
  }
 ],
 "metadata": {
  "kernelspec": {
   "display_name": "base",
   "language": "python",
   "name": "python3"
  },
  "language_info": {
   "codemirror_mode": {
    "name": "ipython",
    "version": 3
   },
   "file_extension": ".py",
   "mimetype": "text/x-python",
   "name": "python",
   "nbconvert_exporter": "python",
   "pygments_lexer": "ipython3",
   "version": "3.12.2"
  }
 },
 "nbformat": 4,
 "nbformat_minor": 2
}

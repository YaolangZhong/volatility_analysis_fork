{
 "cells": [
  {
   "cell_type": "code",
   "execution_count": 364,
   "metadata": {},
   "outputs": [],
   "source": [
    "import os\n",
    "import numpy as np\n",
    "import time\n",
    "from models import ModelParams, ModelShocks, ModelSol\n",
    "from equations import *\n",
    "from equations_matrix import calc_X\n",
    "from solvers import solve_price_and_cost\n",
    "from functions import generate_rand_params\n",
    "from optimization import reconstruct_w_hat, objective_w_hat_reduced\n",
    "from scipy.optimize import minimize\n",
    "from concurrent.futures import ProcessPoolExecutor, as_completed"
   ]
  },
  {
   "cell_type": "markdown",
   "metadata": {},
   "source": [
    "# 1. Read the data of the ModelParams"
   ]
  },
  {
   "cell_type": "code",
   "execution_count": 365,
   "metadata": {},
   "outputs": [],
   "source": [
    "data = np.load(\"real_data_2017.npz\")\n",
    "N, J = data[\"N\"], data[\"J\"]\n",
    "mp = ModelParams(\n",
    "    N=N,\n",
    "    J=J,\n",
    "    alpha=data[\"alpha\"],\n",
    "    beta=data[\"beta\"],\n",
    "    gamma=data[\"gamma\"],\n",
    "    theta=data[\"theta\"],\n",
    "    pif=data[\"pi_f\"],\n",
    "    pim=data[\"pi_m\"],\n",
    "    tilde_tau=data[\"tilde_tau\"],\n",
    "    Xf=np.ones((N, J)),\n",
    "    Xm=np.ones((N, J)),\n",
    "    w0=data[\"VA\"],\n",
    "    L0=np.ones_like(data[\"VA\"]),\n",
    "    td=data[\"D\"],\n",
    ")"
   ]
  },
  {
   "cell_type": "markdown",
   "metadata": {},
   "source": [
    "# 2. Reconstruct the ModelShocks and ModelSol from the result"
   ]
  },
  {
   "cell_type": "code",
   "execution_count": 356,
   "metadata": {},
   "outputs": [],
   "source": [
    "out_dir = \"output/counterfactual\""
   ]
  },
  {
   "cell_type": "code",
   "execution_count": 373,
   "metadata": {},
   "outputs": [],
   "source": [
    "country_dm_1_shocks = []\n",
    "country_dm_1_sols = []\n",
    "country_dm_2_shocks = []\n",
    "country_dm_2_sols = []\n",
    "for i in range(9):\n",
    "    country_dm_1_shocks.append(ModelShocks.load_from_npz(os.path.join(out_dir, f\"country_dm_1\", f\"result_{i}_shock.npz\"), mp))\n",
    "    country_dm_1_sols.append(ModelSol.load_from_npz(os.path.join(out_dir, f\"country_dm_1\", f\"result_{i}_sol.npz\"), mp, country_dm_1_shocks[i]))\n",
    "    country_dm_2_shocks.append(ModelShocks.load_from_npz(os.path.join(out_dir, f\"country_dm_2\", f\"result_{i}_shock.npz\"), mp))\n",
    "    country_dm_2_sols.append(ModelSol.load_from_npz(os.path.join(out_dir, f\"country_dm_2\", f\"result_{i}_sol.npz\"), mp, country_dm_1_shocks[i]))"
   ]
  },
  {
   "cell_type": "code",
   "execution_count": 374,
   "metadata": {},
   "outputs": [],
   "source": [
    "sector_dm_1_shocks = []\n",
    "sector_dm_1_sols = []\n",
    "sector_dm_2_shocks = []\n",
    "sector_dm_2_sols = []\n",
    "for i in range(9):\n",
    "    sector_dm_1_shocks.append(ModelShocks.load_from_npz(os.path.join(out_dir, f\"sector_dm_1\", f\"result_{i}_shock.npz\"), mp))\n",
    "    sector_dm_1_sols.append(ModelSol.load_from_npz(os.path.join(out_dir, f\"sector_dm_1\", f\"result_{i}_sol.npz\"), mp, sector_dm_1_shocks[i]))\n",
    "    sector_dm_2_shocks.append(ModelShocks.load_from_npz(os.path.join(out_dir, f\"sector_dm_2\", f\"result_{i}_shock.npz\"), mp))\n",
    "    sector_dm_2_sols.append(ModelSol.load_from_npz(os.path.join(out_dir, f\"sector_dm_2\", f\"result_{i}_sol.npz\"), mp, sector_dm_1_shocks[i]))"
   ]
  },
  {
   "cell_type": "code",
   "execution_count": 375,
   "metadata": {},
   "outputs": [],
   "source": [
    "idiosyncratic_dm_1_shocks = []\n",
    "idiosyncratic_dm_1_sols = []\n",
    "idiosyncratic_dm_2_shocks = []\n",
    "idiosyncratic_dm_2_sols = []\n",
    "for i in range(9):\n",
    "    idiosyncratic_dm_1_shocks.append(ModelShocks.load_from_npz(os.path.join(out_dir, f\"idiosyncratic_dm_1\", f\"result_{i}_shock.npz\"), mp))\n",
    "    idiosyncratic_dm_1_sols.append(ModelSol.load_from_npz(os.path.join(out_dir, f\"idiosyncratic_dm_1\", f\"result_{i}_sol.npz\"), mp, idiosyncratic_dm_1_shocks[i]))\n",
    "    idiosyncratic_dm_2_shocks.append(ModelShocks.load_from_npz(os.path.join(out_dir, f\"idiosyncratic_dm_2\", f\"result_{i}_shock.npz\"), mp))\n",
    "    idiosyncratic_dm_2_sols.append(ModelSol.load_from_npz(os.path.join(out_dir, f\"idiosyncratic_dm_2\", f\"result_{i}_sol.npz\"), mp, idiosyncratic_dm_1_shocks[i]))"
   ]
  },
  {
   "cell_type": "markdown",
   "metadata": {},
   "source": [
    "# 3. Calculate the treatment effects under different types of shocks"
   ]
  },
  {
   "cell_type": "code",
   "execution_count": 377,
   "metadata": {},
   "outputs": [],
   "source": [
    "country_effects = np.zeros((10, N))\n",
    "sector_effects = np.zeros((10, N))\n",
    "idiosyncratic_effects = np.zeros((10, N))\n",
    "\n",
    "for i in range(9):\n",
    "    country_effects[i, :] = calc_W(country_dm_2_sols[i]) / calc_W(country_dm_1_sols[i])\n",
    "    sector_effects[i, :] = calc_W(sector_dm_2_sols[i]) / calc_W(sector_dm_1_sols[i])\n",
    "    idiosyncratic_effects[i, :] = calc_W(idiosyncratic_dm_2_sols[i]) / calc_W(idiosyncratic_dm_1_sols[i])\n"
   ]
  },
  {
   "cell_type": "code",
   "execution_count": 388,
   "metadata": {},
   "outputs": [
    {
     "name": "stdout",
     "output_type": "stream",
     "text": [
      "mean of the country effect:\n",
      "[0.9193013  0.87520147 0.88159306 0.91016644 0.87867844 0.9256891\n",
      " 0.89402616 0.84561655 0.95411406 0.85266475 0.87885591 0.8906819\n",
      " 0.88087609 0.89921149 0.84880383 0.88943277 0.87963165 0.88938067\n",
      " 0.89263848 0.87794319 0.87035789 0.92183316 0.8729789  0.85718749\n",
      " 0.86514722 0.87801871 0.88988764 0.85262523 0.84206087 0.88758665\n",
      " 0.88191222 0.9154826  0.90023098 0.88558454 0.92430319 0.90632543]\n",
      "std of the country effect:\n",
      "[0.40136349 0.35574208 0.38596043 0.39653429 0.44403531 0.47805652\n",
      " 0.3084289  0.38626491 0.60597053 0.38010048 0.3636217  0.38168095\n",
      " 0.33787248 0.44640337 0.35915354 0.34477914 0.37291452 0.3579008\n",
      " 0.33734387 0.44447145 0.32918131 0.49730974 0.34615755 0.33905565\n",
      " 0.32190713 0.36549689 0.32072042 0.41970452 0.35758934 0.37850256\n",
      " 0.34007179 0.49458703 0.41931765 0.36275201 0.41966162 0.42023173]\n"
     ]
    }
   ],
   "source": [
    "mean_country_effects = np.mean(country_effects, axis=0)\n",
    "std_country_effects = np.std(country_effects, axis=0)\n",
    "\n",
    "print(\n",
    "    f\"mean of the country effect:\\n{mean_country_effects}\\n\"\n",
    "    f\"std of the country effect:\\n{std_country_effects}\"\n",
    ")"
   ]
  },
  {
   "cell_type": "code",
   "execution_count": 389,
   "metadata": {},
   "outputs": [
    {
     "name": "stdout",
     "output_type": "stream",
     "text": [
      "mean of the sector effect:\n",
      "[0.95788112 0.92260925 0.93757961 0.97827551 0.95073891 1.0099772\n",
      " 0.90939107 0.88169137 1.06447967 0.90109907 0.91412331 0.93425881\n",
      " 0.93541858 0.96778969 0.89650196 0.90945918 0.94270648 0.92300363\n",
      " 0.92741425 0.91241551 0.90514546 0.97711378 0.90378538 0.88887893\n",
      " 0.90420213 0.89641506 0.87233076 0.88888865 0.87803274 0.91561035\n",
      " 0.92359225 0.99299243 0.94250319 0.92582995 1.00195836 0.94517462]\n",
      "std of the sector effect:\n",
      "[0.429511   0.41310551 0.45103468 0.48637958 0.51789902 0.57122651\n",
      " 0.30702743 0.39108825 0.74585856 0.41344715 0.3890334  0.43186139\n",
      " 0.40879716 0.52552108 0.40485421 0.34605924 0.43412101 0.39657511\n",
      " 0.37346518 0.42086689 0.35936563 0.51586838 0.37324673 0.364129\n",
      " 0.35499138 0.3639509  0.30728834 0.41859174 0.37718893 0.39073478\n",
      " 0.38139911 0.55430201 0.43041664 0.40229892 0.58376675 0.42569386]\n"
     ]
    }
   ],
   "source": [
    "mean_sector_effects = np.mean(sector_effects, axis=0)\n",
    "std_sector_effects = np.std(sector_effects, axis=0)\n",
    "\n",
    "print(\n",
    "    f\"mean of the sector effect:\\n{mean_sector_effects}\\n\"\n",
    "    f\"std of the sector effect:\\n{std_sector_effects}\"\n",
    ")"
   ]
  },
  {
   "cell_type": "code",
   "execution_count": 390,
   "metadata": {},
   "outputs": [
    {
     "name": "stdout",
     "output_type": "stream",
     "text": [
      "mean of the idiosyncratic effect:\n",
      "[0.97507467 0.94637292 0.95634195 1.01090064 0.98418815 1.03451758\n",
      " 0.90430683 0.89856145 1.11058587 0.91659796 0.92565065 0.95055528\n",
      " 0.94168857 0.99308387 0.91066379 0.92211175 0.96001299 0.94188995\n",
      " 0.93993304 0.93577996 0.91371911 1.00922768 0.91485256 0.90394496\n",
      " 0.91448736 0.90773538 0.86413423 0.90347265 0.89062268 0.9387754\n",
      " 0.93658188 1.01237083 0.96151991 0.94149802 1.02358101 0.96617463]\n",
      "std of the idiosyncratic effect:\n",
      "[0.42680615 0.43087538 0.46581399 0.52356874 0.56485303 0.57487046\n",
      " 0.30390156 0.41959108 0.79382083 0.42756514 0.38241129 0.42061019\n",
      " 0.38328093 0.54275916 0.41160757 0.35271858 0.45130165 0.39857505\n",
      " 0.37590962 0.46271957 0.36100027 0.56283917 0.38181779 0.36088121\n",
      " 0.35680741 0.3678142  0.29899482 0.4231673  0.38967015 0.40418987\n",
      " 0.38659147 0.57374179 0.45301061 0.39397083 0.53633161 0.45138777]\n"
     ]
    }
   ],
   "source": [
    "mean_idiosyncratic_effects = np.mean(idiosyncratic_effects, axis=0)\n",
    "std_idiosyncratic_effects = np.std(idiosyncratic_effects, axis=0)\n",
    "\n",
    "print(\n",
    "    f\"mean of the idiosyncratic effect:\\n{mean_idiosyncratic_effects}\\n\"\n",
    "    f\"std of the idiosyncratic effect:\\n{std_idiosyncratic_effects}\"\n",
    ")"
   ]
  },
  {
   "cell_type": "code",
   "execution_count": 393,
   "metadata": {},
   "outputs": [],
   "source": [
    "country_list = data[\"country_list\"]"
   ]
  },
  {
   "cell_type": "code",
   "execution_count": 397,
   "metadata": {},
   "outputs": [
    {
     "name": "stdout",
     "output_type": "stream",
     "text": [
      "              Country-Specific Mean  Country-Specific Std  \\\n",
      "AUS                        0.919301              0.401363   \n",
      "AUT                        0.875201              0.355742   \n",
      "BEL                        0.881593              0.385960   \n",
      "BRA                        0.910166              0.396534   \n",
      "BGR                        0.878678              0.444035   \n",
      "CAN                        0.925689              0.478057   \n",
      "CHN                        0.894026              0.308429   \n",
      "CZE                        0.845617              0.386265   \n",
      "DNK                        0.954114              0.605971   \n",
      "EST                        0.852665              0.380100   \n",
      "FIN                        0.878856              0.363622   \n",
      "FRA                        0.890682              0.381681   \n",
      "DEU                        0.880876              0.337872   \n",
      "GRC                        0.899211              0.446403   \n",
      "HUN                        0.848804              0.359154   \n",
      "IND                        0.889433              0.344779   \n",
      "IRL                        0.879632              0.372915   \n",
      "ITA                        0.889381              0.357901   \n",
      "JPN                        0.892638              0.337344   \n",
      "LTU                        0.877943              0.444471   \n",
      "MEX                        0.870358              0.329181   \n",
      "NLD                        0.921833              0.497310   \n",
      "POL                        0.872979              0.346158   \n",
      "PRT                        0.857187              0.339056   \n",
      "KOR                        0.865147              0.321907   \n",
      "ROU                        0.878019              0.365497   \n",
      "RUS                        0.889888              0.320720   \n",
      "SVK                        0.852625              0.419705   \n",
      "SVN                        0.842061              0.357589   \n",
      "ESP                        0.887587              0.378503   \n",
      "SWE                        0.881912              0.340072   \n",
      "TWN                        0.915483              0.494587   \n",
      "TUR                        0.900231              0.419318   \n",
      "GBR                        0.885585              0.362752   \n",
      "USA                        0.924303              0.419662   \n",
      "ROW                        0.906325              0.420232   \n",
      "Overall Mean               0.886556              0.389468   \n",
      "Overall Std                0.024946              0.061136   \n",
      "\n",
      "              Sector-Specific Mean  Sector-Specific Std  Idiosyncratic Mean  \\\n",
      "AUS                       0.957881             0.429511            0.975075   \n",
      "AUT                       0.922609             0.413106            0.946373   \n",
      "BEL                       0.937580             0.451035            0.956342   \n",
      "BRA                       0.978276             0.486380            1.010901   \n",
      "BGR                       0.950739             0.517899            0.984188   \n",
      "CAN                       1.009977             0.571227            1.034518   \n",
      "CHN                       0.909391             0.307027            0.904307   \n",
      "CZE                       0.881691             0.391088            0.898561   \n",
      "DNK                       1.064480             0.745859            1.110586   \n",
      "EST                       0.901099             0.413447            0.916598   \n",
      "FIN                       0.914123             0.389033            0.925651   \n",
      "FRA                       0.934259             0.431861            0.950555   \n",
      "DEU                       0.935419             0.408797            0.941689   \n",
      "GRC                       0.967790             0.525521            0.993084   \n",
      "HUN                       0.896502             0.404854            0.910664   \n",
      "IND                       0.909459             0.346059            0.922112   \n",
      "IRL                       0.942706             0.434121            0.960013   \n",
      "ITA                       0.923004             0.396575            0.941890   \n",
      "JPN                       0.927414             0.373465            0.939933   \n",
      "LTU                       0.912416             0.420867            0.935780   \n",
      "MEX                       0.905145             0.359366            0.913719   \n",
      "NLD                       0.977114             0.515868            1.009228   \n",
      "POL                       0.903785             0.373247            0.914853   \n",
      "PRT                       0.888879             0.364129            0.903945   \n",
      "KOR                       0.904202             0.354991            0.914487   \n",
      "ROU                       0.896415             0.363951            0.907735   \n",
      "RUS                       0.872331             0.307288            0.864134   \n",
      "SVK                       0.888889             0.418592            0.903473   \n",
      "SVN                       0.878033             0.377189            0.890623   \n",
      "ESP                       0.915610             0.390735            0.938775   \n",
      "SWE                       0.923592             0.381399            0.936582   \n",
      "TWN                       0.992992             0.554302            1.012371   \n",
      "TUR                       0.942503             0.430417            0.961520   \n",
      "GBR                       0.925830             0.402299            0.941498   \n",
      "USA                       1.001958             0.583767            1.023581   \n",
      "ROW                       0.945175             0.425694            0.966175   \n",
      "Overall Mean              0.931646             0.429471            0.948931   \n",
      "Overall Std               0.041386             0.086729            0.048984   \n",
      "\n",
      "              Idiosyncratic Std  \n",
      "AUS                    0.426806  \n",
      "AUT                    0.430875  \n",
      "BEL                    0.465814  \n",
      "BRA                    0.523569  \n",
      "BGR                    0.564853  \n",
      "CAN                    0.574870  \n",
      "CHN                    0.303902  \n",
      "CZE                    0.419591  \n",
      "DNK                    0.793821  \n",
      "EST                    0.427565  \n",
      "FIN                    0.382411  \n",
      "FRA                    0.420610  \n",
      "DEU                    0.383281  \n",
      "GRC                    0.542759  \n",
      "HUN                    0.411608  \n",
      "IND                    0.352719  \n",
      "IRL                    0.451302  \n",
      "ITA                    0.398575  \n",
      "JPN                    0.375910  \n",
      "LTU                    0.462720  \n",
      "MEX                    0.361000  \n",
      "NLD                    0.562839  \n",
      "POL                    0.381818  \n",
      "PRT                    0.360881  \n",
      "KOR                    0.356807  \n",
      "ROU                    0.367814  \n",
      "RUS                    0.298995  \n",
      "SVK                    0.423167  \n",
      "SVN                    0.389670  \n",
      "ESP                    0.404190  \n",
      "SWE                    0.386591  \n",
      "TWN                    0.573742  \n",
      "TUR                    0.453011  \n",
      "GBR                    0.393971  \n",
      "USA                    0.536332  \n",
      "ROW                    0.451388  \n",
      "Overall Mean           0.439327  \n",
      "Overall Std            0.095295  \n"
     ]
    }
   ],
   "source": [
    "import pandas as pd\n",
    "\n",
    "# Create a DataFrame with one row per country and columns for each shock type summary\n",
    "df = pd.DataFrame({\n",
    "    \"Country-Specific Mean\": mean_country_effects,\n",
    "    \"Country-Specific Std\": std_country_effects,\n",
    "    \"Sector-Specific Mean\": mean_sector_effects,\n",
    "    \"Sector-Specific Std\": std_sector_effects,\n",
    "    \"Idiosyncratic Mean\": mean_idiosyncratic_effects,\n",
    "    \"Idiosyncratic Std\": std_idiosyncratic_effects\n",
    "}, index=country_list)\n",
    "\n",
    "# Compute overall averages across countries for each summary statistic:\n",
    "overall_means = df.mean(axis=0)\n",
    "overall_stds = df.std(axis=0)\n",
    "\n",
    "# Append overall average rows to the DataFrame.\n",
    "# One row for the mean over all countries, and one for the standard deviation.\n",
    "df.loc[\"Overall Mean\"] = overall_means\n",
    "df.loc[\"Overall Std\"] = overall_stds\n",
    "\n",
    "# Display the DataFrame\n",
    "print(df)\n",
    "\n",
    "# Output the DataFrame to an Excel file.\n",
    "output_filename = \"global_value_chain_effects.xlsx\"\n",
    "df.to_excel(output_filename)"
   ]
  },
  {
   "cell_type": "markdown",
   "metadata": {},
   "source": [
    "## Summary of the Data Generating Process\n",
    "\n",
    "We consider an international trade model with N countries and J sectors. In this simulation, we study three types of productivity shocks:\n",
    "\t•\tCountry-specific shocks:\n",
    "Each country receives one independent productivity shock (drawn from a log-normal distribution with mean 0 and standard deviation 0.2), and this shock is assumed to affect all sectors in that country equally.\n",
    "\t•\tSector-specific shocks:\n",
    "Each sector receives one independent productivity shock (drawn from the same log-normal distribution) that is common to all countries.\n",
    "\t•\tIdiosyncratic shocks:\n",
    "Every country-sector pair receives its own independent productivity shock.\n",
    "\n",
    "For each shock type, we generate B=10 simulations. For each simulation, we compute the global value chain effect for each country as the relative change in the real wage when intermediate goods trade barriers increase (comparing the case dm=2 versus dm=1). Finally, for each shock type, we summarize the results by computing the mean and standard deviation (across the 10 simulations) of the global value chain effect for each country. These summary statistics are stored in arrays of shape (N,).\n",
    "\n",
    "The results are then compiled into a Pandas DataFrame with one row per country (using a provided country name list) and columns for:\n",
    "\t•\tCountry-specific shock effect: mean and standard deviation,\n",
    "\t•\tSector-specific shock effect: mean and standard deviation,\n",
    "\t•\tIdiosyncratic shock effect: mean and standard deviation,\n",
    "\n",
    "as well as overall averages across countries for each measure."
   ]
  },
  {
   "cell_type": "code",
   "execution_count": null,
   "metadata": {},
   "outputs": [],
   "source": []
  }
 ],
 "metadata": {
  "kernelspec": {
   "display_name": "venv",
   "language": "python",
   "name": "python3"
  },
  "language_info": {
   "codemirror_mode": {
    "name": "ipython",
    "version": 3
   },
   "file_extension": ".py",
   "mimetype": "text/x-python",
   "name": "python",
   "nbconvert_exporter": "python",
   "pygments_lexer": "ipython3",
   "version": "3.12.2"
  }
 },
 "nbformat": 4,
 "nbformat_minor": 2
}

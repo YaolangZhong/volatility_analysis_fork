{
 "cells": [
  {
   "cell_type": "code",
   "execution_count": 54,
   "metadata": {},
   "outputs": [
    {
     "name": "stdout",
     "output_type": "stream",
     "text": [
      "The autoreload extension is already loaded. To reload it, use:\n",
      "  %reload_ext autoreload\n"
     ]
    }
   ],
   "source": [
    "%load_ext autoreload\n",
    "%autoreload 2\n",
    "import os\n",
    "import numpy as np\n",
    "import timeit\n",
    "from models import *\n",
    "from equations import *\n",
    "from solvers import *"
   ]
  },
  {
   "cell_type": "code",
   "execution_count": 55,
   "metadata": {},
   "outputs": [],
   "source": [
    "data_file_name = \"data.npz\"\n",
    "params = ModelParams.load_from_npz(data_file_name)\n",
    "model = Model(params)\n",
    "shocks = model.shocks"
   ]
  },
  {
   "cell_type": "code",
   "execution_count": 56,
   "metadata": {},
   "outputs": [
    {
     "data": {
      "text/plain": [
       "np.float64(1.915345393)"
      ]
     },
     "execution_count": 56,
     "metadata": {},
     "output_type": "execute_result"
    }
   ],
   "source": [
    "model.params.tilde_tau.max()"
   ]
  },
  {
   "cell_type": "code",
   "execution_count": 57,
   "metadata": {},
   "outputs": [
    {
     "name": "stdout",
     "output_type": "stream",
     "text": [
      "Iter 1: w_min=9.947e-01, w_max=1.002e+00, X_min=1.760e+03, X_max=4.828e+09, Δw=5.310e-03, ΔP=2.220e-16\n",
      "Iter 2: w_min=9.906e-01, w_max=1.003e+00, X_min=1.759e+03, X_max=4.833e+09, Δw=4.097e-03, ΔP=3.585e-03\n",
      "Iter 3: w_min=9.878e-01, w_max=1.004e+00, X_min=1.758e+03, X_max=4.838e+09, Δw=2.755e-03, ΔP=3.442e-03\n",
      "Iter 4: w_min=9.862e-01, w_max=1.004e+00, X_min=1.757e+03, X_max=4.842e+09, Δw=1.645e-03, ΔP=2.808e-03\n",
      "Iter 5: w_min=9.853e-01, w_max=1.004e+00, X_min=1.756e+03, X_max=4.845e+09, Δw=8.649e-04, ΔP=1.966e-03\n",
      "Iter 6: w_min=9.849e-01, w_max=1.004e+00, X_min=1.756e+03, X_max=4.847e+09, Δw=4.401e-04, ΔP=1.227e-03\n",
      "Iter 7: w_min=9.848e-01, w_max=1.005e+00, X_min=1.755e+03, X_max=4.849e+09, Δw=2.945e-04, ΔP=7.866e-04\n",
      "Iter 8: w_min=9.848e-01, w_max=1.005e+00, X_min=1.755e+03, X_max=4.849e+09, Δw=2.733e-04, ΔP=4.984e-04\n",
      "Iter 9: w_min=9.849e-01, w_max=1.005e+00, X_min=1.755e+03, X_max=4.850e+09, Δw=1.996e-04, ΔP=3.103e-04\n",
      "Iter 10: w_min=9.850e-01, w_max=1.005e+00, X_min=1.755e+03, X_max=4.850e+09, Δw=1.449e-04, ΔP=1.847e-04\n",
      "Iter 11: w_min=9.850e-01, w_max=1.005e+00, X_min=1.755e+03, X_max=4.851e+09, Δw=1.389e-04, ΔP=1.230e-04\n",
      "Iter 12: w_min=9.850e-01, w_max=1.005e+00, X_min=1.755e+03, X_max=4.851e+09, Δw=1.111e-04, ΔP=7.703e-05\n",
      "Iter 13: w_min=9.851e-01, w_max=1.005e+00, X_min=1.755e+03, X_max=4.851e+09, Δw=7.471e-05, ΔP=6.613e-05\n",
      "Iter 14: w_min=9.851e-01, w_max=1.005e+00, X_min=1.755e+03, X_max=4.851e+09, Δw=3.994e-05, ΔP=5.483e-05\n",
      "Iter 15: w_min=9.851e-01, w_max=1.005e+00, X_min=1.755e+03, X_max=4.851e+09, Δw=2.736e-05, ΔP=3.775e-05\n",
      "Iter 16: w_min=9.851e-01, w_max=1.005e+00, X_min=1.755e+03, X_max=4.851e+09, Δw=1.724e-05, ΔP=2.304e-05\n",
      "Iter 17: w_min=9.851e-01, w_max=1.005e+00, X_min=1.756e+03, X_max=4.851e+09, Δw=1.338e-05, ΔP=1.507e-05\n",
      "Iter 18: w_min=9.851e-01, w_max=1.005e+00, X_min=1.755e+03, X_max=4.851e+09, Δw=1.518e-05, ΔP=1.008e-05\n",
      "Iter 19: w_min=9.851e-01, w_max=1.005e+00, X_min=1.755e+03, X_max=4.851e+09, Δw=1.288e-05, ΔP=6.697e-06\n",
      "Iter 20: w_min=9.851e-01, w_max=1.005e+00, X_min=1.755e+03, X_max=4.851e+09, Δw=8.824e-06, ΔP=7.589e-06\n",
      "Iter 21: w_min=9.851e-01, w_max=1.005e+00, X_min=1.755e+03, X_max=4.851e+09, Δw=4.691e-06, ΔP=6.534e-06\n",
      "Iter 22: w_min=9.851e-01, w_max=1.005e+00, X_min=1.755e+03, X_max=4.851e+09, Δw=2.224e-06, ΔP=4.550e-06\n",
      "Iter 23: w_min=9.851e-01, w_max=1.005e+00, X_min=1.755e+03, X_max=4.851e+09, Δw=1.273e-06, ΔP=2.803e-06\n",
      "Iter 24: w_min=9.851e-01, w_max=1.005e+00, X_min=1.755e+03, X_max=4.851e+09, Δw=1.629e-06, ΔP=2.715e-06\n",
      "Iter 25: w_min=9.851e-01, w_max=1.005e+00, X_min=1.755e+03, X_max=4.851e+09, Δw=1.790e-06, ΔP=2.694e-06\n",
      "Iter 26: w_min=9.851e-01, w_max=1.005e+00, X_min=1.755e+03, X_max=4.851e+09, Δw=1.478e-06, ΔP=2.673e-06\n",
      "Iter 27: w_min=9.851e-01, w_max=1.005e+00, X_min=1.755e+03, X_max=4.851e+09, Δw=9.838e-07, ΔP=2.652e-06\n"
     ]
    }
   ],
   "source": [
    "solver = ModelSolver(model)\n",
    "solver.solve()"
   ]
  },
  {
   "cell_type": "code",
   "execution_count": 58,
   "metadata": {},
   "outputs": [
    {
     "data": {
      "text/plain": [
       "array([1.00487287, 1.00025114, 0.99697138, 0.99321673, 0.99808464,\n",
       "       0.99595041, 0.99338436, 0.98885243, 0.99426271, 0.99663022,\n",
       "       0.99658891, 0.99684319, 0.99505486, 0.99818777, 0.99951223,\n",
       "       0.99243071, 0.99628666, 1.00057927, 0.9966398 , 0.99593293,\n",
       "       0.99722894, 1.00065737, 0.99301181, 1.00293684, 0.99960175,\n",
       "       0.99439621, 0.98737658, 0.98508414, 1.0022247 , 0.99773342,\n",
       "       0.99672645, 0.99637068, 0.99658095, 0.99559804, 0.99802976,\n",
       "       0.99610933, 1.00355008])"
      ]
     },
     "execution_count": 58,
     "metadata": {},
     "output_type": "execute_result"
    }
   ],
   "source": [
    "model.sol.w_hat"
   ]
  },
  {
   "cell_type": "code",
   "execution_count": 9,
   "metadata": {},
   "outputs": [
    {
     "data": {
      "text/plain": [
       "(37, 23)"
      ]
     },
     "execution_count": 9,
     "metadata": {},
     "output_type": "execute_result"
    }
   ],
   "source": [
    "model.sol.Xf_prime.shape"
   ]
  },
  {
   "cell_type": "code",
   "execution_count": 11,
   "metadata": {},
   "outputs": [
    {
     "data": {
      "text/plain": [
       "(37, 37, 23)"
      ]
     },
     "execution_count": 11,
     "metadata": {},
     "output_type": "execute_result"
    }
   ],
   "source": [
    "model.params.pif.shape"
   ]
  },
  {
   "cell_type": "code",
   "execution_count": null,
   "metadata": {},
   "outputs": [],
   "source": []
  },
  {
   "cell_type": "code",
   "execution_count": null,
   "metadata": {},
   "outputs": [],
   "source": []
  }
 ],
 "metadata": {
  "kernelspec": {
   "display_name": "base",
   "language": "python",
   "name": "python3"
  },
  "language_info": {
   "codemirror_mode": {
    "name": "ipython",
    "version": 3
   },
   "file_extension": ".py",
   "mimetype": "text/x-python",
   "name": "python",
   "nbconvert_exporter": "python",
   "pygments_lexer": "ipython3",
   "version": "3.12.2"
  }
 },
 "nbformat": 4,
 "nbformat_minor": 2
}

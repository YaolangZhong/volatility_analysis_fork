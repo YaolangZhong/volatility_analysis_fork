{
 "cells": [
  {
   "cell_type": "code",
   "execution_count": 21,
   "metadata": {},
   "outputs": [
    {
     "name": "stdout",
     "output_type": "stream",
     "text": [
      "The autoreload extension is already loaded. To reload it, use:\n",
      "  %reload_ext autoreload\n"
     ]
    }
   ],
   "source": [
    "from equations import *\n",
    "from equations_matrix import *\n",
    "from solvers import solve_X_prime\n",
    "%load_ext autoreload\n",
    "%autoreload 2"
   ]
  },
  {
   "cell_type": "code",
   "execution_count": 38,
   "metadata": {},
   "outputs": [],
   "source": [
    "import numpy as np\n",
    "\n",
    "# Set dimensions\n",
    "N = 5  # number of countries\n",
    "J = 3  # number of sectors\n",
    "\n",
    "# Generate dummy arrays for the exogenous inputs\n",
    "w_hat = np.ones(N)\n",
    "td_prime = np.zeros(N)\n",
    "\n",
    "# pif_hat and pim_hat are (N, N, J)\n",
    "pif_hat = np.ones((N, N, J)) / N\n",
    "pim_hat = np.ones((N, N, J)) / N\n",
    "\n",
    "\n",
    "# Define dummy classes for ModelParams and ModelShocks\n",
    "class ModelParams:\n",
    "    pass\n",
    "\n",
    "class ModelShocks:\n",
    "    pass\n",
    "\n",
    "# Create instances\n",
    "mp = ModelParams()\n",
    "shocks = ModelShocks()\n",
    "\n",
    "# Fill ModelParams with attributes\n",
    "mp.w0 = np.ones(N)\n",
    "mp.L0 = np.ones(N)\n",
    "mp.alpha = np.ones((N, J)) / J\n",
    "mp.pif = np.ones((N, N, J))\n",
    "mp.pim = np.ones((N, N, J)) \n",
    "mp.gamma = np.ones((N, J, J)) * 0.7 / J\n",
    "\n",
    "# Fill ModelShocks with attributes\n",
    "# Ensure tilde_tau_prime > 1 to avoid division by zero issues\n",
    "shocks.tilde_tau_prime = np.random.rand(N, N, J) + 1.1"
   ]
  },
  {
   "cell_type": "code",
   "execution_count": 39,
   "metadata": {},
   "outputs": [
    {
     "name": "stdout",
     "output_type": "stream",
     "text": [
      "X_prime converged in 59 iterations\n"
     ]
    }
   ],
   "source": [
    "Xf_init = mp.alpha * (w_hat * mp.w0 * mp.L0 + td_prime)[:, None]  # shape: (N, J)\n",
    "Xm_init = np.zeros_like(Xf_init)                                   # shape: (N, J)\n",
    "\n",
    "# Call your iterative solver (solve_X_prime) using the guess:\n",
    "Xf_iter, Xm_iter = solve_X_prime(w_hat, pif_hat, pim_hat, td_prime, Xf_init, Xm_init, mp, shocks, mute=False)"
   ]
  },
  {
   "cell_type": "code",
   "execution_count": 40,
   "metadata": {},
   "outputs": [],
   "source": [
    "# Call the closed-form solver (calc_X) to get the direct solution:\n",
    "Xf_closed, Xm_closed = calc_X(w_hat, pif_hat, pim_hat, td_prime, mp, shocks)"
   ]
  },
  {
   "cell_type": "code",
   "execution_count": 41,
   "metadata": {},
   "outputs": [
    {
     "name": "stdout",
     "output_type": "stream",
     "text": [
      "Difference in Xf (iterative vs. closed-form): 1.3843184307588144e-05\n",
      "Difference in Xm (iterative vs. closed-form): 1.6239500139258548e-05\n"
     ]
    }
   ],
   "source": [
    "# Compare the results between the iterative and closed-form solutions.\n",
    "print(\"Difference in Xf (iterative vs. closed-form):\", np.linalg.norm(Xf_iter - Xf_closed))\n",
    "print(\"Difference in Xm (iterative vs. closed-form):\", np.linalg.norm(Xm_iter - Xm_closed))"
   ]
  },
  {
   "cell_type": "markdown",
   "metadata": {},
   "source": []
  }
 ],
 "metadata": {
  "kernelspec": {
   "display_name": "base",
   "language": "python",
   "name": "python3"
  },
  "language_info": {
   "codemirror_mode": {
    "name": "ipython",
    "version": 3
   },
   "file_extension": ".py",
   "mimetype": "text/x-python",
   "name": "python",
   "nbconvert_exporter": "python",
   "pygments_lexer": "ipython3",
   "version": "3.12.2"
  }
 },
 "nbformat": 4,
 "nbformat_minor": 2
}

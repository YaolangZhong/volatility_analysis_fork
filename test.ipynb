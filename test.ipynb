{
 "cells": [
  {
   "cell_type": "code",
   "execution_count": 41,
   "metadata": {},
   "outputs": [
    {
     "name": "stdout",
     "output_type": "stream",
     "text": [
      "The autoreload extension is already loaded. To reload it, use:\n",
      "  %reload_ext autoreload\n"
     ]
    }
   ],
   "source": [
    "%load_ext autoreload\n",
    "%autoreload 2\n",
    "import os\n",
    "import numpy as np\n",
    "import timeit\n",
    "from models import *\n",
    "from equations import *\n",
    "from solvers import *"
   ]
  },
  {
   "cell_type": "code",
   "execution_count": 42,
   "metadata": {},
   "outputs": [],
   "source": [
    "data_file_name = \"data.npz\"\n",
    "params = ModelParams.load_from_npz(data_file_name)\n",
    "model = Model(params)\n",
    "shocks = model.shocks"
   ]
  },
  {
   "cell_type": "code",
   "execution_count": 43,
   "metadata": {},
   "outputs": [
    {
     "data": {
      "text/plain": [
       "np.float64(1.915345393)"
      ]
     },
     "execution_count": 43,
     "metadata": {},
     "output_type": "execute_result"
    }
   ],
   "source": [
    "model.params.tilde_tau.max()"
   ]
  },
  {
   "cell_type": "code",
   "execution_count": 44,
   "metadata": {},
   "outputs": [
    {
     "name": "stdout",
     "output_type": "stream",
     "text": [
      "Iter 1: w_min=9.947e-01, w_max=1.002e+00, X_min=1.760e+03, X_max=4.828e+09, Δw=5.310e-03, ΔP=2.220e-16\n",
      "Iter 2: w_min=9.906e-01, w_max=1.003e+00, X_min=1.759e+03, X_max=4.833e+09, Δw=4.097e-03, ΔP=3.585e-03\n",
      "Iter 3: w_min=9.878e-01, w_max=1.004e+00, X_min=1.758e+03, X_max=4.838e+09, Δw=2.755e-03, ΔP=3.442e-03\n",
      "Iter 4: w_min=9.862e-01, w_max=1.004e+00, X_min=1.757e+03, X_max=4.842e+09, Δw=1.645e-03, ΔP=2.808e-03\n",
      "Iter 5: w_min=9.853e-01, w_max=1.004e+00, X_min=1.756e+03, X_max=4.845e+09, Δw=8.649e-04, ΔP=1.966e-03\n",
      "Iter 6: w_min=9.849e-01, w_max=1.004e+00, X_min=1.756e+03, X_max=4.847e+09, Δw=4.401e-04, ΔP=1.227e-03\n",
      "Iter 7: w_min=9.848e-01, w_max=1.005e+00, X_min=1.755e+03, X_max=4.849e+09, Δw=2.945e-04, ΔP=7.866e-04\n",
      "Iter 8: w_min=9.848e-01, w_max=1.005e+00, X_min=1.755e+03, X_max=4.849e+09, Δw=2.733e-04, ΔP=4.984e-04\n",
      "Iter 9: w_min=9.849e-01, w_max=1.005e+00, X_min=1.755e+03, X_max=4.850e+09, Δw=1.996e-04, ΔP=3.103e-04\n",
      "Iter 10: w_min=9.850e-01, w_max=1.005e+00, X_min=1.755e+03, X_max=4.850e+09, Δw=1.449e-04, ΔP=1.847e-04\n",
      "Iter 11: w_min=9.850e-01, w_max=1.005e+00, X_min=1.755e+03, X_max=4.851e+09, Δw=1.389e-04, ΔP=1.230e-04\n",
      "Iter 12: w_min=9.850e-01, w_max=1.005e+00, X_min=1.755e+03, X_max=4.851e+09, Δw=1.111e-04, ΔP=7.703e-05\n",
      "Iter 13: w_min=9.851e-01, w_max=1.005e+00, X_min=1.755e+03, X_max=4.851e+09, Δw=7.471e-05, ΔP=6.613e-05\n",
      "Iter 14: w_min=9.851e-01, w_max=1.005e+00, X_min=1.755e+03, X_max=4.851e+09, Δw=3.994e-05, ΔP=5.483e-05\n",
      "Iter 15: w_min=9.851e-01, w_max=1.005e+00, X_min=1.755e+03, X_max=4.851e+09, Δw=2.736e-05, ΔP=3.775e-05\n",
      "Iter 16: w_min=9.851e-01, w_max=1.005e+00, X_min=1.755e+03, X_max=4.851e+09, Δw=1.724e-05, ΔP=2.304e-05\n",
      "Iter 17: w_min=9.851e-01, w_max=1.005e+00, X_min=1.756e+03, X_max=4.851e+09, Δw=1.338e-05, ΔP=1.507e-05\n",
      "Iter 18: w_min=9.851e-01, w_max=1.005e+00, X_min=1.755e+03, X_max=4.851e+09, Δw=1.518e-05, ΔP=1.008e-05\n",
      "Iter 19: w_min=9.851e-01, w_max=1.005e+00, X_min=1.755e+03, X_max=4.851e+09, Δw=1.288e-05, ΔP=6.697e-06\n",
      "Iter 20: w_min=9.851e-01, w_max=1.005e+00, X_min=1.755e+03, X_max=4.851e+09, Δw=8.824e-06, ΔP=7.589e-06\n",
      "Iter 21: w_min=9.851e-01, w_max=1.005e+00, X_min=1.755e+03, X_max=4.851e+09, Δw=4.691e-06, ΔP=6.534e-06\n",
      "Iter 22: w_min=9.851e-01, w_max=1.005e+00, X_min=1.755e+03, X_max=4.851e+09, Δw=2.224e-06, ΔP=4.550e-06\n",
      "Iter 23: w_min=9.851e-01, w_max=1.005e+00, X_min=1.755e+03, X_max=4.851e+09, Δw=1.273e-06, ΔP=2.803e-06\n",
      "Iter 24: w_min=9.851e-01, w_max=1.005e+00, X_min=1.755e+03, X_max=4.851e+09, Δw=1.629e-06, ΔP=2.715e-06\n",
      "Iter 25: w_min=9.851e-01, w_max=1.005e+00, X_min=1.755e+03, X_max=4.851e+09, Δw=1.790e-06, ΔP=2.694e-06\n",
      "Iter 26: w_min=9.851e-01, w_max=1.005e+00, X_min=1.755e+03, X_max=4.851e+09, Δw=1.478e-06, ΔP=2.673e-06\n",
      "Iter 27: w_min=9.851e-01, w_max=1.005e+00, X_min=1.755e+03, X_max=4.851e+09, Δw=9.838e-07, ΔP=2.652e-06\n"
     ]
    }
   ],
   "source": [
    "solver = ModelSolver(model)\n",
    "solver.solve()"
   ]
  },
  {
   "cell_type": "code",
   "execution_count": 45,
   "metadata": {},
   "outputs": [
    {
     "data": {
      "text/plain": [
       "array([1.00487287, 1.00025114, 0.99697138, 0.99321673, 0.99808464,\n",
       "       0.99595041, 0.99338436, 0.98885243, 0.99426271, 0.99663022,\n",
       "       0.99658891, 0.99684319, 0.99505486, 0.99818777, 0.99951223,\n",
       "       0.99243071, 0.99628666, 1.00057927, 0.9966398 , 0.99593293,\n",
       "       0.99722894, 1.00065737, 0.99301181, 1.00293684, 0.99960175,\n",
       "       0.99439621, 0.98737658, 0.98508414, 1.0022247 , 0.99773342,\n",
       "       0.99672645, 0.99637068, 0.99658095, 0.99559804, 0.99802976,\n",
       "       0.99610933, 1.00355008])"
      ]
     },
     "execution_count": 45,
     "metadata": {},
     "output_type": "execute_result"
    }
   ],
   "source": [
    "model.sol.w_hat"
   ]
  },
  {
   "cell_type": "code",
   "execution_count": 54,
   "metadata": {},
   "outputs": [
    {
     "data": {
      "text/plain": [
       "np.str_('Metal Products')"
      ]
     },
     "execution_count": 54,
     "metadata": {},
     "output_type": "execute_result"
    }
   ],
   "source": [
    "sector_list[target_sectors_index[0]]"
   ]
  },
  {
   "cell_type": "code",
   "execution_count": 55,
   "metadata": {},
   "outputs": [
    {
     "name": "stdout",
     "output_type": "stream",
     "text": [
      "Iter 1: w_min=9.946e-01, w_max=1.002e+00, X_min=1.760e+03, X_max=4.835e+09, Δw=5.380e-03, ΔP=2.220e-16\n",
      "Iter 2: w_min=9.905e-01, w_max=1.003e+00, X_min=1.759e+03, X_max=4.842e+09, Δw=4.163e-03, ΔP=3.634e-03\n",
      "Iter 3: w_min=9.876e-01, w_max=1.004e+00, X_min=1.758e+03, X_max=4.848e+09, Δw=2.813e-03, ΔP=3.494e-03\n",
      "Iter 4: w_min=9.860e-01, w_max=1.004e+00, X_min=1.757e+03, X_max=4.853e+09, Δw=1.692e-03, ΔP=2.861e-03\n",
      "Iter 5: w_min=9.851e-01, w_max=1.005e+00, X_min=1.756e+03, X_max=4.856e+09, Δw=9.005e-04, ΔP=2.014e-03\n",
      "Iter 6: w_min=9.846e-01, w_max=1.005e+00, X_min=1.755e+03, X_max=4.859e+09, Δw=4.615e-04, ΔP=1.268e-03\n",
      "Iter 7: w_min=9.845e-01, w_max=1.005e+00, X_min=1.755e+03, X_max=4.860e+09, Δw=3.003e-04, ΔP=8.209e-04\n",
      "Iter 8: w_min=9.845e-01, w_max=1.006e+00, X_min=1.755e+03, X_max=4.861e+09, Δw=2.661e-04, ΔP=5.204e-04\n",
      "Iter 9: w_min=9.846e-01, w_max=1.006e+00, X_min=1.755e+03, X_max=4.862e+09, Δw=1.975e-04, ΔP=3.269e-04\n",
      "Iter 10: w_min=9.846e-01, w_max=1.006e+00, X_min=1.755e+03, X_max=4.863e+09, Δw=1.613e-04, ΔP=1.974e-04\n",
      "Iter 11: w_min=9.847e-01, w_max=1.006e+00, X_min=1.755e+03, X_max=4.863e+09, Δw=1.540e-04, ΔP=1.352e-04\n",
      "Iter 12: w_min=9.847e-01, w_max=1.006e+00, X_min=1.755e+03, X_max=4.863e+09, Δw=1.228e-04, ΔP=8.648e-05\n",
      "Iter 13: w_min=9.847e-01, w_max=1.006e+00, X_min=1.755e+03, X_max=4.863e+09, Δw=8.237e-05, ΔP=7.218e-05\n",
      "Iter 14: w_min=9.847e-01, w_max=1.006e+00, X_min=1.755e+03, X_max=4.863e+09, Δw=4.396e-05, ΔP=5.977e-05\n",
      "Iter 15: w_min=9.847e-01, w_max=1.006e+00, X_min=1.755e+03, X_max=4.863e+09, Δw=2.646e-05, ΔP=4.105e-05\n",
      "Iter 16: w_min=9.847e-01, w_max=1.006e+00, X_min=1.755e+03, X_max=4.863e+09, Δw=1.712e-05, ΔP=2.478e-05\n",
      "Iter 17: w_min=9.847e-01, w_max=1.006e+00, X_min=1.755e+03, X_max=4.863e+09, Δw=1.449e-05, ΔP=1.434e-05\n",
      "Iter 18: w_min=9.847e-01, w_max=1.006e+00, X_min=1.755e+03, X_max=4.863e+09, Δw=1.641e-05, ΔP=9.845e-06\n",
      "Iter 19: w_min=9.847e-01, w_max=1.006e+00, X_min=1.755e+03, X_max=4.863e+09, Δw=1.387e-05, ΔP=7.313e-06\n",
      "Iter 20: w_min=9.847e-01, w_max=1.006e+00, X_min=1.755e+03, X_max=4.863e+09, Δw=9.438e-06, ΔP=8.250e-06\n",
      "Iter 21: w_min=9.847e-01, w_max=1.006e+00, X_min=1.755e+03, X_max=4.863e+09, Δw=4.952e-06, ΔP=7.064e-06\n",
      "Iter 22: w_min=9.847e-01, w_max=1.006e+00, X_min=1.755e+03, X_max=4.863e+09, Δw=2.152e-06, ΔP=6.547e-06\n",
      "Iter 23: w_min=9.847e-01, w_max=1.006e+00, X_min=1.755e+03, X_max=4.863e+09, Δw=1.263e-06, ΔP=6.496e-06\n",
      "Iter 24: w_min=9.847e-01, w_max=1.006e+00, X_min=1.755e+03, X_max=4.863e+09, Δw=1.830e-06, ΔP=6.445e-06\n",
      "Iter 25: w_min=9.847e-01, w_max=1.006e+00, X_min=1.755e+03, X_max=4.863e+09, Δw=1.977e-06, ΔP=6.395e-06\n",
      "Iter 26: w_min=9.847e-01, w_max=1.006e+00, X_min=1.755e+03, X_max=4.863e+09, Δw=1.619e-06, ΔP=6.344e-06\n",
      "Iter 27: w_min=9.847e-01, w_max=1.006e+00, X_min=1.755e+03, X_max=4.863e+09, Δw=1.069e-06, ΔP=6.294e-06\n",
      "Iter 28: w_min=9.847e-01, w_max=1.006e+00, X_min=1.755e+03, X_max=4.863e+09, Δw=5.397e-07, ΔP=6.244e-06\n"
     ]
    }
   ],
   "source": [
    "# Counterfactual Tariff: U.S.\n",
    "# U.S.: impose uniform 25% tariff on all imported aluminum products \n",
    "target_importers = ['USA']  # one or multiple\n",
    "country_list = list(params.country_list)\n",
    "sector_list = list(params.sector_list)\n",
    "target_importers_index = [country_list.index(importer) for importer in target_importers]  \n",
    "\n",
    "target_sectors = ['Metal Products']  # one or multiple\n",
    "target_sectors_index = [sector_list.index(sector) for sector in target_sectors]  \n",
    "\n",
    "counter_tariff = params.tilde_tau.copy()\n",
    "\n",
    "for importer_index in target_importers_index:\n",
    "    for exporter_index in range(len(country_list)):\n",
    "        for sector_index in target_sectors_index:\n",
    "            # avoid domestic tariff\n",
    "            if importer_index != exporter_index:\n",
    "                counter_tariff[importer_index, exporter_index, sector_index] += 0.25\n",
    "\n",
    "params.tilde_tau = counter_tariff\n",
    "\n",
    "model_new = Model(params)\n",
    "solver = ModelSolver(model_new)\n",
    "solver.solve()\n"
   ]
  },
  {
   "cell_type": "code",
   "execution_count": 58,
   "metadata": {},
   "outputs": [
    {
     "data": {
      "text/plain": [
       "array([[[8.58026441e-01, 4.99195171e-01, 7.74185267e-01, ...,\n",
       "         9.88579081e-01, 9.26160277e-01, 9.96578988e-01],\n",
       "        [2.48547719e-03, 2.10949319e-03, 9.76397170e-03, ...,\n",
       "         3.65896364e-03, 1.45120030e-02, 3.88175916e-06],\n",
       "        [5.01002159e-04, 4.70523154e-04, 1.60189841e-03, ...,\n",
       "         1.46221700e-04, 1.14670504e-04, 2.09805908e-04],\n",
       "        ...,\n",
       "        [9.36481482e-07, 5.89710683e-07, 3.33875720e-05, ...,\n",
       "         4.32363665e-06, 5.13249606e-05, 2.77814803e-06],\n",
       "        [8.95408543e-06, 1.13685715e-06, 2.52061047e-05, ...,\n",
       "         9.58756066e-06, 9.20136703e-05, 5.26915443e-06],\n",
       "        [9.10681487e-02, 3.57002604e-01, 8.54727181e-02, ...,\n",
       "         5.60600871e-03, 5.63490183e-02, 3.07764719e-03]],\n",
       "\n",
       "       [[7.16392560e-03, 5.13736651e-03, 4.90830886e-03, ...,\n",
       "         4.34516461e-03, 1.54991320e-02, 3.39347293e-01],\n",
       "        [9.29588433e-01, 8.31552923e-01, 9.58202906e-01, ...,\n",
       "         9.56688542e-01, 8.12383695e-01, 9.07992250e-04],\n",
       "        [2.79792843e-04, 1.82700764e-03, 1.05394339e-03, ...,\n",
       "         2.98464276e-03, 8.36733356e-03, 3.57424827e-02],\n",
       "        ...,\n",
       "        [6.35145333e-07, 3.59596586e-07, 5.44373201e-07, ...,\n",
       "         1.15306000e-05, 7.42262058e-05, 3.15701185e-05],\n",
       "        [4.96783089e-07, 5.70399910e-07, 4.03290818e-06, ...,\n",
       "         1.16874242e-05, 9.71578918e-05, 4.85826073e-05],\n",
       "        [4.20996876e-02, 8.70863354e-02, 1.93449624e-02, ...,\n",
       "         2.31836820e-02, 1.29764647e-01, 6.22068629e-01]],\n",
       "\n",
       "       [[4.55227055e-02, 9.77675791e-03, 2.51948979e-02, ...,\n",
       "         4.67233665e-03, 1.77742367e-04, 1.87833845e-03],\n",
       "        [2.88508878e-02, 2.99836557e-02, 3.80897483e-02, ...,\n",
       "         9.61609993e-03, 4.63534638e-02, 7.67211987e-07],\n",
       "        [7.78261052e-01, 2.58041505e-01, 7.95808293e-01, ...,\n",
       "         9.38852522e-01, 8.67973364e-01, 9.94811946e-01],\n",
       "        ...,\n",
       "        [6.08405384e-06, 1.43092066e-06, 4.36474208e-06, ...,\n",
       "         5.06847414e-06, 9.92121208e-05, 6.31547160e-07],\n",
       "        [1.69119271e-06, 2.40842617e-06, 1.43343765e-05, ...,\n",
       "         6.92175814e-06, 1.70780536e-04, 1.04986917e-06],\n",
       "        [9.20208114e-02, 4.90875319e-01, 5.60734262e-02, ...,\n",
       "         4.03319441e-02, 7.09895145e-02, 3.27657372e-03]],\n",
       "\n",
       "       ...,\n",
       "\n",
       "       [[1.55393788e-03, 2.79136307e-03, 1.95384486e-03, ...,\n",
       "         2.45142320e-03, 3.93650500e-03, 4.02230470e-04],\n",
       "        [4.52886427e-03, 3.34444615e-03, 3.43486531e-03, ...,\n",
       "         5.70133930e-03, 1.17536286e-02, 1.04407883e-04],\n",
       "        [1.64448299e-04, 1.15098839e-04, 5.47357852e-04, ...,\n",
       "         6.30206512e-04, 9.83495626e-04, 1.80981836e-04],\n",
       "        ...,\n",
       "        [7.09190124e-01, 5.00345196e-01, 7.75035127e-01, ...,\n",
       "         8.73521903e-01, 6.58129654e-04, 9.57777405e-01],\n",
       "        [4.89066367e-05, 9.12650520e-05, 2.17530380e-05, ...,\n",
       "         1.96593110e-04, 3.34119470e-03, 1.40801374e-04],\n",
       "        [1.28526928e-01, 2.44177680e-01, 8.79682383e-02, ...,\n",
       "         5.75900130e-02, 8.92829067e-01, 3.81974300e-02]],\n",
       "\n",
       "       [[1.60803896e-03, 5.12987896e-04, 4.08604304e-03, ...,\n",
       "         1.25843202e-03, 3.49783843e-03, 6.26841136e-04],\n",
       "        [3.29257541e-03, 2.69546268e-04, 8.59169596e-03, ...,\n",
       "         7.46333932e-03, 1.25543733e-02, 1.74315875e-04],\n",
       "        [1.12093442e-04, 1.21039348e-04, 8.27117749e-04, ...,\n",
       "         1.11035524e-03, 1.41226330e-03, 3.79810463e-04],\n",
       "        ...,\n",
       "        [2.32973498e-05, 6.90562188e-05, 2.33709005e-04, ...,\n",
       "         2.45093279e-04, 1.88980455e-03, 1.41822382e-04],\n",
       "        [8.24770357e-01, 7.00779744e-01, 4.43804137e-01, ...,\n",
       "         9.35832617e-01, 2.58729084e-03, 9.22069829e-01],\n",
       "        [7.88601174e-02, 2.19932657e-02, 1.71367894e-01, ...,\n",
       "         3.79876868e-02, 8.92910207e-01, 7.08661286e-02]],\n",
       "\n",
       "       [[1.39855811e-02, 1.28919902e-02, 3.47777969e-02, ...,\n",
       "         1.00571625e-01, 7.42982622e-02, 1.79483703e-02],\n",
       "        [9.09843961e-03, 1.24099731e-02, 2.69007234e-02, ...,\n",
       "         2.14834646e-02, 3.49658784e-02, 2.77229232e-05],\n",
       "        [5.09792321e-04, 1.88811627e-03, 3.72454682e-03, ...,\n",
       "         3.96888334e-03, 3.26155057e-03, 1.30109815e-03],\n",
       "        ...,\n",
       "        [1.83692419e-04, 1.80042092e-04, 7.25946714e-04, ...,\n",
       "         8.37267593e-04, 1.11219912e-03, 1.90441620e-04],\n",
       "        [2.01530362e-04, 8.33497573e-05, 8.22168201e-04, ...,\n",
       "         4.70473581e-04, 1.39925844e-03, 9.82721217e-05],\n",
       "        [8.77884870e-01, 8.69467237e-01, 7.06753033e-01, ...,\n",
       "         5.40243256e-01, 5.98493321e-01, 8.95013114e-01]]])"
      ]
     },
     "execution_count": 58,
     "metadata": {},
     "output_type": "execute_result"
    }
   ],
   "source": [
    "model_new.sol.pim_prime"
   ]
  },
  {
   "cell_type": "code",
   "execution_count": 62,
   "metadata": {},
   "outputs": [
    {
     "data": {
      "text/plain": [
       "np.float64(0.004566010368297583)"
      ]
     },
     "execution_count": 62,
     "metadata": {},
     "output_type": "execute_result"
    }
   ],
   "source": [
    "percent_change = (model_new.sol.pim_prime - model.sol.pim_prime) / model.sol.pim_prime\n",
    "percent_change[0, 1, 6]"
   ]
  },
  {
   "cell_type": "code",
   "execution_count": 23,
   "metadata": {},
   "outputs": [
    {
     "data": {
      "text/plain": [
       "array([ 0.00110273, -0.00016643, -0.00015593, -0.0001932 , -0.00046083,\n",
       "       -0.00019513, -0.00021348, -0.00029328, -0.00023174, -0.00107853,\n",
       "       -0.00011304, -0.00029413, -0.00035046, -0.00029651, -0.00069871,\n",
       "       -0.00077597, -0.00031171, -0.00020079, -0.00025064, -0.00023172,\n",
       "       -0.00020635, -0.00020049, -0.00027201, -0.00101192, -0.00022218,\n",
       "       -0.0002279 , -0.00023938, -0.00067271, -0.00015514, -0.00021735,\n",
       "       -0.00019681, -0.00023101, -0.00044819, -0.0002868 , -0.00021984,\n",
       "       -0.00026697, -0.00070431])"
      ]
     },
     "execution_count": 23,
     "metadata": {},
     "output_type": "execute_result"
    }
   ],
   "source": [
    "(model_new.sol.w_hat - model.sol.w_hat) / model.sol.w_hat"
   ]
  },
  {
   "cell_type": "code",
   "execution_count": null,
   "metadata": {},
   "outputs": [],
   "source": []
  },
  {
   "cell_type": "code",
   "execution_count": null,
   "metadata": {},
   "outputs": [],
   "source": []
  }
 ],
 "metadata": {
  "kernelspec": {
   "display_name": "base",
   "language": "python",
   "name": "python3"
  },
  "language_info": {
   "codemirror_mode": {
    "name": "ipython",
    "version": 3
   },
   "file_extension": ".py",
   "mimetype": "text/x-python",
   "name": "python",
   "nbconvert_exporter": "python",
   "pygments_lexer": "ipython3",
   "version": "3.12.2"
  }
 },
 "nbformat": 4,
 "nbformat_minor": 2
}

{
 "cells": [
  {
   "cell_type": "code",
   "execution_count": 1,
   "metadata": {},
   "outputs": [],
   "source": [
    "%load_ext autoreload\n",
    "%autoreload 2\n",
    "import os\n",
    "import numpy as np\n",
    "import timeit\n",
    "from models import *\n",
    "from equations import *\n",
    "from solvers import *"
   ]
  },
  {
   "cell_type": "code",
   "execution_count": 2,
   "metadata": {},
   "outputs": [],
   "source": [
    "data_file_name = \"data.npz\"\n",
    "params = ModelParams.load_from_npz(data_file_name)\n",
    "model = Model(params)\n",
    "shocks = model.shocks"
   ]
  },
  {
   "cell_type": "code",
   "execution_count": 3,
   "metadata": {},
   "outputs": [
    {
     "data": {
      "text/plain": [
       "np.float64(1.915345393)"
      ]
     },
     "execution_count": 3,
     "metadata": {},
     "output_type": "execute_result"
    }
   ],
   "source": [
    "model.params.tilde_tau.max()"
   ]
  },
  {
   "cell_type": "code",
   "execution_count": 4,
   "metadata": {},
   "outputs": [
    {
     "name": "stdout",
     "output_type": "stream",
     "text": [
      "Iter 1: w_min=9.947e-01, w_max=1.002e+00, X_min=1.760e+03, X_max=4.828e+09, Δw=5.310e-03, ΔP=2.220e-16\n",
      "Iter 2: w_min=9.906e-01, w_max=1.003e+00, X_min=1.759e+03, X_max=4.833e+09, Δw=4.097e-03, ΔP=3.585e-03\n",
      "Iter 3: w_min=9.878e-01, w_max=1.004e+00, X_min=1.758e+03, X_max=4.838e+09, Δw=2.755e-03, ΔP=3.442e-03\n",
      "Iter 4: w_min=9.862e-01, w_max=1.004e+00, X_min=1.757e+03, X_max=4.842e+09, Δw=1.645e-03, ΔP=2.808e-03\n",
      "Iter 5: w_min=9.853e-01, w_max=1.004e+00, X_min=1.756e+03, X_max=4.845e+09, Δw=8.649e-04, ΔP=1.966e-03\n",
      "Iter 6: w_min=9.849e-01, w_max=1.004e+00, X_min=1.756e+03, X_max=4.847e+09, Δw=4.401e-04, ΔP=1.227e-03\n",
      "Iter 7: w_min=9.848e-01, w_max=1.005e+00, X_min=1.755e+03, X_max=4.849e+09, Δw=2.945e-04, ΔP=7.866e-04\n",
      "Iter 8: w_min=9.848e-01, w_max=1.005e+00, X_min=1.755e+03, X_max=4.849e+09, Δw=2.733e-04, ΔP=4.984e-04\n",
      "Iter 9: w_min=9.849e-01, w_max=1.005e+00, X_min=1.755e+03, X_max=4.850e+09, Δw=1.996e-04, ΔP=3.103e-04\n",
      "Iter 10: w_min=9.850e-01, w_max=1.005e+00, X_min=1.755e+03, X_max=4.850e+09, Δw=1.449e-04, ΔP=1.847e-04\n",
      "Iter 11: w_min=9.850e-01, w_max=1.005e+00, X_min=1.755e+03, X_max=4.851e+09, Δw=1.389e-04, ΔP=1.230e-04\n",
      "Iter 12: w_min=9.850e-01, w_max=1.005e+00, X_min=1.755e+03, X_max=4.851e+09, Δw=1.111e-04, ΔP=7.703e-05\n",
      "Iter 13: w_min=9.851e-01, w_max=1.005e+00, X_min=1.755e+03, X_max=4.851e+09, Δw=7.471e-05, ΔP=6.613e-05\n",
      "Iter 14: w_min=9.851e-01, w_max=1.005e+00, X_min=1.755e+03, X_max=4.851e+09, Δw=3.994e-05, ΔP=5.483e-05\n",
      "Iter 15: w_min=9.851e-01, w_max=1.005e+00, X_min=1.755e+03, X_max=4.851e+09, Δw=2.736e-05, ΔP=3.775e-05\n",
      "Iter 16: w_min=9.851e-01, w_max=1.005e+00, X_min=1.755e+03, X_max=4.851e+09, Δw=1.724e-05, ΔP=2.304e-05\n",
      "Iter 17: w_min=9.851e-01, w_max=1.005e+00, X_min=1.756e+03, X_max=4.851e+09, Δw=1.338e-05, ΔP=1.507e-05\n",
      "Iter 18: w_min=9.851e-01, w_max=1.005e+00, X_min=1.755e+03, X_max=4.851e+09, Δw=1.518e-05, ΔP=1.008e-05\n",
      "Iter 19: w_min=9.851e-01, w_max=1.005e+00, X_min=1.755e+03, X_max=4.851e+09, Δw=1.288e-05, ΔP=6.697e-06\n",
      "Iter 20: w_min=9.851e-01, w_max=1.005e+00, X_min=1.755e+03, X_max=4.851e+09, Δw=8.824e-06, ΔP=7.589e-06\n",
      "Iter 21: w_min=9.851e-01, w_max=1.005e+00, X_min=1.755e+03, X_max=4.851e+09, Δw=4.691e-06, ΔP=6.534e-06\n",
      "Iter 22: w_min=9.851e-01, w_max=1.005e+00, X_min=1.755e+03, X_max=4.851e+09, Δw=2.224e-06, ΔP=4.550e-06\n",
      "Iter 23: w_min=9.851e-01, w_max=1.005e+00, X_min=1.755e+03, X_max=4.851e+09, Δw=1.273e-06, ΔP=2.803e-06\n",
      "Iter 24: w_min=9.851e-01, w_max=1.005e+00, X_min=1.755e+03, X_max=4.851e+09, Δw=1.629e-06, ΔP=2.715e-06\n",
      "Iter 25: w_min=9.851e-01, w_max=1.005e+00, X_min=1.755e+03, X_max=4.851e+09, Δw=1.790e-06, ΔP=2.694e-06\n",
      "Iter 26: w_min=9.851e-01, w_max=1.005e+00, X_min=1.755e+03, X_max=4.851e+09, Δw=1.478e-06, ΔP=2.673e-06\n",
      "Iter 27: w_min=9.851e-01, w_max=1.005e+00, X_min=1.755e+03, X_max=4.851e+09, Δw=9.838e-07, ΔP=2.652e-06\n"
     ]
    }
   ],
   "source": [
    "solver = ModelSolver(model)\n",
    "solver.solve()"
   ]
  },
  {
   "cell_type": "code",
   "execution_count": null,
   "metadata": {},
   "outputs": [
    {
     "name": "stdout",
     "output_type": "stream",
     "text": [
      "Iter 1: w_min=9.944e-01, w_max=1.002e+00, X_min=1.760e+03, X_max=4.852e+09, Δw=5.628e-03, ΔP=2.220e-16\n",
      "Iter 2: w_min=9.900e-01, w_max=1.004e+00, X_min=1.759e+03, X_max=4.862e+09, Δw=4.390e-03, ΔP=3.808e-03\n",
      "Iter 3: w_min=9.870e-01, w_max=1.005e+00, X_min=1.757e+03, X_max=4.870e+09, Δw=3.003e-03, ΔP=3.677e-03\n",
      "Iter 4: w_min=9.851e-01, w_max=1.006e+00, X_min=1.756e+03, X_max=4.877e+09, Δw=1.837e-03, ΔP=3.040e-03\n",
      "Iter 5: w_min=9.841e-01, w_max=1.007e+00, X_min=1.755e+03, X_max=4.881e+09, Δw=1.003e-03, ΔP=2.168e-03\n",
      "Iter 6: w_min=9.837e-01, w_max=1.007e+00, X_min=1.754e+03, X_max=4.885e+09, Δw=5.168e-04, ΔP=1.388e-03\n",
      "Iter 7: w_min=9.835e-01, w_max=1.008e+00, X_min=1.754e+03, X_max=4.887e+09, Δw=3.930e-04, ΔP=9.245e-04\n",
      "Iter 8: w_min=9.835e-01, w_max=1.008e+00, X_min=1.754e+03, X_max=4.889e+09, Δw=3.127e-04, ΔP=5.757e-04\n",
      "Iter 9: w_min=9.835e-01, w_max=1.008e+00, X_min=1.754e+03, X_max=4.890e+09, Δw=2.085e-04, ΔP=3.673e-04\n",
      "Iter 10: w_min=9.835e-01, w_max=1.008e+00, X_min=1.754e+03, X_max=4.890e+09, Δw=1.880e-04, ΔP=2.439e-04\n",
      "Iter 11: w_min=9.836e-01, w_max=1.008e+00, X_min=1.754e+03, X_max=4.891e+09, Δw=1.812e-04, ΔP=1.739e-04\n",
      "Iter 12: w_min=9.836e-01, w_max=1.008e+00, X_min=1.754e+03, X_max=4.891e+09, Δw=1.458e-04, ΔP=1.193e-04\n",
      "Iter 13: w_min=9.836e-01, w_max=1.008e+00, X_min=1.754e+03, X_max=4.891e+09, Δw=9.909e-05, ΔP=8.198e-05\n",
      "Iter 14: w_min=9.837e-01, w_max=1.008e+00, X_min=1.754e+03, X_max=4.891e+09, Δw=5.428e-05, ΔP=6.888e-05\n",
      "Iter 15: w_min=9.837e-01, w_max=1.008e+00, X_min=1.754e+03, X_max=4.891e+09, Δw=2.421e-05, ΔP=4.795e-05\n",
      "Iter 16: w_min=9.837e-01, w_max=1.008e+00, X_min=1.754e+03, X_max=4.891e+09, Δw=1.623e-05, ΔP=2.851e-05\n",
      "Iter 17: w_min=9.837e-01, w_max=1.008e+00, X_min=1.754e+03, X_max=4.891e+09, Δw=1.523e-05, ΔP=1.684e-05\n",
      "Iter 18: w_min=9.837e-01, w_max=1.008e+00, X_min=1.754e+03, X_max=4.891e+09, Δw=1.800e-05, ΔP=1.432e-05\n",
      "Iter 19: w_min=9.837e-01, w_max=1.008e+00, X_min=1.754e+03, X_max=4.891e+09, Δw=1.550e-05, ΔP=1.422e-05\n",
      "Iter 20: w_min=9.837e-01, w_max=1.008e+00, X_min=1.754e+03, X_max=4.891e+09, Δw=1.068e-05, ΔP=1.411e-05\n",
      "Iter 21: w_min=9.837e-01, w_max=1.008e+00, X_min=1.754e+03, X_max=4.891e+09, Δw=5.673e-06, ΔP=1.400e-05\n",
      "Iter 22: w_min=9.837e-01, w_max=1.008e+00, X_min=1.754e+03, X_max=4.891e+09, Δw=1.944e-06, ΔP=1.389e-05\n",
      "Iter 23: w_min=9.837e-01, w_max=1.008e+00, X_min=1.754e+03, X_max=4.891e+09, Δw=1.305e-06, ΔP=1.378e-05\n",
      "Iter 24: w_min=9.837e-01, w_max=1.008e+00, X_min=1.754e+03, X_max=4.891e+09, Δw=2.056e-06, ΔP=1.367e-05\n",
      "Iter 25: w_min=9.837e-01, w_max=1.008e+00, X_min=1.754e+03, X_max=4.891e+09, Δw=2.251e-06, ΔP=1.357e-05\n",
      "Iter 26: w_min=9.837e-01, w_max=1.008e+00, X_min=1.754e+03, X_max=4.891e+09, Δw=1.861e-06, ΔP=1.346e-05\n",
      "Iter 27: w_min=9.837e-01, w_max=1.008e+00, X_min=1.754e+03, X_max=4.891e+09, Δw=1.244e-06, ΔP=1.335e-05\n",
      "Iter 28: w_min=9.837e-01, w_max=1.008e+00, X_min=1.754e+03, X_max=4.891e+09, Δw=6.422e-07, ΔP=1.324e-05\n"
     ]
    }
   ],
   "source": [
    "# Counterfactual Tariff: U.S.\n",
    "# U.S.: impose uniform 25% tariff on all imported aluminum products \n",
    "target_importers = ['USA']  # one or multiple\n",
    "country_list = list(params.country_list)\n",
    "sector_list = list(params.sector_list)\n",
    "target_importers_index = [country_list.index(importer) for importer in target_importers]  \n",
    "\n",
    "target_sectors = ['Metal Products']  # one or multiple\n",
    "target_sectors_index = [sector_list.index(sector) for sector in target_sectors]  \n",
    "\n",
    "counter_tariff = params.tilde_tau.copy()\n",
    "\n",
    "for importer_index in target_importers_index:\n",
    "    for exporter_index in range(len(country_list)):\n",
    "        for sector_index in target_sectors_index:\n",
    "            # avoid domestic tariff\n",
    "            if importer_index != exporter_index:\n",
    "                counter_tariff[importer_index, exporter_index, sector_index] += 0.75\n",
    "\n",
    "params.tilde_tau = counter_tariff\n",
    "\n",
    "model_new = Model(params)\n",
    "solver = ModelSolver(model_new)\n",
    "solver.solve()\n"
   ]
  },
  {
   "cell_type": "code",
   "execution_count": 30,
   "metadata": {},
   "outputs": [
    {
     "data": {
      "text/plain": [
       "np.float64(0.013806937173065784)"
      ]
     },
     "execution_count": 30,
     "metadata": {},
     "output_type": "execute_result"
    }
   ],
   "source": [
    "percent_change = (model_new.sol.pim_prime - model.sol.pim_prime) / model.sol.pim_prime\n",
    "percent_change[0, 1, 6]"
   ]
  },
  {
   "cell_type": "code",
   "execution_count": 23,
   "metadata": {},
   "outputs": [
    {
     "data": {
      "text/plain": [
       "array([ 0.00110273, -0.00016643, -0.00015593, -0.0001932 , -0.00046083,\n",
       "       -0.00019513, -0.00021348, -0.00029328, -0.00023174, -0.00107853,\n",
       "       -0.00011304, -0.00029413, -0.00035046, -0.00029651, -0.00069871,\n",
       "       -0.00077597, -0.00031171, -0.00020079, -0.00025064, -0.00023172,\n",
       "       -0.00020635, -0.00020049, -0.00027201, -0.00101192, -0.00022218,\n",
       "       -0.0002279 , -0.00023938, -0.00067271, -0.00015514, -0.00021735,\n",
       "       -0.00019681, -0.00023101, -0.00044819, -0.0002868 , -0.00021984,\n",
       "       -0.00026697, -0.00070431])"
      ]
     },
     "execution_count": 23,
     "metadata": {},
     "output_type": "execute_result"
    }
   ],
   "source": [
    "(model_new.sol.w_hat - model.sol.w_hat) / model.sol.w_hat"
   ]
  },
  {
   "cell_type": "code",
   "execution_count": null,
   "metadata": {},
   "outputs": [],
   "source": []
  },
  {
   "cell_type": "code",
   "execution_count": null,
   "metadata": {},
   "outputs": [],
   "source": []
  }
 ],
 "metadata": {
  "kernelspec": {
   "display_name": "base",
   "language": "python",
   "name": "python3"
  },
  "language_info": {
   "codemirror_mode": {
    "name": "ipython",
    "version": 3
   },
   "file_extension": ".py",
   "mimetype": "text/x-python",
   "name": "python",
   "nbconvert_exporter": "python",
   "pygments_lexer": "ipython3",
   "version": "3.12.2"
  }
 },
 "nbformat": 4,
 "nbformat_minor": 2
}

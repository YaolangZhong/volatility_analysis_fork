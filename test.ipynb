{
 "cells": [
  {
   "cell_type": "code",
   "execution_count": 170,
   "metadata": {},
   "outputs": [],
   "source": [
    "import os\n",
    "import numpy as np\n",
    "import time\n",
    "from models import ModelParams, ModelShocks, ModelSol\n",
    "from equations import *\n",
    "from equations_matrix import calc_X\n",
    "from solvers import solve_price_and_cost\n",
    "from functions import generate_rand_params\n",
    "from optimization import reconstruct_w_hat, objective_w_hat_reduced\n",
    "from scipy.optimize import minimize\n",
    "from concurrent.futures import ProcessPoolExecutor, as_completed"
   ]
  },
  {
   "cell_type": "code",
   "execution_count": null,
   "metadata": {},
   "outputs": [],
   "source": [
    "out_dir = \"output\"\n",
    "bench_dir = f\"{out_dir}/benchmark\"\n",
    "params = ModelParams.load_from_npz(f\"output/model_params.npz\")"
   ]
  },
  {
   "cell_type": "code",
   "execution_count": 171,
   "metadata": {},
   "outputs": [],
   "source": [
    "shocks = ModelShocks.load_from_npz(f\"{bench_dir}/bench_shocks.npz\", params)"
   ]
  },
  {
   "cell_type": "code",
   "execution_count": null,
   "metadata": {},
   "outputs": [],
   "source": [
    "sol_d1 = ModelSol.load_from_npz(f\"{out_dir}/d_1/counterfactual_1.npz\", params, shocks)\n",
    "W_d1 = calc_W(sol_d1)\n",
    "np.mean(W_d1), np.std(W_d1)"
   ]
  },
  {
   "cell_type": "code",
   "execution_count": null,
   "metadata": {},
   "outputs": [],
   "source": [
    "sol_d2 = ModelSol.load_from_npz(f\"{out_dir}/d_1/counterfactual_1.npz\", params, shocks)\n",
    "W_d2 = calc_W(sol_d2)\n",
    "np.mean(W_d2), np.std(W_d2)"
   ]
  },
  {
   "cell_type": "code",
   "execution_count": null,
   "metadata": {},
   "outputs": [
    {
     "data": {
      "text/plain": [
       "(np.float64(1.0069313075963748), np.float64(0.009869565591902461))"
      ]
     },
     "execution_count": 177,
     "metadata": {},
     "output_type": "execute_result"
    }
   ],
   "source": []
  },
  {
   "cell_type": "code",
   "execution_count": null,
   "metadata": {},
   "outputs": [],
   "source": []
  }
 ],
 "metadata": {
  "kernelspec": {
   "display_name": "base",
   "language": "python",
   "name": "python3"
  },
  "language_info": {
   "codemirror_mode": {
    "name": "ipython",
    "version": 3
   },
   "file_extension": ".py",
   "mimetype": "text/x-python",
   "name": "python",
   "nbconvert_exporter": "python",
   "pygments_lexer": "ipython3",
   "version": "3.12.2"
  }
 },
 "nbformat": 4,
 "nbformat_minor": 2
}

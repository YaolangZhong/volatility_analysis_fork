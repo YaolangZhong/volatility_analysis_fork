{
 "cells": [
  {
   "cell_type": "code",
   "execution_count": 88,
   "metadata": {},
   "outputs": [
    {
     "name": "stdout",
     "output_type": "stream",
     "text": [
      "The autoreload extension is already loaded. To reload it, use:\n",
      "  %reload_ext autoreload\n"
     ]
    }
   ],
   "source": [
    "import numpy as np\n",
    "from equations import *\n",
    "from solvers import *\n",
    "%load_ext autoreload\n",
    "%autoreload 2"
   ]
  },
  {
   "cell_type": "code",
   "execution_count": 93,
   "metadata": {},
   "outputs": [],
   "source": [
    "N = 20\n",
    "J = 20\n",
    "\n",
    "params = generate_test_parameters(N=N, J=J)\n",
    "shocks = generate_test_shocks(params)"
   ]
  },
  {
   "cell_type": "code",
   "execution_count": 94,
   "metadata": {},
   "outputs": [
    {
     "name": "stdout",
     "output_type": "stream",
     "text": [
      "Round 1: wfmax=0.0000, min_w_hat=1.0000, max_w_hat=1.0000, min_Xf_prime=5.0000, max_Xf_prime=5.0000, min_Xm_prime=11.6667, max_Xm_prime=11.6667\n",
      "Converged in 1 iterations\n"
     ]
    }
   ],
   "source": [
    "sol = solve_equilibrium(params, shocks, 0, mute=False)"
   ]
  },
  {
   "cell_type": "code",
   "execution_count": 100,
   "metadata": {},
   "outputs": [],
   "source": [
    "alpha = 0.1\n",
    "\n",
    "# Initialize the variables\n",
    "N, J = params.N, params.J\n",
    "VA = np.sum(params.w0 * params.L0)\n",
    "\n",
    "# Initlial guess for wage rate changes\n",
    "w_hat = np.ones(N)\n",
    "\n",
    "# Initial guess for the price index changes of intermediate goods\n",
    "Pm_hat = np.ones((N, J))\n",
    "\n",
    "# Initialize trade deficit\n",
    "td_prime = params.td\n",
    "\n",
    "wfmax = 1.0\n",
    "\n",
    "\n",
    "c_hat, Pm_hat = solve_price_and_cost(\n",
    "    w_hat, Pm_hat, params, shocks, max_iter=1000, tol=1e-6, mute=True\n",
    ")\n",
    "Pf_hat = calc_Pu_hat(c_hat, \"f\", params, shocks)\n",
    "pif_hat = calc_piu_hat(c_hat, Pf_hat, \"f\", params, shocks)\n",
    "pim_hat = calc_piu_hat(c_hat, Pm_hat, \"m\", params, shocks)\n",
    "Xf_prime, Xm_prime = solve_X_prime_analytical(w_hat, pif_hat, pim_hat, td_prime, params, shocks)\n",
    "\n",
    "td_prime = calc_td_prime(\n",
    "    pif_hat, pim_hat, Xf_prime, Xm_prime, params, shocks\n",
    ")\n",
    "\n",
    "# ZW2 captures the difference\n",
    "# between the calculated trade deficit and the target trade deficit\n",
    "# normalized by the initial value added\n",
    "\n",
    "VA_prime = np.sum(params.w0 * params.L0 * w_hat)\n",
    "\n",
    "ZW2 = td_prime / VA_prime - params.td / VA\n",
    "\n",
    "# Update the wage changes (numeraire country is excluded)\n",
    "w_hat_new = np.ones(N)\n",
    "w_hat_new = w_hat * np.exp(-alpha * ZW2)\n"
   ]
  },
  {
   "cell_type": "markdown",
   "metadata": {},
   "source": [
    "# Shock Simulation"
   ]
  },
  {
   "cell_type": "markdown",
   "metadata": {},
   "source": [
    "## Simulate $\\hat{\\Lambda}_i^j$\n",
    "\n",
    "Assume $\\hat{\\Lambda}_i^j$ is log-normal, i.e.$ \\hat{\\Lambda}_i^j \\sim \\text{exp}(\\mathcal{N}(0, \\sigma))$. For the simplist case, we are assuming the shocks of all country $i$ and sector $j$ are i.i.d. and share the same variance captured by $\\sigma$. Below is the corresponding level of $\\log \\Lambda$ and hence $\\Lambda$ for $\\sigma \\in \\{0.1, 0.2, 0.3\\}$:\n",
    "\n",
    "|  $\\sigma$  | 95% Interval for $\\log  \\Lambda$  | 95% Interval for $\\Lambda$            |\n",
    "|:----------:|:---------------------------------:|:-------------------------------------:|\n",
    "| 0.1        | $[-0.196, 0.196]$             | [ $\\exp(-0.196) \\approx 0.82,\\, \\exp(0.196) \\approx 1.22]$ |\n",
    "| 0.2        | $[-0.392,\\, 0.392]$             | $[ \\exp(-0.392) \\approx 0.68,\\, \\exp(0.392) \\approx 1.48]$ |\n",
    "| 0.3        | $[-0.588,\\, 0.588]$             | $[ \\exp(-0.588) \\approx 0.56,\\, \\exp(0.588) \\approx 1.80]$ |"
   ]
  },
  {
   "cell_type": "code",
   "execution_count": 115,
   "metadata": {},
   "outputs": [],
   "source": [
    "# pre-specifiy N and J\n",
    "N = 10\n",
    "J = 10\n",
    "sigmas = [0.1, 0.2, 0.3]\n",
    "num_sim = 100\n",
    "Lambdas = np.zeros((len(sigmas), num_sim, N, J))\n",
    "for i, sigma in enumerate(sigmas):\n",
    "    Lambdas[i] = np.exp(np.random.normal(loc=0.0, scale=sigma, size=(num_sim, N, J)))\n"
   ]
  },
  {
   "cell_type": "code",
   "execution_count": null,
   "metadata": {},
   "outputs": [],
   "source": []
  }
 ],
 "metadata": {
  "kernelspec": {
   "display_name": "base",
   "language": "python",
   "name": "python3"
  },
  "language_info": {
   "codemirror_mode": {
    "name": "ipython",
    "version": 3
   },
   "file_extension": ".py",
   "mimetype": "text/x-python",
   "name": "python",
   "nbconvert_exporter": "python",
   "pygments_lexer": "ipython3",
   "version": "3.12.2"
  }
 },
 "nbformat": 4,
 "nbformat_minor": 2
}

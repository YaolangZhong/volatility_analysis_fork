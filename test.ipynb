{
 "cells": [
  {
   "cell_type": "code",
   "execution_count": 50,
   "metadata": {},
   "outputs": [
    {
     "name": "stdout",
     "output_type": "stream",
     "text": [
      "The autoreload extension is already loaded. To reload it, use:\n",
      "  %reload_ext autoreload\n"
     ]
    }
   ],
   "source": [
    "from equations import *\n",
    "from equations_matrix import *\n",
    "from solvers import *\n",
    "%load_ext autoreload\n",
    "%autoreload 2"
   ]
  },
  {
   "cell_type": "markdown",
   "metadata": {},
   "source": [
    "# 1. Test comparing numerical and analytical solution for X_prme"
   ]
  },
  {
   "cell_type": "code",
   "execution_count": 21,
   "metadata": {},
   "outputs": [],
   "source": [
    "import numpy as np\n",
    "\n",
    "# Set dimensions\n",
    "N = 51  # number of countries\n",
    "J = 3  # number of sectors\n",
    "\n",
    "# Generate dummy arrays for the exogenous inputs\n",
    "w_hat = np.ones(N)\n",
    "td_prime = np.zeros(N)\n",
    "\n",
    "# pif_hat and pim_hat are (N, N, J)\n",
    "pif_hat = np.ones((N, N, J)) / N\n",
    "pim_hat = np.ones((N, N, J)) / N\n",
    "\n",
    "\n",
    "# Define dummy classes for ModelParams and ModelShocks\n",
    "class ModelParams:\n",
    "    pass\n",
    "\n",
    "class ModelShocks:\n",
    "    pass\n",
    "\n",
    "# Create instances\n",
    "mp = ModelParams()\n",
    "shocks = ModelShocks()\n",
    "\n",
    "# Fill ModelParams with attributes\n",
    "mp.w0 = np.ones(N)\n",
    "mp.L0 = np.ones(N)\n",
    "mp.alpha = np.ones((N, J)) / J\n",
    "mp.pif = np.ones((N, N, J))\n",
    "mp.pim = np.ones((N, N, J)) \n",
    "mp.gamma = np.ones((N, J, J)) * 0.7 / J\n",
    "\n",
    "# Fill ModelShocks with attributes\n",
    "# Ensure tilde_tau_prime > 1 to avoid division by zero issues\n",
    "shocks.tilde_tau_prime = np.random.rand(N, N, J) + 1.1"
   ]
  },
  {
   "cell_type": "code",
   "execution_count": 15,
   "metadata": {},
   "outputs": [
    {
     "name": "stdout",
     "output_type": "stream",
     "text": [
      "X_prime converged in 57 iterations\n"
     ]
    }
   ],
   "source": [
    "Xf_init = mp.alpha * (w_hat * mp.w0 * mp.L0 + td_prime)[:, None]  # shape: (N, J)\n",
    "Xm_init = np.zeros_like(Xf_init)                                   # shape: (N, J)\n",
    "\n",
    "# Call your iterative solver (solve_X_prime) using the guess:\n",
    "Xf_iter, Xm_iter = solve_X_prime(w_hat, pif_hat, pim_hat, td_prime, Xf_init, Xm_init, mp, shocks, mute=False)"
   ]
  },
  {
   "cell_type": "code",
   "execution_count": 16,
   "metadata": {},
   "outputs": [],
   "source": [
    "# Call the closed-form solver (calc_X) to get the direct solution:\n",
    "Xf_closed, Xm_closed = calc_X(w_hat, pif_hat, pim_hat, td_prime, mp, shocks)"
   ]
  },
  {
   "cell_type": "code",
   "execution_count": 17,
   "metadata": {},
   "outputs": [
    {
     "name": "stdout",
     "output_type": "stream",
     "text": [
      "Difference in Xf (iterative vs. closed-form): 4.2999443126792367e-05\n",
      "Difference in Xm (iterative vs. closed-form): 5.4974185203698866e-05\n"
     ]
    }
   ],
   "source": [
    "# Compare the results between the iterative and closed-form solutions.\n",
    "print(\"Difference in Xf (iterative vs. closed-form):\", np.linalg.norm(Xf_iter - Xf_closed))\n",
    "print(\"Difference in Xm (iterative vs. closed-form):\", np.linalg.norm(Xm_iter - Xm_closed))"
   ]
  },
  {
   "cell_type": "markdown",
   "metadata": {},
   "source": [
    "# 2. HHI "
   ]
  },
  {
   "cell_type": "markdown",
   "metadata": {},
   "source": [
    "$$Q_n^s \\equiv \\frac{\\sum_{i}(\\pi_{in}^{sf}X_{in}^{sf}+\\pi_{in}^{sm}X_{in}^{sm})}{1+\\tau_{in}}$$\n",
    "Then,HHI can be calculated as\n",
    "$$HHI_n=\\sum_k\\left(\\frac{Q_n^k}{\\sum_s Q_n^s}\\right)^2$$"
   ]
  },
  {
   "cell_type": "markdown",
   "metadata": {},
   "source": [
    "$$\\text{input component}[n, j] = \\sum{k} \\text{mp.gamma}[n, k, j] \\times \\text{log\\_Pm\\_hat}[n, k]$$"
   ]
  },
  {
   "cell_type": "markdown",
   "metadata": {},
   "source": [
    "# 3. Test to see if this paper generalize to CP(2015)"
   ]
  },
  {
   "cell_type": "code",
   "execution_count": null,
   "metadata": {},
   "outputs": [
    {
     "data": {
      "text/plain": [
       "(30, 20)"
      ]
     },
     "execution_count": 42,
     "metadata": {},
     "output_type": "execute_result"
    }
   ],
   "source": []
  },
  {
   "cell_type": "code",
   "execution_count": null,
   "metadata": {},
   "outputs": [],
   "source": []
  }
 ],
 "metadata": {
  "kernelspec": {
   "display_name": "base",
   "language": "python",
   "name": "python3"
  },
  "language_info": {
   "codemirror_mode": {
    "name": "ipython",
    "version": 3
   },
   "file_extension": ".py",
   "mimetype": "text/x-python",
   "name": "python",
   "nbconvert_exporter": "python",
   "pygments_lexer": "ipython3",
   "version": "3.12.2"
  }
 },
 "nbformat": 4,
 "nbformat_minor": 2
}

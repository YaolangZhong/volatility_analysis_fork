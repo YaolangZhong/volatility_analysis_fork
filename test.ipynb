{
 "cells": [
  {
   "cell_type": "code",
   "execution_count": 319,
   "metadata": {},
   "outputs": [],
   "source": [
    "import os\n",
    "import numpy as np\n",
    "import time\n",
    "from models import ModelParams, ModelShocks, ModelSol\n",
    "from equations import *\n",
    "from equations_matrix import calc_X\n",
    "from solvers import solve_price_and_cost\n",
    "from functions import generate_rand_params\n",
    "from optimization import reconstruct_w_hat, objective_w_hat_reduced\n",
    "from scipy.optimize import minimize\n",
    "from concurrent.futures import ProcessPoolExecutor, as_completed"
   ]
  },
  {
   "cell_type": "code",
   "execution_count": null,
   "metadata": {},
   "outputs": [],
   "source": [
    "sigma = 0.2\n",
    "N, J = 2, 2\n",
    "\n",
    "# Generate a shock for each country, shape: (N,)\n",
    "country_shocks = np.random.normal(loc=0.0, scale=sigma, size=(N,))\n",
    "# Convert to log-normal shocks and replicate across sectors to get shape (N, J)\n",
    "lambda_hat_country = np.exp(country_shocks)[:, np.newaxis]  # shape: (N, 1)\n",
    "lambda_hat_country = np.repeat(lambda_hat_country, J, axis=1)  # shape: (N, J)\n",
    "\n",
    "# Generate a shock for each sector, shape: (J,)\n",
    "sector_shocks = np.random.normal(loc=0.0, scale=sigma, size=(J,))\n",
    "# Convert to log-normal shocks and replicate across countries to get shape (N, J)\n",
    "lambda_hat_sector = np.exp(sector_shocks)[np.newaxis, :]  # shape: (1, J)\n",
    "lambda_hat_sector = np.repeat(lambda_hat_sector, N, axis=0)  # shape: (N, J)\n",
    "\n",
    "# Generate iid shocks for each country-sector pair, shape: (N, J)\n",
    "lambda_hat_iid = np.exp(np.random.normal(loc=0.0, scale=sigma, size=(N, J)))"
   ]
  },
  {
   "cell_type": "code",
   "execution_count": null,
   "metadata": {},
   "outputs": [],
   "source": []
  }
 ],
 "metadata": {
  "kernelspec": {
   "display_name": "venv",
   "language": "python",
   "name": "python3"
  },
  "language_info": {
   "codemirror_mode": {
    "name": "ipython",
    "version": 3
   },
   "file_extension": ".py",
   "mimetype": "text/x-python",
   "name": "python",
   "nbconvert_exporter": "python",
   "pygments_lexer": "ipython3",
   "version": "3.12.2"
  }
 },
 "nbformat": 4,
 "nbformat_minor": 2
}
